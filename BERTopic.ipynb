{
 "cells": [
  {
   "cell_type": "code",
   "execution_count": 157,
   "id": "eef57014",
   "metadata": {
    "scrolled": true
   },
   "outputs": [
    {
     "name": "stdout",
     "output_type": "stream",
     "text": [
      "Requirement already satisfied: bertopic[visulaization] in c:\\users\\user\\anaconda3\\lib\\site-packages (0.10.0)\n"
     ]
    },
    {
     "name": "stderr",
     "output_type": "stream",
     "text": [
      "WARNING: bertopic 0.10.0 does not provide the extra 'visulaization'\n"
     ]
    },
    {
     "name": "stdout",
     "output_type": "stream",
     "text": [
      "Requirement already satisfied: plotly>=4.7.0 in c:\\users\\user\\anaconda3\\lib\\site-packages (from bertopic[visulaization]) (5.5.0)\n",
      "Requirement already satisfied: pandas>=1.1.5 in c:\\users\\user\\anaconda3\\lib\\site-packages (from bertopic[visulaization]) (1.2.4)\n",
      "Requirement already satisfied: scikit-learn>=0.22.2.post1 in c:\\users\\user\\anaconda3\\lib\\site-packages (from bertopic[visulaization]) (0.24.1)\n",
      "Requirement already satisfied: sentence-transformers>=0.4.1 in c:\\users\\user\\anaconda3\\lib\\site-packages (from bertopic[visulaization]) (2.2.0)\n",
      "Requirement already satisfied: pyyaml<6.0 in c:\\users\\user\\anaconda3\\lib\\site-packages (from bertopic[visulaization]) (5.4.1)\n",
      "Requirement already satisfied: umap-learn>=0.5.0 in c:\\users\\user\\anaconda3\\lib\\site-packages (from bertopic[visulaization]) (0.5.3)\n",
      "Requirement already satisfied: hdbscan>=0.8.28 in c:\\users\\user\\anaconda3\\lib\\site-packages (from bertopic[visulaization]) (0.8.28)\n",
      "Requirement already satisfied: numpy>=1.20.0 in c:\\users\\user\\anaconda3\\lib\\site-packages (from bertopic[visulaization]) (1.20.1)\n",
      "Requirement already satisfied: tqdm>=4.41.1 in c:\\users\\user\\anaconda3\\lib\\site-packages (from bertopic[visulaization]) (4.59.0)\n",
      "Requirement already satisfied: scipy>=1.0 in c:\\users\\user\\anaconda3\\lib\\site-packages (from hdbscan>=0.8.28->bertopic[visulaization]) (1.6.2)\n",
      "Requirement already satisfied: cython>=0.27 in c:\\users\\user\\anaconda3\\lib\\site-packages (from hdbscan>=0.8.28->bertopic[visulaization]) (0.29.28)\n",
      "Requirement already satisfied: joblib>=1.0 in c:\\users\\user\\anaconda3\\lib\\site-packages (from hdbscan>=0.8.28->bertopic[visulaization]) (1.0.1)\n",
      "Requirement already satisfied: pytz>=2017.3 in c:\\users\\user\\anaconda3\\lib\\site-packages (from pandas>=1.1.5->bertopic[visulaization]) (2021.1)\n",
      "Requirement already satisfied: python-dateutil>=2.7.3 in c:\\users\\user\\anaconda3\\lib\\site-packages (from pandas>=1.1.5->bertopic[visulaization]) (2.8.1)\n",
      "Requirement already satisfied: six in c:\\users\\user\\anaconda3\\lib\\site-packages (from plotly>=4.7.0->bertopic[visulaization]) (1.15.0)\n",
      "Requirement already satisfied: tenacity>=6.2.0 in c:\\users\\user\\anaconda3\\lib\\site-packages (from plotly>=4.7.0->bertopic[visulaization]) (8.0.1)\n",
      "Requirement already satisfied: threadpoolctl>=2.0.0 in c:\\users\\user\\anaconda3\\lib\\site-packages (from scikit-learn>=0.22.2.post1->bertopic[visulaization]) (2.1.0)\n",
      "Requirement already satisfied: huggingface-hub in c:\\users\\user\\anaconda3\\lib\\site-packages (from sentence-transformers>=0.4.1->bertopic[visulaization]) (0.5.1)\n",
      "Requirement already satisfied: nltk in c:\\users\\user\\anaconda3\\lib\\site-packages (from sentence-transformers>=0.4.1->bertopic[visulaization]) (3.6.1)\n",
      "Requirement already satisfied: transformers<5.0.0,>=4.6.0 in c:\\users\\user\\anaconda3\\lib\\site-packages (from sentence-transformers>=0.4.1->bertopic[visulaization]) (4.18.0)\n",
      "Requirement already satisfied: sentencepiece in c:\\users\\user\\anaconda3\\lib\\site-packages (from sentence-transformers>=0.4.1->bertopic[visulaization]) (0.1.96)\n",
      "Requirement already satisfied: torchvision in c:\\users\\user\\anaconda3\\lib\\site-packages (from sentence-transformers>=0.4.1->bertopic[visulaization]) (0.12.0)\n",
      "Requirement already satisfied: torch>=1.6.0 in c:\\users\\user\\anaconda3\\lib\\site-packages (from sentence-transformers>=0.4.1->bertopic[visulaization]) (1.11.0)\n",
      "Requirement already satisfied: pynndescent>=0.5 in c:\\users\\user\\anaconda3\\lib\\site-packages (from umap-learn>=0.5.0->bertopic[visulaization]) (0.5.6)\n",
      "Requirement already satisfied: numba>=0.49 in c:\\users\\user\\anaconda3\\lib\\site-packages (from umap-learn>=0.5.0->bertopic[visulaization]) (0.53.1)\n",
      "Requirement already satisfied: llvmlite<0.37,>=0.36.0rc1 in c:\\users\\user\\anaconda3\\lib\\site-packages (from numba>=0.49->umap-learn>=0.5.0->bertopic[visulaization]) (0.36.0)\n",
      "Requirement already satisfied: setuptools in c:\\users\\user\\anaconda3\\lib\\site-packages (from numba>=0.49->umap-learn>=0.5.0->bertopic[visulaization]) (60.10.0)\n",
      "Requirement already satisfied: typing-extensions in c:\\users\\user\\anaconda3\\lib\\site-packages (from torch>=1.6.0->sentence-transformers>=0.4.1->bertopic[visulaization]) (3.7.4.3)\n",
      "Requirement already satisfied: packaging>=20.0 in c:\\users\\user\\anaconda3\\lib\\site-packages (from transformers<5.0.0,>=4.6.0->sentence-transformers>=0.4.1->bertopic[visulaization]) (20.9)\n",
      "Requirement already satisfied: filelock in c:\\users\\user\\anaconda3\\lib\\site-packages (from transformers<5.0.0,>=4.6.0->sentence-transformers>=0.4.1->bertopic[visulaization]) (3.0.12)\n",
      "Requirement already satisfied: requests in c:\\users\\user\\anaconda3\\lib\\site-packages (from transformers<5.0.0,>=4.6.0->sentence-transformers>=0.4.1->bertopic[visulaization]) (2.25.1)\n",
      "Requirement already satisfied: sacremoses in c:\\users\\user\\anaconda3\\lib\\site-packages (from transformers<5.0.0,>=4.6.0->sentence-transformers>=0.4.1->bertopic[visulaization]) (0.0.53)\n",
      "Requirement already satisfied: tokenizers!=0.11.3,<0.13,>=0.11.1 in c:\\users\\user\\anaconda3\\lib\\site-packages (from transformers<5.0.0,>=4.6.0->sentence-transformers>=0.4.1->bertopic[visulaization]) (0.12.1)\n",
      "Requirement already satisfied: regex!=2019.12.17 in c:\\users\\user\\anaconda3\\lib\\site-packages (from transformers<5.0.0,>=4.6.0->sentence-transformers>=0.4.1->bertopic[visulaization]) (2021.4.4)\n",
      "Requirement already satisfied: click in c:\\users\\user\\anaconda3\\lib\\site-packages (from nltk->sentence-transformers>=0.4.1->bertopic[visulaization]) (7.1.2)\n",
      "Requirement already satisfied: pillow!=8.3.*,>=5.3.0 in c:\\users\\user\\anaconda3\\lib\\site-packages (from torchvision->sentence-transformers>=0.4.1->bertopic[visulaization]) (9.1.0)\n",
      "Requirement already satisfied: pyparsing>=2.0.2 in c:\\users\\user\\anaconda3\\lib\\site-packages (from packaging>=20.0->transformers<5.0.0,>=4.6.0->sentence-transformers>=0.4.1->bertopic[visulaization]) (2.4.7)\n",
      "Requirement already satisfied: urllib3<1.27,>=1.21.1 in c:\\users\\user\\anaconda3\\lib\\site-packages (from requests->transformers<5.0.0,>=4.6.0->sentence-transformers>=0.4.1->bertopic[visulaization]) (1.26.4)\n",
      "Requirement already satisfied: idna<3,>=2.5 in c:\\users\\user\\anaconda3\\lib\\site-packages (from requests->transformers<5.0.0,>=4.6.0->sentence-transformers>=0.4.1->bertopic[visulaization]) (2.10)\n",
      "Requirement already satisfied: certifi>=2017.4.17 in c:\\users\\user\\anaconda3\\lib\\site-packages (from requests->transformers<5.0.0,>=4.6.0->sentence-transformers>=0.4.1->bertopic[visulaization]) (2020.12.5)\n",
      "Requirement already satisfied: chardet<5,>=3.0.2 in c:\\users\\user\\anaconda3\\lib\\site-packages (from requests->transformers<5.0.0,>=4.6.0->sentence-transformers>=0.4.1->bertopic[visulaization]) (4.0.0)\n"
     ]
    }
   ],
   "source": [
    "!pip install bertopic[visulaization]"
   ]
  },
  {
   "cell_type": "code",
   "execution_count": 158,
   "id": "a24fb2d6",
   "metadata": {
    "scrolled": true
   },
   "outputs": [],
   "source": [
    "import numpy as np\n",
    "import pandas as pd\n",
    "from copy import deepcopy\n",
    "from bertopic import BERTopic"
   ]
  },
  {
   "cell_type": "code",
   "execution_count": 159,
   "id": "4ba94f3a",
   "metadata": {
    "scrolled": true
   },
   "outputs": [
    {
     "name": "stdout",
     "output_type": "stream",
     "text": [
      "(10348, 2)\n",
      "                              file  \\\n",
      "186822  jones-t/all_documents/634.   \n",
      "308790  mann-k/all_documents/5690.   \n",
      "82383         dasovich-j/sent/423.   \n",
      "227299          kaminski-v/var/63.   \n",
      "301824     mann-k/_sent_mail/3208.   \n",
      "\n",
      "                                                  message  \n",
      "186822  Message-ID: <17820178.1075846925335.JavaMail.e...  \n",
      "308790  Message-ID: <29110382.1075845717882.JavaMail.e...  \n",
      "82383   Message-ID: <6812040.1075843194135.JavaMail.ev...  \n",
      "227299  Message-ID: <21547648.1075856642126.JavaMail.e...  \n",
      "301824  Message-ID: <12684200.1075846107179.JavaMail.e...  \n"
     ]
    }
   ],
   "source": [
    "emails = pd.read_csv('C:\\Project DBs\\Email\\emails.csv')\n",
    "#email_subset = emails[:10000]\n",
    "email_subset = emails.sample(frac=0.02, random_state=1)\n",
    "\n",
    "print(email_subset.shape)\n",
    "print(email_subset.head())"
   ]
  },
  {
   "cell_type": "code",
   "execution_count": 160,
   "id": "7c37989b",
   "metadata": {
    "scrolled": true
   },
   "outputs": [],
   "source": [
    "def parse_raw_message(raw_message):\n",
    "    lines = raw_message.split('\\n')\n",
    "    email = {}\n",
    "    message = ''\n",
    "    keys_to_extract = ['from', 'to']\n",
    "    for line in lines:\n",
    "        if ':' not in line:\n",
    "            message += line.strip()\n",
    "            email['body'] = message\n",
    "        else:\n",
    "            pairs = line.split(':')\n",
    "            key = pairs[0].lower()\n",
    "            val = pairs[1].strip()\n",
    "            if key in keys_to_extract:\n",
    "                email[key] = val\n",
    "    return email"
   ]
  },
  {
   "cell_type": "code",
   "execution_count": 161,
   "id": "6b6d92d9",
   "metadata": {
    "scrolled": true
   },
   "outputs": [],
   "source": [
    "def parse_into_emails(messages):\n",
    "    emails = [parse_raw_message(message) for message in messages]\n",
    "    return {\n",
    "        'body': map_to_list(emails, 'body'),\n",
    "        \n",
    "    }"
   ]
  },
  {
   "cell_type": "code",
   "execution_count": 162,
   "id": "ec2b8fb0",
   "metadata": {
    "scrolled": true
   },
   "outputs": [],
   "source": [
    "def map_to_list(emails, key):\n",
    "    results = []\n",
    "    for email in emails:\n",
    "        if key not in email:\n",
    "            results.append('');\n",
    "            \n",
    "        else:\n",
    "            results.append(email[key])\n",
    "    return results"
   ]
  },
  {
   "cell_type": "code",
   "execution_count": 163,
   "id": "bfb007f1",
   "metadata": {
    "scrolled": true
   },
   "outputs": [],
   "source": [
    "from gensim.utils import simple_preprocess\n",
    "from nltk.corpus import stopwords\n",
    "\n",
    "def filter_words(texts):\n",
    "    stop_words = stopwords.words('english')\n",
    "    stop_words.extend(['from', 'subject', 're', 'edu', 'use'])\n",
    "    return [[word for word in simple_preprocess(str(doc)) if word not in stop_words] for doc in texts]"
   ]
  },
  {
   "cell_type": "code",
   "execution_count": 164,
   "id": "25469c20",
   "metadata": {
    "scrolled": true
   },
   "outputs": [
    {
     "name": "stdout",
     "output_type": "stream",
     "text": [
      "                                                body\n",
      "0  It would be nice if you could be at my dinner,...\n",
      "1  Absolutely.Good point!  Can Peter start to dra...\n",
      "2  My apologies.  My schedule melted down after w...\n"
     ]
    }
   ],
   "source": [
    "email_df = pd.DataFrame(parse_into_emails(email_subset.message))\n",
    "print(email_df.head(3))"
   ]
  },
  {
   "cell_type": "code",
   "execution_count": 165,
   "id": "40f111d9",
   "metadata": {
    "scrolled": true
   },
   "outputs": [
    {
     "data": {
      "text/html": [
       "<div>\n",
       "<style scoped>\n",
       "    .dataframe tbody tr th:only-of-type {\n",
       "        vertical-align: middle;\n",
       "    }\n",
       "\n",
       "    .dataframe tbody tr th {\n",
       "        vertical-align: top;\n",
       "    }\n",
       "\n",
       "    .dataframe thead th {\n",
       "        text-align: right;\n",
       "    }\n",
       "</style>\n",
       "<table border=\"1\" class=\"dataframe\">\n",
       "  <thead>\n",
       "    <tr style=\"text-align: right;\">\n",
       "      <th></th>\n",
       "      <th>ID</th>\n",
       "      <th>body</th>\n",
       "      <th>to</th>\n",
       "      <th>from_</th>\n",
       "    </tr>\n",
       "  </thead>\n",
       "  <tbody>\n",
       "    <tr>\n",
       "      <th>0</th>\n",
       "      <td>A1</td>\n",
       "      <td>Hi Dmml,\\r\\nWelcome to Google. Your new accoun...</td>\n",
       "      <td>('dmml2test@gmail.com',)</td>\n",
       "      <td>googlecommunityteam-noreply@google.com</td>\n",
       "    </tr>\n",
       "    <tr>\n",
       "      <th>1</th>\n",
       "      <td>A2</td>\n",
       "      <td>Your impartial, comprehensive news source.\\r\\n...</td>\n",
       "      <td>('dmml2test@gmail.com',)</td>\n",
       "      <td>DailyDigest@email.join1440.com</td>\n",
       "    </tr>\n",
       "    <tr>\n",
       "      <th>4</th>\n",
       "      <td>A5</td>\n",
       "      <td>** Important: Confirm Your Subscription to Nex...</td>\n",
       "      <td>('dmml2test@gmail.com',)</td>\n",
       "      <td>dave@davenetics.com</td>\n",
       "    </tr>\n",
       "    <tr>\n",
       "      <th>5</th>\n",
       "      <td>A6</td>\n",
       "      <td>Your NextDraft subscription has been confirmed...</td>\n",
       "      <td>('dmml2test@gmail.com',)</td>\n",
       "      <td>dave@davenetics.com</td>\n",
       "    </tr>\n",
       "    <tr>\n",
       "      <th>6</th>\n",
       "      <td>A7</td>\n",
       "      <td>Welcome to ELEVATOR.\\r\\n\\r\\nYour inbox is like...</td>\n",
       "      <td>('dmml2test@gmail.com',)</td>\n",
       "      <td>yo@gettheelevator.com</td>\n",
       "    </tr>\n",
       "  </tbody>\n",
       "</table>\n",
       "</div>"
      ],
      "text/plain": [
       "   ID                                               body  \\\n",
       "0  A1  Hi Dmml,\\r\\nWelcome to Google. Your new accoun...   \n",
       "1  A2  Your impartial, comprehensive news source.\\r\\n...   \n",
       "4  A5  ** Important: Confirm Your Subscription to Nex...   \n",
       "5  A6  Your NextDraft subscription has been confirmed...   \n",
       "6  A7  Welcome to ELEVATOR.\\r\\n\\r\\nYour inbox is like...   \n",
       "\n",
       "                         to                                   from_  \n",
       "0  ('dmml2test@gmail.com',)  googlecommunityteam-noreply@google.com  \n",
       "1  ('dmml2test@gmail.com',)          DailyDigest@email.join1440.com  \n",
       "4  ('dmml2test@gmail.com',)                     dave@davenetics.com  \n",
       "5  ('dmml2test@gmail.com',)                     dave@davenetics.com  \n",
       "6  ('dmml2test@gmail.com',)                   yo@gettheelevator.com  "
      ]
     },
     "execution_count": 165,
     "metadata": {},
     "output_type": "execute_result"
    }
   ],
   "source": [
    "gmail_data=pd.read_csv('C:\\\\Users\\\\user\\\\Downloads\\\\MailBodyOutput2.csv')\n",
    "gmail_data.dropna(inplace=True)\n",
    "gmail_data.head()"
   ]
  },
  {
   "cell_type": "code",
   "execution_count": 166,
   "id": "f43a57e1",
   "metadata": {
    "scrolled": true
   },
   "outputs": [],
   "source": [
    "email_df=email_df.append(gmail_data.drop('ID',axis=1))"
   ]
  },
  {
   "cell_type": "code",
   "execution_count": 167,
   "id": "8fa2d3bb",
   "metadata": {
    "scrolled": true
   },
   "outputs": [],
   "source": [
    "docs = list(email_df.loc[:, \"body\"].values)"
   ]
  },
  {
   "cell_type": "code",
   "execution_count": 168,
   "id": "0dfc6caf",
   "metadata": {
    "scrolled": true
   },
   "outputs": [],
   "source": [
    "docs=filter_words(docs)"
   ]
  },
  {
   "cell_type": "code",
   "execution_count": 169,
   "id": "f42a8293",
   "metadata": {
    "scrolled": true
   },
   "outputs": [],
   "source": [
    "doc=[]\n",
    "for x in docs:\n",
    "    doc.append(' '.join(x))"
   ]
  },
  {
   "cell_type": "code",
   "execution_count": 170,
   "id": "c2ebc087",
   "metadata": {
    "scrolled": true
   },
   "outputs": [
    {
     "data": {
      "text/plain": [
       "['would nice could dinner since probably knowanyone else anytime want go lunch check house status glad go',\n",
       " 'absolutely good point peter start draft override letter kay mann enrondieball john grigby reminder us need form override letter go withthe form turbine contract kay',\n",
       " 'apologies schedule melted talked monday swhere folks came concern size supposed beno larger lobbied aceves apparently ok oversized group folks group talked himoriginally pretty sure five violate rules folks wonderedif groups smaller could hook upwith sorry wrinkle think wespoke gets real ugly trying find smaller group let know fortunately another team case due two weeks best jeff',\n",
       " 'vince uk var breached limit last week uk traders asked us review correlations across uk gas power aswell correlations across efa slots part work last week update correlations based historical prices tanya richard lewisleppard lon ect ect rudy dautel hou ect ect kirstee hewitt lon ect ect naveen andrews corp enron enron david port market risk corp enron enron tedmurphy hou ect ect simon hastings lon ect ect paul arcy lon ect ect amirghodsian lon ect ectthanks tanya interesting results vacation next week sohere current thoughts contactable mobile necessary gas power correlationsi see point gas power correlation affecting var theconservative long term correlation combined var mm less thanpreviously expected affect limit breach still uk power limit limit set wewere assuming gas power correlation therefore higher portfolio var suggested way forward given importance spread options ukgas power books allocate gas power books share reduction inportfolio var ie reduction portfolio var sum power var gas var also understand mail correctly matrix implies gas consistent correlation curves reduces totalvar mm efa slot correlationsthe issue whether existing efa efa correlation matrix correct isa separate issue understand matrix efa efacorrelations come happy run forward curves first years wouldsuggest original matrix based historicals analysis isworth matrix results certainly indicate importantthese correlations closing thoughtsfriday trading left us longer would expect limit breach onmonday still reviewing shape long term curve dlike wait simon hastings back office mondayweek finalising tamarchenkonew lon ect ect steven leppard lon ect ect rudy dautel hou ect ect kirsteehewitt lon ect ect naveen andrews corp enron enron david port marketrisk corp enron enron ted murphy hou ect ecteverybody oliver sent us var number different correlations uk powerportfolio separately uk gas portfolio first var calculated accurately correlation power gascurves affect var number power var number gas onlythe aggregate number affected changes see due thefact monte carlo simulation method accuracy depends number simulations even changethe correlations different realizations random numbers get slightly different result model look aggregate number calculated weighted correlations based curves got paul theweights along term structure used product price position andvolatility time bucket gas efa slots numbers original correlation matrix definite correlation matrix brakes var engine correlation matrix set random variables non negative bydefinition remains non negatively definite calculated properly basedon historical data according phone discussion started experimenting assuming correlation efa slot et elecversus gas sending spreadsheet summaries results inaddition aggregate var numbers runs oliver seethe var numbers based correlation matrix matrix matrix thecorrelations across efa slots identical original matrix obtained matrix trial error matrix produces naveenusing finger algorithm differs original matrix across efa slots aswellas power versus gas correlations gives higher var matrix calculate historical correlations tanya oliver gaylardleppard lon ect ect rudy dautel hou ect ect kirstee hewitt lon ect ect naveen andrews corp enron enron tanya tamarchenko hou ect ect davidport market risk corp enron var uk power book var uk gas book mm mm mm mm mm mm mm mm cholesky decomposition failed positive definite cholesky decomposition failed positive definite cholesky decomposition failed positive definite cholesky decomposition failed positive definite cholesky decomposition failed positive definite cholesky decomposition failed positive definite cholesky decomposition failed positive definite peaks peaks treated avoid violating matrix sintegrity interesting note higher correlation power varincreases counter intuition implies need lookinto correlations applied within model canderive single correlations term structure next action tounderstand applied whether model captures lvolatility spread option deals onwards var calculation failed oliver',\n",
       " 'problems comments dale rasmussen ectmann corp enron enron kathleen clark redraft change order lm contract provide thepurchase ge transformer pleasanton project attached please note added guaranty ld provisions exhibit andconfirm whether appropriate scope amount attach documents included separate files exhibits band understand ge provide current copy theirstandard specifications transformer included exhibits congratulations discussion current amount balances etc theattached clearly wrong co based thisbeing third co please let know right numbers shouldbe thanks advance input understand urgency withgetting']"
      ]
     },
     "execution_count": 170,
     "metadata": {},
     "output_type": "execute_result"
    }
   ],
   "source": [
    "doc[:5]"
   ]
  },
  {
   "cell_type": "code",
   "execution_count": 171,
   "id": "68d22963",
   "metadata": {},
   "outputs": [],
   "source": [
    "from sentence_transformers import SentenceTransformer\n",
    "sentence_model = SentenceTransformer(\"all-MiniLM-L6-v2\")"
   ]
  },
  {
   "cell_type": "code",
   "execution_count": 172,
   "id": "83254981",
   "metadata": {
    "scrolled": true
   },
   "outputs": [],
   "source": [
    "model = BERTopic(language=\"english\",embedding_model=sentence_model,nr_topics=5)"
   ]
  },
  {
   "cell_type": "code",
   "execution_count": 173,
   "id": "9f414b37",
   "metadata": {
    "scrolled": true
   },
   "outputs": [],
   "source": [
    "topics, probs = model.fit_transform(doc)"
   ]
  },
  {
   "cell_type": "code",
   "execution_count": 174,
   "id": "451efd03",
   "metadata": {
    "scrolled": false
   },
   "outputs": [
    {
     "data": {
      "text/html": [
       "<div>\n",
       "<style scoped>\n",
       "    .dataframe tbody tr th:only-of-type {\n",
       "        vertical-align: middle;\n",
       "    }\n",
       "\n",
       "    .dataframe tbody tr th {\n",
       "        vertical-align: top;\n",
       "    }\n",
       "\n",
       "    .dataframe thead th {\n",
       "        text-align: right;\n",
       "    }\n",
       "</style>\n",
       "<table border=\"1\" class=\"dataframe\">\n",
       "  <thead>\n",
       "    <tr style=\"text-align: right;\">\n",
       "      <th></th>\n",
       "      <th>Topic</th>\n",
       "      <th>Count</th>\n",
       "    </tr>\n",
       "  </thead>\n",
       "  <tbody>\n",
       "    <tr>\n",
       "      <th>0</th>\n",
       "      <td>-1</td>\n",
       "      <td>9577</td>\n",
       "    </tr>\n",
       "    <tr>\n",
       "      <th>1</th>\n",
       "      <td>0</td>\n",
       "      <td>891</td>\n",
       "    </tr>\n",
       "    <tr>\n",
       "      <th>2</th>\n",
       "      <td>1</td>\n",
       "      <td>623</td>\n",
       "    </tr>\n",
       "    <tr>\n",
       "      <th>3</th>\n",
       "      <td>2</td>\n",
       "      <td>574</td>\n",
       "    </tr>\n",
       "    <tr>\n",
       "      <th>4</th>\n",
       "      <td>3</td>\n",
       "      <td>358</td>\n",
       "    </tr>\n",
       "    <tr>\n",
       "      <th>5</th>\n",
       "      <td>4</td>\n",
       "      <td>301</td>\n",
       "    </tr>\n",
       "  </tbody>\n",
       "</table>\n",
       "</div>"
      ],
      "text/plain": [
       "   Topic  Count\n",
       "0     -1   9577\n",
       "1      0    891\n",
       "2      1    623\n",
       "3      2    574\n",
       "4      3    358\n",
       "5      4    301"
      ]
     },
     "execution_count": 174,
     "metadata": {},
     "output_type": "execute_result"
    }
   ],
   "source": [
    "model.get_topic_freq()"
   ]
  },
  {
   "cell_type": "code",
   "execution_count": 175,
   "id": "ecbc4631",
   "metadata": {
    "scrolled": true
   },
   "outputs": [
    {
     "data": {
      "text/plain": [
       "[('enron', 0.32097002186930607),\n",
       " ('com', 0.2990225406785001),\n",
       " ('dec', 0.02702360264950114),\n",
       " ('active', 0.025376796530204963),\n",
       " ('mark', 0.021744843735911974),\n",
       " ('prc', 0.020868549003381746),\n",
       " ('john', 0.018745119450605103),\n",
       " ('davis', 0.01615716306035079),\n",
       " ('position', 0.01595777440504911),\n",
       " ('ryan', 0.015766855101450025)]"
      ]
     },
     "execution_count": 175,
     "metadata": {},
     "output_type": "execute_result"
    }
   ],
   "source": [
    "model.get_topic(0)"
   ]
  },
  {
   "cell_type": "code",
   "execution_count": 176,
   "id": "72103f50",
   "metadata": {
    "scrolled": true
   },
   "outputs": [
    {
     "data": {
      "text/plain": [
       "[('get', 0.03211706792627017),\n",
       " ('going', 0.03148205241109947),\n",
       " ('know', 0.03062194154962829),\n",
       " ('good', 0.028274612612667598),\n",
       " ('time', 0.02753895050066121),\n",
       " ('love', 0.024765715086126648),\n",
       " ('back', 0.02437322737927864),\n",
       " ('go', 0.02429742739868767),\n",
       " ('see', 0.024000318179219722),\n",
       " ('like', 0.023724830333207995)]"
      ]
     },
     "execution_count": 176,
     "metadata": {},
     "output_type": "execute_result"
    }
   ],
   "source": [
    "model.get_topic(2)"
   ]
  },
  {
   "cell_type": "code",
   "execution_count": 177,
   "id": "de243286",
   "metadata": {
    "scrolled": false
   },
   "outputs": [
    {
     "data": {
      "application/vnd.plotly.v1+json": {
       "config": {
        "plotlyServerURL": "https://plot.ly"
       },
       "data": [
        {
         "customdata": [
          [
           1,
           "name | product | thank | like | add",
           623
          ],
          [
           2,
           "get | going | know | good | time",
           574
          ],
          [
           3,
           "thank | link | add | want | topic",
           358
          ],
          [
           4,
           "post | blog | article | title | useful",
           301
          ]
         ],
         "hovertemplate": "<b>Topic %{customdata[0]}</b><br>Words: %{customdata[1]}<br>Size: %{customdata[2]}",
         "legendgroup": "",
         "marker": {
          "color": "#B0BEC5",
          "line": {
           "color": "DarkSlateGrey",
           "width": 2
          },
          "size": [
           623,
           574,
           358,
           301
          ],
          "sizemode": "area",
          "sizeref": 0.389375,
          "symbol": "circle"
         },
         "mode": "markers",
         "name": "",
         "orientation": "v",
         "showlegend": false,
         "type": "scatter",
         "x": [
          3.0577805042266846,
          31.7509822845459,
          2.2883100509643555,
          3.459944248199463
         ],
         "xaxis": "x",
         "y": [
          10.084017753601074,
          -13.207818984985352,
          10.858412742614746,
          9.699487686157227
         ],
         "yaxis": "y"
        }
       ],
       "layout": {
        "annotations": [
         {
          "showarrow": false,
          "text": "D1",
          "x": 1.945063543319702,
          "y": -1.3509085893630983,
          "yshift": 10
         },
         {
          "showarrow": false,
          "text": "D2",
          "x": 19.229346585273746,
          "xshift": 10,
          "y": 12.487174654006958
         }
        ],
        "height": 650,
        "hoverlabel": {
         "bgcolor": "white",
         "font": {
          "family": "Rockwell",
          "size": 16
         }
        },
        "legend": {
         "itemsizing": "constant",
         "tracegroupgap": 0
        },
        "margin": {
         "t": 60
        },
        "shapes": [
         {
          "line": {
           "color": "#CFD8DC",
           "width": 2
          },
          "type": "line",
          "x0": 19.229346585273746,
          "x1": 19.229346585273746,
          "y0": -15.188991832733155,
          "y1": 12.487174654006958
         },
         {
          "line": {
           "color": "#9E9E9E",
           "width": 2
          },
          "type": "line",
          "x0": 1.945063543319702,
          "x1": 36.513629627227786,
          "y0": -1.3509085893630983,
          "y1": -1.3509085893630983
         }
        ],
        "sliders": [
         {
          "active": 0,
          "pad": {
           "t": 50
          },
          "steps": [
           {
            "args": [
             {
              "marker.color": [
               [
                "red",
                "#B0BEC5",
                "#B0BEC5",
                "#B0BEC5"
               ]
              ]
             }
            ],
            "label": "Topic 1",
            "method": "update"
           },
           {
            "args": [
             {
              "marker.color": [
               [
                "#B0BEC5",
                "red",
                "#B0BEC5",
                "#B0BEC5"
               ]
              ]
             }
            ],
            "label": "Topic 2",
            "method": "update"
           },
           {
            "args": [
             {
              "marker.color": [
               [
                "#B0BEC5",
                "#B0BEC5",
                "red",
                "#B0BEC5"
               ]
              ]
             }
            ],
            "label": "Topic 3",
            "method": "update"
           },
           {
            "args": [
             {
              "marker.color": [
               [
                "#B0BEC5",
                "#B0BEC5",
                "#B0BEC5",
                "red"
               ]
              ]
             }
            ],
            "label": "Topic 4",
            "method": "update"
           }
          ]
         }
        ],
        "template": {
         "data": {
          "bar": [
           {
            "error_x": {
             "color": "rgb(36,36,36)"
            },
            "error_y": {
             "color": "rgb(36,36,36)"
            },
            "marker": {
             "line": {
              "color": "white",
              "width": 0.5
             },
             "pattern": {
              "fillmode": "overlay",
              "size": 10,
              "solidity": 0.2
             }
            },
            "type": "bar"
           }
          ],
          "barpolar": [
           {
            "marker": {
             "line": {
              "color": "white",
              "width": 0.5
             },
             "pattern": {
              "fillmode": "overlay",
              "size": 10,
              "solidity": 0.2
             }
            },
            "type": "barpolar"
           }
          ],
          "carpet": [
           {
            "aaxis": {
             "endlinecolor": "rgb(36,36,36)",
             "gridcolor": "white",
             "linecolor": "white",
             "minorgridcolor": "white",
             "startlinecolor": "rgb(36,36,36)"
            },
            "baxis": {
             "endlinecolor": "rgb(36,36,36)",
             "gridcolor": "white",
             "linecolor": "white",
             "minorgridcolor": "white",
             "startlinecolor": "rgb(36,36,36)"
            },
            "type": "carpet"
           }
          ],
          "choropleth": [
           {
            "colorbar": {
             "outlinewidth": 1,
             "tickcolor": "rgb(36,36,36)",
             "ticks": "outside"
            },
            "type": "choropleth"
           }
          ],
          "contour": [
           {
            "colorbar": {
             "outlinewidth": 1,
             "tickcolor": "rgb(36,36,36)",
             "ticks": "outside"
            },
            "colorscale": [
             [
              0,
              "#440154"
             ],
             [
              0.1111111111111111,
              "#482878"
             ],
             [
              0.2222222222222222,
              "#3e4989"
             ],
             [
              0.3333333333333333,
              "#31688e"
             ],
             [
              0.4444444444444444,
              "#26828e"
             ],
             [
              0.5555555555555556,
              "#1f9e89"
             ],
             [
              0.6666666666666666,
              "#35b779"
             ],
             [
              0.7777777777777778,
              "#6ece58"
             ],
             [
              0.8888888888888888,
              "#b5de2b"
             ],
             [
              1,
              "#fde725"
             ]
            ],
            "type": "contour"
           }
          ],
          "contourcarpet": [
           {
            "colorbar": {
             "outlinewidth": 1,
             "tickcolor": "rgb(36,36,36)",
             "ticks": "outside"
            },
            "type": "contourcarpet"
           }
          ],
          "heatmap": [
           {
            "colorbar": {
             "outlinewidth": 1,
             "tickcolor": "rgb(36,36,36)",
             "ticks": "outside"
            },
            "colorscale": [
             [
              0,
              "#440154"
             ],
             [
              0.1111111111111111,
              "#482878"
             ],
             [
              0.2222222222222222,
              "#3e4989"
             ],
             [
              0.3333333333333333,
              "#31688e"
             ],
             [
              0.4444444444444444,
              "#26828e"
             ],
             [
              0.5555555555555556,
              "#1f9e89"
             ],
             [
              0.6666666666666666,
              "#35b779"
             ],
             [
              0.7777777777777778,
              "#6ece58"
             ],
             [
              0.8888888888888888,
              "#b5de2b"
             ],
             [
              1,
              "#fde725"
             ]
            ],
            "type": "heatmap"
           }
          ],
          "heatmapgl": [
           {
            "colorbar": {
             "outlinewidth": 1,
             "tickcolor": "rgb(36,36,36)",
             "ticks": "outside"
            },
            "colorscale": [
             [
              0,
              "#440154"
             ],
             [
              0.1111111111111111,
              "#482878"
             ],
             [
              0.2222222222222222,
              "#3e4989"
             ],
             [
              0.3333333333333333,
              "#31688e"
             ],
             [
              0.4444444444444444,
              "#26828e"
             ],
             [
              0.5555555555555556,
              "#1f9e89"
             ],
             [
              0.6666666666666666,
              "#35b779"
             ],
             [
              0.7777777777777778,
              "#6ece58"
             ],
             [
              0.8888888888888888,
              "#b5de2b"
             ],
             [
              1,
              "#fde725"
             ]
            ],
            "type": "heatmapgl"
           }
          ],
          "histogram": [
           {
            "marker": {
             "line": {
              "color": "white",
              "width": 0.6
             }
            },
            "type": "histogram"
           }
          ],
          "histogram2d": [
           {
            "colorbar": {
             "outlinewidth": 1,
             "tickcolor": "rgb(36,36,36)",
             "ticks": "outside"
            },
            "colorscale": [
             [
              0,
              "#440154"
             ],
             [
              0.1111111111111111,
              "#482878"
             ],
             [
              0.2222222222222222,
              "#3e4989"
             ],
             [
              0.3333333333333333,
              "#31688e"
             ],
             [
              0.4444444444444444,
              "#26828e"
             ],
             [
              0.5555555555555556,
              "#1f9e89"
             ],
             [
              0.6666666666666666,
              "#35b779"
             ],
             [
              0.7777777777777778,
              "#6ece58"
             ],
             [
              0.8888888888888888,
              "#b5de2b"
             ],
             [
              1,
              "#fde725"
             ]
            ],
            "type": "histogram2d"
           }
          ],
          "histogram2dcontour": [
           {
            "colorbar": {
             "outlinewidth": 1,
             "tickcolor": "rgb(36,36,36)",
             "ticks": "outside"
            },
            "colorscale": [
             [
              0,
              "#440154"
             ],
             [
              0.1111111111111111,
              "#482878"
             ],
             [
              0.2222222222222222,
              "#3e4989"
             ],
             [
              0.3333333333333333,
              "#31688e"
             ],
             [
              0.4444444444444444,
              "#26828e"
             ],
             [
              0.5555555555555556,
              "#1f9e89"
             ],
             [
              0.6666666666666666,
              "#35b779"
             ],
             [
              0.7777777777777778,
              "#6ece58"
             ],
             [
              0.8888888888888888,
              "#b5de2b"
             ],
             [
              1,
              "#fde725"
             ]
            ],
            "type": "histogram2dcontour"
           }
          ],
          "mesh3d": [
           {
            "colorbar": {
             "outlinewidth": 1,
             "tickcolor": "rgb(36,36,36)",
             "ticks": "outside"
            },
            "type": "mesh3d"
           }
          ],
          "parcoords": [
           {
            "line": {
             "colorbar": {
              "outlinewidth": 1,
              "tickcolor": "rgb(36,36,36)",
              "ticks": "outside"
             }
            },
            "type": "parcoords"
           }
          ],
          "pie": [
           {
            "automargin": true,
            "type": "pie"
           }
          ],
          "scatter": [
           {
            "marker": {
             "colorbar": {
              "outlinewidth": 1,
              "tickcolor": "rgb(36,36,36)",
              "ticks": "outside"
             }
            },
            "type": "scatter"
           }
          ],
          "scatter3d": [
           {
            "line": {
             "colorbar": {
              "outlinewidth": 1,
              "tickcolor": "rgb(36,36,36)",
              "ticks": "outside"
             }
            },
            "marker": {
             "colorbar": {
              "outlinewidth": 1,
              "tickcolor": "rgb(36,36,36)",
              "ticks": "outside"
             }
            },
            "type": "scatter3d"
           }
          ],
          "scattercarpet": [
           {
            "marker": {
             "colorbar": {
              "outlinewidth": 1,
              "tickcolor": "rgb(36,36,36)",
              "ticks": "outside"
             }
            },
            "type": "scattercarpet"
           }
          ],
          "scattergeo": [
           {
            "marker": {
             "colorbar": {
              "outlinewidth": 1,
              "tickcolor": "rgb(36,36,36)",
              "ticks": "outside"
             }
            },
            "type": "scattergeo"
           }
          ],
          "scattergl": [
           {
            "marker": {
             "colorbar": {
              "outlinewidth": 1,
              "tickcolor": "rgb(36,36,36)",
              "ticks": "outside"
             }
            },
            "type": "scattergl"
           }
          ],
          "scattermapbox": [
           {
            "marker": {
             "colorbar": {
              "outlinewidth": 1,
              "tickcolor": "rgb(36,36,36)",
              "ticks": "outside"
             }
            },
            "type": "scattermapbox"
           }
          ],
          "scatterpolar": [
           {
            "marker": {
             "colorbar": {
              "outlinewidth": 1,
              "tickcolor": "rgb(36,36,36)",
              "ticks": "outside"
             }
            },
            "type": "scatterpolar"
           }
          ],
          "scatterpolargl": [
           {
            "marker": {
             "colorbar": {
              "outlinewidth": 1,
              "tickcolor": "rgb(36,36,36)",
              "ticks": "outside"
             }
            },
            "type": "scatterpolargl"
           }
          ],
          "scatterternary": [
           {
            "marker": {
             "colorbar": {
              "outlinewidth": 1,
              "tickcolor": "rgb(36,36,36)",
              "ticks": "outside"
             }
            },
            "type": "scatterternary"
           }
          ],
          "surface": [
           {
            "colorbar": {
             "outlinewidth": 1,
             "tickcolor": "rgb(36,36,36)",
             "ticks": "outside"
            },
            "colorscale": [
             [
              0,
              "#440154"
             ],
             [
              0.1111111111111111,
              "#482878"
             ],
             [
              0.2222222222222222,
              "#3e4989"
             ],
             [
              0.3333333333333333,
              "#31688e"
             ],
             [
              0.4444444444444444,
              "#26828e"
             ],
             [
              0.5555555555555556,
              "#1f9e89"
             ],
             [
              0.6666666666666666,
              "#35b779"
             ],
             [
              0.7777777777777778,
              "#6ece58"
             ],
             [
              0.8888888888888888,
              "#b5de2b"
             ],
             [
              1,
              "#fde725"
             ]
            ],
            "type": "surface"
           }
          ],
          "table": [
           {
            "cells": {
             "fill": {
              "color": "rgb(237,237,237)"
             },
             "line": {
              "color": "white"
             }
            },
            "header": {
             "fill": {
              "color": "rgb(217,217,217)"
             },
             "line": {
              "color": "white"
             }
            },
            "type": "table"
           }
          ]
         },
         "layout": {
          "annotationdefaults": {
           "arrowhead": 0,
           "arrowwidth": 1
          },
          "autotypenumbers": "strict",
          "coloraxis": {
           "colorbar": {
            "outlinewidth": 1,
            "tickcolor": "rgb(36,36,36)",
            "ticks": "outside"
           }
          },
          "colorscale": {
           "diverging": [
            [
             0,
             "rgb(103,0,31)"
            ],
            [
             0.1,
             "rgb(178,24,43)"
            ],
            [
             0.2,
             "rgb(214,96,77)"
            ],
            [
             0.3,
             "rgb(244,165,130)"
            ],
            [
             0.4,
             "rgb(253,219,199)"
            ],
            [
             0.5,
             "rgb(247,247,247)"
            ],
            [
             0.6,
             "rgb(209,229,240)"
            ],
            [
             0.7,
             "rgb(146,197,222)"
            ],
            [
             0.8,
             "rgb(67,147,195)"
            ],
            [
             0.9,
             "rgb(33,102,172)"
            ],
            [
             1,
             "rgb(5,48,97)"
            ]
           ],
           "sequential": [
            [
             0,
             "#440154"
            ],
            [
             0.1111111111111111,
             "#482878"
            ],
            [
             0.2222222222222222,
             "#3e4989"
            ],
            [
             0.3333333333333333,
             "#31688e"
            ],
            [
             0.4444444444444444,
             "#26828e"
            ],
            [
             0.5555555555555556,
             "#1f9e89"
            ],
            [
             0.6666666666666666,
             "#35b779"
            ],
            [
             0.7777777777777778,
             "#6ece58"
            ],
            [
             0.8888888888888888,
             "#b5de2b"
            ],
            [
             1,
             "#fde725"
            ]
           ],
           "sequentialminus": [
            [
             0,
             "#440154"
            ],
            [
             0.1111111111111111,
             "#482878"
            ],
            [
             0.2222222222222222,
             "#3e4989"
            ],
            [
             0.3333333333333333,
             "#31688e"
            ],
            [
             0.4444444444444444,
             "#26828e"
            ],
            [
             0.5555555555555556,
             "#1f9e89"
            ],
            [
             0.6666666666666666,
             "#35b779"
            ],
            [
             0.7777777777777778,
             "#6ece58"
            ],
            [
             0.8888888888888888,
             "#b5de2b"
            ],
            [
             1,
             "#fde725"
            ]
           ]
          },
          "colorway": [
           "#1F77B4",
           "#FF7F0E",
           "#2CA02C",
           "#D62728",
           "#9467BD",
           "#8C564B",
           "#E377C2",
           "#7F7F7F",
           "#BCBD22",
           "#17BECF"
          ],
          "font": {
           "color": "rgb(36,36,36)"
          },
          "geo": {
           "bgcolor": "white",
           "lakecolor": "white",
           "landcolor": "white",
           "showlakes": true,
           "showland": true,
           "subunitcolor": "white"
          },
          "hoverlabel": {
           "align": "left"
          },
          "hovermode": "closest",
          "mapbox": {
           "style": "light"
          },
          "paper_bgcolor": "white",
          "plot_bgcolor": "white",
          "polar": {
           "angularaxis": {
            "gridcolor": "rgb(232,232,232)",
            "linecolor": "rgb(36,36,36)",
            "showgrid": false,
            "showline": true,
            "ticks": "outside"
           },
           "bgcolor": "white",
           "radialaxis": {
            "gridcolor": "rgb(232,232,232)",
            "linecolor": "rgb(36,36,36)",
            "showgrid": false,
            "showline": true,
            "ticks": "outside"
           }
          },
          "scene": {
           "xaxis": {
            "backgroundcolor": "white",
            "gridcolor": "rgb(232,232,232)",
            "gridwidth": 2,
            "linecolor": "rgb(36,36,36)",
            "showbackground": true,
            "showgrid": false,
            "showline": true,
            "ticks": "outside",
            "zeroline": false,
            "zerolinecolor": "rgb(36,36,36)"
           },
           "yaxis": {
            "backgroundcolor": "white",
            "gridcolor": "rgb(232,232,232)",
            "gridwidth": 2,
            "linecolor": "rgb(36,36,36)",
            "showbackground": true,
            "showgrid": false,
            "showline": true,
            "ticks": "outside",
            "zeroline": false,
            "zerolinecolor": "rgb(36,36,36)"
           },
           "zaxis": {
            "backgroundcolor": "white",
            "gridcolor": "rgb(232,232,232)",
            "gridwidth": 2,
            "linecolor": "rgb(36,36,36)",
            "showbackground": true,
            "showgrid": false,
            "showline": true,
            "ticks": "outside",
            "zeroline": false,
            "zerolinecolor": "rgb(36,36,36)"
           }
          },
          "shapedefaults": {
           "fillcolor": "black",
           "line": {
            "width": 0
           },
           "opacity": 0.3
          },
          "ternary": {
           "aaxis": {
            "gridcolor": "rgb(232,232,232)",
            "linecolor": "rgb(36,36,36)",
            "showgrid": false,
            "showline": true,
            "ticks": "outside"
           },
           "baxis": {
            "gridcolor": "rgb(232,232,232)",
            "linecolor": "rgb(36,36,36)",
            "showgrid": false,
            "showline": true,
            "ticks": "outside"
           },
           "bgcolor": "white",
           "caxis": {
            "gridcolor": "rgb(232,232,232)",
            "linecolor": "rgb(36,36,36)",
            "showgrid": false,
            "showline": true,
            "ticks": "outside"
           }
          },
          "title": {
           "x": 0.05
          },
          "xaxis": {
           "automargin": true,
           "gridcolor": "rgb(232,232,232)",
           "linecolor": "rgb(36,36,36)",
           "showgrid": false,
           "showline": true,
           "ticks": "outside",
           "title": {
            "standoff": 15
           },
           "zeroline": false,
           "zerolinecolor": "rgb(36,36,36)"
          },
          "yaxis": {
           "automargin": true,
           "gridcolor": "rgb(232,232,232)",
           "linecolor": "rgb(36,36,36)",
           "showgrid": false,
           "showline": true,
           "ticks": "outside",
           "title": {
            "standoff": 15
           },
           "zeroline": false,
           "zerolinecolor": "rgb(36,36,36)"
          }
         }
        },
        "title": {
         "font": {
          "color": "Black",
          "size": 22
         },
         "text": "<b>Intertopic Distance Map",
         "x": 0.5,
         "xanchor": "center",
         "y": 0.95,
         "yanchor": "top"
        },
        "width": 650,
        "xaxis": {
         "anchor": "y",
         "domain": [
          0,
          1
         ],
         "range": [
          1.945063543319702,
          36.513629627227786
         ],
         "title": {
          "text": ""
         },
         "visible": false
        },
        "yaxis": {
         "anchor": "x",
         "domain": [
          0,
          1
         ],
         "range": [
          -15.188991832733155,
          12.487174654006958
         ],
         "title": {
          "text": ""
         },
         "visible": false
        }
       }
      },
      "text/html": [
       "<div>                            <div id=\"a8446329-8ff5-4074-8e98-789fa0c81978\" class=\"plotly-graph-div\" style=\"height:650px; width:650px;\"></div>            <script type=\"text/javascript\">                require([\"plotly\"], function(Plotly) {                    window.PLOTLYENV=window.PLOTLYENV || {};                                    if (document.getElementById(\"a8446329-8ff5-4074-8e98-789fa0c81978\")) {                    Plotly.newPlot(                        \"a8446329-8ff5-4074-8e98-789fa0c81978\",                        [{\"customdata\":[[1,\"name | product | thank | like | add\",623],[2,\"get | going | know | good | time\",574],[3,\"thank | link | add | want | topic\",358],[4,\"post | blog | article | title | useful\",301]],\"hovertemplate\":\"<b>Topic %{customdata[0]}</b><br>Words: %{customdata[1]}<br>Size: %{customdata[2]}\",\"legendgroup\":\"\",\"marker\":{\"color\":\"#B0BEC5\",\"size\":[623,574,358,301],\"sizemode\":\"area\",\"sizeref\":0.389375,\"symbol\":\"circle\",\"line\":{\"color\":\"DarkSlateGrey\",\"width\":2}},\"mode\":\"markers\",\"name\":\"\",\"orientation\":\"v\",\"showlegend\":false,\"x\":[3.0577805042266846,31.7509822845459,2.2883100509643555,3.459944248199463],\"xaxis\":\"x\",\"y\":[10.084017753601074,-13.207818984985352,10.858412742614746,9.699487686157227],\"yaxis\":\"y\",\"type\":\"scatter\"}],                        {\"template\":{\"data\":{\"barpolar\":[{\"marker\":{\"line\":{\"color\":\"white\",\"width\":0.5},\"pattern\":{\"fillmode\":\"overlay\",\"size\":10,\"solidity\":0.2}},\"type\":\"barpolar\"}],\"bar\":[{\"error_x\":{\"color\":\"rgb(36,36,36)\"},\"error_y\":{\"color\":\"rgb(36,36,36)\"},\"marker\":{\"line\":{\"color\":\"white\",\"width\":0.5},\"pattern\":{\"fillmode\":\"overlay\",\"size\":10,\"solidity\":0.2}},\"type\":\"bar\"}],\"carpet\":[{\"aaxis\":{\"endlinecolor\":\"rgb(36,36,36)\",\"gridcolor\":\"white\",\"linecolor\":\"white\",\"minorgridcolor\":\"white\",\"startlinecolor\":\"rgb(36,36,36)\"},\"baxis\":{\"endlinecolor\":\"rgb(36,36,36)\",\"gridcolor\":\"white\",\"linecolor\":\"white\",\"minorgridcolor\":\"white\",\"startlinecolor\":\"rgb(36,36,36)\"},\"type\":\"carpet\"}],\"choropleth\":[{\"colorbar\":{\"outlinewidth\":1,\"tickcolor\":\"rgb(36,36,36)\",\"ticks\":\"outside\"},\"type\":\"choropleth\"}],\"contourcarpet\":[{\"colorbar\":{\"outlinewidth\":1,\"tickcolor\":\"rgb(36,36,36)\",\"ticks\":\"outside\"},\"type\":\"contourcarpet\"}],\"contour\":[{\"colorbar\":{\"outlinewidth\":1,\"tickcolor\":\"rgb(36,36,36)\",\"ticks\":\"outside\"},\"colorscale\":[[0.0,\"#440154\"],[0.1111111111111111,\"#482878\"],[0.2222222222222222,\"#3e4989\"],[0.3333333333333333,\"#31688e\"],[0.4444444444444444,\"#26828e\"],[0.5555555555555556,\"#1f9e89\"],[0.6666666666666666,\"#35b779\"],[0.7777777777777778,\"#6ece58\"],[0.8888888888888888,\"#b5de2b\"],[1.0,\"#fde725\"]],\"type\":\"contour\"}],\"heatmapgl\":[{\"colorbar\":{\"outlinewidth\":1,\"tickcolor\":\"rgb(36,36,36)\",\"ticks\":\"outside\"},\"colorscale\":[[0.0,\"#440154\"],[0.1111111111111111,\"#482878\"],[0.2222222222222222,\"#3e4989\"],[0.3333333333333333,\"#31688e\"],[0.4444444444444444,\"#26828e\"],[0.5555555555555556,\"#1f9e89\"],[0.6666666666666666,\"#35b779\"],[0.7777777777777778,\"#6ece58\"],[0.8888888888888888,\"#b5de2b\"],[1.0,\"#fde725\"]],\"type\":\"heatmapgl\"}],\"heatmap\":[{\"colorbar\":{\"outlinewidth\":1,\"tickcolor\":\"rgb(36,36,36)\",\"ticks\":\"outside\"},\"colorscale\":[[0.0,\"#440154\"],[0.1111111111111111,\"#482878\"],[0.2222222222222222,\"#3e4989\"],[0.3333333333333333,\"#31688e\"],[0.4444444444444444,\"#26828e\"],[0.5555555555555556,\"#1f9e89\"],[0.6666666666666666,\"#35b779\"],[0.7777777777777778,\"#6ece58\"],[0.8888888888888888,\"#b5de2b\"],[1.0,\"#fde725\"]],\"type\":\"heatmap\"}],\"histogram2dcontour\":[{\"colorbar\":{\"outlinewidth\":1,\"tickcolor\":\"rgb(36,36,36)\",\"ticks\":\"outside\"},\"colorscale\":[[0.0,\"#440154\"],[0.1111111111111111,\"#482878\"],[0.2222222222222222,\"#3e4989\"],[0.3333333333333333,\"#31688e\"],[0.4444444444444444,\"#26828e\"],[0.5555555555555556,\"#1f9e89\"],[0.6666666666666666,\"#35b779\"],[0.7777777777777778,\"#6ece58\"],[0.8888888888888888,\"#b5de2b\"],[1.0,\"#fde725\"]],\"type\":\"histogram2dcontour\"}],\"histogram2d\":[{\"colorbar\":{\"outlinewidth\":1,\"tickcolor\":\"rgb(36,36,36)\",\"ticks\":\"outside\"},\"colorscale\":[[0.0,\"#440154\"],[0.1111111111111111,\"#482878\"],[0.2222222222222222,\"#3e4989\"],[0.3333333333333333,\"#31688e\"],[0.4444444444444444,\"#26828e\"],[0.5555555555555556,\"#1f9e89\"],[0.6666666666666666,\"#35b779\"],[0.7777777777777778,\"#6ece58\"],[0.8888888888888888,\"#b5de2b\"],[1.0,\"#fde725\"]],\"type\":\"histogram2d\"}],\"histogram\":[{\"marker\":{\"line\":{\"color\":\"white\",\"width\":0.6}},\"type\":\"histogram\"}],\"mesh3d\":[{\"colorbar\":{\"outlinewidth\":1,\"tickcolor\":\"rgb(36,36,36)\",\"ticks\":\"outside\"},\"type\":\"mesh3d\"}],\"parcoords\":[{\"line\":{\"colorbar\":{\"outlinewidth\":1,\"tickcolor\":\"rgb(36,36,36)\",\"ticks\":\"outside\"}},\"type\":\"parcoords\"}],\"pie\":[{\"automargin\":true,\"type\":\"pie\"}],\"scatter3d\":[{\"line\":{\"colorbar\":{\"outlinewidth\":1,\"tickcolor\":\"rgb(36,36,36)\",\"ticks\":\"outside\"}},\"marker\":{\"colorbar\":{\"outlinewidth\":1,\"tickcolor\":\"rgb(36,36,36)\",\"ticks\":\"outside\"}},\"type\":\"scatter3d\"}],\"scattercarpet\":[{\"marker\":{\"colorbar\":{\"outlinewidth\":1,\"tickcolor\":\"rgb(36,36,36)\",\"ticks\":\"outside\"}},\"type\":\"scattercarpet\"}],\"scattergeo\":[{\"marker\":{\"colorbar\":{\"outlinewidth\":1,\"tickcolor\":\"rgb(36,36,36)\",\"ticks\":\"outside\"}},\"type\":\"scattergeo\"}],\"scattergl\":[{\"marker\":{\"colorbar\":{\"outlinewidth\":1,\"tickcolor\":\"rgb(36,36,36)\",\"ticks\":\"outside\"}},\"type\":\"scattergl\"}],\"scattermapbox\":[{\"marker\":{\"colorbar\":{\"outlinewidth\":1,\"tickcolor\":\"rgb(36,36,36)\",\"ticks\":\"outside\"}},\"type\":\"scattermapbox\"}],\"scatterpolargl\":[{\"marker\":{\"colorbar\":{\"outlinewidth\":1,\"tickcolor\":\"rgb(36,36,36)\",\"ticks\":\"outside\"}},\"type\":\"scatterpolargl\"}],\"scatterpolar\":[{\"marker\":{\"colorbar\":{\"outlinewidth\":1,\"tickcolor\":\"rgb(36,36,36)\",\"ticks\":\"outside\"}},\"type\":\"scatterpolar\"}],\"scatter\":[{\"marker\":{\"colorbar\":{\"outlinewidth\":1,\"tickcolor\":\"rgb(36,36,36)\",\"ticks\":\"outside\"}},\"type\":\"scatter\"}],\"scatterternary\":[{\"marker\":{\"colorbar\":{\"outlinewidth\":1,\"tickcolor\":\"rgb(36,36,36)\",\"ticks\":\"outside\"}},\"type\":\"scatterternary\"}],\"surface\":[{\"colorbar\":{\"outlinewidth\":1,\"tickcolor\":\"rgb(36,36,36)\",\"ticks\":\"outside\"},\"colorscale\":[[0.0,\"#440154\"],[0.1111111111111111,\"#482878\"],[0.2222222222222222,\"#3e4989\"],[0.3333333333333333,\"#31688e\"],[0.4444444444444444,\"#26828e\"],[0.5555555555555556,\"#1f9e89\"],[0.6666666666666666,\"#35b779\"],[0.7777777777777778,\"#6ece58\"],[0.8888888888888888,\"#b5de2b\"],[1.0,\"#fde725\"]],\"type\":\"surface\"}],\"table\":[{\"cells\":{\"fill\":{\"color\":\"rgb(237,237,237)\"},\"line\":{\"color\":\"white\"}},\"header\":{\"fill\":{\"color\":\"rgb(217,217,217)\"},\"line\":{\"color\":\"white\"}},\"type\":\"table\"}]},\"layout\":{\"annotationdefaults\":{\"arrowhead\":0,\"arrowwidth\":1},\"autotypenumbers\":\"strict\",\"coloraxis\":{\"colorbar\":{\"outlinewidth\":1,\"tickcolor\":\"rgb(36,36,36)\",\"ticks\":\"outside\"}},\"colorscale\":{\"diverging\":[[0.0,\"rgb(103,0,31)\"],[0.1,\"rgb(178,24,43)\"],[0.2,\"rgb(214,96,77)\"],[0.3,\"rgb(244,165,130)\"],[0.4,\"rgb(253,219,199)\"],[0.5,\"rgb(247,247,247)\"],[0.6,\"rgb(209,229,240)\"],[0.7,\"rgb(146,197,222)\"],[0.8,\"rgb(67,147,195)\"],[0.9,\"rgb(33,102,172)\"],[1.0,\"rgb(5,48,97)\"]],\"sequential\":[[0.0,\"#440154\"],[0.1111111111111111,\"#482878\"],[0.2222222222222222,\"#3e4989\"],[0.3333333333333333,\"#31688e\"],[0.4444444444444444,\"#26828e\"],[0.5555555555555556,\"#1f9e89\"],[0.6666666666666666,\"#35b779\"],[0.7777777777777778,\"#6ece58\"],[0.8888888888888888,\"#b5de2b\"],[1.0,\"#fde725\"]],\"sequentialminus\":[[0.0,\"#440154\"],[0.1111111111111111,\"#482878\"],[0.2222222222222222,\"#3e4989\"],[0.3333333333333333,\"#31688e\"],[0.4444444444444444,\"#26828e\"],[0.5555555555555556,\"#1f9e89\"],[0.6666666666666666,\"#35b779\"],[0.7777777777777778,\"#6ece58\"],[0.8888888888888888,\"#b5de2b\"],[1.0,\"#fde725\"]]},\"colorway\":[\"#1F77B4\",\"#FF7F0E\",\"#2CA02C\",\"#D62728\",\"#9467BD\",\"#8C564B\",\"#E377C2\",\"#7F7F7F\",\"#BCBD22\",\"#17BECF\"],\"font\":{\"color\":\"rgb(36,36,36)\"},\"geo\":{\"bgcolor\":\"white\",\"lakecolor\":\"white\",\"landcolor\":\"white\",\"showlakes\":true,\"showland\":true,\"subunitcolor\":\"white\"},\"hoverlabel\":{\"align\":\"left\"},\"hovermode\":\"closest\",\"mapbox\":{\"style\":\"light\"},\"paper_bgcolor\":\"white\",\"plot_bgcolor\":\"white\",\"polar\":{\"angularaxis\":{\"gridcolor\":\"rgb(232,232,232)\",\"linecolor\":\"rgb(36,36,36)\",\"showgrid\":false,\"showline\":true,\"ticks\":\"outside\"},\"bgcolor\":\"white\",\"radialaxis\":{\"gridcolor\":\"rgb(232,232,232)\",\"linecolor\":\"rgb(36,36,36)\",\"showgrid\":false,\"showline\":true,\"ticks\":\"outside\"}},\"scene\":{\"xaxis\":{\"backgroundcolor\":\"white\",\"gridcolor\":\"rgb(232,232,232)\",\"gridwidth\":2,\"linecolor\":\"rgb(36,36,36)\",\"showbackground\":true,\"showgrid\":false,\"showline\":true,\"ticks\":\"outside\",\"zeroline\":false,\"zerolinecolor\":\"rgb(36,36,36)\"},\"yaxis\":{\"backgroundcolor\":\"white\",\"gridcolor\":\"rgb(232,232,232)\",\"gridwidth\":2,\"linecolor\":\"rgb(36,36,36)\",\"showbackground\":true,\"showgrid\":false,\"showline\":true,\"ticks\":\"outside\",\"zeroline\":false,\"zerolinecolor\":\"rgb(36,36,36)\"},\"zaxis\":{\"backgroundcolor\":\"white\",\"gridcolor\":\"rgb(232,232,232)\",\"gridwidth\":2,\"linecolor\":\"rgb(36,36,36)\",\"showbackground\":true,\"showgrid\":false,\"showline\":true,\"ticks\":\"outside\",\"zeroline\":false,\"zerolinecolor\":\"rgb(36,36,36)\"}},\"shapedefaults\":{\"fillcolor\":\"black\",\"line\":{\"width\":0},\"opacity\":0.3},\"ternary\":{\"aaxis\":{\"gridcolor\":\"rgb(232,232,232)\",\"linecolor\":\"rgb(36,36,36)\",\"showgrid\":false,\"showline\":true,\"ticks\":\"outside\"},\"baxis\":{\"gridcolor\":\"rgb(232,232,232)\",\"linecolor\":\"rgb(36,36,36)\",\"showgrid\":false,\"showline\":true,\"ticks\":\"outside\"},\"bgcolor\":\"white\",\"caxis\":{\"gridcolor\":\"rgb(232,232,232)\",\"linecolor\":\"rgb(36,36,36)\",\"showgrid\":false,\"showline\":true,\"ticks\":\"outside\"}},\"title\":{\"x\":0.05},\"xaxis\":{\"automargin\":true,\"gridcolor\":\"rgb(232,232,232)\",\"linecolor\":\"rgb(36,36,36)\",\"showgrid\":false,\"showline\":true,\"ticks\":\"outside\",\"title\":{\"standoff\":15},\"zeroline\":false,\"zerolinecolor\":\"rgb(36,36,36)\"},\"yaxis\":{\"automargin\":true,\"gridcolor\":\"rgb(232,232,232)\",\"linecolor\":\"rgb(36,36,36)\",\"showgrid\":false,\"showline\":true,\"ticks\":\"outside\",\"title\":{\"standoff\":15},\"zeroline\":false,\"zerolinecolor\":\"rgb(36,36,36)\"}}},\"xaxis\":{\"anchor\":\"y\",\"domain\":[0.0,1.0],\"title\":{\"text\":\"\"},\"visible\":false,\"range\":[1.945063543319702,36.513629627227786]},\"yaxis\":{\"anchor\":\"x\",\"domain\":[0.0,1.0],\"title\":{\"text\":\"\"},\"visible\":false,\"range\":[-15.188991832733155,12.487174654006958]},\"legend\":{\"tracegroupgap\":0,\"itemsizing\":\"constant\"},\"margin\":{\"t\":60},\"title\":{\"font\":{\"size\":22,\"color\":\"Black\"},\"text\":\"<b>Intertopic Distance Map\",\"y\":0.95,\"x\":0.5,\"xanchor\":\"center\",\"yanchor\":\"top\"},\"hoverlabel\":{\"font\":{\"size\":16,\"family\":\"Rockwell\"},\"bgcolor\":\"white\"},\"width\":650,\"height\":650,\"sliders\":[{\"active\":0,\"pad\":{\"t\":50},\"steps\":[{\"args\":[{\"marker.color\":[[\"red\",\"#B0BEC5\",\"#B0BEC5\",\"#B0BEC5\"]]}],\"label\":\"Topic 1\",\"method\":\"update\"},{\"args\":[{\"marker.color\":[[\"#B0BEC5\",\"red\",\"#B0BEC5\",\"#B0BEC5\"]]}],\"label\":\"Topic 2\",\"method\":\"update\"},{\"args\":[{\"marker.color\":[[\"#B0BEC5\",\"#B0BEC5\",\"red\",\"#B0BEC5\"]]}],\"label\":\"Topic 3\",\"method\":\"update\"},{\"args\":[{\"marker.color\":[[\"#B0BEC5\",\"#B0BEC5\",\"#B0BEC5\",\"red\"]]}],\"label\":\"Topic 4\",\"method\":\"update\"}]}],\"shapes\":[{\"line\":{\"color\":\"#CFD8DC\",\"width\":2},\"type\":\"line\",\"x0\":19.229346585273746,\"x1\":19.229346585273746,\"y0\":-15.188991832733155,\"y1\":12.487174654006958},{\"line\":{\"color\":\"#9E9E9E\",\"width\":2},\"type\":\"line\",\"x0\":1.945063543319702,\"x1\":36.513629627227786,\"y0\":-1.3509085893630983,\"y1\":-1.3509085893630983}],\"annotations\":[{\"showarrow\":false,\"text\":\"D1\",\"x\":1.945063543319702,\"y\":-1.3509085893630983,\"yshift\":10},{\"showarrow\":false,\"text\":\"D2\",\"x\":19.229346585273746,\"xshift\":10,\"y\":12.487174654006958}]},                        {\"responsive\": true}                    ).then(function(){\n",
       "                            \n",
       "var gd = document.getElementById('a8446329-8ff5-4074-8e98-789fa0c81978');\n",
       "var x = new MutationObserver(function (mutations, observer) {{\n",
       "        var display = window.getComputedStyle(gd).display;\n",
       "        if (!display || display === 'none') {{\n",
       "            console.log([gd, 'removed!']);\n",
       "            Plotly.purge(gd);\n",
       "            observer.disconnect();\n",
       "        }}\n",
       "}});\n",
       "\n",
       "// Listen for the removal of the full notebook cells\n",
       "var notebookContainer = gd.closest('#notebook-container');\n",
       "if (notebookContainer) {{\n",
       "    x.observe(notebookContainer, {childList: true});\n",
       "}}\n",
       "\n",
       "// Listen for the clearing of the current output cell\n",
       "var outputEl = gd.closest('.output');\n",
       "if (outputEl) {{\n",
       "    x.observe(outputEl, {childList: true});\n",
       "}}\n",
       "\n",
       "                        })                };                });            </script>        </div>"
      ]
     },
     "metadata": {},
     "output_type": "display_data"
    }
   ],
   "source": [
    "model.visualize_topics()"
   ]
  },
  {
   "cell_type": "code",
   "execution_count": 178,
   "id": "58506d0a",
   "metadata": {
    "scrolled": true
   },
   "outputs": [],
   "source": [
    "#new_topics, new_probs=model.reduce_topics(docs, topics, probs, nr_topics=20)"
   ]
  },
  {
   "cell_type": "code",
   "execution_count": 179,
   "id": "f9922c01",
   "metadata": {
    "scrolled": true
   },
   "outputs": [
    {
     "data": {
      "text/html": [
       "<div>\n",
       "<style scoped>\n",
       "    .dataframe tbody tr th:only-of-type {\n",
       "        vertical-align: middle;\n",
       "    }\n",
       "\n",
       "    .dataframe tbody tr th {\n",
       "        vertical-align: top;\n",
       "    }\n",
       "\n",
       "    .dataframe thead th {\n",
       "        text-align: right;\n",
       "    }\n",
       "</style>\n",
       "<table border=\"1\" class=\"dataframe\">\n",
       "  <thead>\n",
       "    <tr style=\"text-align: right;\">\n",
       "      <th></th>\n",
       "      <th>Topic</th>\n",
       "      <th>Count</th>\n",
       "      <th>Name</th>\n",
       "    </tr>\n",
       "  </thead>\n",
       "  <tbody>\n",
       "    <tr>\n",
       "      <th>0</th>\n",
       "      <td>-1</td>\n",
       "      <td>9577</td>\n",
       "      <td>-1_com_enron_https_px</td>\n",
       "    </tr>\n",
       "    <tr>\n",
       "      <th>1</th>\n",
       "      <td>0</td>\n",
       "      <td>891</td>\n",
       "      <td>0_enron_com_dec_active</td>\n",
       "    </tr>\n",
       "    <tr>\n",
       "      <th>2</th>\n",
       "      <td>1</td>\n",
       "      <td>623</td>\n",
       "      <td>1_name_product_thank_like</td>\n",
       "    </tr>\n",
       "    <tr>\n",
       "      <th>3</th>\n",
       "      <td>2</td>\n",
       "      <td>574</td>\n",
       "      <td>2_get_going_know_good</td>\n",
       "    </tr>\n",
       "    <tr>\n",
       "      <th>4</th>\n",
       "      <td>3</td>\n",
       "      <td>358</td>\n",
       "      <td>3_thank_link_add_want</td>\n",
       "    </tr>\n",
       "    <tr>\n",
       "      <th>5</th>\n",
       "      <td>4</td>\n",
       "      <td>301</td>\n",
       "      <td>4_post_blog_article_title</td>\n",
       "    </tr>\n",
       "  </tbody>\n",
       "</table>\n",
       "</div>"
      ],
      "text/plain": [
       "   Topic  Count                       Name\n",
       "0     -1   9577      -1_com_enron_https_px\n",
       "1      0    891     0_enron_com_dec_active\n",
       "2      1    623  1_name_product_thank_like\n",
       "3      2    574      2_get_going_know_good\n",
       "4      3    358      3_thank_link_add_want\n",
       "5      4    301  4_post_blog_article_title"
      ]
     },
     "execution_count": 179,
     "metadata": {},
     "output_type": "execute_result"
    }
   ],
   "source": [
    "model.get_topic_info()"
   ]
  },
  {
   "cell_type": "code",
   "execution_count": 180,
   "id": "58d875ba",
   "metadata": {},
   "outputs": [
    {
     "data": {
      "text/plain": [
       "([4, 3, 1, 2, -1],\n",
       " [0.5425083645233539,\n",
       "  0.49145424033816126,\n",
       "  0.4893678695108175,\n",
       "  0.4373333424259208,\n",
       "  0.4285278698342939])"
      ]
     },
     "execution_count": 180,
     "metadata": {},
     "output_type": "execute_result"
    }
   ],
   "source": [
    "model.find_topics('subscribe')"
   ]
  },
  {
   "cell_type": "code",
   "execution_count": 181,
   "id": "21b901b1",
   "metadata": {},
   "outputs": [
    {
     "data": {
      "application/vnd.plotly.v1+json": {
       "config": {
        "plotlyServerURL": "https://plot.ly"
       },
       "data": [
        {
         "marker": {
          "color": "#D55E00"
         },
         "orientation": "h",
         "type": "bar",
         "x": [
          0.021744843735911974,
          0.025376796530204963,
          0.02702360264950114,
          0.2990225406785001,
          0.32097002186930607
         ],
         "xaxis": "x",
         "y": [
          "mark  ",
          "active  ",
          "dec  ",
          "com  ",
          "enron  "
         ],
         "yaxis": "y"
        },
        {
         "marker": {
          "color": "#0072B2"
         },
         "orientation": "h",
         "type": "bar",
         "x": [
          0.11126748074159562,
          0.1262893798269491,
          0.1302601890582933,
          0.16175121317911922,
          0.2024417323535372
         ],
         "xaxis": "x2",
         "y": [
          "add  ",
          "like  ",
          "thank  ",
          "product  ",
          "name  "
         ],
         "yaxis": "y2"
        },
        {
         "marker": {
          "color": "#CC79A7"
         },
         "orientation": "h",
         "type": "bar",
         "x": [
          0.02753895050066121,
          0.028274612612667598,
          0.03062194154962829,
          0.03148205241109947,
          0.03211706792627017
         ],
         "xaxis": "x3",
         "y": [
          "time  ",
          "good  ",
          "know  ",
          "going  ",
          "get  "
         ],
         "yaxis": "y3"
        },
        {
         "marker": {
          "color": "#E69F00"
         },
         "orientation": "h",
         "type": "bar",
         "x": [
          0.1445569564218746,
          0.15002344039795945,
          0.16238602447022665,
          0.17689025299160643,
          0.1864378690306222
         ],
         "xaxis": "x4",
         "y": [
          "topic  ",
          "want  ",
          "add  ",
          "link  ",
          "thank  "
         ],
         "yaxis": "y4"
        },
        {
         "marker": {
          "color": "#56B4E9"
         },
         "orientation": "h",
         "type": "bar",
         "x": [
          0.1928781081949071,
          0.19574964124230132,
          0.20112165157722325,
          0.21322222066390176,
          0.4274994317285931
         ],
         "xaxis": "x5",
         "y": [
          "useful  ",
          "title  ",
          "article  ",
          "blog  ",
          "post  "
         ],
         "yaxis": "y5"
        }
       ],
       "layout": {
        "annotations": [
         {
          "font": {
           "size": 16
          },
          "showarrow": false,
          "text": "Topic 0",
          "x": 0.0875,
          "xanchor": "center",
          "xref": "paper",
          "y": 1,
          "yanchor": "bottom",
          "yref": "paper"
         },
         {
          "font": {
           "size": 16
          },
          "showarrow": false,
          "text": "Topic 1",
          "x": 0.36250000000000004,
          "xanchor": "center",
          "xref": "paper",
          "y": 1,
          "yanchor": "bottom",
          "yref": "paper"
         },
         {
          "font": {
           "size": 16
          },
          "showarrow": false,
          "text": "Topic 2",
          "x": 0.6375000000000001,
          "xanchor": "center",
          "xref": "paper",
          "y": 1,
          "yanchor": "bottom",
          "yref": "paper"
         },
         {
          "font": {
           "size": 16
          },
          "showarrow": false,
          "text": "Topic 3",
          "x": 0.9125,
          "xanchor": "center",
          "xref": "paper",
          "y": 1,
          "yanchor": "bottom",
          "yref": "paper"
         },
         {
          "font": {
           "size": 16
          },
          "showarrow": false,
          "text": "Topic 4",
          "x": 0.0875,
          "xanchor": "center",
          "xref": "paper",
          "y": 0.4,
          "yanchor": "bottom",
          "yref": "paper"
         }
        ],
        "height": 500,
        "hoverlabel": {
         "bgcolor": "white",
         "font": {
          "family": "Rockwell",
          "size": 16
         }
        },
        "showlegend": false,
        "template": {
         "data": {
          "bar": [
           {
            "error_x": {
             "color": "#2a3f5f"
            },
            "error_y": {
             "color": "#2a3f5f"
            },
            "marker": {
             "line": {
              "color": "white",
              "width": 0.5
             },
             "pattern": {
              "fillmode": "overlay",
              "size": 10,
              "solidity": 0.2
             }
            },
            "type": "bar"
           }
          ],
          "barpolar": [
           {
            "marker": {
             "line": {
              "color": "white",
              "width": 0.5
             },
             "pattern": {
              "fillmode": "overlay",
              "size": 10,
              "solidity": 0.2
             }
            },
            "type": "barpolar"
           }
          ],
          "carpet": [
           {
            "aaxis": {
             "endlinecolor": "#2a3f5f",
             "gridcolor": "#C8D4E3",
             "linecolor": "#C8D4E3",
             "minorgridcolor": "#C8D4E3",
             "startlinecolor": "#2a3f5f"
            },
            "baxis": {
             "endlinecolor": "#2a3f5f",
             "gridcolor": "#C8D4E3",
             "linecolor": "#C8D4E3",
             "minorgridcolor": "#C8D4E3",
             "startlinecolor": "#2a3f5f"
            },
            "type": "carpet"
           }
          ],
          "choropleth": [
           {
            "colorbar": {
             "outlinewidth": 0,
             "ticks": ""
            },
            "type": "choropleth"
           }
          ],
          "contour": [
           {
            "colorbar": {
             "outlinewidth": 0,
             "ticks": ""
            },
            "colorscale": [
             [
              0,
              "#0d0887"
             ],
             [
              0.1111111111111111,
              "#46039f"
             ],
             [
              0.2222222222222222,
              "#7201a8"
             ],
             [
              0.3333333333333333,
              "#9c179e"
             ],
             [
              0.4444444444444444,
              "#bd3786"
             ],
             [
              0.5555555555555556,
              "#d8576b"
             ],
             [
              0.6666666666666666,
              "#ed7953"
             ],
             [
              0.7777777777777778,
              "#fb9f3a"
             ],
             [
              0.8888888888888888,
              "#fdca26"
             ],
             [
              1,
              "#f0f921"
             ]
            ],
            "type": "contour"
           }
          ],
          "contourcarpet": [
           {
            "colorbar": {
             "outlinewidth": 0,
             "ticks": ""
            },
            "type": "contourcarpet"
           }
          ],
          "heatmap": [
           {
            "colorbar": {
             "outlinewidth": 0,
             "ticks": ""
            },
            "colorscale": [
             [
              0,
              "#0d0887"
             ],
             [
              0.1111111111111111,
              "#46039f"
             ],
             [
              0.2222222222222222,
              "#7201a8"
             ],
             [
              0.3333333333333333,
              "#9c179e"
             ],
             [
              0.4444444444444444,
              "#bd3786"
             ],
             [
              0.5555555555555556,
              "#d8576b"
             ],
             [
              0.6666666666666666,
              "#ed7953"
             ],
             [
              0.7777777777777778,
              "#fb9f3a"
             ],
             [
              0.8888888888888888,
              "#fdca26"
             ],
             [
              1,
              "#f0f921"
             ]
            ],
            "type": "heatmap"
           }
          ],
          "heatmapgl": [
           {
            "colorbar": {
             "outlinewidth": 0,
             "ticks": ""
            },
            "colorscale": [
             [
              0,
              "#0d0887"
             ],
             [
              0.1111111111111111,
              "#46039f"
             ],
             [
              0.2222222222222222,
              "#7201a8"
             ],
             [
              0.3333333333333333,
              "#9c179e"
             ],
             [
              0.4444444444444444,
              "#bd3786"
             ],
             [
              0.5555555555555556,
              "#d8576b"
             ],
             [
              0.6666666666666666,
              "#ed7953"
             ],
             [
              0.7777777777777778,
              "#fb9f3a"
             ],
             [
              0.8888888888888888,
              "#fdca26"
             ],
             [
              1,
              "#f0f921"
             ]
            ],
            "type": "heatmapgl"
           }
          ],
          "histogram": [
           {
            "marker": {
             "pattern": {
              "fillmode": "overlay",
              "size": 10,
              "solidity": 0.2
             }
            },
            "type": "histogram"
           }
          ],
          "histogram2d": [
           {
            "colorbar": {
             "outlinewidth": 0,
             "ticks": ""
            },
            "colorscale": [
             [
              0,
              "#0d0887"
             ],
             [
              0.1111111111111111,
              "#46039f"
             ],
             [
              0.2222222222222222,
              "#7201a8"
             ],
             [
              0.3333333333333333,
              "#9c179e"
             ],
             [
              0.4444444444444444,
              "#bd3786"
             ],
             [
              0.5555555555555556,
              "#d8576b"
             ],
             [
              0.6666666666666666,
              "#ed7953"
             ],
             [
              0.7777777777777778,
              "#fb9f3a"
             ],
             [
              0.8888888888888888,
              "#fdca26"
             ],
             [
              1,
              "#f0f921"
             ]
            ],
            "type": "histogram2d"
           }
          ],
          "histogram2dcontour": [
           {
            "colorbar": {
             "outlinewidth": 0,
             "ticks": ""
            },
            "colorscale": [
             [
              0,
              "#0d0887"
             ],
             [
              0.1111111111111111,
              "#46039f"
             ],
             [
              0.2222222222222222,
              "#7201a8"
             ],
             [
              0.3333333333333333,
              "#9c179e"
             ],
             [
              0.4444444444444444,
              "#bd3786"
             ],
             [
              0.5555555555555556,
              "#d8576b"
             ],
             [
              0.6666666666666666,
              "#ed7953"
             ],
             [
              0.7777777777777778,
              "#fb9f3a"
             ],
             [
              0.8888888888888888,
              "#fdca26"
             ],
             [
              1,
              "#f0f921"
             ]
            ],
            "type": "histogram2dcontour"
           }
          ],
          "mesh3d": [
           {
            "colorbar": {
             "outlinewidth": 0,
             "ticks": ""
            },
            "type": "mesh3d"
           }
          ],
          "parcoords": [
           {
            "line": {
             "colorbar": {
              "outlinewidth": 0,
              "ticks": ""
             }
            },
            "type": "parcoords"
           }
          ],
          "pie": [
           {
            "automargin": true,
            "type": "pie"
           }
          ],
          "scatter": [
           {
            "marker": {
             "colorbar": {
              "outlinewidth": 0,
              "ticks": ""
             }
            },
            "type": "scatter"
           }
          ],
          "scatter3d": [
           {
            "line": {
             "colorbar": {
              "outlinewidth": 0,
              "ticks": ""
             }
            },
            "marker": {
             "colorbar": {
              "outlinewidth": 0,
              "ticks": ""
             }
            },
            "type": "scatter3d"
           }
          ],
          "scattercarpet": [
           {
            "marker": {
             "colorbar": {
              "outlinewidth": 0,
              "ticks": ""
             }
            },
            "type": "scattercarpet"
           }
          ],
          "scattergeo": [
           {
            "marker": {
             "colorbar": {
              "outlinewidth": 0,
              "ticks": ""
             }
            },
            "type": "scattergeo"
           }
          ],
          "scattergl": [
           {
            "marker": {
             "colorbar": {
              "outlinewidth": 0,
              "ticks": ""
             }
            },
            "type": "scattergl"
           }
          ],
          "scattermapbox": [
           {
            "marker": {
             "colorbar": {
              "outlinewidth": 0,
              "ticks": ""
             }
            },
            "type": "scattermapbox"
           }
          ],
          "scatterpolar": [
           {
            "marker": {
             "colorbar": {
              "outlinewidth": 0,
              "ticks": ""
             }
            },
            "type": "scatterpolar"
           }
          ],
          "scatterpolargl": [
           {
            "marker": {
             "colorbar": {
              "outlinewidth": 0,
              "ticks": ""
             }
            },
            "type": "scatterpolargl"
           }
          ],
          "scatterternary": [
           {
            "marker": {
             "colorbar": {
              "outlinewidth": 0,
              "ticks": ""
             }
            },
            "type": "scatterternary"
           }
          ],
          "surface": [
           {
            "colorbar": {
             "outlinewidth": 0,
             "ticks": ""
            },
            "colorscale": [
             [
              0,
              "#0d0887"
             ],
             [
              0.1111111111111111,
              "#46039f"
             ],
             [
              0.2222222222222222,
              "#7201a8"
             ],
             [
              0.3333333333333333,
              "#9c179e"
             ],
             [
              0.4444444444444444,
              "#bd3786"
             ],
             [
              0.5555555555555556,
              "#d8576b"
             ],
             [
              0.6666666666666666,
              "#ed7953"
             ],
             [
              0.7777777777777778,
              "#fb9f3a"
             ],
             [
              0.8888888888888888,
              "#fdca26"
             ],
             [
              1,
              "#f0f921"
             ]
            ],
            "type": "surface"
           }
          ],
          "table": [
           {
            "cells": {
             "fill": {
              "color": "#EBF0F8"
             },
             "line": {
              "color": "white"
             }
            },
            "header": {
             "fill": {
              "color": "#C8D4E3"
             },
             "line": {
              "color": "white"
             }
            },
            "type": "table"
           }
          ]
         },
         "layout": {
          "annotationdefaults": {
           "arrowcolor": "#2a3f5f",
           "arrowhead": 0,
           "arrowwidth": 1
          },
          "autotypenumbers": "strict",
          "coloraxis": {
           "colorbar": {
            "outlinewidth": 0,
            "ticks": ""
           }
          },
          "colorscale": {
           "diverging": [
            [
             0,
             "#8e0152"
            ],
            [
             0.1,
             "#c51b7d"
            ],
            [
             0.2,
             "#de77ae"
            ],
            [
             0.3,
             "#f1b6da"
            ],
            [
             0.4,
             "#fde0ef"
            ],
            [
             0.5,
             "#f7f7f7"
            ],
            [
             0.6,
             "#e6f5d0"
            ],
            [
             0.7,
             "#b8e186"
            ],
            [
             0.8,
             "#7fbc41"
            ],
            [
             0.9,
             "#4d9221"
            ],
            [
             1,
             "#276419"
            ]
           ],
           "sequential": [
            [
             0,
             "#0d0887"
            ],
            [
             0.1111111111111111,
             "#46039f"
            ],
            [
             0.2222222222222222,
             "#7201a8"
            ],
            [
             0.3333333333333333,
             "#9c179e"
            ],
            [
             0.4444444444444444,
             "#bd3786"
            ],
            [
             0.5555555555555556,
             "#d8576b"
            ],
            [
             0.6666666666666666,
             "#ed7953"
            ],
            [
             0.7777777777777778,
             "#fb9f3a"
            ],
            [
             0.8888888888888888,
             "#fdca26"
            ],
            [
             1,
             "#f0f921"
            ]
           ],
           "sequentialminus": [
            [
             0,
             "#0d0887"
            ],
            [
             0.1111111111111111,
             "#46039f"
            ],
            [
             0.2222222222222222,
             "#7201a8"
            ],
            [
             0.3333333333333333,
             "#9c179e"
            ],
            [
             0.4444444444444444,
             "#bd3786"
            ],
            [
             0.5555555555555556,
             "#d8576b"
            ],
            [
             0.6666666666666666,
             "#ed7953"
            ],
            [
             0.7777777777777778,
             "#fb9f3a"
            ],
            [
             0.8888888888888888,
             "#fdca26"
            ],
            [
             1,
             "#f0f921"
            ]
           ]
          },
          "colorway": [
           "#636efa",
           "#EF553B",
           "#00cc96",
           "#ab63fa",
           "#FFA15A",
           "#19d3f3",
           "#FF6692",
           "#B6E880",
           "#FF97FF",
           "#FECB52"
          ],
          "font": {
           "color": "#2a3f5f"
          },
          "geo": {
           "bgcolor": "white",
           "lakecolor": "white",
           "landcolor": "white",
           "showlakes": true,
           "showland": true,
           "subunitcolor": "#C8D4E3"
          },
          "hoverlabel": {
           "align": "left"
          },
          "hovermode": "closest",
          "mapbox": {
           "style": "light"
          },
          "paper_bgcolor": "white",
          "plot_bgcolor": "white",
          "polar": {
           "angularaxis": {
            "gridcolor": "#EBF0F8",
            "linecolor": "#EBF0F8",
            "ticks": ""
           },
           "bgcolor": "white",
           "radialaxis": {
            "gridcolor": "#EBF0F8",
            "linecolor": "#EBF0F8",
            "ticks": ""
           }
          },
          "scene": {
           "xaxis": {
            "backgroundcolor": "white",
            "gridcolor": "#DFE8F3",
            "gridwidth": 2,
            "linecolor": "#EBF0F8",
            "showbackground": true,
            "ticks": "",
            "zerolinecolor": "#EBF0F8"
           },
           "yaxis": {
            "backgroundcolor": "white",
            "gridcolor": "#DFE8F3",
            "gridwidth": 2,
            "linecolor": "#EBF0F8",
            "showbackground": true,
            "ticks": "",
            "zerolinecolor": "#EBF0F8"
           },
           "zaxis": {
            "backgroundcolor": "white",
            "gridcolor": "#DFE8F3",
            "gridwidth": 2,
            "linecolor": "#EBF0F8",
            "showbackground": true,
            "ticks": "",
            "zerolinecolor": "#EBF0F8"
           }
          },
          "shapedefaults": {
           "line": {
            "color": "#2a3f5f"
           }
          },
          "ternary": {
           "aaxis": {
            "gridcolor": "#DFE8F3",
            "linecolor": "#A2B1C6",
            "ticks": ""
           },
           "baxis": {
            "gridcolor": "#DFE8F3",
            "linecolor": "#A2B1C6",
            "ticks": ""
           },
           "bgcolor": "white",
           "caxis": {
            "gridcolor": "#DFE8F3",
            "linecolor": "#A2B1C6",
            "ticks": ""
           }
          },
          "title": {
           "x": 0.05
          },
          "xaxis": {
           "automargin": true,
           "gridcolor": "#EBF0F8",
           "linecolor": "#EBF0F8",
           "ticks": "",
           "title": {
            "standoff": 15
           },
           "zerolinecolor": "#EBF0F8",
           "zerolinewidth": 2
          },
          "yaxis": {
           "automargin": true,
           "gridcolor": "#EBF0F8",
           "linecolor": "#EBF0F8",
           "ticks": "",
           "title": {
            "standoff": 15
           },
           "zerolinecolor": "#EBF0F8",
           "zerolinewidth": 2
          }
         }
        },
        "title": {
         "font": {
          "color": "Black",
          "size": 22
         },
         "text": "<b>Topic Word Scores",
         "x": 0.5,
         "xanchor": "center",
         "yanchor": "top"
        },
        "width": 1000,
        "xaxis": {
         "anchor": "y",
         "domain": [
          0,
          0.175
         ],
         "showgrid": true
        },
        "xaxis2": {
         "anchor": "y2",
         "domain": [
          0.275,
          0.45
         ],
         "showgrid": true
        },
        "xaxis3": {
         "anchor": "y3",
         "domain": [
          0.55,
          0.7250000000000001
         ],
         "showgrid": true
        },
        "xaxis4": {
         "anchor": "y4",
         "domain": [
          0.825,
          1
         ],
         "showgrid": true
        },
        "xaxis5": {
         "anchor": "y5",
         "domain": [
          0,
          0.175
         ],
         "showgrid": true
        },
        "xaxis6": {
         "anchor": "y6",
         "domain": [
          0.275,
          0.45
         ],
         "showgrid": true
        },
        "xaxis7": {
         "anchor": "y7",
         "domain": [
          0.55,
          0.7250000000000001
         ],
         "showgrid": true
        },
        "xaxis8": {
         "anchor": "y8",
         "domain": [
          0.825,
          1
         ],
         "showgrid": true
        },
        "yaxis": {
         "anchor": "x",
         "domain": [
          0.6000000000000001,
          1
         ],
         "showgrid": true
        },
        "yaxis2": {
         "anchor": "x2",
         "domain": [
          0.6000000000000001,
          1
         ],
         "showgrid": true
        },
        "yaxis3": {
         "anchor": "x3",
         "domain": [
          0.6000000000000001,
          1
         ],
         "showgrid": true
        },
        "yaxis4": {
         "anchor": "x4",
         "domain": [
          0.6000000000000001,
          1
         ],
         "showgrid": true
        },
        "yaxis5": {
         "anchor": "x5",
         "domain": [
          0,
          0.4
         ],
         "showgrid": true
        },
        "yaxis6": {
         "anchor": "x6",
         "domain": [
          0,
          0.4
         ],
         "showgrid": true
        },
        "yaxis7": {
         "anchor": "x7",
         "domain": [
          0,
          0.4
         ],
         "showgrid": true
        },
        "yaxis8": {
         "anchor": "x8",
         "domain": [
          0,
          0.4
         ],
         "showgrid": true
        }
       }
      },
      "text/html": [
       "<div>                            <div id=\"ce44c03b-5770-431b-95f0-fae428bbc226\" class=\"plotly-graph-div\" style=\"height:500px; width:1000px;\"></div>            <script type=\"text/javascript\">                require([\"plotly\"], function(Plotly) {                    window.PLOTLYENV=window.PLOTLYENV || {};                                    if (document.getElementById(\"ce44c03b-5770-431b-95f0-fae428bbc226\")) {                    Plotly.newPlot(                        \"ce44c03b-5770-431b-95f0-fae428bbc226\",                        [{\"marker\":{\"color\":\"#D55E00\"},\"orientation\":\"h\",\"x\":[0.021744843735911974,0.025376796530204963,0.02702360264950114,0.2990225406785001,0.32097002186930607],\"y\":[\"mark  \",\"active  \",\"dec  \",\"com  \",\"enron  \"],\"type\":\"bar\",\"xaxis\":\"x\",\"yaxis\":\"y\"},{\"marker\":{\"color\":\"#0072B2\"},\"orientation\":\"h\",\"x\":[0.11126748074159562,0.1262893798269491,0.1302601890582933,0.16175121317911922,0.2024417323535372],\"y\":[\"add  \",\"like  \",\"thank  \",\"product  \",\"name  \"],\"type\":\"bar\",\"xaxis\":\"x2\",\"yaxis\":\"y2\"},{\"marker\":{\"color\":\"#CC79A7\"},\"orientation\":\"h\",\"x\":[0.02753895050066121,0.028274612612667598,0.03062194154962829,0.03148205241109947,0.03211706792627017],\"y\":[\"time  \",\"good  \",\"know  \",\"going  \",\"get  \"],\"type\":\"bar\",\"xaxis\":\"x3\",\"yaxis\":\"y3\"},{\"marker\":{\"color\":\"#E69F00\"},\"orientation\":\"h\",\"x\":[0.1445569564218746,0.15002344039795945,0.16238602447022665,0.17689025299160643,0.1864378690306222],\"y\":[\"topic  \",\"want  \",\"add  \",\"link  \",\"thank  \"],\"type\":\"bar\",\"xaxis\":\"x4\",\"yaxis\":\"y4\"},{\"marker\":{\"color\":\"#56B4E9\"},\"orientation\":\"h\",\"x\":[0.1928781081949071,0.19574964124230132,0.20112165157722325,0.21322222066390176,0.4274994317285931],\"y\":[\"useful  \",\"title  \",\"article  \",\"blog  \",\"post  \"],\"type\":\"bar\",\"xaxis\":\"x5\",\"yaxis\":\"y5\"}],                        {\"template\":{\"data\":{\"barpolar\":[{\"marker\":{\"line\":{\"color\":\"white\",\"width\":0.5},\"pattern\":{\"fillmode\":\"overlay\",\"size\":10,\"solidity\":0.2}},\"type\":\"barpolar\"}],\"bar\":[{\"error_x\":{\"color\":\"#2a3f5f\"},\"error_y\":{\"color\":\"#2a3f5f\"},\"marker\":{\"line\":{\"color\":\"white\",\"width\":0.5},\"pattern\":{\"fillmode\":\"overlay\",\"size\":10,\"solidity\":0.2}},\"type\":\"bar\"}],\"carpet\":[{\"aaxis\":{\"endlinecolor\":\"#2a3f5f\",\"gridcolor\":\"#C8D4E3\",\"linecolor\":\"#C8D4E3\",\"minorgridcolor\":\"#C8D4E3\",\"startlinecolor\":\"#2a3f5f\"},\"baxis\":{\"endlinecolor\":\"#2a3f5f\",\"gridcolor\":\"#C8D4E3\",\"linecolor\":\"#C8D4E3\",\"minorgridcolor\":\"#C8D4E3\",\"startlinecolor\":\"#2a3f5f\"},\"type\":\"carpet\"}],\"choropleth\":[{\"colorbar\":{\"outlinewidth\":0,\"ticks\":\"\"},\"type\":\"choropleth\"}],\"contourcarpet\":[{\"colorbar\":{\"outlinewidth\":0,\"ticks\":\"\"},\"type\":\"contourcarpet\"}],\"contour\":[{\"colorbar\":{\"outlinewidth\":0,\"ticks\":\"\"},\"colorscale\":[[0.0,\"#0d0887\"],[0.1111111111111111,\"#46039f\"],[0.2222222222222222,\"#7201a8\"],[0.3333333333333333,\"#9c179e\"],[0.4444444444444444,\"#bd3786\"],[0.5555555555555556,\"#d8576b\"],[0.6666666666666666,\"#ed7953\"],[0.7777777777777778,\"#fb9f3a\"],[0.8888888888888888,\"#fdca26\"],[1.0,\"#f0f921\"]],\"type\":\"contour\"}],\"heatmapgl\":[{\"colorbar\":{\"outlinewidth\":0,\"ticks\":\"\"},\"colorscale\":[[0.0,\"#0d0887\"],[0.1111111111111111,\"#46039f\"],[0.2222222222222222,\"#7201a8\"],[0.3333333333333333,\"#9c179e\"],[0.4444444444444444,\"#bd3786\"],[0.5555555555555556,\"#d8576b\"],[0.6666666666666666,\"#ed7953\"],[0.7777777777777778,\"#fb9f3a\"],[0.8888888888888888,\"#fdca26\"],[1.0,\"#f0f921\"]],\"type\":\"heatmapgl\"}],\"heatmap\":[{\"colorbar\":{\"outlinewidth\":0,\"ticks\":\"\"},\"colorscale\":[[0.0,\"#0d0887\"],[0.1111111111111111,\"#46039f\"],[0.2222222222222222,\"#7201a8\"],[0.3333333333333333,\"#9c179e\"],[0.4444444444444444,\"#bd3786\"],[0.5555555555555556,\"#d8576b\"],[0.6666666666666666,\"#ed7953\"],[0.7777777777777778,\"#fb9f3a\"],[0.8888888888888888,\"#fdca26\"],[1.0,\"#f0f921\"]],\"type\":\"heatmap\"}],\"histogram2dcontour\":[{\"colorbar\":{\"outlinewidth\":0,\"ticks\":\"\"},\"colorscale\":[[0.0,\"#0d0887\"],[0.1111111111111111,\"#46039f\"],[0.2222222222222222,\"#7201a8\"],[0.3333333333333333,\"#9c179e\"],[0.4444444444444444,\"#bd3786\"],[0.5555555555555556,\"#d8576b\"],[0.6666666666666666,\"#ed7953\"],[0.7777777777777778,\"#fb9f3a\"],[0.8888888888888888,\"#fdca26\"],[1.0,\"#f0f921\"]],\"type\":\"histogram2dcontour\"}],\"histogram2d\":[{\"colorbar\":{\"outlinewidth\":0,\"ticks\":\"\"},\"colorscale\":[[0.0,\"#0d0887\"],[0.1111111111111111,\"#46039f\"],[0.2222222222222222,\"#7201a8\"],[0.3333333333333333,\"#9c179e\"],[0.4444444444444444,\"#bd3786\"],[0.5555555555555556,\"#d8576b\"],[0.6666666666666666,\"#ed7953\"],[0.7777777777777778,\"#fb9f3a\"],[0.8888888888888888,\"#fdca26\"],[1.0,\"#f0f921\"]],\"type\":\"histogram2d\"}],\"histogram\":[{\"marker\":{\"pattern\":{\"fillmode\":\"overlay\",\"size\":10,\"solidity\":0.2}},\"type\":\"histogram\"}],\"mesh3d\":[{\"colorbar\":{\"outlinewidth\":0,\"ticks\":\"\"},\"type\":\"mesh3d\"}],\"parcoords\":[{\"line\":{\"colorbar\":{\"outlinewidth\":0,\"ticks\":\"\"}},\"type\":\"parcoords\"}],\"pie\":[{\"automargin\":true,\"type\":\"pie\"}],\"scatter3d\":[{\"line\":{\"colorbar\":{\"outlinewidth\":0,\"ticks\":\"\"}},\"marker\":{\"colorbar\":{\"outlinewidth\":0,\"ticks\":\"\"}},\"type\":\"scatter3d\"}],\"scattercarpet\":[{\"marker\":{\"colorbar\":{\"outlinewidth\":0,\"ticks\":\"\"}},\"type\":\"scattercarpet\"}],\"scattergeo\":[{\"marker\":{\"colorbar\":{\"outlinewidth\":0,\"ticks\":\"\"}},\"type\":\"scattergeo\"}],\"scattergl\":[{\"marker\":{\"colorbar\":{\"outlinewidth\":0,\"ticks\":\"\"}},\"type\":\"scattergl\"}],\"scattermapbox\":[{\"marker\":{\"colorbar\":{\"outlinewidth\":0,\"ticks\":\"\"}},\"type\":\"scattermapbox\"}],\"scatterpolargl\":[{\"marker\":{\"colorbar\":{\"outlinewidth\":0,\"ticks\":\"\"}},\"type\":\"scatterpolargl\"}],\"scatterpolar\":[{\"marker\":{\"colorbar\":{\"outlinewidth\":0,\"ticks\":\"\"}},\"type\":\"scatterpolar\"}],\"scatter\":[{\"marker\":{\"colorbar\":{\"outlinewidth\":0,\"ticks\":\"\"}},\"type\":\"scatter\"}],\"scatterternary\":[{\"marker\":{\"colorbar\":{\"outlinewidth\":0,\"ticks\":\"\"}},\"type\":\"scatterternary\"}],\"surface\":[{\"colorbar\":{\"outlinewidth\":0,\"ticks\":\"\"},\"colorscale\":[[0.0,\"#0d0887\"],[0.1111111111111111,\"#46039f\"],[0.2222222222222222,\"#7201a8\"],[0.3333333333333333,\"#9c179e\"],[0.4444444444444444,\"#bd3786\"],[0.5555555555555556,\"#d8576b\"],[0.6666666666666666,\"#ed7953\"],[0.7777777777777778,\"#fb9f3a\"],[0.8888888888888888,\"#fdca26\"],[1.0,\"#f0f921\"]],\"type\":\"surface\"}],\"table\":[{\"cells\":{\"fill\":{\"color\":\"#EBF0F8\"},\"line\":{\"color\":\"white\"}},\"header\":{\"fill\":{\"color\":\"#C8D4E3\"},\"line\":{\"color\":\"white\"}},\"type\":\"table\"}]},\"layout\":{\"annotationdefaults\":{\"arrowcolor\":\"#2a3f5f\",\"arrowhead\":0,\"arrowwidth\":1},\"autotypenumbers\":\"strict\",\"coloraxis\":{\"colorbar\":{\"outlinewidth\":0,\"ticks\":\"\"}},\"colorscale\":{\"diverging\":[[0,\"#8e0152\"],[0.1,\"#c51b7d\"],[0.2,\"#de77ae\"],[0.3,\"#f1b6da\"],[0.4,\"#fde0ef\"],[0.5,\"#f7f7f7\"],[0.6,\"#e6f5d0\"],[0.7,\"#b8e186\"],[0.8,\"#7fbc41\"],[0.9,\"#4d9221\"],[1,\"#276419\"]],\"sequential\":[[0.0,\"#0d0887\"],[0.1111111111111111,\"#46039f\"],[0.2222222222222222,\"#7201a8\"],[0.3333333333333333,\"#9c179e\"],[0.4444444444444444,\"#bd3786\"],[0.5555555555555556,\"#d8576b\"],[0.6666666666666666,\"#ed7953\"],[0.7777777777777778,\"#fb9f3a\"],[0.8888888888888888,\"#fdca26\"],[1.0,\"#f0f921\"]],\"sequentialminus\":[[0.0,\"#0d0887\"],[0.1111111111111111,\"#46039f\"],[0.2222222222222222,\"#7201a8\"],[0.3333333333333333,\"#9c179e\"],[0.4444444444444444,\"#bd3786\"],[0.5555555555555556,\"#d8576b\"],[0.6666666666666666,\"#ed7953\"],[0.7777777777777778,\"#fb9f3a\"],[0.8888888888888888,\"#fdca26\"],[1.0,\"#f0f921\"]]},\"colorway\":[\"#636efa\",\"#EF553B\",\"#00cc96\",\"#ab63fa\",\"#FFA15A\",\"#19d3f3\",\"#FF6692\",\"#B6E880\",\"#FF97FF\",\"#FECB52\"],\"font\":{\"color\":\"#2a3f5f\"},\"geo\":{\"bgcolor\":\"white\",\"lakecolor\":\"white\",\"landcolor\":\"white\",\"showlakes\":true,\"showland\":true,\"subunitcolor\":\"#C8D4E3\"},\"hoverlabel\":{\"align\":\"left\"},\"hovermode\":\"closest\",\"mapbox\":{\"style\":\"light\"},\"paper_bgcolor\":\"white\",\"plot_bgcolor\":\"white\",\"polar\":{\"angularaxis\":{\"gridcolor\":\"#EBF0F8\",\"linecolor\":\"#EBF0F8\",\"ticks\":\"\"},\"bgcolor\":\"white\",\"radialaxis\":{\"gridcolor\":\"#EBF0F8\",\"linecolor\":\"#EBF0F8\",\"ticks\":\"\"}},\"scene\":{\"xaxis\":{\"backgroundcolor\":\"white\",\"gridcolor\":\"#DFE8F3\",\"gridwidth\":2,\"linecolor\":\"#EBF0F8\",\"showbackground\":true,\"ticks\":\"\",\"zerolinecolor\":\"#EBF0F8\"},\"yaxis\":{\"backgroundcolor\":\"white\",\"gridcolor\":\"#DFE8F3\",\"gridwidth\":2,\"linecolor\":\"#EBF0F8\",\"showbackground\":true,\"ticks\":\"\",\"zerolinecolor\":\"#EBF0F8\"},\"zaxis\":{\"backgroundcolor\":\"white\",\"gridcolor\":\"#DFE8F3\",\"gridwidth\":2,\"linecolor\":\"#EBF0F8\",\"showbackground\":true,\"ticks\":\"\",\"zerolinecolor\":\"#EBF0F8\"}},\"shapedefaults\":{\"line\":{\"color\":\"#2a3f5f\"}},\"ternary\":{\"aaxis\":{\"gridcolor\":\"#DFE8F3\",\"linecolor\":\"#A2B1C6\",\"ticks\":\"\"},\"baxis\":{\"gridcolor\":\"#DFE8F3\",\"linecolor\":\"#A2B1C6\",\"ticks\":\"\"},\"bgcolor\":\"white\",\"caxis\":{\"gridcolor\":\"#DFE8F3\",\"linecolor\":\"#A2B1C6\",\"ticks\":\"\"}},\"title\":{\"x\":0.05},\"xaxis\":{\"automargin\":true,\"gridcolor\":\"#EBF0F8\",\"linecolor\":\"#EBF0F8\",\"ticks\":\"\",\"title\":{\"standoff\":15},\"zerolinecolor\":\"#EBF0F8\",\"zerolinewidth\":2},\"yaxis\":{\"automargin\":true,\"gridcolor\":\"#EBF0F8\",\"linecolor\":\"#EBF0F8\",\"ticks\":\"\",\"title\":{\"standoff\":15},\"zerolinecolor\":\"#EBF0F8\",\"zerolinewidth\":2}}},\"xaxis\":{\"anchor\":\"y\",\"domain\":[0.0,0.175],\"showgrid\":true},\"yaxis\":{\"anchor\":\"x\",\"domain\":[0.6000000000000001,1.0],\"showgrid\":true},\"xaxis2\":{\"anchor\":\"y2\",\"domain\":[0.275,0.45],\"showgrid\":true},\"yaxis2\":{\"anchor\":\"x2\",\"domain\":[0.6000000000000001,1.0],\"showgrid\":true},\"xaxis3\":{\"anchor\":\"y3\",\"domain\":[0.55,0.7250000000000001],\"showgrid\":true},\"yaxis3\":{\"anchor\":\"x3\",\"domain\":[0.6000000000000001,1.0],\"showgrid\":true},\"xaxis4\":{\"anchor\":\"y4\",\"domain\":[0.825,1.0],\"showgrid\":true},\"yaxis4\":{\"anchor\":\"x4\",\"domain\":[0.6000000000000001,1.0],\"showgrid\":true},\"xaxis5\":{\"anchor\":\"y5\",\"domain\":[0.0,0.175],\"showgrid\":true},\"yaxis5\":{\"anchor\":\"x5\",\"domain\":[0.0,0.4],\"showgrid\":true},\"xaxis6\":{\"anchor\":\"y6\",\"domain\":[0.275,0.45],\"showgrid\":true},\"yaxis6\":{\"anchor\":\"x6\",\"domain\":[0.0,0.4],\"showgrid\":true},\"xaxis7\":{\"anchor\":\"y7\",\"domain\":[0.55,0.7250000000000001],\"showgrid\":true},\"yaxis7\":{\"anchor\":\"x7\",\"domain\":[0.0,0.4],\"showgrid\":true},\"xaxis8\":{\"anchor\":\"y8\",\"domain\":[0.825,1.0],\"showgrid\":true},\"yaxis8\":{\"anchor\":\"x8\",\"domain\":[0.0,0.4],\"showgrid\":true},\"annotations\":[{\"font\":{\"size\":16},\"showarrow\":false,\"text\":\"Topic 0\",\"x\":0.0875,\"xanchor\":\"center\",\"xref\":\"paper\",\"y\":1.0,\"yanchor\":\"bottom\",\"yref\":\"paper\"},{\"font\":{\"size\":16},\"showarrow\":false,\"text\":\"Topic 1\",\"x\":0.36250000000000004,\"xanchor\":\"center\",\"xref\":\"paper\",\"y\":1.0,\"yanchor\":\"bottom\",\"yref\":\"paper\"},{\"font\":{\"size\":16},\"showarrow\":false,\"text\":\"Topic 2\",\"x\":0.6375000000000001,\"xanchor\":\"center\",\"xref\":\"paper\",\"y\":1.0,\"yanchor\":\"bottom\",\"yref\":\"paper\"},{\"font\":{\"size\":16},\"showarrow\":false,\"text\":\"Topic 3\",\"x\":0.9125,\"xanchor\":\"center\",\"xref\":\"paper\",\"y\":1.0,\"yanchor\":\"bottom\",\"yref\":\"paper\"},{\"font\":{\"size\":16},\"showarrow\":false,\"text\":\"Topic 4\",\"x\":0.0875,\"xanchor\":\"center\",\"xref\":\"paper\",\"y\":0.4,\"yanchor\":\"bottom\",\"yref\":\"paper\"}],\"title\":{\"font\":{\"size\":22,\"color\":\"Black\"},\"text\":\"<b>Topic Word Scores\",\"x\":0.5,\"xanchor\":\"center\",\"yanchor\":\"top\"},\"hoverlabel\":{\"font\":{\"size\":16,\"family\":\"Rockwell\"},\"bgcolor\":\"white\"},\"showlegend\":false,\"width\":1000,\"height\":500},                        {\"responsive\": true}                    ).then(function(){\n",
       "                            \n",
       "var gd = document.getElementById('ce44c03b-5770-431b-95f0-fae428bbc226');\n",
       "var x = new MutationObserver(function (mutations, observer) {{\n",
       "        var display = window.getComputedStyle(gd).display;\n",
       "        if (!display || display === 'none') {{\n",
       "            console.log([gd, 'removed!']);\n",
       "            Plotly.purge(gd);\n",
       "            observer.disconnect();\n",
       "        }}\n",
       "}});\n",
       "\n",
       "// Listen for the removal of the full notebook cells\n",
       "var notebookContainer = gd.closest('#notebook-container');\n",
       "if (notebookContainer) {{\n",
       "    x.observe(notebookContainer, {childList: true});\n",
       "}}\n",
       "\n",
       "// Listen for the clearing of the current output cell\n",
       "var outputEl = gd.closest('.output');\n",
       "if (outputEl) {{\n",
       "    x.observe(outputEl, {childList: true});\n",
       "}}\n",
       "\n",
       "                        })                };                });            </script>        </div>"
      ]
     },
     "metadata": {},
     "output_type": "display_data"
    }
   ],
   "source": [
    "model.visualize_barchart()\n"
   ]
  },
  {
   "cell_type": "code",
   "execution_count": 182,
   "id": "191b3930",
   "metadata": {},
   "outputs": [
    {
     "data": {
      "application/vnd.plotly.v1+json": {
       "config": {
        "plotlyServerURL": "https://plot.ly"
       },
       "data": [
        {
         "coloraxis": "coloraxis",
         "hovertemplate": "x: %{x}<br>y: %{y}<br>Similarity Score: %{z}<extra></extra>",
         "name": "0",
         "type": "heatmap",
         "x": [
          "0_enron_com_dec",
          "1_name_product_thank",
          "2_get_going_know",
          "3_thank_link_add",
          "4_post_blog_article"
         ],
         "xaxis": "x",
         "y": [
          "0_enron_com_dec",
          "1_name_product_thank",
          "2_get_going_know",
          "3_thank_link_add",
          "4_post_blog_article"
         ],
         "yaxis": "y",
         "z": [
          [
           0.9999999999999996,
           0.8768810968630905,
           0.7213555109245795,
           0.606473882188723,
           0.7024726293450404
          ],
          [
           0.8768810968630905,
           1.0000000000000002,
           0.5731681320078887,
           0.45236549325519415,
           0.5615313574762695
          ],
          [
           0.7213555109245795,
           0.5731681320078887,
           0.9999999999999998,
           0.7751771868252717,
           0.9359456120215547
          ],
          [
           0.606473882188723,
           0.45236549325519415,
           0.7751771868252717,
           0.9999999999999998,
           0.7245261371257005
          ],
          [
           0.7024726293450404,
           0.5615313574762695,
           0.9359456120215547,
           0.7245261371257005,
           1
          ]
         ]
        }
       ],
       "layout": {
        "coloraxis": {
         "colorbar": {
          "title": {
           "text": "Similarity Score"
          }
         },
         "colorscale": [
          [
           0,
           "rgb(247,252,240)"
          ],
          [
           0.125,
           "rgb(224,243,219)"
          ],
          [
           0.25,
           "rgb(204,235,197)"
          ],
          [
           0.375,
           "rgb(168,221,181)"
          ],
          [
           0.5,
           "rgb(123,204,196)"
          ],
          [
           0.625,
           "rgb(78,179,211)"
          ],
          [
           0.75,
           "rgb(43,140,190)"
          ],
          [
           0.875,
           "rgb(8,104,172)"
          ],
          [
           1,
           "rgb(8,64,129)"
          ]
         ]
        },
        "height": 800,
        "hoverlabel": {
         "bgcolor": "white",
         "font": {
          "family": "Rockwell",
          "size": 16
         }
        },
        "legend": {
         "title": {
          "text": "Trend"
         }
        },
        "margin": {
         "t": 60
        },
        "showlegend": true,
        "template": {
         "data": {
          "bar": [
           {
            "error_x": {
             "color": "#2a3f5f"
            },
            "error_y": {
             "color": "#2a3f5f"
            },
            "marker": {
             "line": {
              "color": "#E5ECF6",
              "width": 0.5
             },
             "pattern": {
              "fillmode": "overlay",
              "size": 10,
              "solidity": 0.2
             }
            },
            "type": "bar"
           }
          ],
          "barpolar": [
           {
            "marker": {
             "line": {
              "color": "#E5ECF6",
              "width": 0.5
             },
             "pattern": {
              "fillmode": "overlay",
              "size": 10,
              "solidity": 0.2
             }
            },
            "type": "barpolar"
           }
          ],
          "carpet": [
           {
            "aaxis": {
             "endlinecolor": "#2a3f5f",
             "gridcolor": "white",
             "linecolor": "white",
             "minorgridcolor": "white",
             "startlinecolor": "#2a3f5f"
            },
            "baxis": {
             "endlinecolor": "#2a3f5f",
             "gridcolor": "white",
             "linecolor": "white",
             "minorgridcolor": "white",
             "startlinecolor": "#2a3f5f"
            },
            "type": "carpet"
           }
          ],
          "choropleth": [
           {
            "colorbar": {
             "outlinewidth": 0,
             "ticks": ""
            },
            "type": "choropleth"
           }
          ],
          "contour": [
           {
            "colorbar": {
             "outlinewidth": 0,
             "ticks": ""
            },
            "colorscale": [
             [
              0,
              "#0d0887"
             ],
             [
              0.1111111111111111,
              "#46039f"
             ],
             [
              0.2222222222222222,
              "#7201a8"
             ],
             [
              0.3333333333333333,
              "#9c179e"
             ],
             [
              0.4444444444444444,
              "#bd3786"
             ],
             [
              0.5555555555555556,
              "#d8576b"
             ],
             [
              0.6666666666666666,
              "#ed7953"
             ],
             [
              0.7777777777777778,
              "#fb9f3a"
             ],
             [
              0.8888888888888888,
              "#fdca26"
             ],
             [
              1,
              "#f0f921"
             ]
            ],
            "type": "contour"
           }
          ],
          "contourcarpet": [
           {
            "colorbar": {
             "outlinewidth": 0,
             "ticks": ""
            },
            "type": "contourcarpet"
           }
          ],
          "heatmap": [
           {
            "colorbar": {
             "outlinewidth": 0,
             "ticks": ""
            },
            "colorscale": [
             [
              0,
              "#0d0887"
             ],
             [
              0.1111111111111111,
              "#46039f"
             ],
             [
              0.2222222222222222,
              "#7201a8"
             ],
             [
              0.3333333333333333,
              "#9c179e"
             ],
             [
              0.4444444444444444,
              "#bd3786"
             ],
             [
              0.5555555555555556,
              "#d8576b"
             ],
             [
              0.6666666666666666,
              "#ed7953"
             ],
             [
              0.7777777777777778,
              "#fb9f3a"
             ],
             [
              0.8888888888888888,
              "#fdca26"
             ],
             [
              1,
              "#f0f921"
             ]
            ],
            "type": "heatmap"
           }
          ],
          "heatmapgl": [
           {
            "colorbar": {
             "outlinewidth": 0,
             "ticks": ""
            },
            "colorscale": [
             [
              0,
              "#0d0887"
             ],
             [
              0.1111111111111111,
              "#46039f"
             ],
             [
              0.2222222222222222,
              "#7201a8"
             ],
             [
              0.3333333333333333,
              "#9c179e"
             ],
             [
              0.4444444444444444,
              "#bd3786"
             ],
             [
              0.5555555555555556,
              "#d8576b"
             ],
             [
              0.6666666666666666,
              "#ed7953"
             ],
             [
              0.7777777777777778,
              "#fb9f3a"
             ],
             [
              0.8888888888888888,
              "#fdca26"
             ],
             [
              1,
              "#f0f921"
             ]
            ],
            "type": "heatmapgl"
           }
          ],
          "histogram": [
           {
            "marker": {
             "pattern": {
              "fillmode": "overlay",
              "size": 10,
              "solidity": 0.2
             }
            },
            "type": "histogram"
           }
          ],
          "histogram2d": [
           {
            "colorbar": {
             "outlinewidth": 0,
             "ticks": ""
            },
            "colorscale": [
             [
              0,
              "#0d0887"
             ],
             [
              0.1111111111111111,
              "#46039f"
             ],
             [
              0.2222222222222222,
              "#7201a8"
             ],
             [
              0.3333333333333333,
              "#9c179e"
             ],
             [
              0.4444444444444444,
              "#bd3786"
             ],
             [
              0.5555555555555556,
              "#d8576b"
             ],
             [
              0.6666666666666666,
              "#ed7953"
             ],
             [
              0.7777777777777778,
              "#fb9f3a"
             ],
             [
              0.8888888888888888,
              "#fdca26"
             ],
             [
              1,
              "#f0f921"
             ]
            ],
            "type": "histogram2d"
           }
          ],
          "histogram2dcontour": [
           {
            "colorbar": {
             "outlinewidth": 0,
             "ticks": ""
            },
            "colorscale": [
             [
              0,
              "#0d0887"
             ],
             [
              0.1111111111111111,
              "#46039f"
             ],
             [
              0.2222222222222222,
              "#7201a8"
             ],
             [
              0.3333333333333333,
              "#9c179e"
             ],
             [
              0.4444444444444444,
              "#bd3786"
             ],
             [
              0.5555555555555556,
              "#d8576b"
             ],
             [
              0.6666666666666666,
              "#ed7953"
             ],
             [
              0.7777777777777778,
              "#fb9f3a"
             ],
             [
              0.8888888888888888,
              "#fdca26"
             ],
             [
              1,
              "#f0f921"
             ]
            ],
            "type": "histogram2dcontour"
           }
          ],
          "mesh3d": [
           {
            "colorbar": {
             "outlinewidth": 0,
             "ticks": ""
            },
            "type": "mesh3d"
           }
          ],
          "parcoords": [
           {
            "line": {
             "colorbar": {
              "outlinewidth": 0,
              "ticks": ""
             }
            },
            "type": "parcoords"
           }
          ],
          "pie": [
           {
            "automargin": true,
            "type": "pie"
           }
          ],
          "scatter": [
           {
            "marker": {
             "colorbar": {
              "outlinewidth": 0,
              "ticks": ""
             }
            },
            "type": "scatter"
           }
          ],
          "scatter3d": [
           {
            "line": {
             "colorbar": {
              "outlinewidth": 0,
              "ticks": ""
             }
            },
            "marker": {
             "colorbar": {
              "outlinewidth": 0,
              "ticks": ""
             }
            },
            "type": "scatter3d"
           }
          ],
          "scattercarpet": [
           {
            "marker": {
             "colorbar": {
              "outlinewidth": 0,
              "ticks": ""
             }
            },
            "type": "scattercarpet"
           }
          ],
          "scattergeo": [
           {
            "marker": {
             "colorbar": {
              "outlinewidth": 0,
              "ticks": ""
             }
            },
            "type": "scattergeo"
           }
          ],
          "scattergl": [
           {
            "marker": {
             "colorbar": {
              "outlinewidth": 0,
              "ticks": ""
             }
            },
            "type": "scattergl"
           }
          ],
          "scattermapbox": [
           {
            "marker": {
             "colorbar": {
              "outlinewidth": 0,
              "ticks": ""
             }
            },
            "type": "scattermapbox"
           }
          ],
          "scatterpolar": [
           {
            "marker": {
             "colorbar": {
              "outlinewidth": 0,
              "ticks": ""
             }
            },
            "type": "scatterpolar"
           }
          ],
          "scatterpolargl": [
           {
            "marker": {
             "colorbar": {
              "outlinewidth": 0,
              "ticks": ""
             }
            },
            "type": "scatterpolargl"
           }
          ],
          "scatterternary": [
           {
            "marker": {
             "colorbar": {
              "outlinewidth": 0,
              "ticks": ""
             }
            },
            "type": "scatterternary"
           }
          ],
          "surface": [
           {
            "colorbar": {
             "outlinewidth": 0,
             "ticks": ""
            },
            "colorscale": [
             [
              0,
              "#0d0887"
             ],
             [
              0.1111111111111111,
              "#46039f"
             ],
             [
              0.2222222222222222,
              "#7201a8"
             ],
             [
              0.3333333333333333,
              "#9c179e"
             ],
             [
              0.4444444444444444,
              "#bd3786"
             ],
             [
              0.5555555555555556,
              "#d8576b"
             ],
             [
              0.6666666666666666,
              "#ed7953"
             ],
             [
              0.7777777777777778,
              "#fb9f3a"
             ],
             [
              0.8888888888888888,
              "#fdca26"
             ],
             [
              1,
              "#f0f921"
             ]
            ],
            "type": "surface"
           }
          ],
          "table": [
           {
            "cells": {
             "fill": {
              "color": "#EBF0F8"
             },
             "line": {
              "color": "white"
             }
            },
            "header": {
             "fill": {
              "color": "#C8D4E3"
             },
             "line": {
              "color": "white"
             }
            },
            "type": "table"
           }
          ]
         },
         "layout": {
          "annotationdefaults": {
           "arrowcolor": "#2a3f5f",
           "arrowhead": 0,
           "arrowwidth": 1
          },
          "autotypenumbers": "strict",
          "coloraxis": {
           "colorbar": {
            "outlinewidth": 0,
            "ticks": ""
           }
          },
          "colorscale": {
           "diverging": [
            [
             0,
             "#8e0152"
            ],
            [
             0.1,
             "#c51b7d"
            ],
            [
             0.2,
             "#de77ae"
            ],
            [
             0.3,
             "#f1b6da"
            ],
            [
             0.4,
             "#fde0ef"
            ],
            [
             0.5,
             "#f7f7f7"
            ],
            [
             0.6,
             "#e6f5d0"
            ],
            [
             0.7,
             "#b8e186"
            ],
            [
             0.8,
             "#7fbc41"
            ],
            [
             0.9,
             "#4d9221"
            ],
            [
             1,
             "#276419"
            ]
           ],
           "sequential": [
            [
             0,
             "#0d0887"
            ],
            [
             0.1111111111111111,
             "#46039f"
            ],
            [
             0.2222222222222222,
             "#7201a8"
            ],
            [
             0.3333333333333333,
             "#9c179e"
            ],
            [
             0.4444444444444444,
             "#bd3786"
            ],
            [
             0.5555555555555556,
             "#d8576b"
            ],
            [
             0.6666666666666666,
             "#ed7953"
            ],
            [
             0.7777777777777778,
             "#fb9f3a"
            ],
            [
             0.8888888888888888,
             "#fdca26"
            ],
            [
             1,
             "#f0f921"
            ]
           ],
           "sequentialminus": [
            [
             0,
             "#0d0887"
            ],
            [
             0.1111111111111111,
             "#46039f"
            ],
            [
             0.2222222222222222,
             "#7201a8"
            ],
            [
             0.3333333333333333,
             "#9c179e"
            ],
            [
             0.4444444444444444,
             "#bd3786"
            ],
            [
             0.5555555555555556,
             "#d8576b"
            ],
            [
             0.6666666666666666,
             "#ed7953"
            ],
            [
             0.7777777777777778,
             "#fb9f3a"
            ],
            [
             0.8888888888888888,
             "#fdca26"
            ],
            [
             1,
             "#f0f921"
            ]
           ]
          },
          "colorway": [
           "#636efa",
           "#EF553B",
           "#00cc96",
           "#ab63fa",
           "#FFA15A",
           "#19d3f3",
           "#FF6692",
           "#B6E880",
           "#FF97FF",
           "#FECB52"
          ],
          "font": {
           "color": "#2a3f5f"
          },
          "geo": {
           "bgcolor": "white",
           "lakecolor": "white",
           "landcolor": "#E5ECF6",
           "showlakes": true,
           "showland": true,
           "subunitcolor": "white"
          },
          "hoverlabel": {
           "align": "left"
          },
          "hovermode": "closest",
          "mapbox": {
           "style": "light"
          },
          "paper_bgcolor": "white",
          "plot_bgcolor": "#E5ECF6",
          "polar": {
           "angularaxis": {
            "gridcolor": "white",
            "linecolor": "white",
            "ticks": ""
           },
           "bgcolor": "#E5ECF6",
           "radialaxis": {
            "gridcolor": "white",
            "linecolor": "white",
            "ticks": ""
           }
          },
          "scene": {
           "xaxis": {
            "backgroundcolor": "#E5ECF6",
            "gridcolor": "white",
            "gridwidth": 2,
            "linecolor": "white",
            "showbackground": true,
            "ticks": "",
            "zerolinecolor": "white"
           },
           "yaxis": {
            "backgroundcolor": "#E5ECF6",
            "gridcolor": "white",
            "gridwidth": 2,
            "linecolor": "white",
            "showbackground": true,
            "ticks": "",
            "zerolinecolor": "white"
           },
           "zaxis": {
            "backgroundcolor": "#E5ECF6",
            "gridcolor": "white",
            "gridwidth": 2,
            "linecolor": "white",
            "showbackground": true,
            "ticks": "",
            "zerolinecolor": "white"
           }
          },
          "shapedefaults": {
           "line": {
            "color": "#2a3f5f"
           }
          },
          "ternary": {
           "aaxis": {
            "gridcolor": "white",
            "linecolor": "white",
            "ticks": ""
           },
           "baxis": {
            "gridcolor": "white",
            "linecolor": "white",
            "ticks": ""
           },
           "bgcolor": "#E5ECF6",
           "caxis": {
            "gridcolor": "white",
            "linecolor": "white",
            "ticks": ""
           }
          },
          "title": {
           "x": 0.05
          },
          "xaxis": {
           "automargin": true,
           "gridcolor": "white",
           "linecolor": "white",
           "ticks": "",
           "title": {
            "standoff": 15
           },
           "zerolinecolor": "white",
           "zerolinewidth": 2
          },
          "yaxis": {
           "automargin": true,
           "gridcolor": "white",
           "linecolor": "white",
           "ticks": "",
           "title": {
            "standoff": 15
           },
           "zerolinecolor": "white",
           "zerolinewidth": 2
          }
         }
        },
        "title": {
         "font": {
          "color": "Black",
          "size": 22
         },
         "text": "<b>Similarity Matrix",
         "x": 0.55,
         "xanchor": "center",
         "y": 0.95,
         "yanchor": "top"
        },
        "width": 800,
        "xaxis": {
         "anchor": "y",
         "constrain": "domain",
         "domain": [
          0,
          1
         ],
         "scaleanchor": "y"
        },
        "yaxis": {
         "anchor": "x",
         "autorange": "reversed",
         "constrain": "domain",
         "domain": [
          0,
          1
         ]
        }
       }
      },
      "text/html": [
       "<div>                            <div id=\"c79e23fe-a03f-4b99-8e35-7c0bdd2464ec\" class=\"plotly-graph-div\" style=\"height:800px; width:800px;\"></div>            <script type=\"text/javascript\">                require([\"plotly\"], function(Plotly) {                    window.PLOTLYENV=window.PLOTLYENV || {};                                    if (document.getElementById(\"c79e23fe-a03f-4b99-8e35-7c0bdd2464ec\")) {                    Plotly.newPlot(                        \"c79e23fe-a03f-4b99-8e35-7c0bdd2464ec\",                        [{\"coloraxis\":\"coloraxis\",\"name\":\"0\",\"x\":[\"0_enron_com_dec\",\"1_name_product_thank\",\"2_get_going_know\",\"3_thank_link_add\",\"4_post_blog_article\"],\"y\":[\"0_enron_com_dec\",\"1_name_product_thank\",\"2_get_going_know\",\"3_thank_link_add\",\"4_post_blog_article\"],\"z\":[[0.9999999999999996,0.8768810968630905,0.7213555109245795,0.606473882188723,0.7024726293450404],[0.8768810968630905,1.0000000000000002,0.5731681320078887,0.45236549325519415,0.5615313574762695],[0.7213555109245795,0.5731681320078887,0.9999999999999998,0.7751771868252717,0.9359456120215547],[0.606473882188723,0.45236549325519415,0.7751771868252717,0.9999999999999998,0.7245261371257005],[0.7024726293450404,0.5615313574762695,0.9359456120215547,0.7245261371257005,1.0]],\"type\":\"heatmap\",\"xaxis\":\"x\",\"yaxis\":\"y\",\"hovertemplate\":\"x: %{x}<br>y: %{y}<br>Similarity Score: %{z}<extra></extra>\"}],                        {\"template\":{\"data\":{\"bar\":[{\"error_x\":{\"color\":\"#2a3f5f\"},\"error_y\":{\"color\":\"#2a3f5f\"},\"marker\":{\"line\":{\"color\":\"#E5ECF6\",\"width\":0.5},\"pattern\":{\"fillmode\":\"overlay\",\"size\":10,\"solidity\":0.2}},\"type\":\"bar\"}],\"barpolar\":[{\"marker\":{\"line\":{\"color\":\"#E5ECF6\",\"width\":0.5},\"pattern\":{\"fillmode\":\"overlay\",\"size\":10,\"solidity\":0.2}},\"type\":\"barpolar\"}],\"carpet\":[{\"aaxis\":{\"endlinecolor\":\"#2a3f5f\",\"gridcolor\":\"white\",\"linecolor\":\"white\",\"minorgridcolor\":\"white\",\"startlinecolor\":\"#2a3f5f\"},\"baxis\":{\"endlinecolor\":\"#2a3f5f\",\"gridcolor\":\"white\",\"linecolor\":\"white\",\"minorgridcolor\":\"white\",\"startlinecolor\":\"#2a3f5f\"},\"type\":\"carpet\"}],\"choropleth\":[{\"colorbar\":{\"outlinewidth\":0,\"ticks\":\"\"},\"type\":\"choropleth\"}],\"contour\":[{\"colorbar\":{\"outlinewidth\":0,\"ticks\":\"\"},\"colorscale\":[[0.0,\"#0d0887\"],[0.1111111111111111,\"#46039f\"],[0.2222222222222222,\"#7201a8\"],[0.3333333333333333,\"#9c179e\"],[0.4444444444444444,\"#bd3786\"],[0.5555555555555556,\"#d8576b\"],[0.6666666666666666,\"#ed7953\"],[0.7777777777777778,\"#fb9f3a\"],[0.8888888888888888,\"#fdca26\"],[1.0,\"#f0f921\"]],\"type\":\"contour\"}],\"contourcarpet\":[{\"colorbar\":{\"outlinewidth\":0,\"ticks\":\"\"},\"type\":\"contourcarpet\"}],\"heatmap\":[{\"colorbar\":{\"outlinewidth\":0,\"ticks\":\"\"},\"colorscale\":[[0.0,\"#0d0887\"],[0.1111111111111111,\"#46039f\"],[0.2222222222222222,\"#7201a8\"],[0.3333333333333333,\"#9c179e\"],[0.4444444444444444,\"#bd3786\"],[0.5555555555555556,\"#d8576b\"],[0.6666666666666666,\"#ed7953\"],[0.7777777777777778,\"#fb9f3a\"],[0.8888888888888888,\"#fdca26\"],[1.0,\"#f0f921\"]],\"type\":\"heatmap\"}],\"heatmapgl\":[{\"colorbar\":{\"outlinewidth\":0,\"ticks\":\"\"},\"colorscale\":[[0.0,\"#0d0887\"],[0.1111111111111111,\"#46039f\"],[0.2222222222222222,\"#7201a8\"],[0.3333333333333333,\"#9c179e\"],[0.4444444444444444,\"#bd3786\"],[0.5555555555555556,\"#d8576b\"],[0.6666666666666666,\"#ed7953\"],[0.7777777777777778,\"#fb9f3a\"],[0.8888888888888888,\"#fdca26\"],[1.0,\"#f0f921\"]],\"type\":\"heatmapgl\"}],\"histogram\":[{\"marker\":{\"pattern\":{\"fillmode\":\"overlay\",\"size\":10,\"solidity\":0.2}},\"type\":\"histogram\"}],\"histogram2d\":[{\"colorbar\":{\"outlinewidth\":0,\"ticks\":\"\"},\"colorscale\":[[0.0,\"#0d0887\"],[0.1111111111111111,\"#46039f\"],[0.2222222222222222,\"#7201a8\"],[0.3333333333333333,\"#9c179e\"],[0.4444444444444444,\"#bd3786\"],[0.5555555555555556,\"#d8576b\"],[0.6666666666666666,\"#ed7953\"],[0.7777777777777778,\"#fb9f3a\"],[0.8888888888888888,\"#fdca26\"],[1.0,\"#f0f921\"]],\"type\":\"histogram2d\"}],\"histogram2dcontour\":[{\"colorbar\":{\"outlinewidth\":0,\"ticks\":\"\"},\"colorscale\":[[0.0,\"#0d0887\"],[0.1111111111111111,\"#46039f\"],[0.2222222222222222,\"#7201a8\"],[0.3333333333333333,\"#9c179e\"],[0.4444444444444444,\"#bd3786\"],[0.5555555555555556,\"#d8576b\"],[0.6666666666666666,\"#ed7953\"],[0.7777777777777778,\"#fb9f3a\"],[0.8888888888888888,\"#fdca26\"],[1.0,\"#f0f921\"]],\"type\":\"histogram2dcontour\"}],\"mesh3d\":[{\"colorbar\":{\"outlinewidth\":0,\"ticks\":\"\"},\"type\":\"mesh3d\"}],\"parcoords\":[{\"line\":{\"colorbar\":{\"outlinewidth\":0,\"ticks\":\"\"}},\"type\":\"parcoords\"}],\"pie\":[{\"automargin\":true,\"type\":\"pie\"}],\"scatter\":[{\"marker\":{\"colorbar\":{\"outlinewidth\":0,\"ticks\":\"\"}},\"type\":\"scatter\"}],\"scatter3d\":[{\"line\":{\"colorbar\":{\"outlinewidth\":0,\"ticks\":\"\"}},\"marker\":{\"colorbar\":{\"outlinewidth\":0,\"ticks\":\"\"}},\"type\":\"scatter3d\"}],\"scattercarpet\":[{\"marker\":{\"colorbar\":{\"outlinewidth\":0,\"ticks\":\"\"}},\"type\":\"scattercarpet\"}],\"scattergeo\":[{\"marker\":{\"colorbar\":{\"outlinewidth\":0,\"ticks\":\"\"}},\"type\":\"scattergeo\"}],\"scattergl\":[{\"marker\":{\"colorbar\":{\"outlinewidth\":0,\"ticks\":\"\"}},\"type\":\"scattergl\"}],\"scattermapbox\":[{\"marker\":{\"colorbar\":{\"outlinewidth\":0,\"ticks\":\"\"}},\"type\":\"scattermapbox\"}],\"scatterpolar\":[{\"marker\":{\"colorbar\":{\"outlinewidth\":0,\"ticks\":\"\"}},\"type\":\"scatterpolar\"}],\"scatterpolargl\":[{\"marker\":{\"colorbar\":{\"outlinewidth\":0,\"ticks\":\"\"}},\"type\":\"scatterpolargl\"}],\"scatterternary\":[{\"marker\":{\"colorbar\":{\"outlinewidth\":0,\"ticks\":\"\"}},\"type\":\"scatterternary\"}],\"surface\":[{\"colorbar\":{\"outlinewidth\":0,\"ticks\":\"\"},\"colorscale\":[[0.0,\"#0d0887\"],[0.1111111111111111,\"#46039f\"],[0.2222222222222222,\"#7201a8\"],[0.3333333333333333,\"#9c179e\"],[0.4444444444444444,\"#bd3786\"],[0.5555555555555556,\"#d8576b\"],[0.6666666666666666,\"#ed7953\"],[0.7777777777777778,\"#fb9f3a\"],[0.8888888888888888,\"#fdca26\"],[1.0,\"#f0f921\"]],\"type\":\"surface\"}],\"table\":[{\"cells\":{\"fill\":{\"color\":\"#EBF0F8\"},\"line\":{\"color\":\"white\"}},\"header\":{\"fill\":{\"color\":\"#C8D4E3\"},\"line\":{\"color\":\"white\"}},\"type\":\"table\"}]},\"layout\":{\"annotationdefaults\":{\"arrowcolor\":\"#2a3f5f\",\"arrowhead\":0,\"arrowwidth\":1},\"autotypenumbers\":\"strict\",\"coloraxis\":{\"colorbar\":{\"outlinewidth\":0,\"ticks\":\"\"}},\"colorscale\":{\"diverging\":[[0,\"#8e0152\"],[0.1,\"#c51b7d\"],[0.2,\"#de77ae\"],[0.3,\"#f1b6da\"],[0.4,\"#fde0ef\"],[0.5,\"#f7f7f7\"],[0.6,\"#e6f5d0\"],[0.7,\"#b8e186\"],[0.8,\"#7fbc41\"],[0.9,\"#4d9221\"],[1,\"#276419\"]],\"sequential\":[[0.0,\"#0d0887\"],[0.1111111111111111,\"#46039f\"],[0.2222222222222222,\"#7201a8\"],[0.3333333333333333,\"#9c179e\"],[0.4444444444444444,\"#bd3786\"],[0.5555555555555556,\"#d8576b\"],[0.6666666666666666,\"#ed7953\"],[0.7777777777777778,\"#fb9f3a\"],[0.8888888888888888,\"#fdca26\"],[1.0,\"#f0f921\"]],\"sequentialminus\":[[0.0,\"#0d0887\"],[0.1111111111111111,\"#46039f\"],[0.2222222222222222,\"#7201a8\"],[0.3333333333333333,\"#9c179e\"],[0.4444444444444444,\"#bd3786\"],[0.5555555555555556,\"#d8576b\"],[0.6666666666666666,\"#ed7953\"],[0.7777777777777778,\"#fb9f3a\"],[0.8888888888888888,\"#fdca26\"],[1.0,\"#f0f921\"]]},\"colorway\":[\"#636efa\",\"#EF553B\",\"#00cc96\",\"#ab63fa\",\"#FFA15A\",\"#19d3f3\",\"#FF6692\",\"#B6E880\",\"#FF97FF\",\"#FECB52\"],\"font\":{\"color\":\"#2a3f5f\"},\"geo\":{\"bgcolor\":\"white\",\"lakecolor\":\"white\",\"landcolor\":\"#E5ECF6\",\"showlakes\":true,\"showland\":true,\"subunitcolor\":\"white\"},\"hoverlabel\":{\"align\":\"left\"},\"hovermode\":\"closest\",\"mapbox\":{\"style\":\"light\"},\"paper_bgcolor\":\"white\",\"plot_bgcolor\":\"#E5ECF6\",\"polar\":{\"angularaxis\":{\"gridcolor\":\"white\",\"linecolor\":\"white\",\"ticks\":\"\"},\"bgcolor\":\"#E5ECF6\",\"radialaxis\":{\"gridcolor\":\"white\",\"linecolor\":\"white\",\"ticks\":\"\"}},\"scene\":{\"xaxis\":{\"backgroundcolor\":\"#E5ECF6\",\"gridcolor\":\"white\",\"gridwidth\":2,\"linecolor\":\"white\",\"showbackground\":true,\"ticks\":\"\",\"zerolinecolor\":\"white\"},\"yaxis\":{\"backgroundcolor\":\"#E5ECF6\",\"gridcolor\":\"white\",\"gridwidth\":2,\"linecolor\":\"white\",\"showbackground\":true,\"ticks\":\"\",\"zerolinecolor\":\"white\"},\"zaxis\":{\"backgroundcolor\":\"#E5ECF6\",\"gridcolor\":\"white\",\"gridwidth\":2,\"linecolor\":\"white\",\"showbackground\":true,\"ticks\":\"\",\"zerolinecolor\":\"white\"}},\"shapedefaults\":{\"line\":{\"color\":\"#2a3f5f\"}},\"ternary\":{\"aaxis\":{\"gridcolor\":\"white\",\"linecolor\":\"white\",\"ticks\":\"\"},\"baxis\":{\"gridcolor\":\"white\",\"linecolor\":\"white\",\"ticks\":\"\"},\"bgcolor\":\"#E5ECF6\",\"caxis\":{\"gridcolor\":\"white\",\"linecolor\":\"white\",\"ticks\":\"\"}},\"title\":{\"x\":0.05},\"xaxis\":{\"automargin\":true,\"gridcolor\":\"white\",\"linecolor\":\"white\",\"ticks\":\"\",\"title\":{\"standoff\":15},\"zerolinecolor\":\"white\",\"zerolinewidth\":2},\"yaxis\":{\"automargin\":true,\"gridcolor\":\"white\",\"linecolor\":\"white\",\"ticks\":\"\",\"title\":{\"standoff\":15},\"zerolinecolor\":\"white\",\"zerolinewidth\":2}}},\"xaxis\":{\"anchor\":\"y\",\"domain\":[0.0,1.0],\"scaleanchor\":\"y\",\"constrain\":\"domain\"},\"yaxis\":{\"anchor\":\"x\",\"domain\":[0.0,1.0],\"autorange\":\"reversed\",\"constrain\":\"domain\"},\"coloraxis\":{\"colorbar\":{\"title\":{\"text\":\"Similarity Score\"}},\"colorscale\":[[0.0,\"rgb(247,252,240)\"],[0.125,\"rgb(224,243,219)\"],[0.25,\"rgb(204,235,197)\"],[0.375,\"rgb(168,221,181)\"],[0.5,\"rgb(123,204,196)\"],[0.625,\"rgb(78,179,211)\"],[0.75,\"rgb(43,140,190)\"],[0.875,\"rgb(8,104,172)\"],[1.0,\"rgb(8,64,129)\"]]},\"margin\":{\"t\":60},\"title\":{\"font\":{\"size\":22,\"color\":\"Black\"},\"text\":\"<b>Similarity Matrix\",\"y\":0.95,\"x\":0.55,\"xanchor\":\"center\",\"yanchor\":\"top\"},\"hoverlabel\":{\"font\":{\"size\":16,\"family\":\"Rockwell\"},\"bgcolor\":\"white\"},\"width\":800,\"height\":800,\"showlegend\":true,\"legend\":{\"title\":{\"text\":\"Trend\"}}},                        {\"responsive\": true}                    ).then(function(){\n",
       "                            \n",
       "var gd = document.getElementById('c79e23fe-a03f-4b99-8e35-7c0bdd2464ec');\n",
       "var x = new MutationObserver(function (mutations, observer) {{\n",
       "        var display = window.getComputedStyle(gd).display;\n",
       "        if (!display || display === 'none') {{\n",
       "            console.log([gd, 'removed!']);\n",
       "            Plotly.purge(gd);\n",
       "            observer.disconnect();\n",
       "        }}\n",
       "}});\n",
       "\n",
       "// Listen for the removal of the full notebook cells\n",
       "var notebookContainer = gd.closest('#notebook-container');\n",
       "if (notebookContainer) {{\n",
       "    x.observe(notebookContainer, {childList: true});\n",
       "}}\n",
       "\n",
       "// Listen for the clearing of the current output cell\n",
       "var outputEl = gd.closest('.output');\n",
       "if (outputEl) {{\n",
       "    x.observe(outputEl, {childList: true});\n",
       "}}\n",
       "\n",
       "                        })                };                });            </script>        </div>"
      ]
     },
     "metadata": {},
     "output_type": "display_data"
    }
   ],
   "source": [
    "model.visualize_heatmap()"
   ]
  },
  {
   "cell_type": "code",
   "execution_count": 183,
   "id": "d69c3ad3",
   "metadata": {
    "scrolled": true
   },
   "outputs": [
    {
     "name": "stderr",
     "output_type": "stream",
     "text": [
      "C:\\Users\\user\\anaconda3\\lib\\site-packages\\scipy\\sparse\\_index.py:125: SparseEfficiencyWarning:\n",
      "\n",
      "Changing the sparsity structure of a csr_matrix is expensive. lil_matrix is more efficient.\n",
      "\n"
     ]
    }
   ],
   "source": [
    "topics_to_assign=[]\n",
    "for item in gmail_data.iterrows():\n",
    "    assigned_topic,prob=model.transform(item[1]['body'])\n",
    "    topics_to_assign.append(assigned_topic[0])\n",
    "gmail_data['Topic']=topics_to_assign"
   ]
  },
  {
   "cell_type": "code",
   "execution_count": 184,
   "id": "f450ebfb",
   "metadata": {
    "scrolled": true
   },
   "outputs": [
    {
     "data": {
      "text/html": [
       "<div>\n",
       "<style scoped>\n",
       "    .dataframe tbody tr th:only-of-type {\n",
       "        vertical-align: middle;\n",
       "    }\n",
       "\n",
       "    .dataframe tbody tr th {\n",
       "        vertical-align: top;\n",
       "    }\n",
       "\n",
       "    .dataframe thead th {\n",
       "        text-align: right;\n",
       "    }\n",
       "</style>\n",
       "<table border=\"1\" class=\"dataframe\">\n",
       "  <thead>\n",
       "    <tr style=\"text-align: right;\">\n",
       "      <th></th>\n",
       "      <th>ID</th>\n",
       "      <th>body</th>\n",
       "      <th>to</th>\n",
       "      <th>from_</th>\n",
       "      <th>Topic</th>\n",
       "    </tr>\n",
       "  </thead>\n",
       "  <tbody>\n",
       "    <tr>\n",
       "      <th>0</th>\n",
       "      <td>A1</td>\n",
       "      <td>Hi Dmml,\\r\\nWelcome to Google. Your new accoun...</td>\n",
       "      <td>('dmml2test@gmail.com',)</td>\n",
       "      <td>googlecommunityteam-noreply@google.com</td>\n",
       "      <td>-1</td>\n",
       "    </tr>\n",
       "    <tr>\n",
       "      <th>1</th>\n",
       "      <td>A2</td>\n",
       "      <td>Your impartial, comprehensive news source.\\r\\n...</td>\n",
       "      <td>('dmml2test@gmail.com',)</td>\n",
       "      <td>DailyDigest@email.join1440.com</td>\n",
       "      <td>-1</td>\n",
       "    </tr>\n",
       "    <tr>\n",
       "      <th>4</th>\n",
       "      <td>A5</td>\n",
       "      <td>** Important: Confirm Your Subscription to Nex...</td>\n",
       "      <td>('dmml2test@gmail.com',)</td>\n",
       "      <td>dave@davenetics.com</td>\n",
       "      <td>-1</td>\n",
       "    </tr>\n",
       "    <tr>\n",
       "      <th>5</th>\n",
       "      <td>A6</td>\n",
       "      <td>Your NextDraft subscription has been confirmed...</td>\n",
       "      <td>('dmml2test@gmail.com',)</td>\n",
       "      <td>dave@davenetics.com</td>\n",
       "      <td>-1</td>\n",
       "    </tr>\n",
       "    <tr>\n",
       "      <th>6</th>\n",
       "      <td>A7</td>\n",
       "      <td>Welcome to ELEVATOR.\\r\\n\\r\\nYour inbox is like...</td>\n",
       "      <td>('dmml2test@gmail.com',)</td>\n",
       "      <td>yo@gettheelevator.com</td>\n",
       "      <td>-1</td>\n",
       "    </tr>\n",
       "  </tbody>\n",
       "</table>\n",
       "</div>"
      ],
      "text/plain": [
       "   ID                                               body  \\\n",
       "0  A1  Hi Dmml,\\r\\nWelcome to Google. Your new accoun...   \n",
       "1  A2  Your impartial, comprehensive news source.\\r\\n...   \n",
       "4  A5  ** Important: Confirm Your Subscription to Nex...   \n",
       "5  A6  Your NextDraft subscription has been confirmed...   \n",
       "6  A7  Welcome to ELEVATOR.\\r\\n\\r\\nYour inbox is like...   \n",
       "\n",
       "                         to                                   from_  Topic  \n",
       "0  ('dmml2test@gmail.com',)  googlecommunityteam-noreply@google.com     -1  \n",
       "1  ('dmml2test@gmail.com',)          DailyDigest@email.join1440.com     -1  \n",
       "4  ('dmml2test@gmail.com',)                     dave@davenetics.com     -1  \n",
       "5  ('dmml2test@gmail.com',)                     dave@davenetics.com     -1  \n",
       "6  ('dmml2test@gmail.com',)                   yo@gettheelevator.com     -1  "
      ]
     },
     "execution_count": 184,
     "metadata": {},
     "output_type": "execute_result"
    }
   ],
   "source": [
    "gmail_data.head()"
   ]
  },
  {
   "cell_type": "code",
   "execution_count": 185,
   "id": "a19d9b7c",
   "metadata": {},
   "outputs": [],
   "source": [
    "gmail_data.loc[ gmail_data['Topic'] == -1, 'Topic'] = np.unique(gmail_data['Topic']).max()+1"
   ]
  },
  {
   "cell_type": "code",
   "execution_count": 186,
   "id": "140244f9",
   "metadata": {
    "scrolled": true
   },
   "outputs": [],
   "source": [
    "gmail_data.to_csv('Clustered_Mails_BERTopic.csv',encoding='utf-8')"
   ]
  },
  {
   "cell_type": "code",
   "execution_count": 187,
   "id": "6c00433f",
   "metadata": {
    "scrolled": true
   },
   "outputs": [],
   "source": [
    "model.save(\"Bert_model\")"
   ]
  },
  {
   "cell_type": "markdown",
   "id": "8190501d",
   "metadata": {},
   "source": [
    "ANN"
   ]
  },
  {
   "cell_type": "code",
   "execution_count": 513,
   "id": "0f1e5105",
   "metadata": {},
   "outputs": [],
   "source": [
    "import matplotlib.pyplot as plt\n",
    "import tensorflow as tf\n",
    "from tensorflow.keras import layers\n",
    "from tensorflow.keras import losses\n",
    "from sklearn.preprocessing import LabelEncoder\n",
    "from sklearn.model_selection import train_test_split\n",
    "import keras\n",
    "from keras.utils import np_utils\n",
    "from keras.models import Sequential\n",
    "from keras.layers import Dense\n",
    "import keras.optimizers"
   ]
  },
  {
   "cell_type": "code",
   "execution_count": 514,
   "id": "d410e7d8",
   "metadata": {},
   "outputs": [
    {
     "data": {
      "text/plain": [
       "array([0, 1, 2, 3, 4, 5], dtype=int64)"
      ]
     },
     "execution_count": 514,
     "metadata": {},
     "output_type": "execute_result"
    }
   ],
   "source": [
    "np.unique(gmail_data['Topic'])"
   ]
  },
  {
   "cell_type": "code",
   "execution_count": 515,
   "id": "dfc21765",
   "metadata": {},
   "outputs": [
    {
     "data": {
      "text/html": [
       "<div>\n",
       "<style scoped>\n",
       "    .dataframe tbody tr th:only-of-type {\n",
       "        vertical-align: middle;\n",
       "    }\n",
       "\n",
       "    .dataframe tbody tr th {\n",
       "        vertical-align: top;\n",
       "    }\n",
       "\n",
       "    .dataframe thead th {\n",
       "        text-align: right;\n",
       "    }\n",
       "</style>\n",
       "<table border=\"1\" class=\"dataframe\">\n",
       "  <thead>\n",
       "    <tr style=\"text-align: right;\">\n",
       "      <th></th>\n",
       "      <th>ID</th>\n",
       "      <th>body</th>\n",
       "      <th>to</th>\n",
       "      <th>from_</th>\n",
       "      <th>Topic</th>\n",
       "    </tr>\n",
       "  </thead>\n",
       "  <tbody>\n",
       "    <tr>\n",
       "      <th>0</th>\n",
       "      <td>A1</td>\n",
       "      <td>Hi Dmml,\\r\\nWelcome to Google. Your new accoun...</td>\n",
       "      <td>('dmml2test@gmail.com',)</td>\n",
       "      <td>googlecommunityteam-noreply@google.com</td>\n",
       "      <td>5</td>\n",
       "    </tr>\n",
       "    <tr>\n",
       "      <th>1</th>\n",
       "      <td>A2</td>\n",
       "      <td>Your impartial, comprehensive news source.\\r\\n...</td>\n",
       "      <td>('dmml2test@gmail.com',)</td>\n",
       "      <td>DailyDigest@email.join1440.com</td>\n",
       "      <td>5</td>\n",
       "    </tr>\n",
       "    <tr>\n",
       "      <th>4</th>\n",
       "      <td>A5</td>\n",
       "      <td>** Important: Confirm Your Subscription to Nex...</td>\n",
       "      <td>('dmml2test@gmail.com',)</td>\n",
       "      <td>dave@davenetics.com</td>\n",
       "      <td>5</td>\n",
       "    </tr>\n",
       "    <tr>\n",
       "      <th>5</th>\n",
       "      <td>A6</td>\n",
       "      <td>Your NextDraft subscription has been confirmed...</td>\n",
       "      <td>('dmml2test@gmail.com',)</td>\n",
       "      <td>dave@davenetics.com</td>\n",
       "      <td>5</td>\n",
       "    </tr>\n",
       "    <tr>\n",
       "      <th>6</th>\n",
       "      <td>A7</td>\n",
       "      <td>Welcome to ELEVATOR.\\r\\n\\r\\nYour inbox is like...</td>\n",
       "      <td>('dmml2test@gmail.com',)</td>\n",
       "      <td>yo@gettheelevator.com</td>\n",
       "      <td>5</td>\n",
       "    </tr>\n",
       "  </tbody>\n",
       "</table>\n",
       "</div>"
      ],
      "text/plain": [
       "   ID                                               body  \\\n",
       "0  A1  Hi Dmml,\\r\\nWelcome to Google. Your new accoun...   \n",
       "1  A2  Your impartial, comprehensive news source.\\r\\n...   \n",
       "4  A5  ** Important: Confirm Your Subscription to Nex...   \n",
       "5  A6  Your NextDraft subscription has been confirmed...   \n",
       "6  A7  Welcome to ELEVATOR.\\r\\n\\r\\nYour inbox is like...   \n",
       "\n",
       "                         to                                   from_  Topic  \n",
       "0  ('dmml2test@gmail.com',)  googlecommunityteam-noreply@google.com      5  \n",
       "1  ('dmml2test@gmail.com',)          DailyDigest@email.join1440.com      5  \n",
       "4  ('dmml2test@gmail.com',)                     dave@davenetics.com      5  \n",
       "5  ('dmml2test@gmail.com',)                     dave@davenetics.com      5  \n",
       "6  ('dmml2test@gmail.com',)                   yo@gettheelevator.com      5  "
      ]
     },
     "execution_count": 515,
     "metadata": {},
     "output_type": "execute_result"
    }
   ],
   "source": [
    "gmail_data.head()"
   ]
  },
  {
   "cell_type": "code",
   "execution_count": 516,
   "id": "afb1aae3",
   "metadata": {},
   "outputs": [],
   "source": [
    "data=pd.read_csv(\"C:/Users/user/Downloads/MailOutput_combined.csv\")"
   ]
  },
  {
   "cell_type": "code",
   "execution_count": 517,
   "id": "574625af",
   "metadata": {},
   "outputs": [],
   "source": [
    "data.dropna(inplace=True)"
   ]
  },
  {
   "cell_type": "code",
   "execution_count": 518,
   "id": "cb45b3ad",
   "metadata": {},
   "outputs": [],
   "source": [
    "data=pd.merge(gmail_data[['ID','Topic']],data.drop('Topic',axis=1),on=\"ID\")\n",
    "#data.to_csv('Clustered_Mails_BERTopic_Final.csv',encoding='utf-8')"
   ]
  },
  {
   "cell_type": "code",
   "execution_count": 519,
   "id": "bf38535c",
   "metadata": {},
   "outputs": [],
   "source": [
    "data.drop(['Date','Sender','Subject','ID','isFlagged','isEncrypted','NoOfToValues'],axis=1,inplace=True)"
   ]
  },
  {
   "cell_type": "code",
   "execution_count": 520,
   "id": "e667a835",
   "metadata": {},
   "outputs": [
    {
     "data": {
      "text/plain": [
       "(1976, 10)"
      ]
     },
     "execution_count": 520,
     "metadata": {},
     "output_type": "execute_result"
    }
   ],
   "source": [
    "data.shape"
   ]
  },
  {
   "cell_type": "code",
   "execution_count": 521,
   "id": "a9a3220d",
   "metadata": {},
   "outputs": [
    {
     "data": {
      "text/html": [
       "<div>\n",
       "<style scoped>\n",
       "    .dataframe tbody tr th:only-of-type {\n",
       "        vertical-align: middle;\n",
       "    }\n",
       "\n",
       "    .dataframe tbody tr th {\n",
       "        vertical-align: top;\n",
       "    }\n",
       "\n",
       "    .dataframe thead th {\n",
       "        text-align: right;\n",
       "    }\n",
       "</style>\n",
       "<table border=\"1\" class=\"dataframe\">\n",
       "  <thead>\n",
       "    <tr style=\"text-align: right;\">\n",
       "      <th></th>\n",
       "      <th>Topic</th>\n",
       "      <th>EmailSize</th>\n",
       "      <th>Status</th>\n",
       "      <th>isSubscription</th>\n",
       "      <th>AttachmentCount</th>\n",
       "      <th>AttachmentSize</th>\n",
       "      <th>isPrimaryRecipient</th>\n",
       "      <th>isCC</th>\n",
       "      <th>NoOfCCValues</th>\n",
       "      <th>isBCC</th>\n",
       "    </tr>\n",
       "  </thead>\n",
       "  <tbody>\n",
       "    <tr>\n",
       "      <th>0</th>\n",
       "      <td>5</td>\n",
       "      <td>81274</td>\n",
       "      <td>True</td>\n",
       "      <td>False</td>\n",
       "      <td>0</td>\n",
       "      <td>0</td>\n",
       "      <td>True</td>\n",
       "      <td>False</td>\n",
       "      <td>0</td>\n",
       "      <td>False</td>\n",
       "    </tr>\n",
       "    <tr>\n",
       "      <th>1</th>\n",
       "      <td>5</td>\n",
       "      <td>36157</td>\n",
       "      <td>False</td>\n",
       "      <td>True</td>\n",
       "      <td>0</td>\n",
       "      <td>0</td>\n",
       "      <td>True</td>\n",
       "      <td>False</td>\n",
       "      <td>0</td>\n",
       "      <td>False</td>\n",
       "    </tr>\n",
       "    <tr>\n",
       "      <th>2</th>\n",
       "      <td>5</td>\n",
       "      <td>23484</td>\n",
       "      <td>False</td>\n",
       "      <td>False</td>\n",
       "      <td>0</td>\n",
       "      <td>0</td>\n",
       "      <td>True</td>\n",
       "      <td>False</td>\n",
       "      <td>0</td>\n",
       "      <td>False</td>\n",
       "    </tr>\n",
       "    <tr>\n",
       "      <th>3</th>\n",
       "      <td>5</td>\n",
       "      <td>23434</td>\n",
       "      <td>False</td>\n",
       "      <td>False</td>\n",
       "      <td>0</td>\n",
       "      <td>0</td>\n",
       "      <td>True</td>\n",
       "      <td>False</td>\n",
       "      <td>0</td>\n",
       "      <td>False</td>\n",
       "    </tr>\n",
       "    <tr>\n",
       "      <th>4</th>\n",
       "      <td>5</td>\n",
       "      <td>29669</td>\n",
       "      <td>False</td>\n",
       "      <td>True</td>\n",
       "      <td>0</td>\n",
       "      <td>0</td>\n",
       "      <td>True</td>\n",
       "      <td>False</td>\n",
       "      <td>0</td>\n",
       "      <td>False</td>\n",
       "    </tr>\n",
       "  </tbody>\n",
       "</table>\n",
       "</div>"
      ],
      "text/plain": [
       "   Topic  EmailSize  Status  isSubscription  AttachmentCount  AttachmentSize  \\\n",
       "0      5      81274    True           False                0               0   \n",
       "1      5      36157   False            True                0               0   \n",
       "2      5      23484   False           False                0               0   \n",
       "3      5      23434   False           False                0               0   \n",
       "4      5      29669   False            True                0               0   \n",
       "\n",
       "   isPrimaryRecipient   isCC  NoOfCCValues  isBCC  \n",
       "0                True  False             0  False  \n",
       "1                True  False             0  False  \n",
       "2                True  False             0  False  \n",
       "3                True  False             0  False  \n",
       "4                True  False             0  False  "
      ]
     },
     "execution_count": 521,
     "metadata": {},
     "output_type": "execute_result"
    }
   ],
   "source": [
    "data.head()"
   ]
  },
  {
   "cell_type": "code",
   "execution_count": null,
   "id": "d03569a5",
   "metadata": {},
   "outputs": [],
   "source": []
  },
  {
   "cell_type": "code",
   "execution_count": 522,
   "id": "ab4373c6",
   "metadata": {},
   "outputs": [
    {
     "data": {
      "image/png": "[encoded data removed]",
      "text/plain": [
       "<Figure size 288x288 with 1 Axes>"
      ]
     },
     "metadata": {
      "needs_background": "light"
     },
     "output_type": "display_data"
    }
   ],
   "source": [
    "plt.matshow(data.corr())\n",
    "plt.show()"
   ]
  },
  {
   "cell_type": "code",
   "execution_count": 523,
   "id": "ff2efa86",
   "metadata": {},
   "outputs": [
    {
     "data": {
      "text/plain": [
       "(array([ 75.,   0., 432.,   0.,  41.,   0., 523.,   0., 216., 689.]),\n",
       " array([0. , 0.5, 1. , 1.5, 2. , 2.5, 3. , 3.5, 4. , 4.5, 5. ]),\n",
       " <BarContainer object of 10 artists>)"
      ]
     },
     "execution_count": 523,
     "metadata": {},
     "output_type": "execute_result"
    },
    {
     "data": {
      "image/png": "[encoded data removed]",
      "text/plain": [
       "<Figure size 432x288 with 1 Axes>"
      ]
     },
     "metadata": {
      "needs_background": "light"
     },
     "output_type": "display_data"
    }
   ],
   "source": [
    "plt.hist(data['Topic'])"
   ]
  },
  {
   "cell_type": "code",
   "execution_count": 524,
   "id": "9896f2cc",
   "metadata": {},
   "outputs": [],
   "source": [
    "y=data['Topic']\n",
    "X=data.drop('Topic',axis=1)"
   ]
  },
  {
   "cell_type": "code",
   "execution_count": 525,
   "id": "bd46c08f",
   "metadata": {},
   "outputs": [],
   "source": [
    "#encoder = LabelEncoder()\n",
    "#encoder.fit(y)\n",
    "#encoded_Y = encoder.transform(y)\n",
    "# convert integers to dummy variables (one hot encoded)\n",
    "#dummy_y = np_utils.to_categorical(encoded_Y)"
   ]
  },
  {
   "cell_type": "code",
   "execution_count": 526,
   "id": "dc7f5eab",
   "metadata": {},
   "outputs": [],
   "source": [
    "#dummy_y.shape"
   ]
  },
  {
   "cell_type": "code",
   "execution_count": 527,
   "id": "7d429947",
   "metadata": {},
   "outputs": [],
   "source": [
    "y_cat = tf.keras.utils.to_categorical(y)"
   ]
  },
  {
   "cell_type": "code",
   "execution_count": 528,
   "id": "84a85970",
   "metadata": {},
   "outputs": [],
   "source": [
    "X_train, X_test, y_train, y_test = train_test_split(X, y_cat, test_size = 0.2, random_state = 0)"
   ]
  },
  {
   "cell_type": "code",
   "execution_count": 529,
   "id": "e727057b",
   "metadata": {},
   "outputs": [],
   "source": [
    "#Performing Feature Scaling\n",
    "from sklearn.preprocessing import StandardScaler\n",
    "sc = StandardScaler()\n",
    "X_train = sc.fit_transform(X_train)\n",
    "X_test = sc.transform(X_test)"
   ]
  },
  {
   "cell_type": "code",
   "execution_count": null,
   "id": "f4a378dc",
   "metadata": {},
   "outputs": [],
   "source": []
  },
  {
   "cell_type": "code",
   "execution_count": 539,
   "id": "b463fc0d",
   "metadata": {},
   "outputs": [],
   "source": [
    "lr_schedule = tf.keras.optimizers.schedules.ExponentialDecay(\n",
    "    initial_learning_rate=1e-3,\n",
    "    staircase=True,\n",
    "    decay_steps=10000,\n",
    "    decay_rate=0.9)"
   ]
  },
  {
   "cell_type": "code",
   "execution_count": 563,
   "id": "34ffdcf0",
   "metadata": {
    "scrolled": true
   },
   "outputs": [],
   "source": [
    "ann_classifier = Sequential()\n",
    "\n",
    "early_stopping_cb = keras.callbacks.EarlyStopping(monitor=\"loss\", patience=25)\n",
    "# Hidden layers\n",
    "ann_classifier.add(Dense(units = 128, activation = 'relu',kernel_initializer='random_normal', bias_initializer='zeros'))\n",
    "\n",
    "ann_classifier.add(Dense(units=128, activation='relu',kernel_initializer='random_normal',bias_initializer='zeros'))\n",
    "\n",
    "ann_classifier.add(tf.keras.layers.Dropout(rate=0.25))\n",
    "\n",
    "ann_classifier.add(Dense(units = 128, activation = 'relu',kernel_regularizer=tf.keras.regularizers.l2(l=0.01),kernel_initializer='random_normal',\n",
    "    bias_initializer='zeros'))\n",
    "\n",
    "# Output layer\n",
    "ann_classifier.add(Dense(units = len(np.unique(y)), activation = 'softmax'))\n",
    "\n",
    "\n",
    "# Compiling the ANN\n",
    "ann_classifier.compile(optimizer = tf.keras.optimizers.Adamax(learning_rate=lr_schedule) , loss = tf.keras.losses.CategoricalCrossentropy(\n",
    "    from_logits=False,\n",
    "    label_smoothing=0.0,\n",
    "    axis=-1,\n",
    "    reduction=\"auto\",\n",
    "    name=\"categorical_crossentropy\",\n",
    "), metrics = ['accuracy',tf.keras.metrics.SpecificityAtSensitivity(0.8)])\n",
    "\n"
   ]
  },
  {
   "cell_type": "code",
   "execution_count": 566,
   "id": "5e40eec6",
   "metadata": {},
   "outputs": [
    {
     "name": "stdout",
     "output_type": "stream",
     "text": [
      "Epoch 1/1000\n",
      "198/198 [==============================] - 2s 3ms/step - loss: 1.6125 - accuracy: 0.4209 - specificity_at_sensitivity_5: 0.6357\n",
      "Epoch 2/1000\n",
      "198/198 [==============================] - 1s 3ms/step - loss: 1.3910 - accuracy: 0.4209 - specificity_at_sensitivity_5: 0.6613A: 0s - loss: 1.3971 - accuracy: 0.4158 - specificity_at_sensitivity_5: 0.65\n",
      "Epoch 3/1000\n",
      "198/198 [==============================] - 1s 3ms/step - loss: 1.3627 - accuracy: 0.4234 - specificity_at_sensitivity_5: 0.6567\n",
      "Epoch 4/1000\n",
      "198/198 [==============================] - 1s 4ms/step - loss: 1.3428 - accuracy: 0.4348 - specificity_at_sensitivity_5: 0.6539\n",
      "Epoch 5/1000\n",
      "198/198 [==============================] - 1s 4ms/step - loss: 1.3318 - accuracy: 0.4297 - specificity_at_sensitivity_5: 0.6601\n",
      "Epoch 6/1000\n",
      "198/198 [==============================] - 1s 3ms/step - loss: 1.3205 - accuracy: 0.4348 - specificity_at_sensitivity_5: 0.6587A: 0s - loss: 1.2992 - accuracy: 0.4412 - specificity_at_sensitivity\n",
      "Epoch 7/1000\n",
      "198/198 [==============================] - 1s 3ms/step - loss: 1.3142 - accuracy: 0.4253 - specificity_at_sensitivity_5: 0.6638\n",
      "Epoch 8/1000\n",
      "198/198 [==============================] - 1s 4ms/step - loss: 1.3068 - accuracy: 0.4361 - specificity_at_sensitivity_5: 0.6586\n",
      "Epoch 9/1000\n",
      "198/198 [==============================] - 1s 4ms/step - loss: 1.3027 - accuracy: 0.4373 - specificity_at_sensitivity_5: 0.6653\n",
      "Epoch 10/1000\n",
      "198/198 [==============================] - 1s 4ms/step - loss: 1.2975 - accuracy: 0.4361 - specificity_at_sensitivity_5: 0.6705\n",
      "Epoch 11/1000\n",
      "198/198 [==============================] - 1s 4ms/step - loss: 1.2944 - accuracy: 0.4323 - specificity_at_sensitivity_5: 0.6727\n",
      "Epoch 12/1000\n",
      "198/198 [==============================] - 1s 4ms/step - loss: 1.2930 - accuracy: 0.4291 - specificity_at_sensitivity_5: 0.6665\n",
      "Epoch 13/1000\n",
      "198/198 [==============================] - 1s 6ms/step - loss: 1.2884 - accuracy: 0.4342 - specificity_at_sensitivity_5: 0.6734\n",
      "Epoch 14/1000\n",
      "198/198 [==============================] - 1s 4ms/step - loss: 1.2854 - accuracy: 0.4392 - specificity_at_sensitivity_5: 0.6623\n",
      "Epoch 15/1000\n",
      "198/198 [==============================] - 1s 3ms/step - loss: 1.2859 - accuracy: 0.4342 - specificity_at_sensitivity_5: 0.6638\n",
      "Epoch 16/1000\n",
      "198/198 [==============================] - 1s 4ms/step - loss: 1.2859 - accuracy: 0.4310 - specificity_at_sensitivity_5: 0.6575\n",
      "Epoch 17/1000\n",
      "198/198 [==============================] - 1s 3ms/step - loss: 1.2828 - accuracy: 0.4342 - specificity_at_sensitivity_5: 0.6757\n",
      "Epoch 18/1000\n",
      "198/198 [==============================] - 1s 4ms/step - loss: 1.2834 - accuracy: 0.4297 - specificity_at_sensitivity_5: 0.6724\n",
      "Epoch 19/1000\n",
      "198/198 [==============================] - 1s 4ms/step - loss: 1.2776 - accuracy: 0.4418 - specificity_at_sensitivity_5: 0.6661\n",
      "Epoch 20/1000\n",
      "198/198 [==============================] - 1s 4ms/step - loss: 1.2784 - accuracy: 0.4424 - specificity_at_sensitivity_5: 0.6763\n",
      "Epoch 21/1000\n",
      "198/198 [==============================] - 1s 4ms/step - loss: 1.2745 - accuracy: 0.4380 - specificity_at_sensitivity_5: 0.6714\n",
      "Epoch 22/1000\n",
      "198/198 [==============================] - 1s 4ms/step - loss: 1.2762 - accuracy: 0.4443 - specificity_at_sensitivity_5: 0.6656\n",
      "Epoch 23/1000\n",
      "198/198 [==============================] - 1s 4ms/step - loss: 1.2761 - accuracy: 0.4411 - specificity_at_sensitivity_5: 0.6644\n",
      "Epoch 24/1000\n",
      "198/198 [==============================] - 1s 5ms/step - loss: 1.2717 - accuracy: 0.4354 - specificity_at_sensitivity_5: 0.6754\n",
      "Epoch 25/1000\n",
      "198/198 [==============================] - 1s 5ms/step - loss: 1.2776 - accuracy: 0.4411 - specificity_at_sensitivity_5: 0.6673\n",
      "Epoch 26/1000\n",
      "198/198 [==============================] - 1s 4ms/step - loss: 1.2759 - accuracy: 0.4468 - specificity_at_sensitivity_5: 0.6703\n",
      "Epoch 27/1000\n",
      "198/198 [==============================] - 1s 4ms/step - loss: 1.2725 - accuracy: 0.4405 - specificity_at_sensitivity_5: 0.6752A: 0s - loss: 1.2499 - accuracy: 0.4502 - specificity_at_sensitivity_5:\n",
      "Epoch 28/1000\n",
      "198/198 [==============================] - 1s 4ms/step - loss: 1.2759 - accuracy: 0.4373 - specificity_at_sensitivity_5: 0.6630\n",
      "Epoch 29/1000\n",
      "198/198 [==============================] - 1s 4ms/step - loss: 1.2709 - accuracy: 0.4430 - specificity_at_sensitivity_5: 0.6678\n",
      "Epoch 30/1000\n",
      "198/198 [==============================] - 1s 4ms/step - loss: 1.2710 - accuracy: 0.4405 - specificity_at_sensitivity_5: 0.6675\n",
      "Epoch 31/1000\n",
      "198/198 [==============================] - 1s 3ms/step - loss: 1.2704 - accuracy: 0.4475 - specificity_at_sensitivity_5: 0.6720\n",
      "Epoch 32/1000\n",
      "198/198 [==============================] - 1s 4ms/step - loss: 1.2700 - accuracy: 0.4373 - specificity_at_sensitivity_5: 0.6708\n",
      "Epoch 33/1000\n",
      "198/198 [==============================] - 1s 5ms/step - loss: 1.2702 - accuracy: 0.4462 - specificity_at_sensitivity_5: 0.6789A: 0s - loss: 1.2578 - accuracy: 0.4382 - specificity_at_sensitivit\n",
      "Epoch 34/1000\n",
      "198/198 [==============================] - 1s 5ms/step - loss: 1.2716 - accuracy: 0.4475 - specificity_at_sensitivity_5: 0.6659\n",
      "Epoch 35/1000\n",
      "198/198 [==============================] - 1s 5ms/step - loss: 1.2700 - accuracy: 0.4354 - specificity_at_sensitivity_5: 0.6700\n",
      "Epoch 36/1000\n",
      "198/198 [==============================] - 1s 4ms/step - loss: 1.2699 - accuracy: 0.4462 - specificity_at_sensitivity_5: 0.6737\n",
      "Epoch 37/1000\n",
      "198/198 [==============================] - 1s 3ms/step - loss: 1.2690 - accuracy: 0.4361 - specificity_at_sensitivity_5: 0.6614\n",
      "Epoch 38/1000\n",
      "198/198 [==============================] - 1s 3ms/step - loss: 1.2677 - accuracy: 0.4386 - specificity_at_sensitivity_5: 0.6703\n",
      "Epoch 39/1000\n",
      "198/198 [==============================] - 1s 3ms/step - loss: 1.2698 - accuracy: 0.4462 - specificity_at_sensitivity_5: 0.6661\n",
      "Epoch 40/1000\n",
      "198/198 [==============================] - 1s 3ms/step - loss: 1.2671 - accuracy: 0.4430 - specificity_at_sensitivity_5: 0.6734\n",
      "Epoch 41/1000\n",
      "198/198 [==============================] - 1s 3ms/step - loss: 1.2674 - accuracy: 0.4348 - specificity_at_sensitivity_5: 0.6678\n",
      "Epoch 42/1000\n",
      "198/198 [==============================] - 1s 3ms/step - loss: 1.2670 - accuracy: 0.4386 - specificity_at_sensitivity_5: 0.6628\n",
      "Epoch 43/1000\n",
      "198/198 [==============================] - 1s 3ms/step - loss: 1.2645 - accuracy: 0.4411 - specificity_at_sensitivity_5: 0.6596\n",
      "Epoch 44/1000\n",
      "198/198 [==============================] - 1s 3ms/step - loss: 1.2678 - accuracy: 0.4456 - specificity_at_sensitivity_5: 0.6677\n",
      "Epoch 45/1000\n",
      "198/198 [==============================] - 1s 4ms/step - loss: 1.2682 - accuracy: 0.4468 - specificity_at_sensitivity_5: 0.6639\n",
      "Epoch 46/1000\n",
      "198/198 [==============================] - 1s 4ms/step - loss: 1.2660 - accuracy: 0.4456 - specificity_at_sensitivity_5: 0.6784\n",
      "Epoch 47/1000\n",
      "198/198 [==============================] - 1s 4ms/step - loss: 1.2671 - accuracy: 0.4475 - specificity_at_sensitivity_5: 0.6642\n",
      "Epoch 48/1000\n",
      "198/198 [==============================] - 1s 3ms/step - loss: 1.2658 - accuracy: 0.4462 - specificity_at_sensitivity_5: 0.6768\n",
      "Epoch 49/1000\n",
      "198/198 [==============================] - 1s 3ms/step - loss: 1.2642 - accuracy: 0.4468 - specificity_at_sensitivity_5: 0.6701\n",
      "Epoch 50/1000\n",
      "198/198 [==============================] - 1s 3ms/step - loss: 1.2664 - accuracy: 0.4443 - specificity_at_sensitivity_5: 0.6676\n",
      "Epoch 51/1000\n",
      "198/198 [==============================] - 1s 3ms/step - loss: 1.2668 - accuracy: 0.4487 - specificity_at_sensitivity_5: 0.6691\n",
      "Epoch 52/1000\n",
      "198/198 [==============================] - 1s 3ms/step - loss: 1.2628 - accuracy: 0.4462 - specificity_at_sensitivity_5: 0.6747\n",
      "Epoch 53/1000\n",
      "198/198 [==============================] - 1s 3ms/step - loss: 1.2649 - accuracy: 0.4481 - specificity_at_sensitivity_5: 0.6713\n",
      "Epoch 54/1000\n",
      "198/198 [==============================] - 1s 4ms/step - loss: 1.2611 - accuracy: 0.4443 - specificity_at_sensitivity_5: 0.6696\n",
      "Epoch 55/1000\n",
      "198/198 [==============================] - 1s 3ms/step - loss: 1.2618 - accuracy: 0.4424 - specificity_at_sensitivity_5: 0.6733\n",
      "Epoch 56/1000\n"
     ]
    },
    {
     "name": "stdout",
     "output_type": "stream",
     "text": [
      "198/198 [==============================] - 1s 3ms/step - loss: 1.2645 - accuracy: 0.4456 - specificity_at_sensitivity_5: 0.6758\n",
      "Epoch 57/1000\n",
      "198/198 [==============================] - 1s 3ms/step - loss: 1.2651 - accuracy: 0.4468 - specificity_at_sensitivity_5: 0.6763\n",
      "Epoch 58/1000\n",
      "198/198 [==============================] - 1s 3ms/step - loss: 1.2640 - accuracy: 0.4437 - specificity_at_sensitivity_5: 0.6629\n",
      "Epoch 59/1000\n",
      "198/198 [==============================] - 1s 3ms/step - loss: 1.2636 - accuracy: 0.4456 - specificity_at_sensitivity_5: 0.6759\n",
      "Epoch 60/1000\n",
      "198/198 [==============================] - 1s 3ms/step - loss: 1.2648 - accuracy: 0.4468 - specificity_at_sensitivity_5: 0.6735\n",
      "Epoch 61/1000\n",
      "198/198 [==============================] - 1s 3ms/step - loss: 1.2613 - accuracy: 0.4500 - specificity_at_sensitivity_5: 0.6633\n",
      "Epoch 62/1000\n",
      "198/198 [==============================] - 1s 3ms/step - loss: 1.2621 - accuracy: 0.4449 - specificity_at_sensitivity_5: 0.6723\n",
      "Epoch 63/1000\n",
      "198/198 [==============================] - 1s 3ms/step - loss: 1.2625 - accuracy: 0.4475 - specificity_at_sensitivity_5: 0.6610\n",
      "Epoch 64/1000\n",
      "198/198 [==============================] - 1s 4ms/step - loss: 1.2633 - accuracy: 0.4494 - specificity_at_sensitivity_5: 0.6614\n",
      "Epoch 65/1000\n",
      "198/198 [==============================] - 1s 3ms/step - loss: 1.2642 - accuracy: 0.4494 - specificity_at_sensitivity_5: 0.6781\n",
      "Epoch 66/1000\n",
      "198/198 [==============================] - 1s 3ms/step - loss: 1.2606 - accuracy: 0.4481 - specificity_at_sensitivity_5: 0.6685\n",
      "Epoch 67/1000\n",
      "198/198 [==============================] - 1s 4ms/step - loss: 1.2596 - accuracy: 0.4449 - specificity_at_sensitivity_5: 0.6665A: 0s - loss: 1.2557 - accuracy: 0.4522 - specificity_at_sensitivity_5: 0.666\n",
      "Epoch 68/1000\n",
      "198/198 [==============================] - 1s 4ms/step - loss: 1.2611 - accuracy: 0.4462 - specificity_at_sensitivity_5: 0.6682\n",
      "Epoch 69/1000\n",
      "198/198 [==============================] - 1s 4ms/step - loss: 1.2626 - accuracy: 0.4468 - specificity_at_sensitivity_5: 0.6689\n",
      "Epoch 70/1000\n",
      "198/198 [==============================] - 1s 4ms/step - loss: 1.2583 - accuracy: 0.4494 - specificity_at_sensitivity_5: 0.6684\n",
      "Epoch 71/1000\n",
      "198/198 [==============================] - 1s 3ms/step - loss: 1.2625 - accuracy: 0.4487 - specificity_at_sensitivity_5: 0.6705\n",
      "Epoch 72/1000\n",
      "198/198 [==============================] - 1s 3ms/step - loss: 1.2624 - accuracy: 0.4487 - specificity_at_sensitivity_5: 0.6643\n",
      "Epoch 73/1000\n",
      "198/198 [==============================] - 1s 3ms/step - loss: 1.2597 - accuracy: 0.4456 - specificity_at_sensitivity_5: 0.6689\n",
      "Epoch 74/1000\n",
      "198/198 [==============================] - 1s 3ms/step - loss: 1.2605 - accuracy: 0.4481 - specificity_at_sensitivity_5: 0.6648\n",
      "Epoch 75/1000\n",
      "198/198 [==============================] - 1s 3ms/step - loss: 1.2595 - accuracy: 0.4481 - specificity_at_sensitivity_5: 0.6605A: 0s - loss: 1.1891 - accuracy: 0.4766 - specificity_at_sensitivit\n",
      "Epoch 76/1000\n",
      "198/198 [==============================] - 1s 4ms/step - loss: 1.2630 - accuracy: 0.4468 - specificity_at_sensitivity_5: 0.6686\n",
      "Epoch 77/1000\n",
      "198/198 [==============================] - ETA: 0s - loss: 1.2652 - accuracy: 0.4454 - specificity_at_sensitivity_5: 0.667 - 1s 3ms/step - loss: 1.2591 - accuracy: 0.4494 - specificity_at_sensitivity_5: 0.6705\n",
      "Epoch 78/1000\n",
      "198/198 [==============================] - 1s 3ms/step - loss: 1.2588 - accuracy: 0.4487 - specificity_at_sensitivity_5: 0.6772A: 0s - loss: 1.2488 - accuracy: 0.4495 - specificity_at_sensitivity_5:\n",
      "Epoch 79/1000\n",
      "198/198 [==============================] - 1s 3ms/step - loss: 1.2600 - accuracy: 0.4475 - specificity_at_sensitivity_5: 0.6628\n",
      "Epoch 80/1000\n",
      "198/198 [==============================] - 1s 4ms/step - loss: 1.2577 - accuracy: 0.4494 - specificity_at_sensitivity_5: 0.6716A: 0s - loss: 1.2541 - accuracy: 0.4496 - specificity_at_sensitivity_5: 0.67\n",
      "Epoch 81/1000\n",
      "198/198 [==============================] - 1s 3ms/step - loss: 1.2591 - accuracy: 0.4487 - specificity_at_sensitivity_5: 0.6663\n",
      "Epoch 82/1000\n",
      "198/198 [==============================] - 1s 4ms/step - loss: 1.2584 - accuracy: 0.4487 - specificity_at_sensitivity_5: 0.6811\n",
      "Epoch 83/1000\n",
      "198/198 [==============================] - 1s 3ms/step - loss: 1.2568 - accuracy: 0.4468 - specificity_at_sensitivity_5: 0.6748A: 0s - loss: 1.2755 - accuracy: 0.4349 - specificity_at_sensitivity_5: 0.\n",
      "Epoch 84/1000\n",
      "198/198 [==============================] - 1s 3ms/step - loss: 1.2611 - accuracy: 0.4500 - specificity_at_sensitivity_5: 0.6722\n",
      "Epoch 85/1000\n",
      "198/198 [==============================] - 1s 3ms/step - loss: 1.2555 - accuracy: 0.4462 - specificity_at_sensitivity_5: 0.6716\n",
      "Epoch 86/1000\n",
      "198/198 [==============================] - 1s 3ms/step - loss: 1.2606 - accuracy: 0.4475 - specificity_at_sensitivity_5: 0.6696\n",
      "Epoch 87/1000\n",
      "198/198 [==============================] - 1s 3ms/step - loss: 1.2583 - accuracy: 0.4468 - specificity_at_sensitivity_5: 0.6763\n",
      "Epoch 88/1000\n",
      "198/198 [==============================] - 1s 3ms/step - loss: 1.2564 - accuracy: 0.4494 - specificity_at_sensitivity_5: 0.6657\n",
      "Epoch 89/1000\n",
      "198/198 [==============================] - 1s 4ms/step - loss: 1.2599 - accuracy: 0.4494 - specificity_at_sensitivity_5: 0.6605\n",
      "Epoch 90/1000\n",
      "198/198 [==============================] - 1s 3ms/step - loss: 1.2587 - accuracy: 0.4487 - specificity_at_sensitivity_5: 0.6689\n",
      "Epoch 91/1000\n",
      "198/198 [==============================] - 1s 3ms/step - loss: 1.2579 - accuracy: 0.4487 - specificity_at_sensitivity_5: 0.6646\n",
      "Epoch 92/1000\n",
      "198/198 [==============================] - 1s 4ms/step - loss: 1.2577 - accuracy: 0.4500 - specificity_at_sensitivity_5: 0.6700A: 0s - loss: 1.2550 - accuracy: 0.4463 - specificity_at_sensitivity_5: 0.\n",
      "Epoch 93/1000\n",
      "198/198 [==============================] - 1s 4ms/step - loss: 1.2564 - accuracy: 0.4513 - specificity_at_sensitivity_5: 0.6720\n",
      "Epoch 94/1000\n",
      "198/198 [==============================] - 1s 3ms/step - loss: 1.2568 - accuracy: 0.4494 - specificity_at_sensitivity_5: 0.6742\n",
      "Epoch 95/1000\n",
      "198/198 [==============================] - 1s 4ms/step - loss: 1.2579 - accuracy: 0.4487 - specificity_at_sensitivity_5: 0.6728\n",
      "Epoch 96/1000\n",
      "198/198 [==============================] - 1s 4ms/step - loss: 1.2571 - accuracy: 0.4481 - specificity_at_sensitivity_5: 0.6733\n",
      "Epoch 97/1000\n",
      "198/198 [==============================] - 1s 4ms/step - loss: 1.2570 - accuracy: 0.4487 - specificity_at_sensitivity_5: 0.6665\n",
      "Epoch 98/1000\n",
      "198/198 [==============================] - 1s 4ms/step - loss: 1.2549 - accuracy: 0.4519 - specificity_at_sensitivity_5: 0.6677\n",
      "Epoch 99/1000\n",
      "198/198 [==============================] - 1s 4ms/step - loss: 1.2564 - accuracy: 0.4500 - specificity_at_sensitivity_5: 0.6734\n",
      "Epoch 100/1000\n",
      "198/198 [==============================] - 1s 4ms/step - loss: 1.2578 - accuracy: 0.4487 - specificity_at_sensitivity_5: 0.6691\n",
      "Epoch 101/1000\n",
      "198/198 [==============================] - 1s 3ms/step - loss: 1.2575 - accuracy: 0.4475 - specificity_at_sensitivity_5: 0.6677\n",
      "Epoch 102/1000\n",
      "198/198 [==============================] - 1s 4ms/step - loss: 1.2537 - accuracy: 0.4513 - specificity_at_sensitivity_5: 0.6680\n",
      "Epoch 103/1000\n",
      "198/198 [==============================] - 1s 3ms/step - loss: 1.2553 - accuracy: 0.4500 - specificity_at_sensitivity_5: 0.6697\n",
      "Epoch 104/1000\n",
      "198/198 [==============================] - 1s 3ms/step - loss: 1.2552 - accuracy: 0.4462 - specificity_at_sensitivity_5: 0.6629\n",
      "Epoch 105/1000\n",
      "198/198 [==============================] - 1s 3ms/step - loss: 1.2546 - accuracy: 0.4487 - specificity_at_sensitivity_5: 0.6732\n",
      "Epoch 106/1000\n",
      "198/198 [==============================] - 1s 4ms/step - loss: 1.2541 - accuracy: 0.4481 - specificity_at_sensitivity_5: 0.6734\n",
      "Epoch 107/1000\n",
      "198/198 [==============================] - 1s 3ms/step - loss: 1.2537 - accuracy: 0.4475 - specificity_at_sensitivity_5: 0.6748\n",
      "Epoch 108/1000\n",
      "198/198 [==============================] - 1s 3ms/step - loss: 1.2535 - accuracy: 0.4481 - specificity_at_sensitivity_5: 0.6630\n",
      "Epoch 109/1000\n",
      "198/198 [==============================] - 1s 4ms/step - loss: 1.2545 - accuracy: 0.4481 - specificity_at_sensitivity_5: 0.6549\n",
      "Epoch 110/1000\n"
     ]
    },
    {
     "name": "stdout",
     "output_type": "stream",
     "text": [
      "198/198 [==============================] - 1s 3ms/step - loss: 1.2527 - accuracy: 0.4500 - specificity_at_sensitivity_5: 0.6753\n",
      "Epoch 111/1000\n",
      "198/198 [==============================] - 1s 3ms/step - loss: 1.2526 - accuracy: 0.4506 - specificity_at_sensitivity_5: 0.6665\n",
      "Epoch 112/1000\n",
      "198/198 [==============================] - 1s 4ms/step - loss: 1.2529 - accuracy: 0.4487 - specificity_at_sensitivity_5: 0.6665\n",
      "Epoch 113/1000\n",
      "198/198 [==============================] - 1s 3ms/step - loss: 1.2518 - accuracy: 0.4475 - specificity_at_sensitivity_5: 0.6765\n",
      "Epoch 114/1000\n",
      "198/198 [==============================] - 1s 4ms/step - loss: 1.2511 - accuracy: 0.4513 - specificity_at_sensitivity_5: 0.6716\n",
      "Epoch 115/1000\n",
      "198/198 [==============================] - 1s 5ms/step - loss: 1.2532 - accuracy: 0.4487 - specificity_at_sensitivity_5: 0.6628\n",
      "Epoch 116/1000\n",
      "198/198 [==============================] - 1s 3ms/step - loss: 1.2514 - accuracy: 0.4500 - specificity_at_sensitivity_5: 0.6661A: 0s - loss: 1.3198 - accuracy: 0.4180 - specificity_at_sensitivit\n",
      "Epoch 117/1000\n",
      "198/198 [==============================] - 1s 3ms/step - loss: 1.2516 - accuracy: 0.4506 - specificity_at_sensitivity_5: 0.6672\n",
      "Epoch 118/1000\n",
      "198/198 [==============================] - 1s 3ms/step - loss: 1.2524 - accuracy: 0.4487 - specificity_at_sensitivity_5: 0.6748\n",
      "Epoch 119/1000\n",
      "198/198 [==============================] - 1s 3ms/step - loss: 1.2510 - accuracy: 0.4506 - specificity_at_sensitivity_5: 0.6668\n",
      "Epoch 120/1000\n",
      "198/198 [==============================] - 1s 3ms/step - loss: 1.2488 - accuracy: 0.4513 - specificity_at_sensitivity_5: 0.6739\n",
      "Epoch 121/1000\n",
      "198/198 [==============================] - 1s 5ms/step - loss: 1.2517 - accuracy: 0.4456 - specificity_at_sensitivity_5: 0.6587\n",
      "Epoch 122/1000\n",
      "198/198 [==============================] - 1s 6ms/step - loss: 1.2526 - accuracy: 0.4487 - specificity_at_sensitivity_5: 0.6580\n",
      "Epoch 123/1000\n",
      "198/198 [==============================] - 1s 4ms/step - loss: 1.2508 - accuracy: 0.4487 - specificity_at_sensitivity_5: 0.6682A: 0s - loss: 1.2501 - accuracy: 0.4087 - specificity_at_sensiti\n",
      "Epoch 124/1000\n",
      "198/198 [==============================] - 1s 7ms/step - loss: 1.2488 - accuracy: 0.4487 - specificity_at_sensitivity_5: 0.6751A: 0s - loss: 1.2925 - accuracy: 0.4243 - specificity_at_sensi\n",
      "Epoch 125/1000\n",
      "198/198 [==============================] - 1s 4ms/step - loss: 1.2485 - accuracy: 0.4500 - specificity_at_sensitivity_5: 0.6700A: 0s - loss: 1.2554 - accuracy: 0.4495 - specificity_at_sensitivity_5: 0.670\n",
      "Epoch 126/1000\n",
      "198/198 [==============================] - 1s 4ms/step - loss: 1.2488 - accuracy: 0.4494 - specificity_at_sensitivity_5: 0.6777\n",
      "Epoch 127/1000\n",
      "198/198 [==============================] - 1s 4ms/step - loss: 1.2487 - accuracy: 0.4494 - specificity_at_sensitivity_5: 0.6771\n",
      "Epoch 128/1000\n",
      "198/198 [==============================] - 1s 4ms/step - loss: 1.2486 - accuracy: 0.4513 - specificity_at_sensitivity_5: 0.6713\n",
      "Epoch 129/1000\n",
      "198/198 [==============================] - 1s 4ms/step - loss: 1.2486 - accuracy: 0.4506 - specificity_at_sensitivity_5: 0.6735A: 0s - loss: 1.2304 - accuracy: 0.4613 - specificity_at_sensitivity_\n",
      "Epoch 130/1000\n",
      "198/198 [==============================] - 1s 4ms/step - loss: 1.2482 - accuracy: 0.4494 - specificity_at_sensitivity_5: 0.6610\n",
      "Epoch 131/1000\n",
      "198/198 [==============================] - 1s 4ms/step - loss: 1.2469 - accuracy: 0.4525 - specificity_at_sensitivity_5: 0.6747\n",
      "Epoch 132/1000\n",
      "198/198 [==============================] - 1s 4ms/step - loss: 1.2467 - accuracy: 0.4513 - specificity_at_sensitivity_5: 0.6716\n",
      "Epoch 133/1000\n",
      "198/198 [==============================] - 1s 4ms/step - loss: 1.2459 - accuracy: 0.4506 - specificity_at_sensitivity_5: 0.6633\n",
      "Epoch 134/1000\n",
      "198/198 [==============================] - 1s 4ms/step - loss: 1.2475 - accuracy: 0.4500 - specificity_at_sensitivity_5: 0.6747\n",
      "Epoch 135/1000\n",
      "198/198 [==============================] - 1s 3ms/step - loss: 1.2454 - accuracy: 0.4500 - specificity_at_sensitivity_5: 0.6659\n",
      "Epoch 136/1000\n",
      "198/198 [==============================] - 1s 3ms/step - loss: 1.2469 - accuracy: 0.4481 - specificity_at_sensitivity_5: 0.6671\n",
      "Epoch 137/1000\n",
      "198/198 [==============================] - ETA: 0s - loss: 1.2400 - accuracy: 0.4541 - specificity_at_sensitivity_5: 0.670 - 1s 3ms/step - loss: 1.2456 - accuracy: 0.4513 - specificity_at_sensitivity_5: 0.6719\n",
      "Epoch 138/1000\n",
      "198/198 [==============================] - 1s 3ms/step - loss: 1.2466 - accuracy: 0.4519 - specificity_at_sensitivity_5: 0.6658\n",
      "Epoch 139/1000\n",
      "198/198 [==============================] - 1s 3ms/step - loss: 1.2436 - accuracy: 0.4506 - specificity_at_sensitivity_5: 0.6703\n",
      "Epoch 140/1000\n",
      "198/198 [==============================] - 1s 3ms/step - loss: 1.2440 - accuracy: 0.4513 - specificity_at_sensitivity_5: 0.6815\n",
      "Epoch 141/1000\n",
      "198/198 [==============================] - 1s 3ms/step - loss: 1.2444 - accuracy: 0.4532 - specificity_at_sensitivity_5: 0.6734\n",
      "Epoch 142/1000\n",
      "198/198 [==============================] - 1s 3ms/step - loss: 1.2466 - accuracy: 0.4500 - specificity_at_sensitivity_5: 0.6727\n",
      "Epoch 143/1000\n",
      "198/198 [==============================] - 1s 3ms/step - loss: 1.2431 - accuracy: 0.4519 - specificity_at_sensitivity_5: 0.6754\n",
      "Epoch 144/1000\n",
      "198/198 [==============================] - 1s 3ms/step - loss: 1.2433 - accuracy: 0.4544 - specificity_at_sensitivity_5: 0.6723A: 0s - loss: 1.2261 - accuracy: 0.4614 - specificity_at_sensitivity_5:\n",
      "Epoch 145/1000\n",
      "198/198 [==============================] - 1s 3ms/step - loss: 1.2422 - accuracy: 0.4544 - specificity_at_sensitivity_5: 0.6623\n",
      "Epoch 146/1000\n",
      "198/198 [==============================] - 1s 3ms/step - loss: 1.2427 - accuracy: 0.4525 - specificity_at_sensitivity_5: 0.6704\n",
      "Epoch 147/1000\n",
      "198/198 [==============================] - 1s 3ms/step - loss: 1.2432 - accuracy: 0.4525 - specificity_at_sensitivity_5: 0.6719\n",
      "Epoch 148/1000\n",
      "198/198 [==============================] - 1s 3ms/step - loss: 1.2432 - accuracy: 0.4551 - specificity_at_sensitivity_5: 0.6625\n",
      "Epoch 149/1000\n",
      "198/198 [==============================] - 1s 3ms/step - loss: 1.2432 - accuracy: 0.4506 - specificity_at_sensitivity_5: 0.6570\n",
      "Epoch 150/1000\n",
      "198/198 [==============================] - 1s 3ms/step - loss: 1.2405 - accuracy: 0.4551 - specificity_at_sensitivity_5: 0.6710\n",
      "Epoch 151/1000\n",
      "198/198 [==============================] - 1s 3ms/step - loss: 1.2395 - accuracy: 0.4551 - specificity_at_sensitivity_5: 0.6728\n",
      "Epoch 152/1000\n",
      "198/198 [==============================] - 1s 3ms/step - loss: 1.2376 - accuracy: 0.4557 - specificity_at_sensitivity_5: 0.6706\n",
      "Epoch 153/1000\n",
      "198/198 [==============================] - 1s 3ms/step - loss: 1.2378 - accuracy: 0.4557 - specificity_at_sensitivity_5: 0.6719\n",
      "Epoch 154/1000\n",
      "198/198 [==============================] - 1s 3ms/step - loss: 1.2369 - accuracy: 0.4544 - specificity_at_sensitivity_5: 0.6823\n",
      "Epoch 155/1000\n",
      "198/198 [==============================] - 1s 4ms/step - loss: 1.2388 - accuracy: 0.4544 - specificity_at_sensitivity_5: 0.6649\n",
      "Epoch 156/1000\n",
      "198/198 [==============================] - 1s 4ms/step - loss: 1.2369 - accuracy: 0.4557 - specificity_at_sensitivity_5: 0.6649\n",
      "Epoch 157/1000\n",
      "198/198 [==============================] - 1s 3ms/step - loss: 1.2387 - accuracy: 0.4538 - specificity_at_sensitivity_5: 0.6765\n",
      "Epoch 158/1000\n",
      "198/198 [==============================] - 1s 3ms/step - loss: 1.2354 - accuracy: 0.4563 - specificity_at_sensitivity_5: 0.6733\n",
      "Epoch 159/1000\n",
      "198/198 [==============================] - 1s 4ms/step - loss: 1.2389 - accuracy: 0.4563 - specificity_at_sensitivity_5: 0.6746\n",
      "Epoch 160/1000\n",
      "198/198 [==============================] - 1s 4ms/step - loss: 1.2363 - accuracy: 0.4551 - specificity_at_sensitivity_5: 0.6752\n",
      "Epoch 161/1000\n",
      "198/198 [==============================] - 1s 3ms/step - loss: 1.2360 - accuracy: 0.4563 - specificity_at_sensitivity_5: 0.6799\n",
      "Epoch 162/1000\n",
      "198/198 [==============================] - 1s 4ms/step - loss: 1.2351 - accuracy: 0.4544 - specificity_at_sensitivity_5: 0.6746\n",
      "Epoch 163/1000\n"
     ]
    },
    {
     "name": "stdout",
     "output_type": "stream",
     "text": [
      "198/198 [==============================] - 1s 3ms/step - loss: 1.2362 - accuracy: 0.4532 - specificity_at_sensitivity_5: 0.6896\n",
      "Epoch 164/1000\n",
      "198/198 [==============================] - 1s 4ms/step - loss: 1.2360 - accuracy: 0.4557 - specificity_at_sensitivity_5: 0.6787\n",
      "Epoch 165/1000\n",
      "198/198 [==============================] - 1s 3ms/step - loss: 1.2348 - accuracy: 0.4557 - specificity_at_sensitivity_5: 0.6875\n",
      "Epoch 166/1000\n",
      "198/198 [==============================] - 1s 3ms/step - loss: 1.2342 - accuracy: 0.4563 - specificity_at_sensitivity_5: 0.6765\n",
      "Epoch 167/1000\n",
      "198/198 [==============================] - 1s 4ms/step - loss: 1.2326 - accuracy: 0.4544 - specificity_at_sensitivity_5: 0.6848\n",
      "Epoch 168/1000\n",
      "198/198 [==============================] - 1s 5ms/step - loss: 1.2370 - accuracy: 0.4563 - specificity_at_sensitivity_5: 0.6772\n",
      "Epoch 169/1000\n",
      "198/198 [==============================] - 1s 5ms/step - loss: 1.2363 - accuracy: 0.4551 - specificity_at_sensitivity_5: 0.6738\n",
      "Epoch 170/1000\n",
      "198/198 [==============================] - 1s 4ms/step - loss: 1.2343 - accuracy: 0.4506 - specificity_at_sensitivity_5: 0.6768\n",
      "Epoch 171/1000\n",
      "198/198 [==============================] - 1s 4ms/step - loss: 1.2323 - accuracy: 0.4570 - specificity_at_sensitivity_5: 0.6767\n",
      "Epoch 172/1000\n",
      "198/198 [==============================] - 1s 4ms/step - loss: 1.2335 - accuracy: 0.4557 - specificity_at_sensitivity_5: 0.6832\n",
      "Epoch 173/1000\n",
      "198/198 [==============================] - 1s 3ms/step - loss: 1.2356 - accuracy: 0.4551 - specificity_at_sensitivity_5: 0.6849\n",
      "Epoch 174/1000\n",
      "198/198 [==============================] - 1s 3ms/step - loss: 1.2337 - accuracy: 0.4582 - specificity_at_sensitivity_5: 0.6706\n",
      "Epoch 175/1000\n",
      "198/198 [==============================] - 1s 3ms/step - loss: 1.2328 - accuracy: 0.4563 - specificity_at_sensitivity_5: 0.6900\n",
      "Epoch 176/1000\n",
      "198/198 [==============================] - 1s 4ms/step - loss: 1.2310 - accuracy: 0.4519 - specificity_at_sensitivity_5: 0.6824\n",
      "Epoch 177/1000\n",
      "198/198 [==============================] - 1s 4ms/step - loss: 1.2337 - accuracy: 0.4551 - specificity_at_sensitivity_5: 0.6816\n",
      "Epoch 178/1000\n",
      "198/198 [==============================] - 1s 4ms/step - loss: 1.2306 - accuracy: 0.4557 - specificity_at_sensitivity_5: 0.6782\n",
      "Epoch 179/1000\n",
      "198/198 [==============================] - 1s 3ms/step - loss: 1.2328 - accuracy: 0.4570 - specificity_at_sensitivity_5: 0.6704\n",
      "Epoch 180/1000\n",
      "198/198 [==============================] - 1s 4ms/step - loss: 1.2320 - accuracy: 0.4563 - specificity_at_sensitivity_5: 0.6795\n",
      "Epoch 181/1000\n",
      "198/198 [==============================] - 1s 3ms/step - loss: 1.2314 - accuracy: 0.4570 - specificity_at_sensitivity_5: 0.6799\n",
      "Epoch 182/1000\n",
      "198/198 [==============================] - 1s 3ms/step - loss: 1.2327 - accuracy: 0.4576 - specificity_at_sensitivity_5: 0.6780\n",
      "Epoch 183/1000\n",
      "198/198 [==============================] - 1s 3ms/step - loss: 1.2309 - accuracy: 0.4576 - specificity_at_sensitivity_5: 0.6814\n",
      "Epoch 184/1000\n",
      "198/198 [==============================] - 1s 4ms/step - loss: 1.2266 - accuracy: 0.4557 - specificity_at_sensitivity_5: 0.6737\n",
      "Epoch 185/1000\n",
      "198/198 [==============================] - 1s 3ms/step - loss: 1.2325 - accuracy: 0.4557 - specificity_at_sensitivity_5: 0.6803A: 0s - loss: 1.2305 - accuracy: 0.5000 - specificity_at_sensitivity_5: 0.660 - ETA: 0s - loss: 1.2414 - accuracy: 0.4698 - specificity_at_sensitivit\n",
      "Epoch 186/1000\n",
      "198/198 [==============================] - 1s 3ms/step - loss: 1.2342 - accuracy: 0.4557 - specificity_at_sensitivity_5: 0.6757\n",
      "Epoch 187/1000\n",
      "198/198 [==============================] - 1s 3ms/step - loss: 1.2303 - accuracy: 0.4544 - specificity_at_sensitivity_5: 0.6752\n",
      "Epoch 188/1000\n",
      "198/198 [==============================] - 1s 3ms/step - loss: 1.2314 - accuracy: 0.4570 - specificity_at_sensitivity_5: 0.6813\n",
      "Epoch 189/1000\n",
      "198/198 [==============================] - 1s 3ms/step - loss: 1.2267 - accuracy: 0.4576 - specificity_at_sensitivity_5: 0.6904\n",
      "Epoch 190/1000\n",
      "198/198 [==============================] - 1s 3ms/step - loss: 1.2297 - accuracy: 0.4544 - specificity_at_sensitivity_5: 0.6820\n",
      "Epoch 191/1000\n",
      "198/198 [==============================] - 1s 3ms/step - loss: 1.2271 - accuracy: 0.4589 - specificity_at_sensitivity_5: 0.6811\n",
      "Epoch 192/1000\n",
      "198/198 [==============================] - 1s 3ms/step - loss: 1.2297 - accuracy: 0.4532 - specificity_at_sensitivity_5: 0.6819\n",
      "Epoch 193/1000\n",
      "198/198 [==============================] - 1s 3ms/step - loss: 1.2317 - accuracy: 0.4551 - specificity_at_sensitivity_5: 0.6765\n",
      "Epoch 194/1000\n",
      "198/198 [==============================] - 1s 3ms/step - loss: 1.2324 - accuracy: 0.4551 - specificity_at_sensitivity_5: 0.6844A: 0s - loss: 1.2405 - accuracy: 0.4345 - specificity_at_sensitivity_5\n",
      "Epoch 195/1000\n",
      "198/198 [==============================] - 1s 4ms/step - loss: 1.2301 - accuracy: 0.4563 - specificity_at_sensitivity_5: 0.6871\n",
      "Epoch 196/1000\n",
      "198/198 [==============================] - 1s 4ms/step - loss: 1.2273 - accuracy: 0.4576 - specificity_at_sensitivity_5: 0.6890\n",
      "Epoch 197/1000\n",
      "198/198 [==============================] - 1s 4ms/step - loss: 1.2285 - accuracy: 0.4570 - specificity_at_sensitivity_5: 0.6890\n",
      "Epoch 198/1000\n",
      "198/198 [==============================] - 1s 4ms/step - loss: 1.2284 - accuracy: 0.4557 - specificity_at_sensitivity_5: 0.6847\n",
      "Epoch 199/1000\n",
      "198/198 [==============================] - 1s 3ms/step - loss: 1.2316 - accuracy: 0.4557 - specificity_at_sensitivity_5: 0.6819\n",
      "Epoch 200/1000\n",
      "198/198 [==============================] - 1s 3ms/step - loss: 1.2276 - accuracy: 0.4595 - specificity_at_sensitivity_5: 0.6763A: 0s - loss: 1.2371 - accuracy: 0.4118 - specificity_at_sensitivi\n",
      "Epoch 201/1000\n",
      "198/198 [==============================] - 1s 3ms/step - loss: 1.2265 - accuracy: 0.4582 - specificity_at_sensitivity_5: 0.6861\n",
      "Epoch 202/1000\n",
      "198/198 [==============================] - 1s 3ms/step - loss: 1.2277 - accuracy: 0.4557 - specificity_at_sensitivity_5: 0.6867A: 0s - loss: 1.2120 - accuracy: 0.4684 - specificity_at_sensitivity_5:\n",
      "Epoch 203/1000\n",
      "198/198 [==============================] - 1s 3ms/step - loss: 1.2272 - accuracy: 0.4513 - specificity_at_sensitivity_5: 0.6873A: 0s - loss: 1.2292 - accuracy: 0.4574 - specificity_at_sensitivity\n",
      "Epoch 204/1000\n",
      "198/198 [==============================] - 1s 3ms/step - loss: 1.2290 - accuracy: 0.4576 - specificity_at_sensitivity_5: 0.6862\n",
      "Epoch 205/1000\n",
      "198/198 [==============================] - 1s 3ms/step - loss: 1.2260 - accuracy: 0.4582 - specificity_at_sensitivity_5: 0.6829\n",
      "Epoch 206/1000\n",
      "198/198 [==============================] - 1s 3ms/step - loss: 1.2278 - accuracy: 0.4576 - specificity_at_sensitivity_5: 0.6814\n",
      "Epoch 207/1000\n",
      "198/198 [==============================] - 1s 3ms/step - loss: 1.2284 - accuracy: 0.4563 - specificity_at_sensitivity_5: 0.6763\n",
      "Epoch 208/1000\n",
      "198/198 [==============================] - 1s 3ms/step - loss: 1.2256 - accuracy: 0.4595 - specificity_at_sensitivity_5: 0.6765\n",
      "Epoch 209/1000\n",
      "198/198 [==============================] - 1s 3ms/step - loss: 1.2260 - accuracy: 0.4570 - specificity_at_sensitivity_5: 0.6854\n",
      "Epoch 210/1000\n",
      "198/198 [==============================] - 1s 3ms/step - loss: 1.2267 - accuracy: 0.4557 - specificity_at_sensitivity_5: 0.6773\n",
      "Epoch 211/1000\n",
      "198/198 [==============================] - 1s 3ms/step - loss: 1.2262 - accuracy: 0.4589 - specificity_at_sensitivity_5: 0.6906\n",
      "Epoch 212/1000\n",
      "198/198 [==============================] - 1s 3ms/step - loss: 1.2258 - accuracy: 0.4595 - specificity_at_sensitivity_5: 0.6924\n",
      "Epoch 213/1000\n",
      "198/198 [==============================] - 1s 3ms/step - loss: 1.2249 - accuracy: 0.4595 - specificity_at_sensitivity_5: 0.6881\n",
      "Epoch 214/1000\n",
      "198/198 [==============================] - 1s 3ms/step - loss: 1.2241 - accuracy: 0.4576 - specificity_at_sensitivity_5: 0.6830\n",
      "Epoch 215/1000\n",
      "198/198 [==============================] - 1s 3ms/step - loss: 1.2256 - accuracy: 0.4595 - specificity_at_sensitivity_5: 0.6897\n",
      "Epoch 216/1000\n",
      "198/198 [==============================] - 1s 3ms/step - loss: 1.2235 - accuracy: 0.4576 - specificity_at_sensitivity_5: 0.6876\n",
      "Epoch 217/1000\n"
     ]
    },
    {
     "name": "stdout",
     "output_type": "stream",
     "text": [
      "198/198 [==============================] - 1s 3ms/step - loss: 1.2247 - accuracy: 0.4532 - specificity_at_sensitivity_5: 0.6873\n",
      "Epoch 218/1000\n",
      "198/198 [==============================] - 1s 3ms/step - loss: 1.2266 - accuracy: 0.4544 - specificity_at_sensitivity_5: 0.6877\n",
      "Epoch 219/1000\n",
      "198/198 [==============================] - 1s 3ms/step - loss: 1.2239 - accuracy: 0.4551 - specificity_at_sensitivity_5: 0.6832A: 0s - loss: 1.2909 - accuracy: 0.4417 - specificity_at_sensitivity\n",
      "Epoch 220/1000\n",
      "198/198 [==============================] - 1s 3ms/step - loss: 1.2219 - accuracy: 0.4563 - specificity_at_sensitivity_5: 0.6837\n",
      "Epoch 221/1000\n",
      "198/198 [==============================] - 1s 3ms/step - loss: 1.2250 - accuracy: 0.4576 - specificity_at_sensitivity_5: 0.6862\n",
      "Epoch 222/1000\n",
      "198/198 [==============================] - 1s 3ms/step - loss: 1.2253 - accuracy: 0.4532 - specificity_at_sensitivity_5: 0.6823\n",
      "Epoch 223/1000\n",
      "198/198 [==============================] - 1s 3ms/step - loss: 1.2264 - accuracy: 0.4576 - specificity_at_sensitivity_5: 0.6905A: 0s - loss: 1.2355 - accuracy: 0.4574 - specificity_at_sensitivity_5: 0\n",
      "Epoch 224/1000\n",
      "198/198 [==============================] - 1s 3ms/step - loss: 1.2245 - accuracy: 0.4570 - specificity_at_sensitivity_5: 0.6824\n",
      "Epoch 225/1000\n",
      "198/198 [==============================] - 1s 3ms/step - loss: 1.2220 - accuracy: 0.4570 - specificity_at_sensitivity_5: 0.6805\n",
      "Epoch 226/1000\n",
      "198/198 [==============================] - 1s 3ms/step - loss: 1.2231 - accuracy: 0.4582 - specificity_at_sensitivity_5: 0.6704\n",
      "Epoch 227/1000\n",
      "198/198 [==============================] - 1s 3ms/step - loss: 1.2225 - accuracy: 0.4582 - specificity_at_sensitivity_5: 0.6792\n",
      "Epoch 228/1000\n",
      "198/198 [==============================] - 1s 3ms/step - loss: 1.2190 - accuracy: 0.4589 - specificity_at_sensitivity_5: 0.6911\n",
      "Epoch 229/1000\n",
      "198/198 [==============================] - 1s 3ms/step - loss: 1.2249 - accuracy: 0.4576 - specificity_at_sensitivity_5: 0.6782\n",
      "Epoch 230/1000\n",
      "198/198 [==============================] - 1s 3ms/step - loss: 1.2232 - accuracy: 0.4576 - specificity_at_sensitivity_5: 0.6823\n",
      "Epoch 231/1000\n",
      "198/198 [==============================] - 1s 3ms/step - loss: 1.2234 - accuracy: 0.4544 - specificity_at_sensitivity_5: 0.6870\n",
      "Epoch 232/1000\n",
      "198/198 [==============================] - 1s 3ms/step - loss: 1.2205 - accuracy: 0.4576 - specificity_at_sensitivity_5: 0.6911A: 0s - loss: 1.1948 - accuracy: 0.4735 - specificity_at_sensitivity_5:\n",
      "Epoch 233/1000\n",
      "198/198 [==============================] - 1s 3ms/step - loss: 1.2231 - accuracy: 0.4551 - specificity_at_sensitivity_5: 0.6885\n",
      "Epoch 234/1000\n",
      "198/198 [==============================] - 1s 3ms/step - loss: 1.2241 - accuracy: 0.4557 - specificity_at_sensitivity_5: 0.6875\n",
      "Epoch 235/1000\n",
      "198/198 [==============================] - 1s 3ms/step - loss: 1.2246 - accuracy: 0.4563 - specificity_at_sensitivity_5: 0.6801\n",
      "Epoch 236/1000\n",
      "198/198 [==============================] - 1s 3ms/step - loss: 1.2214 - accuracy: 0.4627 - specificity_at_sensitivity_5: 0.6795\n",
      "Epoch 237/1000\n",
      "198/198 [==============================] - 1s 3ms/step - loss: 1.2212 - accuracy: 0.4582 - specificity_at_sensitivity_5: 0.6856\n",
      "Epoch 238/1000\n",
      "198/198 [==============================] - 1s 3ms/step - loss: 1.2212 - accuracy: 0.4589 - specificity_at_sensitivity_5: 0.6889\n",
      "Epoch 239/1000\n",
      "198/198 [==============================] - 1s 3ms/step - loss: 1.2221 - accuracy: 0.4614 - specificity_at_sensitivity_5: 0.6815\n",
      "Epoch 240/1000\n",
      "198/198 [==============================] - 1s 3ms/step - loss: 1.2203 - accuracy: 0.4544 - specificity_at_sensitivity_5: 0.6843\n",
      "Epoch 241/1000\n",
      "198/198 [==============================] - 1s 3ms/step - loss: 1.2221 - accuracy: 0.4570 - specificity_at_sensitivity_5: 0.6875\n",
      "Epoch 242/1000\n",
      "198/198 [==============================] - 1s 3ms/step - loss: 1.2242 - accuracy: 0.4563 - specificity_at_sensitivity_5: 0.6895\n",
      "Epoch 243/1000\n",
      "198/198 [==============================] - 1s 3ms/step - loss: 1.2206 - accuracy: 0.4589 - specificity_at_sensitivity_5: 0.6835\n",
      "Epoch 244/1000\n",
      "198/198 [==============================] - 1s 3ms/step - loss: 1.2216 - accuracy: 0.4570 - specificity_at_sensitivity_5: 0.6886\n",
      "Epoch 245/1000\n",
      "198/198 [==============================] - 1s 3ms/step - loss: 1.2216 - accuracy: 0.4576 - specificity_at_sensitivity_5: 0.6876\n",
      "Epoch 246/1000\n",
      "198/198 [==============================] - 1s 3ms/step - loss: 1.2235 - accuracy: 0.4576 - specificity_at_sensitivity_5: 0.6822\n",
      "Epoch 247/1000\n",
      "198/198 [==============================] - 1s 3ms/step - loss: 1.2211 - accuracy: 0.4570 - specificity_at_sensitivity_5: 0.6910\n",
      "Epoch 248/1000\n",
      "198/198 [==============================] - 1s 3ms/step - loss: 1.2232 - accuracy: 0.4494 - specificity_at_sensitivity_5: 0.6873\n",
      "Epoch 249/1000\n",
      "198/198 [==============================] - 1s 3ms/step - loss: 1.2212 - accuracy: 0.4563 - specificity_at_sensitivity_5: 0.6897\n",
      "Epoch 250/1000\n",
      "198/198 [==============================] - 1s 3ms/step - loss: 1.2202 - accuracy: 0.4557 - specificity_at_sensitivity_5: 0.6901\n",
      "Epoch 251/1000\n",
      "198/198 [==============================] - 1s 3ms/step - loss: 1.2216 - accuracy: 0.4544 - specificity_at_sensitivity_5: 0.6823\n",
      "Epoch 252/1000\n",
      "198/198 [==============================] - 1s 3ms/step - loss: 1.2201 - accuracy: 0.4513 - specificity_at_sensitivity_5: 0.6854\n",
      "Epoch 253/1000\n",
      "198/198 [==============================] - 1s 3ms/step - loss: 1.2241 - accuracy: 0.4551 - specificity_at_sensitivity_5: 0.6852\n"
     ]
    },
    {
     "data": {
      "text/plain": [
       "<keras.callbacks.History at 0x22e25bf4ca0>"
      ]
     },
     "execution_count": 566,
     "metadata": {},
     "output_type": "execute_result"
    }
   ],
   "source": [
    "\n",
    "# Fitting the ANN to the training set\n",
    "ann_classifier.fit(X_train, y_train, batch_size = 8, epochs = 1000,callbacks=[early_stopping_cb])\n"
   ]
  },
  {
   "cell_type": "code",
   "execution_count": 573,
   "id": "47ab46ad",
   "metadata": {},
   "outputs": [],
   "source": [
    "y_pred=np.round(ann_classifier.predict(X_test))"
   ]
  },
  {
   "cell_type": "code",
   "execution_count": 574,
   "id": "e153dfbb",
   "metadata": {},
   "outputs": [
    {
     "data": {
      "text/plain": [
       "array([[0., 0., 0., 0., 0., 1.],\n",
       "       [0., 0., 0., 0., 0., 1.],\n",
       "       [0., 0., 0., 0., 0., 0.],\n",
       "       ...,\n",
       "       [0., 0., 0., 0., 0., 0.],\n",
       "       [0., 0., 0., 0., 0., 0.],\n",
       "       [0., 0., 0., 0., 0., 0.]], dtype=float32)"
      ]
     },
     "execution_count": 574,
     "metadata": {},
     "output_type": "execute_result"
    }
   ],
   "source": [
    "y_pred"
   ]
  },
  {
   "cell_type": "code",
   "execution_count": 576,
   "id": "a1080d2f",
   "metadata": {},
   "outputs": [
    {
     "data": {
      "text/plain": [
       "array([[[384,   0],\n",
       "        [ 12,   0]],\n",
       "\n",
       "       [[326,   0],\n",
       "        [ 70,   0]],\n",
       "\n",
       "       [[388,   2],\n",
       "        [  2,   4]],\n",
       "\n",
       "       [[286,   0],\n",
       "        [110,   0]],\n",
       "\n",
       "       [[348,   0],\n",
       "        [ 48,   0]],\n",
       "\n",
       "       [[241,   5],\n",
       "        [ 76,  74]]], dtype=int64)"
      ]
     },
     "execution_count": 576,
     "metadata": {},
     "output_type": "execute_result"
    }
   ],
   "source": [
    "from sklearn import metrics\n",
    "metrics.multilabel_confusion_matrix(y_test,y_pred )"
   ]
  },
  {
   "cell_type": "code",
   "execution_count": 580,
   "id": "a33e7dd0",
   "metadata": {},
   "outputs": [
    {
     "name": "stdout",
     "output_type": "stream",
     "text": [
      "              precision    recall  f1-score   support\n",
      "\n",
      "           0       0.00      0.00      0.00        12\n",
      "           1       0.00      0.00      0.00        70\n",
      "           2       0.67      0.67      0.67         6\n",
      "           3       0.00      0.00      0.00       110\n",
      "           4       0.00      0.00      0.00        48\n",
      "           5       0.94      0.49      0.65       150\n",
      "\n",
      "   micro avg       0.92      0.20      0.32       396\n",
      "   macro avg       0.27      0.19      0.22       396\n",
      "weighted avg       0.36      0.20      0.25       396\n",
      " samples avg       0.20      0.20      0.20       396\n",
      "\n"
     ]
    }
   ],
   "source": [
    "from sklearn.metrics import classification_report\n",
    "print(classification_report(y_test, y_pred))"
   ]
  }
 ],
 "metadata": {
  "kernelspec": {
   "display_name": "Python 3",
   "language": "python",
   "name": "python3"
  },
  "language_info": {
   "codemirror_mode": {
    "name": "ipython",
    "version": 3
   },
   "file_extension": ".py",
   "mimetype": "text/x-python",
   "name": "python",
   "nbconvert_exporter": "python",
   "pygments_lexer": "ipython3",
   "version": "3.8.8"
  },
  "toc": {
   "base_numbering": 1,
   "nav_menu": {},
   "number_sections": true,
   "sideBar": true,
   "skip_h1_title": false,
   "title_cell": "Table of Contents",
   "title_sidebar": "Contents",
   "toc_cell": false,
   "toc_position": {},
   "toc_section_display": true,
   "toc_window_display": false
  }
 },
 "nbformat": 4,
 "nbformat_minor": 5
}
