{
 "cells": [
  {
   "cell_type": "code",
   "execution_count": 1,
   "id": "eef57014",
   "metadata": {},
   "outputs": [
    {
     "name": "stdout",
     "output_type": "stream",
     "text": [
      "Collecting bertopic\n",
      "  Using cached bertopic-0.9.4-py2.py3-none-any.whl (57 kB)\n",
      "Collecting plotly>=4.7.0\n",
      "  Using cached plotly-5.7.0-py2.py3-none-any.whl (28.8 MB)\n",
      "Requirement already satisfied: scikit-learn>=0.22.2.post1 in c:\\users\\santhosh\\anaconda3\\lib\\site-packages (from bertopic) (0.24.1)\n",
      "Requirement already satisfied: numpy>=1.20.0 in c:\\users\\santhosh\\anaconda3\\lib\\site-packages (from bertopic) (1.20.1)\n",
      "Collecting hdbscan>=0.8.27\n",
      "  Using cached hdbscan-0.8.28.tar.gz (5.2 MB)\n",
      "  Installing build dependencies: started\n",
      "  Installing build dependencies: finished with status 'done'\n",
      "  Getting requirements to build wheel: started\n",
      "  Getting requirements to build wheel: finished with status 'done'\n",
      "    Preparing wheel metadata: started\n",
      "    Preparing wheel metadata: finished with status 'done'\n",
      "Requirement already satisfied: pyyaml<6.0 in c:\\users\\santhosh\\anaconda3\\lib\\site-packages (from bertopic) (5.4.1)\n",
      "Requirement already satisfied: tqdm>=4.41.1 in c:\\users\\santhosh\\anaconda3\\lib\\site-packages (from bertopic) (4.59.0)\n",
      "Collecting sentence-transformers>=0.4.1\n",
      "  Using cached sentence_transformers-2.2.0-py3-none-any.whl\n",
      "Collecting umap-learn>=0.5.0\n",
      "  Using cached umap_learn-0.5.3-py3-none-any.whl\n",
      "Requirement already satisfied: pandas>=1.1.5 in c:\\users\\santhosh\\anaconda3\\lib\\site-packages (from bertopic) (1.2.4)\n",
      "Requirement already satisfied: cython>=0.27 in c:\\users\\santhosh\\anaconda3\\lib\\site-packages (from hdbscan>=0.8.27->bertopic) (0.29.23)\n",
      "Requirement already satisfied: joblib>=1.0 in c:\\users\\santhosh\\anaconda3\\lib\\site-packages (from hdbscan>=0.8.27->bertopic) (1.0.1)\n",
      "Requirement already satisfied: scipy>=1.0 in c:\\users\\santhosh\\anaconda3\\lib\\site-packages (from hdbscan>=0.8.27->bertopic) (1.6.2)\n",
      "Requirement already satisfied: pytz>=2017.3 in c:\\users\\santhosh\\anaconda3\\lib\\site-packages (from pandas>=1.1.5->bertopic) (2021.1)\n",
      "Requirement already satisfied: python-dateutil>=2.7.3 in c:\\users\\santhosh\\anaconda3\\lib\\site-packages (from pandas>=1.1.5->bertopic) (2.8.1)\n",
      "Collecting tenacity>=6.2.0\n",
      "  Using cached tenacity-8.0.1-py3-none-any.whl (24 kB)\n",
      "Requirement already satisfied: six in c:\\users\\santhosh\\anaconda3\\lib\\site-packages (from plotly>=4.7.0->bertopic) (1.15.0)\n",
      "Requirement already satisfied: threadpoolctl>=2.0.0 in c:\\users\\santhosh\\anaconda3\\lib\\site-packages (from scikit-learn>=0.22.2.post1->bertopic) (2.1.0)\n",
      "Requirement already satisfied: transformers<5.0.0,>=4.6.0 in c:\\users\\santhosh\\anaconda3\\lib\\site-packages (from sentence-transformers>=0.4.1->bertopic) (4.18.0)\n",
      "Collecting torch>=1.6.0\n",
      "  Using cached torch-1.11.0-cp38-cp38-win_amd64.whl (158.0 MB)\n",
      "Collecting sentencepiece\n",
      "  Using cached sentencepiece-0.1.96-cp38-cp38-win_amd64.whl (1.1 MB)\n",
      "Collecting torchvision\n",
      "  Using cached torchvision-0.12.0-cp38-cp38-win_amd64.whl (1.0 MB)\n",
      "Requirement already satisfied: huggingface-hub in c:\\users\\santhosh\\anaconda3\\lib\\site-packages (from sentence-transformers>=0.4.1->bertopic) (0.5.1)\n",
      "Requirement already satisfied: nltk in c:\\users\\santhosh\\anaconda3\\lib\\site-packages (from sentence-transformers>=0.4.1->bertopic) (3.6.1)\n",
      "Requirement already satisfied: typing-extensions in c:\\users\\santhosh\\anaconda3\\lib\\site-packages (from torch>=1.6.0->sentence-transformers>=0.4.1->bertopic) (3.7.4.3)\n",
      "Requirement already satisfied: regex!=2019.12.17 in c:\\users\\santhosh\\anaconda3\\lib\\site-packages (from transformers<5.0.0,>=4.6.0->sentence-transformers>=0.4.1->bertopic) (2021.4.4)\n",
      "Requirement already satisfied: packaging>=20.0 in c:\\users\\santhosh\\anaconda3\\lib\\site-packages (from transformers<5.0.0,>=4.6.0->sentence-transformers>=0.4.1->bertopic) (20.9)\n",
      "Requirement already satisfied: tokenizers!=0.11.3,<0.13,>=0.11.1 in c:\\users\\santhosh\\anaconda3\\lib\\site-packages (from transformers<5.0.0,>=4.6.0->sentence-transformers>=0.4.1->bertopic) (0.12.1)\n",
      "Requirement already satisfied: sacremoses in c:\\users\\santhosh\\anaconda3\\lib\\site-packages (from transformers<5.0.0,>=4.6.0->sentence-transformers>=0.4.1->bertopic) (0.0.49)\n",
      "Requirement already satisfied: filelock in c:\\users\\santhosh\\anaconda3\\lib\\site-packages (from transformers<5.0.0,>=4.6.0->sentence-transformers>=0.4.1->bertopic) (3.0.12)\n",
      "Requirement already satisfied: requests in c:\\users\\santhosh\\anaconda3\\lib\\site-packages (from transformers<5.0.0,>=4.6.0->sentence-transformers>=0.4.1->bertopic) (2.25.1)\n",
      "Requirement already satisfied: pyparsing>=2.0.2 in c:\\users\\santhosh\\anaconda3\\lib\\site-packages (from packaging>=20.0->transformers<5.0.0,>=4.6.0->sentence-transformers>=0.4.1->bertopic) (2.4.7)\n",
      "Requirement already satisfied: numba>=0.49 in c:\\users\\santhosh\\anaconda3\\lib\\site-packages (from umap-learn>=0.5.0->bertopic) (0.53.1)\n",
      "Collecting pynndescent>=0.5\n",
      "  Using cached pynndescent-0.5.6-py3-none-any.whl\n",
      "Requirement already satisfied: setuptools in c:\\users\\santhosh\\anaconda3\\lib\\site-packages (from numba>=0.49->umap-learn>=0.5.0->bertopic) (52.0.0.post20210125)\n",
      "Requirement already satisfied: llvmlite<0.37,>=0.36.0rc1 in c:\\users\\santhosh\\anaconda3\\lib\\site-packages (from numba>=0.49->umap-learn>=0.5.0->bertopic) (0.36.0)\n",
      "Requirement already satisfied: click in c:\\users\\santhosh\\anaconda3\\lib\\site-packages (from nltk->sentence-transformers>=0.4.1->bertopic) (7.1.2)\n",
      "Requirement already satisfied: chardet<5,>=3.0.2 in c:\\users\\santhosh\\anaconda3\\lib\\site-packages (from requests->transformers<5.0.0,>=4.6.0->sentence-transformers>=0.4.1->bertopic) (4.0.0)\n",
      "Requirement already satisfied: urllib3<1.27,>=1.21.1 in c:\\users\\santhosh\\anaconda3\\lib\\site-packages (from requests->transformers<5.0.0,>=4.6.0->sentence-transformers>=0.4.1->bertopic) (1.26.4)\n",
      "Requirement already satisfied: idna<3,>=2.5 in c:\\users\\santhosh\\anaconda3\\lib\\site-packages (from requests->transformers<5.0.0,>=4.6.0->sentence-transformers>=0.4.1->bertopic) (2.10)\n",
      "Requirement already satisfied: certifi>=2017.4.17 in c:\\users\\santhosh\\anaconda3\\lib\\site-packages (from requests->transformers<5.0.0,>=4.6.0->sentence-transformers>=0.4.1->bertopic) (2020.12.5)\n",
      "Requirement already satisfied: pillow!=8.3.*,>=5.3.0 in c:\\users\\santhosh\\anaconda3\\lib\\site-packages (from torchvision->sentence-transformers>=0.4.1->bertopic) (8.2.0)\n",
      "Building wheels for collected packages: hdbscan\n",
      "  Building wheel for hdbscan (PEP 517): started\n",
      "  Building wheel for hdbscan (PEP 517): finished with status 'done'\n",
      "  Created wheel for hdbscan: filename=hdbscan-0.8.28-cp38-cp38-win_amd64.whl size=601943 sha256=657169bf3898b33d042fdef3d07f5d637fa7f5b3920b4798e0603b2ba231ea07\n",
      "  Stored in directory: c:\\users\\santhosh\\appdata\\local\\pip\\cache\\wheels\\dc\\71\\35\\27e492e5848c7d1b38a6ea86e10261fd7ebaabf7e72c0b47c4\n",
      "Successfully built hdbscan\n",
      "Installing collected packages: torch, torchvision, tenacity, sentencepiece, pynndescent, umap-learn, sentence-transformers, plotly, hdbscan, bertopic\n",
      "Successfully installed bertopic-0.9.4 hdbscan-0.8.28 plotly-5.7.0 pynndescent-0.5.6 sentence-transformers-2.2.0 sentencepiece-0.1.96 tenacity-8.0.1 torch-1.11.0 torchvision-0.12.0 umap-learn-0.5.3\n"
     ]
    }
   ],
   "source": [
    "!pip install bertopic[visulaization]"
   ]
  },
  {
   "cell_type": "code",
   "execution_count": 2,
   "id": "3b223819",
   "metadata": {},
   "outputs": [
    {
     "name": "stdout",
     "output_type": "stream",
     "text": [
      "Requirement already satisfied: bertopic[visulaization] in c:\\users\\santhosh\\anaconda3\\lib\\site-packages (0.9.4)\n",
      "Requirement already satisfied: pandas>=1.1.5 in c:\\users\\santhosh\\anaconda3\\lib\\site-packages (from bertopic[visulaization]) (1.2.4)\n",
      "Requirement already satisfied: sentence-transformers>=0.4.1 in c:\\users\\santhosh\\anaconda3\\lib\\site-packages (from bertopic[visulaization]) (2.2.0)\n",
      "Requirement already satisfied: hdbscan>=0.8.27 in c:\\users\\santhosh\\anaconda3\\lib\\site-packages (from bertopic[visulaization]) (0.8.28)\n",
      "Requirement already satisfied: tqdm>=4.41.1 in c:\\users\\santhosh\\anaconda3\\lib\\site-packages (from bertopic[visulaization]) (4.59.0)\n",
      "Requirement already satisfied: pyyaml<6.0 in c:\\users\\santhosh\\anaconda3\\lib\\site-packages (from bertopic[visulaization]) (5.4.1)\n",
      "Requirement already satisfied: scikit-learn>=0.22.2.post1 in c:\\users\\santhosh\\anaconda3\\lib\\site-packages (from bertopic[visulaization]) (0.24.1)\n",
      "Requirement already satisfied: umap-learn>=0.5.0 in c:\\users\\santhosh\\anaconda3\\lib\\site-packages (from bertopic[visulaization]) (0.5.3)\n",
      "Requirement already satisfied: plotly>=4.7.0 in c:\\users\\santhosh\\anaconda3\\lib\\site-packages (from bertopic[visulaization]) (5.7.0)\n",
      "Requirement already satisfied: numpy>=1.20.0 in c:\\users\\santhosh\\anaconda3\\lib\\site-packages (from bertopic[visulaization]) (1.20.1)\n",
      "Requirement already satisfied: joblib>=1.0 in c:\\users\\santhosh\\anaconda3\\lib\\site-packages (from hdbscan>=0.8.27->bertopic[visulaization]) (1.0.1)\n",
      "Requirement already satisfied: cython>=0.27 in c:\\users\\santhosh\\anaconda3\\lib\\site-packages (from hdbscan>=0.8.27->bertopic[visulaization]) (0.29.23)\n",
      "Requirement already satisfied: scipy>=1.0 in c:\\users\\santhosh\\anaconda3\\lib\\site-packages (from hdbscan>=0.8.27->bertopic[visulaization]) (1.6.2)\n",
      "Requirement already satisfied: pytz>=2017.3 in c:\\users\\santhosh\\anaconda3\\lib\\site-packages (from pandas>=1.1.5->bertopic[visulaization]) (2021.1)\n",
      "Requirement already satisfied: python-dateutil>=2.7.3 in c:\\users\\santhosh\\anaconda3\\lib\\site-packages (from pandas>=1.1.5->bertopic[visulaization]) (2.8.1)\n",
      "Requirement already satisfied: six in c:\\users\\santhosh\\anaconda3\\lib\\site-packages (from plotly>=4.7.0->bertopic[visulaization]) (1.15.0)\n",
      "Requirement already satisfied: tenacity>=6.2.0 in c:\\users\\santhosh\\anaconda3\\lib\\site-packages (from plotly>=4.7.0->bertopic[visulaization]) (8.0.1)\n",
      "Requirement already satisfied: threadpoolctl>=2.0.0 in c:\\users\\santhosh\\anaconda3\\lib\\site-packages (from scikit-learn>=0.22.2.post1->bertopic[visulaization]) (2.1.0)\n",
      "Requirement already satisfied: torchvision in c:\\users\\santhosh\\anaconda3\\lib\\site-packages (from sentence-transformers>=0.4.1->bertopic[visulaization]) (0.12.0)\n",
      "Requirement already satisfied: sentencepiece in c:\\users\\santhosh\\anaconda3\\lib\\site-packages (from sentence-transformers>=0.4.1->bertopic[visulaization]) (0.1.96)\n",
      "Requirement already satisfied: nltk in c:\\users\\santhosh\\anaconda3\\lib\\site-packages (from sentence-transformers>=0.4.1->bertopic[visulaization]) (3.6.1)\n",
      "Requirement already satisfied: torch>=1.6.0 in c:\\users\\santhosh\\anaconda3\\lib\\site-packages (from sentence-transformers>=0.4.1->bertopic[visulaization]) (1.11.0)\n",
      "Requirement already satisfied: transformers<5.0.0,>=4.6.0 in c:\\users\\santhosh\\anaconda3\\lib\\site-packages (from sentence-transformers>=0.4.1->bertopic[visulaization]) (4.18.0)\n",
      "Requirement already satisfied: huggingface-hub in c:\\users\\santhosh\\anaconda3\\lib\\site-packages (from sentence-transformers>=0.4.1->bertopic[visulaization]) (0.5.1)\n",
      "Requirement already satisfied: typing-extensions in c:\\users\\santhosh\\anaconda3\\lib\\site-packages (from torch>=1.6.0->sentence-transformers>=0.4.1->bertopic[visulaization]) (3.7.4.3)\n",
      "Requirement already satisfied: regex!=2019.12.17 in c:\\users\\santhosh\\anaconda3\\lib\\site-packages (from transformers<5.0.0,>=4.6.0->sentence-transformers>=0.4.1->bertopic[visulaization]) (2021.4.4)\n",
      "Requirement already satisfied: requests in c:\\users\\santhosh\\anaconda3\\lib\\site-packages (from transformers<5.0.0,>=4.6.0->sentence-transformers>=0.4.1->bertopic[visulaization]) (2.25.1)\n",
      "Requirement already satisfied: packaging>=20.0 in c:\\users\\santhosh\\anaconda3\\lib\\site-packages (from transformers<5.0.0,>=4.6.0->sentence-transformers>=0.4.1->bertopic[visulaization]) (20.9)\n",
      "Requirement already satisfied: tokenizers!=0.11.3,<0.13,>=0.11.1 in c:\\users\\santhosh\\anaconda3\\lib\\site-packages (from transformers<5.0.0,>=4.6.0->sentence-transformers>=0.4.1->bertopic[visulaization]) (0.12.1)\n",
      "Requirement already satisfied: sacremoses in c:\\users\\santhosh\\anaconda3\\lib\\site-packages (from transformers<5.0.0,>=4.6.0->sentence-transformers>=0.4.1->bertopic[visulaization]) (0.0.49)\n",
      "Requirement already satisfied: filelock in c:\\users\\santhosh\\anaconda3\\lib\\site-packages (from transformers<5.0.0,>=4.6.0->sentence-transformers>=0.4.1->bertopic[visulaization]) (3.0.12)\n",
      "Requirement already satisfied: pyparsing>=2.0.2 in c:\\users\\santhosh\\anaconda3\\lib\\site-packages (from packaging>=20.0->transformers<5.0.0,>=4.6.0->sentence-transformers>=0.4.1->bertopic[visulaization]) (2.4.7)\n",
      "Requirement already satisfied: numba>=0.49 in c:\\users\\santhosh\\anaconda3\\lib\\site-packages (from umap-learn>=0.5.0->bertopic[visulaization]) (0.53.1)\n",
      "Requirement already satisfied: pynndescent>=0.5 in c:\\users\\santhosh\\anaconda3\\lib\\site-packages (from umap-learn>=0.5.0->bertopic[visulaization]) (0.5.6)\n",
      "Requirement already satisfied: setuptools in c:\\users\\santhosh\\anaconda3\\lib\\site-packages (from numba>=0.49->umap-learn>=0.5.0->bertopic[visulaization]) (52.0.0.post20210125)\n",
      "Requirement already satisfied: llvmlite<0.37,>=0.36.0rc1 in c:\\users\\santhosh\\anaconda3\\lib\\site-packages (from numba>=0.49->umap-learn>=0.5.0->bertopic[visulaization]) (0.36.0)\n",
      "Requirement already satisfied: click in c:\\users\\santhosh\\anaconda3\\lib\\site-packages (from nltk->sentence-transformers>=0.4.1->bertopic[visulaization]) (7.1.2)\n",
      "Requirement already satisfied: urllib3<1.27,>=1.21.1 in c:\\users\\santhosh\\anaconda3\\lib\\site-packages (from requests->transformers<5.0.0,>=4.6.0->sentence-transformers>=0.4.1->bertopic[visulaization]) (1.26.4)\n",
      "Requirement already satisfied: idna<3,>=2.5 in c:\\users\\santhosh\\anaconda3\\lib\\site-packages (from requests->transformers<5.0.0,>=4.6.0->sentence-transformers>=0.4.1->bertopic[visulaization]) (2.10)\n",
      "Requirement already satisfied: chardet<5,>=3.0.2 in c:\\users\\santhosh\\anaconda3\\lib\\site-packages (from requests->transformers<5.0.0,>=4.6.0->sentence-transformers>=0.4.1->bertopic[visulaization]) (4.0.0)\n",
      "Requirement already satisfied: certifi>=2017.4.17 in c:\\users\\santhosh\\anaconda3\\lib\\site-packages (from requests->transformers<5.0.0,>=4.6.0->sentence-transformers>=0.4.1->bertopic[visulaization]) (2020.12.5)\n",
      "Requirement already satisfied: pillow!=8.3.*,>=5.3.0 in c:\\users\\santhosh\\anaconda3\\lib\\site-packages (from torchvision->sentence-transformers>=0.4.1->bertopic[visulaization]) (8.2.0)\n"
     ]
    },
    {
     "name": "stderr",
     "output_type": "stream",
     "text": [
      "WARNING: bertopic 0.9.4 does not provide the extra 'visulaization'\n"
     ]
    }
   ],
   "source": [
    "!pip install bertopic[visulaization]"
   ]
  },
  {
   "cell_type": "code",
   "execution_count": 3,
   "id": "a24fb2d6",
   "metadata": {},
   "outputs": [],
   "source": [
    "import numpy as np\n",
    "import pandas as pd\n",
    "from copy import deepcopy\n",
    "from bertopic import BERTopic"
   ]
  },
  {
   "cell_type": "code",
   "execution_count": 48,
   "id": "4ba94f3a",
   "metadata": {},
   "outputs": [
    {
     "name": "stdout",
     "output_type": "stream",
     "text": [
      "(10348, 2)\n",
      "                              file  \\\n",
      "186822  jones-t/all_documents/634.   \n",
      "308790  mann-k/all_documents/5690.   \n",
      "82383         dasovich-j/sent/423.   \n",
      "227299          kaminski-v/var/63.   \n",
      "301824     mann-k/_sent_mail/3208.   \n",
      "\n",
      "                                                  message  \n",
      "186822  Message-ID: <17820178.1075846925335.JavaMail.e...  \n",
      "308790  Message-ID: <29110382.1075845717882.JavaMail.e...  \n",
      "82383   Message-ID: <6812040.1075843194135.JavaMail.ev...  \n",
      "227299  Message-ID: <21547648.1075856642126.JavaMail.e...  \n",
      "301824  Message-ID: <12684200.1075846107179.JavaMail.e...  \n"
     ]
    }
   ],
   "source": [
    "emails = pd.read_csv('C:/Users/Santhosh/Downloads/archive (18)/emails.csv')\n",
    "#email_subset = emails[:10000]\n",
    "email_subset = emails.sample(frac=0.02, random_state=1)\n",
    "\n",
    "print(email_subset.shape)\n",
    "print(email_subset.head())"
   ]
  },
  {
   "cell_type": "code",
   "execution_count": 49,
   "id": "7c37989b",
   "metadata": {},
   "outputs": [],
   "source": [
    "def parse_raw_message(raw_message):\n",
    "    lines = raw_message.split('\\n')\n",
    "    email = {}\n",
    "    message = ''\n",
    "    keys_to_extract = ['from', 'to']\n",
    "    for line in lines:\n",
    "        if ':' not in line:\n",
    "            message += line.strip()\n",
    "            email['body'] = message\n",
    "        else:\n",
    "            pairs = line.split(':')\n",
    "            key = pairs[0].lower()\n",
    "            val = pairs[1].strip()\n",
    "            if key in keys_to_extract:\n",
    "                email[key] = val\n",
    "    return email"
   ]
  },
  {
   "cell_type": "code",
   "execution_count": 50,
   "id": "6b6d92d9",
   "metadata": {},
   "outputs": [],
   "source": [
    "def parse_into_emails(messages):\n",
    "    emails = [parse_raw_message(message) for message in messages]\n",
    "    return {\n",
    "        'body': map_to_list(emails, 'body'),\n",
    "        \n",
    "    }"
   ]
  },
  {
   "cell_type": "code",
   "execution_count": 51,
   "id": "ec2b8fb0",
   "metadata": {},
   "outputs": [],
   "source": [
    "def map_to_list(emails, key):\n",
    "    results = []\n",
    "    for email in emails:\n",
    "        if key not in email:\n",
    "            results.append('');\n",
    "            \n",
    "        else:\n",
    "            results.append(email[key])\n",
    "    return results"
   ]
  },
  {
   "cell_type": "code",
   "execution_count": 53,
   "id": "25469c20",
   "metadata": {},
   "outputs": [
    {
     "name": "stdout",
     "output_type": "stream",
     "text": [
      "                                                body\n",
      "0  It would be nice if you could be at my dinner,...\n",
      "1  Absolutely.Good point!  Can Peter start to dra...\n",
      "2  My apologies.  My schedule melted down after w...\n"
     ]
    }
   ],
   "source": [
    "email_df = pd.DataFrame(parse_into_emails(email_subset.message))\n",
    "print(email_df.head(3))"
   ]
  },
  {
   "cell_type": "code",
   "execution_count": null,
   "id": "3401bffb",
   "metadata": {},
   "outputs": [],
   "source": []
  },
  {
   "cell_type": "code",
   "execution_count": null,
   "id": "823df070",
   "metadata": {},
   "outputs": [],
   "source": []
  },
  {
   "cell_type": "code",
   "execution_count": 60,
   "id": "8fa2d3bb",
   "metadata": {},
   "outputs": [],
   "source": [
    "docs = list(email_df.loc[:, \"body\"].values)"
   ]
  },
  {
   "cell_type": "code",
   "execution_count": 61,
   "id": "f42a8293",
   "metadata": {},
   "outputs": [
    {
     "data": {
      "text/plain": [
       "[\"It would be nice if you could be at my dinner, since I probably won't knowanyone else.  Anytime you want to go to lunch to check on the house status,I'd be glad to go...\",\n",
       " 'Absolutely.Good point!  Can Peter start to draft an override letter?Kay Mann@ENRONDieball/ENRON_DEVELOPMENT@ENRON_DEVELOPMENt, John GRigby/ENRON_DEVELOPMENT@ENRON_DEVELOPMENTAs a reminder to all of us, we will need a form override letter to go withthe form turbine contract.Kay',\n",
       " 'My apologies.  My schedule melted down after we talked on Monday.  Here\\'swhere folks came out.  There\\'s some concern about size.  We\\'re supposed to beno larger than 3, but we lobbied Aceves and he apparently Ok\\'d our\"oversized\" group.  The other folks in the group--who talked to himoriginally--are pretty sure that five will violate the rules.  Folks wonderedif there were other groups that are smaller than ours that you could hook upwith.  Sorry about that---it\\'s a wrinkle that I didn\\'t think about when wespoke.  If it gets real ugly trying to find a smaller group, let me know.Fortunately there\\'s not another team case due for two weeks.Best,Jeff',\n",
       " \"Vince,UK VAR breached the limit last week.UK traders asked us to review the correlations across UK gas and power aswell as the correlations across EFA slots.We did part of the work last week.Now we'll update the correlations based on historical prices.Tanya.Richard LewisLeppard/LON/ECT@ECT, Rudy Dautel/HOU/ECT@ECT, Kirstee Hewitt/LON/ECT@ECT,Naveen Andrews/Corp/Enron@ENRON, David Port/Market Risk/Corp/Enron@ENRON, TedMurphy/HOU/ECT@ECT, Simon Hastings/LON/ECT@ECT, Paul D'Arcy/LON/ECT@ECT, AmirGhodsian/LON/ECT@ECTThanks Tanya, these are interesting results.  I am on vacation next week, sohere are my current thoughts.  I am contactable on my mobile if necessary.Gas to power correlationsI see your point about gas to power correlation only affecting VAR for theconservative 30% long term correlation, combined VAR is o1mm less thanpreviously expected - so how does this affect the limit breach?  Strictlyspeaking, we are still over our UK power limit, but the limit was set when wewere assuming no gas power correlation and therefore a higher portfolio VAR.A suggested way forward given the importance of the spread options to the UKGas and Power books-can we allocate to the gas and power books a share of the reduction inportfolio VAR  - ie [Reduction = Portfolio VAR - sum(Power VAR + Gas VAR)]?Also, if I understand your mail correctly, Matrix 1 implies 55% gas powercorrelation is consistent with our correlation curves, and this reduces totalVAR by o1.8mm.EFA slot correlationsThe issue of whether our existing EFA to EFA correlation matrix is correct isa separate issue.  I don't understand where the Matrix 2 EFA to EFAcorrelations come from, but I am happy for you to run some historicalcorrelations from the forward curves (use the first 2 years, I wouldsuggest).  Our original matrix was based on historicals, but the analysis isworth doing again.  Your matrix 2 results certainly indicate how importantthese correlations are.Closing thoughtsFriday's trading left us longer so I would not expect a limit breach onMonday.  We are still reviewing the shape of the long term curve, and I'dlike to wait until both Simon Hastings and I are back in the office (Mondayweek) before finalising this.RegardsRichardTanya TamarchenkoNew/LON/ECT@ECT, Steven Leppard/LON/ECT@ECT, Rudy Dautel/HOU/ECT@ECT, KirsteeHewitt/LON/ECT@ECT, Naveen Andrews/Corp/Enron@ENRON, David Port/MarketRisk/Corp/Enron@ENRON, Ted Murphy/HOU/ECT@ECTEverybody,Oliver  sent us the VAR number for different correlations for UK-Powerportfolio separately from UK-Gas portfolio.First, if VAR is calculated accurately the correlation between Power and Gascurves should not affect VAR number for Power and VAR number for Gas, onlythe aggregate number will be affected. The changes you see are due to thefact that we use Monte-Carlo simulation method,which accuracy depends on the number of simulations. Even if we don't changethe correlations but use different realizations of random numbers,we get slightly different result from the model.we should look at the aggregate number.I calculated weighted correlations based on 2 curves I got from Paul. As theweights along the term structure I used the product of price, position andvolatility for each time bucket for Gas and each of EFA slots. The resultsInserting these numbers into the original correlation matrix producednegatively definite correlation matrix, which brakes VAR engine.Correlation matrix for any set of random variables is non-negative bydefinition, and remains non-negatively definite if calculated properly basedon any historical data.Here, according to our phone discussion, we started experimenting withcorrelations, assuming the same correlation for each EFA slot and ET Elecversus Gas. I am sending you the spreadsheet which summaries the results. Inaddition to the aggregate VAR numbers for the runs Oliver did, you can seethe VAR numbers based on correlation Matrix 1 and Matrix 2. In Matrix 1 thecorrelations across EFA slots are identical to these in original matrix.I obtained this matrix by trial and error. Matrix 2 is produces by Naveenusing Finger's algorithm, it differs from original matrix across EFA slots aswellas in Power versus Gas correlations and gives higher VAR than matrix 1 does.calculate historical correlations from them.Tanya.Oliver GaylardLeppard/LON/ECT@ECT, Rudy Dautel/HOU/ECT@ECT, Kirstee Hewitt/LON/ECT@ECT,Naveen Andrews/Corp/Enron@ENRON, Tanya Tamarchenko/HOU/ECT@ECT, DavidPort/Market Risk/Corp/Enron@ENRONCorrelation  VaR-UK Power book       VaR- UK Gas book0.0  o10.405MM       o3.180MM0.1  o10.134MM       o3.197MM0.2  o10.270MM       o3.185MM0.3  o10.030MM       o3.245MM0.4  Cholesky decomposition failed (Not positive definite)0.5  Cholesky decomposition failed (Not positive definite)0.6  Cholesky decomposition failed (Not positive definite)0.7  Cholesky decomposition failed (Not positive definite)0.8  Cholesky decomposition failed (Not positive definite)0.9  Cholesky decomposition failed (Not positive definite)1.0  Cholesky decomposition failed (Not positive definite)Peaks and off peaks were treated the same to avoid violating the matrix'sintegrity.Interesting to note that for a higher correlation of 0.2 the power VaRincreases which is counter to intuition.  This implies that we need to lookinto how the correlations are being applied within the model. Once we canderive single correlations from the term structure, is the next action tounderstand how they are being applied and whether the model captures the P+Lvolatility in the spread option deals.From 0.4 onwards the VaR calculation failed.Oliver\",\n",
       " 'Any problems/comments?AM ---------------------------Dale Rasmussen@ECTMann/Corp/Enron@Enron, Kathleen Clark/ENRON_DEVELOPMENT@ENRON_DEVELOPMENTA redraft of Change Order #5 to the LM 6000 contract to provide for thepurchase of a GE transformer for the Pleasanton project is attached.Please note that I have added some guaranty/LD provisions in Exhibit A, andconfirm whether these are appropriate in scope and amount.We will attach the documents included here as separate files as Exhibits Band C.  I understand that GE is to provide a more current copy of theirstandard specifications for the transformer to be included in the Exhibits.Congratulations!!  The discussion of current amount balances, etc. in theattached are clearly wrong if we are up to CO#5--it was all based on thisbeing the third CO.  Can you please let me know what the right numbers shouldbe?Thanks in advance for your input.  I understand there is some urgency withgetting this out.']"
      ]
     },
     "execution_count": 61,
     "metadata": {},
     "output_type": "execute_result"
    }
   ],
   "source": [
    "docs[:5]"
   ]
  },
  {
   "cell_type": "code",
   "execution_count": 62,
   "id": "83254981",
   "metadata": {},
   "outputs": [],
   "source": [
    "model = BERTopic(language=\"english\")"
   ]
  },
  {
   "cell_type": "code",
   "execution_count": 63,
   "id": "9f414b37",
   "metadata": {},
   "outputs": [],
   "source": [
    "topics, probs = model.fit_transform(docs)"
   ]
  },
  {
   "cell_type": "code",
   "execution_count": 64,
   "id": "451efd03",
   "metadata": {},
   "outputs": [
    {
     "data": {
      "text/html": [
       "<div>\n",
       "<style scoped>\n",
       "    .dataframe tbody tr th:only-of-type {\n",
       "        vertical-align: middle;\n",
       "    }\n",
       "\n",
       "    .dataframe tbody tr th {\n",
       "        vertical-align: top;\n",
       "    }\n",
       "\n",
       "    .dataframe thead th {\n",
       "        text-align: right;\n",
       "    }\n",
       "</style>\n",
       "<table border=\"1\" class=\"dataframe\">\n",
       "  <thead>\n",
       "    <tr style=\"text-align: right;\">\n",
       "      <th></th>\n",
       "      <th>Topic</th>\n",
       "      <th>Count</th>\n",
       "    </tr>\n",
       "  </thead>\n",
       "  <tbody>\n",
       "    <tr>\n",
       "      <th>0</th>\n",
       "      <td>-1</td>\n",
       "      <td>4808</td>\n",
       "    </tr>\n",
       "    <tr>\n",
       "      <th>1</th>\n",
       "      <td>0</td>\n",
       "      <td>661</td>\n",
       "    </tr>\n",
       "    <tr>\n",
       "      <th>2</th>\n",
       "      <td>1</td>\n",
       "      <td>308</td>\n",
       "    </tr>\n",
       "    <tr>\n",
       "      <th>3</th>\n",
       "      <td>2</td>\n",
       "      <td>275</td>\n",
       "    </tr>\n",
       "    <tr>\n",
       "      <th>4</th>\n",
       "      <td>3</td>\n",
       "      <td>227</td>\n",
       "    </tr>\n",
       "    <tr>\n",
       "      <th>...</th>\n",
       "      <td>...</td>\n",
       "      <td>...</td>\n",
       "    </tr>\n",
       "    <tr>\n",
       "      <th>126</th>\n",
       "      <td>125</td>\n",
       "      <td>11</td>\n",
       "    </tr>\n",
       "    <tr>\n",
       "      <th>127</th>\n",
       "      <td>126</td>\n",
       "      <td>11</td>\n",
       "    </tr>\n",
       "    <tr>\n",
       "      <th>128</th>\n",
       "      <td>127</td>\n",
       "      <td>10</td>\n",
       "    </tr>\n",
       "    <tr>\n",
       "      <th>129</th>\n",
       "      <td>128</td>\n",
       "      <td>10</td>\n",
       "    </tr>\n",
       "    <tr>\n",
       "      <th>130</th>\n",
       "      <td>129</td>\n",
       "      <td>10</td>\n",
       "    </tr>\n",
       "  </tbody>\n",
       "</table>\n",
       "<p>131 rows × 2 columns</p>\n",
       "</div>"
      ],
      "text/plain": [
       "     Topic  Count\n",
       "0       -1   4808\n",
       "1        0    661\n",
       "2        1    308\n",
       "3        2    275\n",
       "4        3    227\n",
       "..     ...    ...\n",
       "126    125     11\n",
       "127    126     11\n",
       "128    127     10\n",
       "129    128     10\n",
       "130    129     10\n",
       "\n",
       "[131 rows x 2 columns]"
      ]
     },
     "execution_count": 64,
     "metadata": {},
     "output_type": "execute_result"
    }
   ],
   "source": [
    "model.get_topic_freq()"
   ]
  },
  {
   "cell_type": "code",
   "execution_count": 65,
   "id": "ecbc4631",
   "metadata": {},
   "outputs": [
    {
     "data": {
      "text/plain": [
       "[('gas', 0.01240090941662693),\n",
       " ('deal', 0.010159721384636763),\n",
       " ('for', 0.007556868458438333),\n",
       " ('price', 0.007317489990527306),\n",
       " ('the', 0.007138367260709055),\n",
       " ('deals', 0.006810787883810556),\n",
       " ('to', 0.00672543160338391),\n",
       " ('this', 0.006658241961048837),\n",
       " ('on', 0.006624234845862373),\n",
       " ('at', 0.00637859975660352)]"
      ]
     },
     "execution_count": 65,
     "metadata": {},
     "output_type": "execute_result"
    }
   ],
   "source": [
    "model.get_topic(0)"
   ]
  },
  {
   "cell_type": "code",
   "execution_count": 35,
   "id": "72103f50",
   "metadata": {},
   "outputs": [
    {
     "data": {
      "text/plain": [
       "[('you', 0.01583558923809596),\n",
       " ('my', 0.012529412411474384),\n",
       " ('im', 0.012251673604607464),\n",
       " ('so', 0.01108036761056097),\n",
       " ('going', 0.010704187044003869),\n",
       " ('good', 0.010459053936259132),\n",
       " ('it', 0.010224745719187479),\n",
       " ('me', 0.010025608876367633),\n",
       " ('get', 0.00923041489266652),\n",
       " ('just', 0.009081865052696746)]"
      ]
     },
     "execution_count": 35,
     "metadata": {},
     "output_type": "execute_result"
    }
   ],
   "source": [
    "model.get_topic(2)"
   ]
  },
  {
   "cell_type": "code",
   "execution_count": 36,
   "id": "f196c212",
   "metadata": {},
   "outputs": [
    {
     "data": {
      "text/plain": [
       "[('meeting', 0.022174130028197077),\n",
       " ('meetings', 0.012650981335401218),\n",
       " ('you', 0.010594609637848211),\n",
       " ('will', 0.009604625840187732),\n",
       " ('on', 0.009403021296909512),\n",
       " ('to', 0.008434077662668592),\n",
       " ('attend', 0.008341883123903887),\n",
       " ('we', 0.008240044075745847),\n",
       " ('week', 0.0076886809042362465),\n",
       " ('time', 0.007644085396734864)]"
      ]
     },
     "execution_count": 36,
     "metadata": {},
     "output_type": "execute_result"
    }
   ],
   "source": [
    "model.get_topic(5)"
   ]
  },
  {
   "cell_type": "code",
   "execution_count": 2,
   "id": "de243286",
   "metadata": {},
   "outputs": [
    {
     "ename": "NameError",
     "evalue": "name 'model' is not defined",
     "output_type": "error",
     "traceback": [
      "\u001b[1;31m---------------------------------------------------------------------------\u001b[0m",
      "\u001b[1;31mNameError\u001b[0m                                 Traceback (most recent call last)",
      "\u001b[1;32m<ipython-input-2-264321d82641>\u001b[0m in \u001b[0;36m<module>\u001b[1;34m\u001b[0m\n\u001b[1;32m----> 1\u001b[1;33m \u001b[0mmodel\u001b[0m\u001b[1;33m.\u001b[0m\u001b[0mget_topic\u001b[0m\u001b[1;33m.\u001b[0m\u001b[0mto_csv\u001b[0m\u001b[1;33m(\u001b[0m\u001b[1;33m)\u001b[0m\u001b[1;33m\u001b[0m\u001b[1;33m\u001b[0m\u001b[0m\n\u001b[0m",
      "\u001b[1;31mNameError\u001b[0m: name 'model' is not defined"
     ]
    }
   ],
   "source": [
    "model.visualize_topics()"
   ]
  },
  {
   "cell_type": "code",
   "execution_count": null,
   "id": "58506d0a",
   "metadata": {},
   "outputs": [],
   "source": []
  }
 ],
 "metadata": {
  "kernelspec": {
   "display_name": "Python 3",
   "language": "python",
   "name": "python3"
  },
  "language_info": {
   "codemirror_mode": {
    "name": "ipython",
    "version": 3
   },
   "file_extension": ".py",
   "mimetype": "text/x-python",
   "name": "python",
   "nbconvert_exporter": "python",
   "pygments_lexer": "ipython3",
   "version": "3.8.8"
  }
 },
 "nbformat": 4,
 "nbformat_minor": 5
}
