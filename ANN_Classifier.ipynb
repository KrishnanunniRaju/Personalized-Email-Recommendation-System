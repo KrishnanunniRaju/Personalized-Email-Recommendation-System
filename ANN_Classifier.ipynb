{
 "cells": [
  {
   "cell_type": "code",
   "execution_count": 2,
   "id": "037c6764",
   "metadata": {},
   "outputs": [],
   "source": [
    "import pandas as pd\n",
    "from keras.models import Sequential\n",
    "from keras.layers import Dense,Dropout,BatchNormalization\n",
    "from sklearn.model_selection import train_test_split\n",
    "from tensorflow.keras.utils import to_categorical\n",
    "import tensorflow as tf\n",
    "from sklearn.metrics import confusion_matrix\n",
    "from sklearn.metrics import classification_report\n",
    "import seaborn as sns\n",
    "from sklearn.preprocessing import StandardScaler\n",
    "from matplotlib import pyplot as plt\n",
    "from sklearn.metrics import roc_curve, auc"
   ]
  },
  {
   "cell_type": "code",
   "execution_count": 8,
   "id": "dcdc48e4",
   "metadata": {},
   "outputs": [
    {
     "data": {
      "text/html": [
       "<div>\n",
       "<style scoped>\n",
       "    .dataframe tbody tr th:only-of-type {\n",
       "        vertical-align: middle;\n",
       "    }\n",
       "\n",
       "    .dataframe tbody tr th {\n",
       "        vertical-align: top;\n",
       "    }\n",
       "\n",
       "    .dataframe thead th {\n",
       "        text-align: right;\n",
       "    }\n",
       "</style>\n",
       "<table border=\"1\" class=\"dataframe\">\n",
       "  <thead>\n",
       "    <tr style=\"text-align: right;\">\n",
       "      <th></th>\n",
       "      <th>isImportant</th>\n",
       "      <th>Date</th>\n",
       "      <th>Sender</th>\n",
       "      <th>Subject</th>\n",
       "      <th>EmailSize</th>\n",
       "      <th>Status</th>\n",
       "      <th>isSubscription</th>\n",
       "      <th>isEncrypted</th>\n",
       "      <th>isFlagged</th>\n",
       "      <th>AttachmentCount</th>\n",
       "      <th>AttachmentSize</th>\n",
       "      <th>isPrimaryRecipient</th>\n",
       "      <th>NoOfToValues</th>\n",
       "      <th>isCC</th>\n",
       "      <th>NoOfCCValues</th>\n",
       "      <th>isBCC</th>\n",
       "    </tr>\n",
       "    <tr>\n",
       "      <th>ID</th>\n",
       "      <th></th>\n",
       "      <th></th>\n",
       "      <th></th>\n",
       "      <th></th>\n",
       "      <th></th>\n",
       "      <th></th>\n",
       "      <th></th>\n",
       "      <th></th>\n",
       "      <th></th>\n",
       "      <th></th>\n",
       "      <th></th>\n",
       "      <th></th>\n",
       "      <th></th>\n",
       "      <th></th>\n",
       "      <th></th>\n",
       "      <th></th>\n",
       "    </tr>\n",
       "  </thead>\n",
       "  <tbody>\n",
       "    <tr>\n",
       "      <th>A1</th>\n",
       "      <td>1</td>\n",
       "      <td>2022-03-10 09:50:34-08:00</td>\n",
       "      <td>googlecommunityteam-noreply@google.com</td>\n",
       "      <td>Dmml, finish setting up your new Google Account</td>\n",
       "      <td>81274</td>\n",
       "      <td>True</td>\n",
       "      <td>False</td>\n",
       "      <td>False</td>\n",
       "      <td>False</td>\n",
       "      <td>0</td>\n",
       "      <td>0</td>\n",
       "      <td>True</td>\n",
       "      <td>1</td>\n",
       "      <td>False</td>\n",
       "      <td>0</td>\n",
       "      <td>False</td>\n",
       "    </tr>\n",
       "    <tr>\n",
       "      <th>A2</th>\n",
       "      <td>0</td>\n",
       "      <td>2022-03-11 06:46:10+11:00</td>\n",
       "      <td>DailyDigest@email.join1440.com</td>\n",
       "      <td>You're in! Here's how 1440 works...</td>\n",
       "      <td>36157</td>\n",
       "      <td>False</td>\n",
       "      <td>True</td>\n",
       "      <td>False</td>\n",
       "      <td>False</td>\n",
       "      <td>0</td>\n",
       "      <td>0</td>\n",
       "      <td>True</td>\n",
       "      <td>1</td>\n",
       "      <td>False</td>\n",
       "      <td>0</td>\n",
       "      <td>False</td>\n",
       "    </tr>\n",
       "    <tr>\n",
       "      <th>A5</th>\n",
       "      <td>0</td>\n",
       "      <td>2022-03-10 19:49:16+00:00</td>\n",
       "      <td>dave@davenetics.com</td>\n",
       "      <td>Verify Your Email Address for NextDraft</td>\n",
       "      <td>23484</td>\n",
       "      <td>False</td>\n",
       "      <td>False</td>\n",
       "      <td>False</td>\n",
       "      <td>False</td>\n",
       "      <td>0</td>\n",
       "      <td>0</td>\n",
       "      <td>True</td>\n",
       "      <td>1</td>\n",
       "      <td>False</td>\n",
       "      <td>0</td>\n",
       "      <td>False</td>\n",
       "    </tr>\n",
       "    <tr>\n",
       "      <th>A6</th>\n",
       "      <td>0</td>\n",
       "      <td>2022-03-10 19:50:00+00:00</td>\n",
       "      <td>dave@davenetics.com</td>\n",
       "      <td>NextDraft: Subscription Confirmed</td>\n",
       "      <td>23434</td>\n",
       "      <td>False</td>\n",
       "      <td>False</td>\n",
       "      <td>False</td>\n",
       "      <td>False</td>\n",
       "      <td>0</td>\n",
       "      <td>0</td>\n",
       "      <td>True</td>\n",
       "      <td>1</td>\n",
       "      <td>False</td>\n",
       "      <td>0</td>\n",
       "      <td>False</td>\n",
       "    </tr>\n",
       "    <tr>\n",
       "      <th>A7</th>\n",
       "      <td>0</td>\n",
       "      <td>2022-03-11 06:51:13+11:00</td>\n",
       "      <td>yo@gettheelevator.com</td>\n",
       "      <td>Welcome to ELEVATOR</td>\n",
       "      <td>29669</td>\n",
       "      <td>False</td>\n",
       "      <td>True</td>\n",
       "      <td>False</td>\n",
       "      <td>False</td>\n",
       "      <td>0</td>\n",
       "      <td>0</td>\n",
       "      <td>True</td>\n",
       "      <td>1</td>\n",
       "      <td>False</td>\n",
       "      <td>0</td>\n",
       "      <td>False</td>\n",
       "    </tr>\n",
       "    <tr>\n",
       "      <th>...</th>\n",
       "      <td>...</td>\n",
       "      <td>...</td>\n",
       "      <td>...</td>\n",
       "      <td>...</td>\n",
       "      <td>...</td>\n",
       "      <td>...</td>\n",
       "      <td>...</td>\n",
       "      <td>...</td>\n",
       "      <td>...</td>\n",
       "      <td>...</td>\n",
       "      <td>...</td>\n",
       "      <td>...</td>\n",
       "      <td>...</td>\n",
       "      <td>...</td>\n",
       "      <td>...</td>\n",
       "      <td>...</td>\n",
       "    </tr>\n",
       "    <tr>\n",
       "      <th>A2109</th>\n",
       "      <td>1</td>\n",
       "      <td>2022-04-24 12:18:13-07:00</td>\n",
       "      <td>google-noreply@google.com</td>\n",
       "      <td>Dmml, take the next step on your Windows by co...</td>\n",
       "      <td>33029</td>\n",
       "      <td>False</td>\n",
       "      <td>True</td>\n",
       "      <td>False</td>\n",
       "      <td>False</td>\n",
       "      <td>0</td>\n",
       "      <td>0</td>\n",
       "      <td>True</td>\n",
       "      <td>1</td>\n",
       "      <td>False</td>\n",
       "      <td>0</td>\n",
       "      <td>False</td>\n",
       "    </tr>\n",
       "    <tr>\n",
       "      <th>A2110</th>\n",
       "      <td>1</td>\n",
       "      <td>2022-04-24 19:30:49+00:00</td>\n",
       "      <td>no-reply@accounts.google.com</td>\n",
       "      <td>Critical security alert</td>\n",
       "      <td>11756</td>\n",
       "      <td>False</td>\n",
       "      <td>False</td>\n",
       "      <td>False</td>\n",
       "      <td>False</td>\n",
       "      <td>0</td>\n",
       "      <td>0</td>\n",
       "      <td>True</td>\n",
       "      <td>1</td>\n",
       "      <td>False</td>\n",
       "      <td>0</td>\n",
       "      <td>False</td>\n",
       "    </tr>\n",
       "    <tr>\n",
       "      <th>A2111</th>\n",
       "      <td>1</td>\n",
       "      <td>2022-04-24 12:34:10-07:00</td>\n",
       "      <td>nciarunprasath@gmail.com</td>\n",
       "      <td>Subject Line: Here’s your free [lead magnet type]</td>\n",
       "      <td>5669</td>\n",
       "      <td>False</td>\n",
       "      <td>False</td>\n",
       "      <td>False</td>\n",
       "      <td>False</td>\n",
       "      <td>0</td>\n",
       "      <td>0</td>\n",
       "      <td>False</td>\n",
       "      <td>1</td>\n",
       "      <td>True</td>\n",
       "      <td>1</td>\n",
       "      <td>False</td>\n",
       "    </tr>\n",
       "    <tr>\n",
       "      <th>A2112</th>\n",
       "      <td>1</td>\n",
       "      <td>2022-04-24 12:44:02-07:00</td>\n",
       "      <td>santhoshsrv45@gmail.com</td>\n",
       "      <td>Subject Line: About your free consultation wit...</td>\n",
       "      <td>5352</td>\n",
       "      <td>False</td>\n",
       "      <td>False</td>\n",
       "      <td>False</td>\n",
       "      <td>False</td>\n",
       "      <td>0</td>\n",
       "      <td>0</td>\n",
       "      <td>False</td>\n",
       "      <td>1</td>\n",
       "      <td>True</td>\n",
       "      <td>1</td>\n",
       "      <td>False</td>\n",
       "    </tr>\n",
       "    <tr>\n",
       "      <th>A2113</th>\n",
       "      <td>1</td>\n",
       "      <td>2022-04-24 12:54:06-07:00</td>\n",
       "      <td>santhoshsrv45@gmail.com</td>\n",
       "      <td>Subject Line: Could you please help me out?</td>\n",
       "      <td>5432</td>\n",
       "      <td>False</td>\n",
       "      <td>False</td>\n",
       "      <td>False</td>\n",
       "      <td>False</td>\n",
       "      <td>0</td>\n",
       "      <td>0</td>\n",
       "      <td>False</td>\n",
       "      <td>1</td>\n",
       "      <td>True</td>\n",
       "      <td>1</td>\n",
       "      <td>False</td>\n",
       "    </tr>\n",
       "  </tbody>\n",
       "</table>\n",
       "<p>1976 rows × 16 columns</p>\n",
       "</div>"
      ],
      "text/plain": [
       "       isImportant                       Date  \\\n",
       "ID                                              \n",
       "A1               1  2022-03-10 09:50:34-08:00   \n",
       "A2               0  2022-03-11 06:46:10+11:00   \n",
       "A5               0  2022-03-10 19:49:16+00:00   \n",
       "A6               0  2022-03-10 19:50:00+00:00   \n",
       "A7               0  2022-03-11 06:51:13+11:00   \n",
       "...            ...                        ...   \n",
       "A2109            1  2022-04-24 12:18:13-07:00   \n",
       "A2110            1  2022-04-24 19:30:49+00:00   \n",
       "A2111            1  2022-04-24 12:34:10-07:00   \n",
       "A2112            1  2022-04-24 12:44:02-07:00   \n",
       "A2113            1  2022-04-24 12:54:06-07:00   \n",
       "\n",
       "                                       Sender  \\\n",
       "ID                                              \n",
       "A1     googlecommunityteam-noreply@google.com   \n",
       "A2             DailyDigest@email.join1440.com   \n",
       "A5                        dave@davenetics.com   \n",
       "A6                        dave@davenetics.com   \n",
       "A7                      yo@gettheelevator.com   \n",
       "...                                       ...   \n",
       "A2109               google-noreply@google.com   \n",
       "A2110            no-reply@accounts.google.com   \n",
       "A2111                nciarunprasath@gmail.com   \n",
       "A2112                 santhoshsrv45@gmail.com   \n",
       "A2113                 santhoshsrv45@gmail.com   \n",
       "\n",
       "                                                 Subject  EmailSize  Status  \\\n",
       "ID                                                                            \n",
       "A1       Dmml, finish setting up your new Google Account      81274    True   \n",
       "A2                   You're in! Here's how 1440 works...      36157   False   \n",
       "A5               Verify Your Email Address for NextDraft      23484   False   \n",
       "A6                     NextDraft: Subscription Confirmed      23434   False   \n",
       "A7                                   Welcome to ELEVATOR      29669   False   \n",
       "...                                                  ...        ...     ...   \n",
       "A2109  Dmml, take the next step on your Windows by co...      33029   False   \n",
       "A2110                            Critical security alert      11756   False   \n",
       "A2111  Subject Line: Here’s your free [lead magnet type]       5669   False   \n",
       "A2112  Subject Line: About your free consultation wit...       5352   False   \n",
       "A2113        Subject Line: Could you please help me out?       5432   False   \n",
       "\n",
       "       isSubscription  isEncrypted  isFlagged  AttachmentCount  \\\n",
       "ID                                                               \n",
       "A1              False        False      False                0   \n",
       "A2               True        False      False                0   \n",
       "A5              False        False      False                0   \n",
       "A6              False        False      False                0   \n",
       "A7               True        False      False                0   \n",
       "...               ...          ...        ...              ...   \n",
       "A2109            True        False      False                0   \n",
       "A2110           False        False      False                0   \n",
       "A2111           False        False      False                0   \n",
       "A2112           False        False      False                0   \n",
       "A2113           False        False      False                0   \n",
       "\n",
       "       AttachmentSize  isPrimaryRecipient  NoOfToValues   isCC  NoOfCCValues  \\\n",
       "ID                                                                             \n",
       "A1                  0                True             1  False             0   \n",
       "A2                  0                True             1  False             0   \n",
       "A5                  0                True             1  False             0   \n",
       "A6                  0                True             1  False             0   \n",
       "A7                  0                True             1  False             0   \n",
       "...               ...                 ...           ...    ...           ...   \n",
       "A2109               0                True             1  False             0   \n",
       "A2110               0                True             1  False             0   \n",
       "A2111               0               False             1   True             1   \n",
       "A2112               0               False             1   True             1   \n",
       "A2113               0               False             1   True             1   \n",
       "\n",
       "       isBCC  \n",
       "ID            \n",
       "A1     False  \n",
       "A2     False  \n",
       "A5     False  \n",
       "A6     False  \n",
       "A7     False  \n",
       "...      ...  \n",
       "A2109  False  \n",
       "A2110  False  \n",
       "A2111  False  \n",
       "A2112  False  \n",
       "A2113  False  \n",
       "\n",
       "[1976 rows x 16 columns]"
      ]
     },
     "execution_count": 8,
     "metadata": {},
     "output_type": "execute_result"
    }
   ],
   "source": [
    "df_combined=pd.read_csv(\"Clustered_Mails_BERTopic.csv\")\n",
    "df_combined.set_index(\"ID\",inplace=True)\n",
    "df_combined.drop([\"Unnamed: 0\"],axis=1,inplace=True)\n",
    "df_combined.rename(columns={'Topic':\"isImportant\"}, inplace=True)\n",
    "df_combined=df_combined.replace({'Status': {'Read': True, 'Unread': False}})\n",
    "df_combined"
   ]
  },
  {
   "cell_type": "code",
   "execution_count": 25,
   "id": "3fc6fb56",
   "metadata": {},
   "outputs": [],
   "source": [
    "df_X = df_combined.loc[:, 'EmailSize':'isBCC'].to_numpy(dtype ='int32')\n",
    "df_y = df_combined.loc[:, 'isImportant'].to_numpy(dtype ='int32')\n",
    "df_Xtrain, df_Xtest, df_Ytrain, df_Ytest = train_test_split(df_X, df_y, test_size=0.2,random_state=42,stratify=df_combined[\"isImportant\"], shuffle=True)"
   ]
  },
  {
   "cell_type": "code",
   "execution_count": 26,
   "id": "e2ee63b2",
   "metadata": {},
   "outputs": [],
   "source": [
    "scaler = StandardScaler()\n",
    "df_Xtrain = scaler.fit_transform(df_Xtrain)\n",
    "df_Xtest = scaler.transform(df_Xtest)"
   ]
  },
  {
   "cell_type": "code",
   "execution_count": 27,
   "id": "222cca80",
   "metadata": {},
   "outputs": [
    {
     "name": "stderr",
     "output_type": "stream",
     "text": [
      "D:\\anaconda3\\lib\\site-packages\\seaborn\\_decorators.py:36: FutureWarning: Pass the following variable as a keyword arg: x. From version 0.12, the only valid positional argument will be `data`, and passing other arguments without an explicit keyword will result in an error or misinterpretation.\n",
      "  warnings.warn(\n"
     ]
    },
    {
     "data": {
      "text/plain": [
       "<AxesSubplot:ylabel='count'>"
      ]
     },
     "execution_count": 27,
     "metadata": {},
     "output_type": "execute_result"
    },
    {
     "data": {
      "image/png": "[encoded data removed]",
      "text/plain": [
       "<Figure size 432x288 with 1 Axes>"
      ]
     },
     "metadata": {
      "needs_background": "light"
     },
     "output_type": "display_data"
    }
   ],
   "source": [
    "sns.countplot(df_Ytrain, color=\"C0\")"
   ]
  },
  {
   "cell_type": "code",
   "execution_count": 159,
   "id": "dc0bd17c",
   "metadata": {},
   "outputs": [],
   "source": [
    "model = Sequential()\n",
    "model.add(Dense(7, activation='relu', input_dim=12))\n",
    "model.add(Dense(6, activation='relu'))\n",
    "model.add(Dense(7, activation='relu'))\n",
    "model.add(Dense(1, activation='sigmoid'))\n"
   ]
  },
  {
   "cell_type": "code",
   "execution_count": 160,
   "id": "8a7817c3",
   "metadata": {},
   "outputs": [
    {
     "name": "stdout",
     "output_type": "stream",
     "text": [
      "Model: \"sequential_14\"\n",
      "_________________________________________________________________\n",
      " Layer (type)                Output Shape              Param #   \n",
      "=================================================================\n",
      " dense_50 (Dense)            (None, 7)                 91        \n",
      "                                                                 \n",
      " dense_51 (Dense)            (None, 6)                 48        \n",
      "                                                                 \n",
      " dense_52 (Dense)            (None, 7)                 49        \n",
      "                                                                 \n",
      " dense_53 (Dense)            (None, 1)                 8         \n",
      "                                                                 \n",
      "=================================================================\n",
      "Total params: 196\n",
      "Trainable params: 196\n",
      "Non-trainable params: 0\n",
      "_________________________________________________________________\n"
     ]
    }
   ],
   "source": [
    "optimizer=tf.keras.optimizers.Adam(learning_rate=0.1)\n",
    "model.compile(optimizer=optimizer, loss='binary_crossentropy', metrics=['accuracy'])\n",
    "model.summary()"
   ]
  },
  {
   "cell_type": "code",
   "execution_count": 169,
   "id": "9361e8ea",
   "metadata": {},
   "outputs": [
    {
     "name": "stdout",
     "output_type": "stream",
     "text": [
      "Epoch 1/10\n",
      "143/143 [==============================] - 0s 926us/step - loss: 0.4012 - accuracy: 0.8615 - val_loss: 0.3361 - val_accuracy: 0.8924\n",
      "Epoch 2/10\n",
      "143/143 [==============================] - 0s 662us/step - loss: 0.4074 - accuracy: 0.8615 - val_loss: 0.3351 - val_accuracy: 0.8924\n",
      "Epoch 3/10\n",
      "143/143 [==============================] - 0s 634us/step - loss: 0.4055 - accuracy: 0.8615 - val_loss: 0.3413 - val_accuracy: 0.8924\n",
      "Epoch 4/10\n",
      "143/143 [==============================] - 0s 634us/step - loss: 0.3989 - accuracy: 0.8615 - val_loss: 0.3590 - val_accuracy: 0.8924\n",
      "Epoch 5/10\n",
      "143/143 [==============================] - 0s 637us/step - loss: 0.4114 - accuracy: 0.8615 - val_loss: 0.3430 - val_accuracy: 0.8924\n",
      "Epoch 6/10\n",
      "143/143 [==============================] - 0s 630us/step - loss: 0.4094 - accuracy: 0.8615 - val_loss: 0.3344 - val_accuracy: 0.8924\n",
      "Epoch 7/10\n",
      "143/143 [==============================] - 0s 736us/step - loss: 0.4060 - accuracy: 0.8615 - val_loss: 0.3331 - val_accuracy: 0.8924\n",
      "Epoch 8/10\n",
      "143/143 [==============================] - 0s 799us/step - loss: 0.4112 - accuracy: 0.8615 - val_loss: 0.3334 - val_accuracy: 0.8924\n",
      "Epoch 9/10\n",
      "143/143 [==============================] - 0s 715us/step - loss: 0.4062 - accuracy: 0.8615 - val_loss: 0.3340 - val_accuracy: 0.8924\n",
      "Epoch 10/10\n",
      "143/143 [==============================] - 0s 725us/step - loss: 0.4038 - accuracy: 0.8615 - val_loss: 0.3338 - val_accuracy: 0.8924\n"
     ]
    }
   ],
   "source": [
    "history = model.fit(df_Xtrain,df_Ytrain,validation_split = 0.1, epochs=10, batch_size=10)"
   ]
  },
  {
   "cell_type": "code",
   "execution_count": 162,
   "id": "7d3ba01f",
   "metadata": {
    "scrolled": true
   },
   "outputs": [
    {
     "name": "stdout",
     "output_type": "stream",
     "text": [
      "50/50 [==============================] - 0s 429us/step - loss: 0.3933 - accuracy: 0.8646\n"
     ]
    },
    {
     "data": {
      "text/plain": [
       "[0.3932669758796692, 0.8645569682121277]"
      ]
     },
     "execution_count": 162,
     "metadata": {},
     "output_type": "execute_result"
    }
   ],
   "source": [
    "model.evaluate(df_Xtrain,df_Ytrain)"
   ]
  },
  {
   "cell_type": "code",
   "execution_count": 163,
   "id": "b9a87efa",
   "metadata": {},
   "outputs": [
    {
     "data": {
      "image/png": "[encoded data removed]",
      "text/plain": [
       "<Figure size 432x288 with 1 Axes>"
      ]
     },
     "metadata": {
      "needs_background": "light"
     },
     "output_type": "display_data"
    }
   ],
   "source": [
    "plt.plot(history.history['accuracy'])\n",
    "plt.plot(history.history['val_accuracy'])\n",
    "plt.title('model accuracy')\n",
    "plt.ylabel('accuracy')\n",
    "plt.xlabel('epoch')\n",
    "plt.legend(['train', 'val'], loc='upper left')\n",
    "plt.show()"
   ]
  },
  {
   "cell_type": "code",
   "execution_count": 170,
   "id": "7cb03c54",
   "metadata": {},
   "outputs": [
    {
     "data": {
      "image/png": "[encoded data removed]",
      "text/plain": [
       "<Figure size 432x288 with 1 Axes>"
      ]
     },
     "metadata": {
      "needs_background": "light"
     },
     "output_type": "display_data"
    }
   ],
   "source": [
    "plt.plot(history.history['loss'])\n",
    "plt.plot(history.history['val_loss'])\n",
    "plt.title('model loss')\n",
    "plt.ylabel('loss')\n",
    "plt.xlabel('epoch')\n",
    "plt.legend(['train', 'val'], loc='upper left')\n",
    "plt.show()"
   ]
  },
  {
   "cell_type": "code",
   "execution_count": 172,
   "id": "0167d723",
   "metadata": {},
   "outputs": [],
   "source": [
    "output=model.predict(df_Xtest)\n",
    "output\n",
    "pred=[1 if i>0.5 else 0 for i in output]"
   ]
  },
  {
   "cell_type": "code",
   "execution_count": 173,
   "id": "56cea0f3",
   "metadata": {},
   "outputs": [
    {
     "data": {
      "image/png": "[encoded data removed]",
      "text/plain": [
       "<Figure size 432x288 with 2 Axes>"
      ]
     },
     "metadata": {
      "needs_background": "light"
     },
     "output_type": "display_data"
    }
   ],
   "source": [
    "confusion = pd.DataFrame(confusion_matrix(df_Ytest, pred))\n",
    "confusion = confusion.div(confusion.sum().sum())\n",
    "confusion.columns = [\"Predicted Negative\", \"Predicted Positive\"]\n",
    "confusion.index = [\"Actual Negative\", \"Actual Positive\"]\n",
    "ax = sns.heatmap(confusion, vmin=0, vmax=1, annot=True, fmt=\".0%\")\n",
    "ax.set_yticklabels(ax.get_yticklabels(), rotation=0)\n",
    "ax.collections[0].colorbar.set_ticks((0, .25, .5, .75, 1))\n",
    "ax.collections[0].colorbar.set_ticklabels((\"0%\", \"25%\", \"50%\", \"75%\", \"100%\"))"
   ]
  },
  {
   "cell_type": "code",
   "execution_count": 167,
   "id": "bf14a97c",
   "metadata": {},
   "outputs": [
    {
     "name": "stdout",
     "output_type": "stream",
     "text": [
      "              precision    recall  f1-score   support\n",
      "\n",
      "           0       0.96      0.57      0.71       116\n",
      "           1       0.85      0.99      0.91       280\n",
      "\n",
      "    accuracy                           0.87       396\n",
      "   macro avg       0.90      0.78      0.81       396\n",
      "weighted avg       0.88      0.87      0.85       396\n",
      "\n"
     ]
    }
   ],
   "source": [
    "print(classification_report(df_Ytest, pred))"
   ]
  },
  {
   "cell_type": "code",
   "execution_count": 188,
   "id": "a861c548",
   "metadata": {},
   "outputs": [
    {
     "data": {
      "image/png": "[encoded data removed]",
      "text/plain": [
       "<Figure size 432x288 with 1 Axes>"
      ]
     },
     "metadata": {
      "needs_background": "light"
     },
     "output_type": "display_data"
    }
   ],
   "source": [
    "nn_fpr_keras, nn_tpr_keras, nn_thresholds_keras = roc_curve(df_Ytest, pred)\n",
    "auc_keras = auc(nn_fpr_keras, nn_tpr_keras)\n",
    "plt.plot(nn_fpr_keras,nn_tpr_keras,label=\"AUC=\"+str(round(auc_keras,2)))\n",
    "plt.legend(loc=4)\n",
    "plt.show()"
   ]
  },
  {
   "cell_type": "code",
   "execution_count": null,
   "id": "85b03705",
   "metadata": {},
   "outputs": [],
   "source": []
  }
 ],
 "metadata": {
  "kernelspec": {
   "display_name": "Python 3",
   "language": "python",
   "name": "python3"
  },
  "language_info": {
   "codemirror_mode": {
    "name": "ipython",
    "version": 3
   },
   "file_extension": ".py",
   "mimetype": "text/x-python",
   "name": "python",
   "nbconvert_exporter": "python",
   "pygments_lexer": "ipython3",
   "version": "3.8.8"
  }
 },
 "nbformat": 4,
 "nbformat_minor": 5
}
