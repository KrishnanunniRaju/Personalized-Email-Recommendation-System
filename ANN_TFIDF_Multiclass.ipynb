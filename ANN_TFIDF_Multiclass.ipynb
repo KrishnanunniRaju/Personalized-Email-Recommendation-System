{
 "cells": [
  {
   "cell_type": "code",
   "execution_count": 99,
   "id": "97c029e2",
   "metadata": {},
   "outputs": [],
   "source": [
    "import matplotlib.pyplot as plt\n",
    "import numpy as np\n",
    "import tensorflow as tf\n",
    "from tensorflow.keras import layers\n",
    "from tensorflow.keras import losses\n",
    "from sklearn.preprocessing import LabelEncoder\n",
    "from sklearn.model_selection import train_test_split\n",
    "import keras\n",
    "from keras.utils import np_utils\n",
    "from keras.models import Sequential\n",
    "from keras.layers import Dense\n",
    "import keras.optimizers\n"
   ]
  },
  {
   "cell_type": "code",
   "execution_count": 100,
   "id": "7d6956f3",
   "metadata": {},
   "outputs": [],
   "source": [
    "data=pd.read_csv(\"C:/Users/user/Downloads/MailOutput_combined.csv\")"
   ]
  },
  {
   "cell_type": "code",
   "execution_count": null,
   "id": "b69c4ad9",
   "metadata": {},
   "outputs": [],
   "source": []
  },
  {
   "cell_type": "code",
   "execution_count": 101,
   "id": "3d6b2346",
   "metadata": {},
   "outputs": [
    {
     "data": {
      "text/html": [
       "<div>\n",
       "<style scoped>\n",
       "    .dataframe tbody tr th:only-of-type {\n",
       "        vertical-align: middle;\n",
       "    }\n",
       "\n",
       "    .dataframe tbody tr th {\n",
       "        vertical-align: top;\n",
       "    }\n",
       "\n",
       "    .dataframe thead th {\n",
       "        text-align: right;\n",
       "    }\n",
       "</style>\n",
       "<table border=\"1\" class=\"dataframe\">\n",
       "  <thead>\n",
       "    <tr style=\"text-align: right;\">\n",
       "      <th></th>\n",
       "      <th>Date</th>\n",
       "      <th>Sender</th>\n",
       "      <th>Subject</th>\n",
       "      <th>EmailSize</th>\n",
       "      <th>Status</th>\n",
       "      <th>isSubscription</th>\n",
       "      <th>isEncrypted</th>\n",
       "      <th>isFlagged</th>\n",
       "      <th>AttachmentCount</th>\n",
       "      <th>AttachmentSize</th>\n",
       "      <th>isPrimaryRecipient</th>\n",
       "      <th>NoOfToValues</th>\n",
       "      <th>isCC</th>\n",
       "      <th>NoOfCCValues</th>\n",
       "      <th>isBCC</th>\n",
       "      <th>Topic</th>\n",
       "      <th>ID</th>\n",
       "    </tr>\n",
       "  </thead>\n",
       "  <tbody>\n",
       "    <tr>\n",
       "      <th>0</th>\n",
       "      <td>2022-03-10 09:50:34-08:00</td>\n",
       "      <td>googlecommunityteam-noreply@google.com</td>\n",
       "      <td>Dmml, finish setting up your new Google Account</td>\n",
       "      <td>81274</td>\n",
       "      <td>True</td>\n",
       "      <td>False</td>\n",
       "      <td>False</td>\n",
       "      <td>False</td>\n",
       "      <td>0</td>\n",
       "      <td>0</td>\n",
       "      <td>True</td>\n",
       "      <td>1</td>\n",
       "      <td>False</td>\n",
       "      <td>0</td>\n",
       "      <td>False</td>\n",
       "      <td>2</td>\n",
       "      <td>A1</td>\n",
       "    </tr>\n",
       "    <tr>\n",
       "      <th>1</th>\n",
       "      <td>2022-03-11 06:46:10+11:00</td>\n",
       "      <td>DailyDigest@email.join1440.com</td>\n",
       "      <td>You're in! Here's how 1440 works...</td>\n",
       "      <td>36157</td>\n",
       "      <td>False</td>\n",
       "      <td>True</td>\n",
       "      <td>False</td>\n",
       "      <td>False</td>\n",
       "      <td>0</td>\n",
       "      <td>0</td>\n",
       "      <td>True</td>\n",
       "      <td>1</td>\n",
       "      <td>False</td>\n",
       "      <td>0</td>\n",
       "      <td>False</td>\n",
       "      <td>2</td>\n",
       "      <td>A2</td>\n",
       "    </tr>\n",
       "    <tr>\n",
       "      <th>2</th>\n",
       "      <td>2022-03-10 19:49:16+00:00</td>\n",
       "      <td>dave@davenetics.com</td>\n",
       "      <td>Verify Your Email Address for NextDraft</td>\n",
       "      <td>23484</td>\n",
       "      <td>False</td>\n",
       "      <td>False</td>\n",
       "      <td>False</td>\n",
       "      <td>False</td>\n",
       "      <td>0</td>\n",
       "      <td>0</td>\n",
       "      <td>True</td>\n",
       "      <td>1</td>\n",
       "      <td>False</td>\n",
       "      <td>0</td>\n",
       "      <td>False</td>\n",
       "      <td>2</td>\n",
       "      <td>A5</td>\n",
       "    </tr>\n",
       "    <tr>\n",
       "      <th>3</th>\n",
       "      <td>2022-03-10 19:50:00+00:00</td>\n",
       "      <td>dave@davenetics.com</td>\n",
       "      <td>NextDraft: Subscription Confirmed</td>\n",
       "      <td>23434</td>\n",
       "      <td>False</td>\n",
       "      <td>False</td>\n",
       "      <td>False</td>\n",
       "      <td>False</td>\n",
       "      <td>0</td>\n",
       "      <td>0</td>\n",
       "      <td>True</td>\n",
       "      <td>1</td>\n",
       "      <td>False</td>\n",
       "      <td>0</td>\n",
       "      <td>False</td>\n",
       "      <td>2</td>\n",
       "      <td>A6</td>\n",
       "    </tr>\n",
       "    <tr>\n",
       "      <th>4</th>\n",
       "      <td>2022-03-11 06:51:13+11:00</td>\n",
       "      <td>yo@gettheelevator.com</td>\n",
       "      <td>Welcome to ELEVATOR</td>\n",
       "      <td>29669</td>\n",
       "      <td>False</td>\n",
       "      <td>True</td>\n",
       "      <td>False</td>\n",
       "      <td>False</td>\n",
       "      <td>0</td>\n",
       "      <td>0</td>\n",
       "      <td>True</td>\n",
       "      <td>1</td>\n",
       "      <td>False</td>\n",
       "      <td>0</td>\n",
       "      <td>False</td>\n",
       "      <td>2</td>\n",
       "      <td>A7</td>\n",
       "    </tr>\n",
       "  </tbody>\n",
       "</table>\n",
       "</div>"
      ],
      "text/plain": [
       "                        Date                                  Sender  \\\n",
       "0  2022-03-10 09:50:34-08:00  googlecommunityteam-noreply@google.com   \n",
       "1  2022-03-11 06:46:10+11:00          DailyDigest@email.join1440.com   \n",
       "2  2022-03-10 19:49:16+00:00                     dave@davenetics.com   \n",
       "3  2022-03-10 19:50:00+00:00                     dave@davenetics.com   \n",
       "4  2022-03-11 06:51:13+11:00                   yo@gettheelevator.com   \n",
       "\n",
       "                                           Subject  EmailSize  Status  \\\n",
       "0  Dmml, finish setting up your new Google Account      81274    True   \n",
       "1              You're in! Here's how 1440 works...      36157   False   \n",
       "2          Verify Your Email Address for NextDraft      23484   False   \n",
       "3                NextDraft: Subscription Confirmed      23434   False   \n",
       "4                              Welcome to ELEVATOR      29669   False   \n",
       "\n",
       "   isSubscription  isEncrypted  isFlagged  AttachmentCount  AttachmentSize  \\\n",
       "0           False        False      False                0               0   \n",
       "1            True        False      False                0               0   \n",
       "2           False        False      False                0               0   \n",
       "3           False        False      False                0               0   \n",
       "4            True        False      False                0               0   \n",
       "\n",
       "   isPrimaryRecipient  NoOfToValues   isCC  NoOfCCValues  isBCC  Topic  ID  \n",
       "0                True             1  False             0  False      2  A1  \n",
       "1                True             1  False             0  False      2  A2  \n",
       "2                True             1  False             0  False      2  A5  \n",
       "3                True             1  False             0  False      2  A6  \n",
       "4                True             1  False             0  False      2  A7  "
      ]
     },
     "execution_count": 101,
     "metadata": {},
     "output_type": "execute_result"
    }
   ],
   "source": [
    "data.head()"
   ]
  },
  {
   "cell_type": "code",
   "execution_count": 102,
   "id": "58595c91",
   "metadata": {},
   "outputs": [
    {
     "data": {
      "text/plain": [
       "(array([  79.,    0.,   87.,    0.,    0., 1709.,    0.,   24.,    0.,\n",
       "          77.]),\n",
       " array([0. , 0.4, 0.8, 1.2, 1.6, 2. , 2.4, 2.8, 3.2, 3.6, 4. ]),\n",
       " <BarContainer object of 10 artists>)"
      ]
     },
     "execution_count": 102,
     "metadata": {},
     "output_type": "execute_result"
    },
    {
     "data": {
      "image/png": "[encoded data removed]",
      "text/plain": [
       "<Figure size 432x288 with 1 Axes>"
      ]
     },
     "metadata": {
      "needs_background": "light"
     },
     "output_type": "display_data"
    }
   ],
   "source": [
    "plt.hist(data['Topic'])"
   ]
  },
  {
   "cell_type": "code",
   "execution_count": 64,
   "id": "91a8f503",
   "metadata": {},
   "outputs": [],
   "source": [
    "data_tfidf=pd.read_csv('C:/Users/user/Downloads/Clustered_emails_topic_tfidf.csv')"
   ]
  },
  {
   "cell_type": "code",
   "execution_count": 65,
   "id": "50cbe0c1",
   "metadata": {},
   "outputs": [
    {
     "data": {
      "text/plain": [
       "(1976, 18)"
      ]
     },
     "execution_count": 65,
     "metadata": {},
     "output_type": "execute_result"
    }
   ],
   "source": [
    "data=pd.merge(data.drop('Topic',axis=1),data_tfidf,on=\"ID\")\n",
    "data.shape"
   ]
  },
  {
   "cell_type": "code",
   "execution_count": 66,
   "id": "5991453a",
   "metadata": {},
   "outputs": [],
   "source": [
    "data.drop(['Date','Sender','Subject','ID'],axis=1,inplace=True)"
   ]
  },
  {
   "cell_type": "code",
   "execution_count": 67,
   "id": "f9eb00eb",
   "metadata": {},
   "outputs": [],
   "source": [
    "y=data['Topic']\n",
    "X=data.drop('Topic',axis=1)"
   ]
  },
  {
   "cell_type": "code",
   "execution_count": 68,
   "id": "4c875abd",
   "metadata": {},
   "outputs": [],
   "source": [
    "y_cat = tf.keras.utils.to_categorical(y)"
   ]
  },
  {
   "cell_type": "code",
   "execution_count": 69,
   "id": "abb562a4",
   "metadata": {},
   "outputs": [],
   "source": [
    "X_train, X_test, y_train, y_test = train_test_split(X, y_cat, test_size = 0.2, random_state = 0)"
   ]
  },
  {
   "cell_type": "code",
   "execution_count": 70,
   "id": "249fa2e2",
   "metadata": {},
   "outputs": [],
   "source": [
    "#Performing Feature Scaling\n",
    "from sklearn.preprocessing import StandardScaler\n",
    "sc = StandardScaler()\n",
    "X_train = sc.fit_transform(X_train)\n",
    "X_test = sc.transform(X_test)"
   ]
  },
  {
   "cell_type": "code",
   "execution_count": 71,
   "id": "c8d2185f",
   "metadata": {},
   "outputs": [],
   "source": [
    "lr_schedule = tf.keras.optimizers.schedules.ExponentialDecay(\n",
    "    initial_learning_rate=1e-2,\n",
    "    staircase=True,\n",
    "    decay_steps=10000,\n",
    "    decay_rate=0.9)"
   ]
  },
  {
   "cell_type": "code",
   "execution_count": 73,
   "id": "0a1fec75",
   "metadata": {},
   "outputs": [
    {
     "name": "stdout",
     "output_type": "stream",
     "text": [
      "Epoch 1/1000\n",
      "198/198 [==============================] - 1s 1ms/step - loss: 0.2714 - accuracy: 0.9171\n",
      "Epoch 2/1000\n",
      "198/198 [==============================] - 0s 1ms/step - loss: 0.1980 - accuracy: 0.9209\n",
      "Epoch 3/1000\n",
      "198/198 [==============================] - 0s 1ms/step - loss: 0.1818 - accuracy: 0.9228\n",
      "Epoch 4/1000\n",
      "198/198 [==============================] - 0s 1ms/step - loss: 0.1776 - accuracy: 0.9304\n",
      "Epoch 5/1000\n",
      "198/198 [==============================] - 0s 978us/step - loss: 0.1706 - accuracy: 0.9323\n",
      "Epoch 6/1000\n",
      "198/198 [==============================] - 0s 963us/step - loss: 0.1742 - accuracy: 0.93100s - loss: 0.1790 - accuracy: 0.\n",
      "Epoch 7/1000\n",
      "198/198 [==============================] - 0s 974us/step - loss: 0.1697 - accuracy: 0.9304\n",
      "Epoch 8/1000\n",
      "198/198 [==============================] - 0s 959us/step - loss: 0.1730 - accuracy: 0.9285\n",
      "Epoch 9/1000\n",
      "198/198 [==============================] - 0s 953us/step - loss: 0.1679 - accuracy: 0.9329\n",
      "Epoch 10/1000\n",
      "198/198 [==============================] - ETA: 0s - loss: 0.1660 - accuracy: 0.93 - 0s 959us/step - loss: 0.1670 - accuracy: 0.9304\n",
      "Epoch 11/1000\n",
      "198/198 [==============================] - 0s 1ms/step - loss: 0.1702 - accuracy: 0.9291\n",
      "Epoch 12/1000\n",
      "198/198 [==============================] - 0s 965us/step - loss: 0.1661 - accuracy: 0.9335\n",
      "Epoch 13/1000\n",
      "198/198 [==============================] - 0s 964us/step - loss: 0.1723 - accuracy: 0.9348\n",
      "Epoch 14/1000\n",
      "198/198 [==============================] - 0s 1ms/step - loss: 0.1599 - accuracy: 0.9437\n",
      "Epoch 15/1000\n",
      "198/198 [==============================] - 0s 1ms/step - loss: 0.1611 - accuracy: 0.9424\n",
      "Epoch 16/1000\n",
      "198/198 [==============================] - 0s 998us/step - loss: 0.1656 - accuracy: 0.9411\n",
      "Epoch 17/1000\n",
      "198/198 [==============================] - 0s 974us/step - loss: 0.1577 - accuracy: 0.9411\n",
      "Epoch 18/1000\n",
      "198/198 [==============================] - 0s 1ms/step - loss: 0.1512 - accuracy: 0.9487\n",
      "Epoch 19/1000\n",
      "198/198 [==============================] - 0s 1ms/step - loss: 0.1569 - accuracy: 0.9386: 0s - loss: 0.1624 - accuracy: 0.\n",
      "Epoch 20/1000\n",
      "198/198 [==============================] - 0s 1ms/step - loss: 0.1553 - accuracy: 0.9437\n",
      "Epoch 21/1000\n",
      "198/198 [==============================] - 0s 1ms/step - loss: 0.1503 - accuracy: 0.9456\n",
      "Epoch 22/1000\n",
      "198/198 [==============================] - 0s 1ms/step - loss: 0.1549 - accuracy: 0.9424\n",
      "Epoch 23/1000\n",
      "198/198 [==============================] - 0s 1ms/step - loss: 0.1487 - accuracy: 0.9468\n",
      "Epoch 24/1000\n",
      "198/198 [==============================] - 0s 1ms/step - loss: 0.1541 - accuracy: 0.9437\n",
      "Epoch 25/1000\n",
      "198/198 [==============================] - 0s 1ms/step - loss: 0.1501 - accuracy: 0.9424\n",
      "Epoch 26/1000\n",
      "198/198 [==============================] - 0s 1ms/step - loss: 0.1480 - accuracy: 0.9475: 0s - loss: 0.1343 - accuracy: \n",
      "Epoch 27/1000\n",
      "198/198 [==============================] - 0s 978us/step - loss: 0.1541 - accuracy: 0.9405\n",
      "Epoch 28/1000\n",
      "198/198 [==============================] - 0s 988us/step - loss: 0.1457 - accuracy: 0.9475\n",
      "Epoch 29/1000\n",
      "198/198 [==============================] - 0s 1ms/step - loss: 0.1470 - accuracy: 0.9456\n",
      "Epoch 30/1000\n",
      "198/198 [==============================] - 0s 996us/step - loss: 0.1493 - accuracy: 0.9399\n",
      "Epoch 31/1000\n",
      "198/198 [==============================] - 0s 963us/step - loss: 0.1480 - accuracy: 0.9481\n",
      "Epoch 32/1000\n",
      "198/198 [==============================] - 0s 969us/step - loss: 0.1594 - accuracy: 0.9411\n",
      "Epoch 33/1000\n",
      "198/198 [==============================] - 0s 976us/step - loss: 0.1494 - accuracy: 0.9456\n",
      "Epoch 34/1000\n",
      "198/198 [==============================] - ETA: 0s - loss: 0.1602 - accuracy: 0.94 - 0s 952us/step - loss: 0.1502 - accuracy: 0.9468\n",
      "Epoch 35/1000\n",
      "198/198 [==============================] - 0s 988us/step - loss: 0.1578 - accuracy: 0.9405\n",
      "Epoch 36/1000\n",
      "198/198 [==============================] - 0s 990us/step - loss: 0.1487 - accuracy: 0.9437\n",
      "Epoch 37/1000\n",
      "198/198 [==============================] - 0s 970us/step - loss: 0.1538 - accuracy: 0.9386\n",
      "Epoch 38/1000\n",
      "198/198 [==============================] - 0s 979us/step - loss: 0.1419 - accuracy: 0.9506\n",
      "Epoch 39/1000\n",
      "198/198 [==============================] - 0s 1ms/step - loss: 0.1519 - accuracy: 0.9449\n",
      "Epoch 40/1000\n",
      "198/198 [==============================] - 0s 1ms/step - loss: 0.1568 - accuracy: 0.9342\n",
      "Epoch 41/1000\n",
      "198/198 [==============================] - 0s 980us/step - loss: 0.1457 - accuracy: 0.9449\n",
      "Epoch 42/1000\n",
      "198/198 [==============================] - 0s 1ms/step - loss: 0.1512 - accuracy: 0.9424: 0s - loss: 0.1638 - accuracy: \n",
      "Epoch 43/1000\n",
      "198/198 [==============================] - 0s 1ms/step - loss: 0.1453 - accuracy: 0.9443\n",
      "Epoch 44/1000\n",
      "198/198 [==============================] - 0s 1ms/step - loss: 0.1439 - accuracy: 0.9443\n",
      "Epoch 45/1000\n",
      "198/198 [==============================] - 0s 1ms/step - loss: 0.1472 - accuracy: 0.9430\n",
      "Epoch 46/1000\n",
      "198/198 [==============================] - 0s 1ms/step - loss: 0.1425 - accuracy: 0.9449\n",
      "Epoch 47/1000\n",
      "198/198 [==============================] - 0s 1ms/step - loss: 0.1413 - accuracy: 0.9456\n",
      "Epoch 48/1000\n",
      "198/198 [==============================] - 0s 959us/step - loss: 0.1480 - accuracy: 0.9411\n",
      "Epoch 49/1000\n",
      "198/198 [==============================] - 0s 1ms/step - loss: 0.1419 - accuracy: 0.9462\n",
      "Epoch 50/1000\n",
      "198/198 [==============================] - 0s 949us/step - loss: 0.1399 - accuracy: 0.9468\n",
      "Epoch 51/1000\n",
      "198/198 [==============================] - 0s 1ms/step - loss: 0.1415 - accuracy: 0.9456\n",
      "Epoch 52/1000\n",
      "198/198 [==============================] - 0s 985us/step - loss: 0.1379 - accuracy: 0.9462\n",
      "Epoch 53/1000\n",
      "198/198 [==============================] - 0s 929us/step - loss: 0.1457 - accuracy: 0.9462\n",
      "Epoch 54/1000\n",
      "198/198 [==============================] - 0s 939us/step - loss: 0.1421 - accuracy: 0.94240s - loss: 0.1787 - accuracy: \n",
      "Epoch 55/1000\n",
      "198/198 [==============================] - 0s 967us/step - loss: 0.1429 - accuracy: 0.9462\n",
      "Epoch 56/1000\n",
      "198/198 [==============================] - 0s 1ms/step - loss: 0.1397 - accuracy: 0.9462\n",
      "Epoch 57/1000\n",
      "198/198 [==============================] - 0s 1ms/step - loss: 0.1436 - accuracy: 0.9481: 0s - loss: 0.1816 - accuracy\n",
      "Epoch 58/1000\n",
      "198/198 [==============================] - 0s 1ms/step - loss: 0.1445 - accuracy: 0.9430\n",
      "Epoch 59/1000\n",
      "198/198 [==============================] - 0s 972us/step - loss: 0.1449 - accuracy: 0.94810s - loss: 0.1565 - accuracy: 0.94\n",
      "Epoch 60/1000\n",
      "198/198 [==============================] - 0s 1ms/step - loss: 0.1463 - accuracy: 0.9430\n",
      "Epoch 61/1000\n",
      "198/198 [==============================] - 0s 1ms/step - loss: 0.1453 - accuracy: 0.9437\n",
      "Epoch 62/1000\n",
      "198/198 [==============================] - 0s 989us/step - loss: 0.1400 - accuracy: 0.9456\n",
      "Epoch 63/1000\n",
      "198/198 [==============================] - 0s 984us/step - loss: 0.1377 - accuracy: 0.9481\n"
     ]
    },
    {
     "data": {
      "text/plain": [
       "<keras.callbacks.History at 0x2d04ba215b0>"
      ]
     },
     "execution_count": 73,
     "metadata": {},
     "output_type": "execute_result"
    }
   ],
   "source": [
    "ann_classifier = Sequential()\n",
    "\n",
    "early_stopping_cb = keras.callbacks.EarlyStopping(monitor=\"accuracy\", patience=25)\n",
    "# Hidden layers\n",
    "ann_classifier.add(Dense(units = 54, activation = 'relu',kernel_initializer='random_normal', bias_initializer='zeros'))\n",
    "\n",
    "ann_classifier.add(Dense(units=15, activation='relu',kernel_initializer='random_normal',bias_initializer='zeros'))\n",
    "\n",
    "ann_classifier.add(tf.keras.layers.Dropout(rate=0.25))\n",
    "\n",
    "ann_classifier.add(Dense(units = 15, activation = 'relu',kernel_regularizer=tf.keras.regularizers.l2(l=0.01),kernel_initializer='random_normal',\n",
    "    bias_initializer='zeros'))\n",
    "\n",
    "# Output layer\n",
    "ann_classifier.add(Dense(units = len(np.unique(y)), activation = 'softmax'))\n",
    "\n",
    "\n",
    "# Compiling the ANN\n",
    "ann_classifier.compile(optimizer = tf.keras.optimizers.Adam(learning_rate=lr_schedule) , loss = tf.keras.losses.CategoricalCrossentropy(\n",
    "    from_logits=False,\n",
    "    label_smoothing=0.0,\n",
    "    axis=-1,\n",
    "    reduction=\"auto\",\n",
    "    name=\"categorical_crossentropy\",\n",
    "), metrics = ['accuracy'])\n",
    "\n",
    "\n",
    "# Fitting the ANN to the training set\n",
    "ann_classifier.fit(X_train, y_train, batch_size = 8, epochs = 1000,callbacks=[early_stopping_cb])\n",
    "\n",
    "\n"
   ]
  },
  {
   "cell_type": "code",
   "execution_count": 103,
   "id": "ebe4856e",
   "metadata": {},
   "outputs": [
    {
     "name": "stdout",
     "output_type": "stream",
     "text": [
      "13/13 [==============================] - 0s 1ms/step - loss: 0.1847 - accuracy: 0.9192\n"
     ]
    },
    {
     "data": {
      "text/plain": [
       "[0.18472860753536224, 0.9191918969154358]"
      ]
     },
     "execution_count": 103,
     "metadata": {},
     "output_type": "execute_result"
    }
   ],
   "source": [
    "ann_classifier.evaluate(X_test,y_test)"
   ]
  },
  {
   "cell_type": "code",
   "execution_count": 84,
   "id": "eb0d6bfb",
   "metadata": {},
   "outputs": [],
   "source": [
    "y_pred=np.round(y_pred)"
   ]
  },
  {
   "cell_type": "code",
   "execution_count": 85,
   "id": "0948087f",
   "metadata": {},
   "outputs": [
    {
     "data": {
      "text/plain": [
       "array([[0., 0., 1., 0., 0.],\n",
       "       [0., 0., 0., 0., 0.],\n",
       "       [0., 0., 1., 0., 0.],\n",
       "       ...,\n",
       "       [0., 0., 1., 0., 0.],\n",
       "       [0., 0., 1., 0., 0.],\n",
       "       [0., 0., 1., 0., 0.]], dtype=float32)"
      ]
     },
     "execution_count": 85,
     "metadata": {},
     "output_type": "execute_result"
    }
   ],
   "source": [
    "y_pred"
   ]
  },
  {
   "cell_type": "code",
   "execution_count": 86,
   "id": "ae902828",
   "metadata": {},
   "outputs": [
    {
     "data": {
      "text/plain": [
       "array([[0., 0., 1., 0., 0.],\n",
       "       [0., 0., 0., 0., 1.],\n",
       "       [0., 0., 1., 0., 0.],\n",
       "       ...,\n",
       "       [0., 0., 1., 0., 0.],\n",
       "       [0., 0., 1., 0., 0.],\n",
       "       [0., 0., 1., 0., 0.]], dtype=float32)"
      ]
     },
     "execution_count": 86,
     "metadata": {},
     "output_type": "execute_result"
    }
   ],
   "source": [
    "y_test"
   ]
  },
  {
   "cell_type": "code",
   "execution_count": 104,
   "id": "88893d05",
   "metadata": {},
   "outputs": [],
   "source": [
    "from sklearn import metrics\n",
    "metrics.multilabel_confusion_matrix(y_test, y_pred)"
   ]
  },
  {
   "cell_type": "code",
   "execution_count": 106,
   "id": "ffc96530",
   "metadata": {},
   "outputs": [
    {
     "name": "stdout",
     "output_type": "stream",
     "text": [
      "              precision    recall  f1-score   support\n",
      "\n",
      "           0       0.00      0.00      0.00         0\n",
      "           1       0.00      0.00      0.00        18\n",
      "           2       0.99      0.95      0.97       360\n",
      "           3       0.00      0.00      0.00         8\n",
      "           4       0.80      0.40      0.53        10\n",
      "\n",
      "   micro avg       0.99      0.88      0.93       396\n",
      "   macro avg       0.36      0.27      0.30       396\n",
      "weighted avg       0.92      0.88      0.90       396\n",
      " samples avg       0.88      0.88      0.88       396\n",
      "\n"
     ]
    },
    {
     "name": "stderr",
     "output_type": "stream",
     "text": [
      "C:\\Users\\user\\anaconda3\\lib\\site-packages\\sklearn\\metrics\\_classification.py:1245: UndefinedMetricWarning: Precision and F-score are ill-defined and being set to 0.0 in labels with no predicted samples. Use `zero_division` parameter to control this behavior.\n",
      "  \n",
      "C:\\Users\\user\\anaconda3\\lib\\site-packages\\sklearn\\metrics\\_classification.py:1245: UndefinedMetricWarning: Recall and F-score are ill-defined and being set to 0.0 in labels with no true samples. Use `zero_division` parameter to control this behavior.\n",
      "  \n",
      "C:\\Users\\user\\anaconda3\\lib\\site-packages\\sklearn\\metrics\\_classification.py:1245: UndefinedMetricWarning: Precision and F-score are ill-defined and being set to 0.0 in samples with no predicted labels. Use `zero_division` parameter to control this behavior.\n",
      "  \n"
     ]
    }
   ],
   "source": [
    "from sklearn.metrics import classification_report\n",
    "print(classification_report(y_test, y_pred))"
   ]
  }
 ],
 "metadata": {
  "kernelspec": {
   "display_name": "Python 3",
   "language": "python",
   "name": "python3"
  },
  "language_info": {
   "codemirror_mode": {
    "name": "ipython",
    "version": 3
   },
   "file_extension": ".py",
   "mimetype": "text/x-python",
   "name": "python",
   "nbconvert_exporter": "python",
   "pygments_lexer": "ipython3",
   "version": "3.8.8"
  },
  "toc": {
   "base_numbering": 1,
   "nav_menu": {},
   "number_sections": true,
   "sideBar": true,
   "skip_h1_title": false,
   "title_cell": "Table of Contents",
   "title_sidebar": "Contents",
   "toc_cell": false,
   "toc_position": {},
   "toc_section_display": true,
   "toc_window_display": false
  }
 },
 "nbformat": 4,
 "nbformat_minor": 5
}
