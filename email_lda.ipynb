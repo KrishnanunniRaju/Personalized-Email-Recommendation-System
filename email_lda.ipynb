{
 "cells": [
  {
   "cell_type": "code",
   "execution_count": 1,
   "id": "c8d811a9",
   "metadata": {},
   "outputs": [],
   "source": [
    "import pandas as pd"
   ]
  },
  {
   "cell_type": "code",
   "execution_count": 2,
   "id": "21e0d32a",
   "metadata": {},
   "outputs": [
    {
     "name": "stdout",
     "output_type": "stream",
     "text": [
      "(10348, 2)\n",
      "                              file  \\\n",
      "186822  jones-t/all_documents/634.   \n",
      "308790  mann-k/all_documents/5690.   \n",
      "82383         dasovich-j/sent/423.   \n",
      "227299          kaminski-v/var/63.   \n",
      "301824     mann-k/_sent_mail/3208.   \n",
      "\n",
      "                                                  message  \n",
      "186822  Message-ID: <17820178.1075846925335.JavaMail.e...  \n",
      "308790  Message-ID: <29110382.1075845717882.JavaMail.e...  \n",
      "82383   Message-ID: <6812040.1075843194135.JavaMail.ev...  \n",
      "227299  Message-ID: <21547648.1075856642126.JavaMail.e...  \n",
      "301824  Message-ID: <12684200.1075846107179.JavaMail.e...  \n"
     ]
    }
   ],
   "source": [
    "emails = pd.read_csv('C:\\Project DBs\\Email\\emails.csv')\n",
    "# email_subset = emails[:10000]\n",
    "email_subset = emails.sample(frac=0.02, random_state=1)\n",
    "\n",
    "print(email_subset.shape)\n",
    "print(email_subset.head())"
   ]
  },
  {
   "cell_type": "code",
   "execution_count": 3,
   "id": "870e22d9",
   "metadata": {},
   "outputs": [],
   "source": [
    "def parse_raw_message(raw_message):\n",
    "    lines = raw_message.split('\\n')\n",
    "    email = {}\n",
    "    message = ''\n",
    "    keys_to_extract = ['from', 'to']\n",
    "    for line in lines:\n",
    "        if ':' not in line:\n",
    "            message += line.strip()\n",
    "            email['body'] = message\n",
    "        else:\n",
    "            pairs = line.split(':')\n",
    "            key = pairs[0].lower()\n",
    "            val = pairs[1].strip()\n",
    "            if key in keys_to_extract:\n",
    "                email[key] = val\n",
    "    return email"
   ]
  },
  {
   "cell_type": "code",
   "execution_count": 4,
   "id": "6da7b962",
   "metadata": {},
   "outputs": [],
   "source": [
    "def parse_into_emails(messages):\n",
    "    emails = [parse_raw_message(message) for message in messages]\n",
    "    return {\n",
    "        'body': map_to_list(emails, 'body'),\n",
    "        'to': map_to_list(emails, 'to'),\n",
    "        'from_': map_to_list(emails, 'from')\n",
    "    }"
   ]
  },
  {
   "cell_type": "code",
   "execution_count": 5,
   "id": "fe0965fb",
   "metadata": {},
   "outputs": [],
   "source": [
    "def map_to_list(emails, key):\n",
    "    results = []\n",
    "    for email in emails:\n",
    "        if key not in email:\n",
    "            results.append('')\n",
    "        else:\n",
    "            results.append(email[key])\n",
    "    return results"
   ]
  },
  {
   "cell_type": "code",
   "execution_count": 6,
   "id": "87aa5e74",
   "metadata": {
    "scrolled": true
   },
   "outputs": [
    {
     "name": "stdout",
     "output_type": "stream",
     "text": [
      "                                                body  \\\n",
      "0  It would be nice if you could be at my dinner,...   \n",
      "1  Absolutely.Good point!  Can Peter start to dra...   \n",
      "2  My apologies.  My schedule melted down after w...   \n",
      "3  Vince,UK VAR breached the limit last week.UK t...   \n",
      "4  Any problems/comments?AM ---------------------...   \n",
      "\n",
      "                                                  to  \\\n",
      "0                           alicia.goodrow@enron.com   \n",
      "1                          Kay Mann/Corp/Enron@ENRON   \n",
      "2                        christine.piesco@oracle.com   \n",
      "3  Richard Lewis/LON/ECT@ECT, James New/LON/ECT@E...   \n",
      "4  Don Hammond/PDX/ECT@ECT, Jody Blackburn/PDX/EC...   \n",
      "\n",
      "                               from_  \n",
      "0               tana.jones@enron.com  \n",
      "1  Sheila Tweed@ECT on 05/15/2001 06  \n",
      "2            jeff.dasovich@enron.com  \n",
      "3        tanya.tamarchenko@enron.com  \n",
      "4                 kay.mann@enron.com  \n"
     ]
    }
   ],
   "source": [
    "email_df = pd.DataFrame(parse_into_emails(email_subset.message))\n",
    "print(email_df.head())"
   ]
  },
  {
   "cell_type": "code",
   "execution_count": 7,
   "id": "0940d93a",
   "metadata": {},
   "outputs": [],
   "source": [
    "import re\n",
    "import numpy as np"
   ]
  },
  {
   "cell_type": "code",
   "execution_count": 8,
   "id": "a23e43a5",
   "metadata": {},
   "outputs": [
    {
     "name": "stdout",
     "output_type": "stream",
     "text": [
      "Requirement already satisfied: gensim in c:\\users\\user\\anaconda3\\lib\\site-packages (4.1.2)\n",
      "Requirement already satisfied: numpy>=1.17.0 in c:\\users\\user\\anaconda3\\lib\\site-packages (from gensim) (1.20.1)\n",
      "Requirement already satisfied: Cython==0.29.23 in c:\\users\\user\\anaconda3\\lib\\site-packages (from gensim) (0.29.23)\n",
      "Requirement already satisfied: smart-open>=1.8.1 in c:\\users\\user\\anaconda3\\lib\\site-packages (from gensim) (5.2.1)\n",
      "Requirement already satisfied: scipy>=0.18.1 in c:\\users\\user\\anaconda3\\lib\\site-packages (from gensim) (1.6.2)\n"
     ]
    }
   ],
   "source": [
    "\n",
    "!pip install -U gensim\n",
    "import gensim"
   ]
  },
  {
   "cell_type": "code",
   "execution_count": 9,
   "id": "3b76cf2f",
   "metadata": {},
   "outputs": [],
   "source": [
    "import gensim.corpora as corpora\n",
    "from gensim.utils import simple_preprocess\n",
    "from gensim.models import CoherenceModel"
   ]
  },
  {
   "cell_type": "code",
   "execution_count": 10,
   "id": "64fcb787",
   "metadata": {},
   "outputs": [],
   "source": [
    "# !pip install spacy"
   ]
  },
  {
   "cell_type": "code",
   "execution_count": 11,
   "id": "2ed3ff5b",
   "metadata": {},
   "outputs": [
    {
     "name": "stderr",
     "output_type": "stream",
     "text": [
      "C:\\Users\\user\\anaconda3\\lib\\site-packages\\matplotlib\\__init__.py:169: DeprecationWarning: distutils Version classes are deprecated. Use packaging.version instead.\n",
      "  if LooseVersion(module.__version__) < minver:\n",
      "C:\\Users\\user\\anaconda3\\lib\\site-packages\\setuptools\\_distutils\\version.py:351: DeprecationWarning: distutils Version classes are deprecated. Use packaging.version instead.\n",
      "  other = LooseVersion(other)\n",
      "C:\\Users\\user\\anaconda3\\lib\\site-packages\\matplotlib\\__init__.py:169: DeprecationWarning: distutils Version classes are deprecated. Use packaging.version instead.\n",
      "  if LooseVersion(module.__version__) < minver:\n",
      "C:\\Users\\user\\anaconda3\\lib\\site-packages\\setuptools\\_distutils\\version.py:351: DeprecationWarning: distutils Version classes are deprecated. Use packaging.version instead.\n",
      "  other = LooseVersion(other)\n",
      "C:\\Users\\user\\anaconda3\\lib\\site-packages\\matplotlib\\__init__.py:169: DeprecationWarning: distutils Version classes are deprecated. Use packaging.version instead.\n",
      "  if LooseVersion(module.__version__) < minver:\n",
      "C:\\Users\\user\\anaconda3\\lib\\site-packages\\setuptools\\_distutils\\version.py:351: DeprecationWarning: distutils Version classes are deprecated. Use packaging.version instead.\n",
      "  other = LooseVersion(other)\n",
      "C:\\Users\\user\\anaconda3\\lib\\site-packages\\matplotlib\\__init__.py:169: DeprecationWarning: distutils Version classes are deprecated. Use packaging.version instead.\n",
      "  if LooseVersion(module.__version__) < minver:\n",
      "C:\\Users\\user\\anaconda3\\lib\\site-packages\\setuptools\\_distutils\\version.py:351: DeprecationWarning: distutils Version classes are deprecated. Use packaging.version instead.\n",
      "  other = LooseVersion(other)\n",
      "C:\\Users\\user\\anaconda3\\lib\\site-packages\\matplotlib\\__init__.py:169: DeprecationWarning: distutils Version classes are deprecated. Use packaging.version instead.\n",
      "  if LooseVersion(module.__version__) < minver:\n",
      "C:\\Users\\user\\anaconda3\\lib\\site-packages\\setuptools\\_distutils\\version.py:351: DeprecationWarning: distutils Version classes are deprecated. Use packaging.version instead.\n",
      "  other = LooseVersion(other)\n"
     ]
    }
   ],
   "source": [
    "import pyLDAvis\n",
    "import pyLDAvis.gensim_models\n",
    "import matplotlib.pyplot as plt"
   ]
  },
  {
   "cell_type": "code",
   "execution_count": 12,
   "id": "edf767f2",
   "metadata": {},
   "outputs": [
    {
     "name": "stderr",
     "output_type": "stream",
     "text": [
      "C:\\Users\\user\\anaconda3\\lib\\site-packages\\ipykernel\\ipkernel.py:287: DeprecationWarning: `should_run_async` will not call `transform_cell` automatically in the future. Please pass the result to `transformed_cell` argument and any exception that happen during thetransform in `preprocessing_exc_tuple` in IPython 7.17 and above.\n",
      "  and should_run_async(code)\n"
     ]
    }
   ],
   "source": [
    "# !pip install pyLDAvis"
   ]
  },
  {
   "cell_type": "code",
   "execution_count": 13,
   "id": "319bcabc",
   "metadata": {},
   "outputs": [
    {
     "name": "stderr",
     "output_type": "stream",
     "text": [
      "C:\\Users\\user\\anaconda3\\lib\\site-packages\\ipykernel\\ipkernel.py:287: DeprecationWarning: `should_run_async` will not call `transform_cell` automatically in the future. Please pass the result to `transformed_cell` argument and any exception that happen during thetransform in `preprocessing_exc_tuple` in IPython 7.17 and above.\n",
      "  and should_run_async(code)\n"
     ]
    }
   ],
   "source": [
    "# prep NLTK Stop words\n",
    "from nltk.corpus import stopwords\n",
    "stop_words = stopwords.words('english')\n",
    "stop_words.extend(['from', 'subject', 're', 'edu', 'use'])"
   ]
  },
  {
   "cell_type": "code",
   "execution_count": 14,
   "id": "a475fe71",
   "metadata": {},
   "outputs": [
    {
     "name": "stderr",
     "output_type": "stream",
     "text": [
      "C:\\Users\\user\\anaconda3\\lib\\site-packages\\ipykernel\\ipkernel.py:287: DeprecationWarning: `should_run_async` will not call `transform_cell` automatically in the future. Please pass the result to `transformed_cell` argument and any exception that happen during thetransform in `preprocessing_exc_tuple` in IPython 7.17 and above.\n",
      "  and should_run_async(code)\n",
      "[nltk_data] Downloading package stopwords to\n",
      "[nltk_data]     C:\\Users\\user\\AppData\\Roaming\\nltk_data...\n",
      "[nltk_data]   Package stopwords is already up-to-date!\n"
     ]
    },
    {
     "data": {
      "text/plain": [
       "True"
      ]
     },
     "execution_count": 14,
     "metadata": {},
     "output_type": "execute_result"
    }
   ],
   "source": [
    "import nltk\n",
    "nltk.download('stopwords')"
   ]
  },
  {
   "cell_type": "code",
   "execution_count": 15,
   "id": "230c99ad",
   "metadata": {},
   "outputs": [
    {
     "name": "stdout",
     "output_type": "stream",
     "text": [
      "My apologies.  My schedule melted down after we talked on Monday.  Here'swhere folks came out.  There's some concern about size.  We're supposed to beno larger than 3, but we lobbied Aceves and he apparently Ok'd our\"oversized\" group.  The other folks in the group--who talked to himoriginally--are pretty sure that five will violate the rules.  Folks wonderedif there were other groups that are smaller than ours that you could hook upwith.  Sorry about that---it's a wrinkle that I didn't think about when wespoke.  If it gets real ugly trying to find a smaller group, let me know.Fortunately there's not another team case due for two weeks.Best,Jeff\n"
     ]
    },
    {
     "name": "stderr",
     "output_type": "stream",
     "text": [
      "C:\\Users\\user\\anaconda3\\lib\\site-packages\\ipykernel\\ipkernel.py:287: DeprecationWarning: `should_run_async` will not call `transform_cell` automatically in the future. Please pass the result to `transformed_cell` argument and any exception that happen during thetransform in `preprocessing_exc_tuple` in IPython 7.17 and above.\n",
      "  and should_run_async(code)\n"
     ]
    }
   ],
   "source": [
    "print(email_df.iloc[2]['body']) # displays info below"
   ]
  },
  {
   "cell_type": "code",
   "execution_count": 16,
   "id": "caafcd72",
   "metadata": {},
   "outputs": [
    {
     "name": "stderr",
     "output_type": "stream",
     "text": [
      "C:\\Users\\user\\anaconda3\\lib\\site-packages\\ipykernel\\ipkernel.py:287: DeprecationWarning: `should_run_async` will not call `transform_cell` automatically in the future. Please pass the result to `transformed_cell` argument and any exception that happen during thetransform in `preprocessing_exc_tuple` in IPython 7.17 and above.\n",
      "  and should_run_async(code)\n"
     ]
    }
   ],
   "source": [
    "# Convert email body to list\n",
    "data = email_df.body.values.tolist()"
   ]
  },
  {
   "cell_type": "code",
   "execution_count": 55,
   "id": "9694b3fc",
   "metadata": {},
   "outputs": [
    {
     "name": "stderr",
     "output_type": "stream",
     "text": [
      "C:\\Users\\user\\anaconda3\\lib\\site-packages\\ipykernel\\ipkernel.py:287: DeprecationWarning: `should_run_async` will not call `transform_cell` automatically in the future. Please pass the result to `transformed_cell` argument and any exception that happen during thetransform in `preprocessing_exc_tuple` in IPython 7.17 and above.\n",
      "  and should_run_async(code)\n"
     ]
    },
    {
     "data": {
      "text/plain": [
       "10348"
      ]
     },
     "execution_count": 55,
     "metadata": {},
     "output_type": "execute_result"
    }
   ],
   "source": [
    "data"
   ]
  },
  {
   "cell_type": "code",
   "execution_count": null,
   "id": "5294467b",
   "metadata": {},
   "outputs": [],
   "source": []
  },
  {
   "cell_type": "code",
   "execution_count": 18,
   "id": "70f47f43",
   "metadata": {},
   "outputs": [
    {
     "name": "stderr",
     "output_type": "stream",
     "text": [
      "C:\\Users\\user\\anaconda3\\lib\\site-packages\\ipykernel\\ipkernel.py:287: DeprecationWarning: `should_run_async` will not call `transform_cell` automatically in the future. Please pass the result to `transformed_cell` argument and any exception that happen during thetransform in `preprocessing_exc_tuple` in IPython 7.17 and above.\n",
      "  and should_run_async(code)\n"
     ]
    }
   ],
   "source": [
    "# tokenize - break down each sentence into a list of words\n",
    "def sent_to_words(sentences):\n",
    "    for sentence in sentences:\n",
    "        yield(gensim.utils.simple_preprocess(str(sentence), deacc=True))  # deacc=True removes punctuations"
   ]
  },
  {
   "cell_type": "code",
   "execution_count": 19,
   "id": "a1f8e063",
   "metadata": {},
   "outputs": [
    {
     "name": "stderr",
     "output_type": "stream",
     "text": [
      "C:\\Users\\user\\anaconda3\\lib\\site-packages\\ipykernel\\ipkernel.py:287: DeprecationWarning: `should_run_async` will not call `transform_cell` automatically in the future. Please pass the result to `transformed_cell` argument and any exception that happen during thetransform in `preprocessing_exc_tuple` in IPython 7.17 and above.\n",
      "  and should_run_async(code)\n"
     ]
    }
   ],
   "source": [
    "data_words = list(sent_to_words(data))"
   ]
  },
  {
   "cell_type": "code",
   "execution_count": 20,
   "id": "22049a41",
   "metadata": {},
   "outputs": [
    {
     "name": "stdout",
     "output_type": "stream",
     "text": [
      "['vince', 'uk', 'var', 'breached', 'the', 'limit', 'last', 'week', 'uk', 'traders', 'asked', 'us', 'to', 'review', 'the', 'correlations', 'across', 'uk', 'gas', 'and', 'power', 'aswell', 'as', 'the', 'correlations', 'across', 'efa', 'slots', 'we', 'did', 'part', 'of', 'the', 'work', 'last', 'week', 'now', 'we', 'll', 'update', 'the', 'correlations', 'based', 'on', 'historical', 'prices', 'tanya', 'richard', 'lewisleppard', 'lon', 'ect', 'ect', 'rudy', 'dautel', 'hou', 'ect', 'ect', 'kirstee', 'hewitt', 'lon', 'ect', 'ect', 'naveen', 'andrews', 'corp', 'enron', 'enron', 'david', 'port', 'market', 'risk', 'corp', 'enron', 'enron', 'tedmurphy', 'hou', 'ect', 'ect', 'simon', 'hastings', 'lon', 'ect', 'ect', 'paul', 'arcy', 'lon', 'ect', 'ect', 'amirghodsian', 'lon', 'ect', 'ectthanks', 'tanya', 'these', 'are', 'interesting', 'results', 'am', 'on', 'vacation', 'next', 'week', 'sohere', 'are', 'my', 'current', 'thoughts', 'am', 'contactable', 'on', 'my', 'mobile', 'if', 'necessary', 'gas', 'to', 'power', 'correlationsi', 'see', 'your', 'point', 'about', 'gas', 'to', 'power', 'correlation', 'only', 'affecting', 'var', 'for', 'theconservative', 'long', 'term', 'correlation', 'combined', 'var', 'is', 'mm', 'less', 'thanpreviously', 'expected', 'so', 'how', 'does', 'this', 'affect', 'the', 'limit', 'breach', 'we', 'are', 'still', 'over', 'our', 'uk', 'power', 'limit', 'but', 'the', 'limit', 'was', 'set', 'when', 'wewere', 'assuming', 'no', 'gas', 'power', 'correlation', 'and', 'therefore', 'higher', 'portfolio', 'var', 'suggested', 'way', 'forward', 'given', 'the', 'importance', 'of', 'the', 'spread', 'options', 'to', 'the', 'ukgas', 'and', 'power', 'books', 'can', 'we', 'allocate', 'to', 'the', 'gas', 'and', 'power', 'books', 'share', 'of', 'the', 'reduction', 'inportfolio', 'var', 'ie', 'reduction', 'portfolio', 'var', 'sum', 'power', 'var', 'gas', 'var', 'also', 'if', 'understand', 'your', 'mail', 'correctly', 'matrix', 'implies', 'gas', 'is', 'consistent', 'with', 'our', 'correlation', 'curves', 'and', 'this', 'reduces', 'totalvar', 'by', 'mm', 'efa', 'slot', 'correlationsthe', 'issue', 'of', 'whether', 'our', 'existing', 'efa', 'to', 'efa', 'correlation', 'matrix', 'is', 'correct', 'isa', 'separate', 'issue', 'don', 'understand', 'where', 'the', 'matrix', 'efa', 'to', 'efacorrelations', 'come', 'from', 'but', 'am', 'happy', 'for', 'you', 'to', 'run', 'some', 'from', 'the', 'forward', 'curves', 'use', 'the', 'first', 'years', 'wouldsuggest', 'our', 'original', 'matrix', 'was', 'based', 'on', 'historicals', 'but', 'the', 'analysis', 'isworth', 'doing', 'again', 'your', 'matrix', 'results', 'certainly', 'indicate', 'how', 'importantthese', 'correlations', 'are', 'closing', 'thoughtsfriday', 'trading', 'left', 'us', 'longer', 'so', 'would', 'not', 'expect', 'limit', 'breach', 'onmonday', 'we', 'are', 'still', 'reviewing', 'the', 'shape', 'of', 'the', 'long', 'term', 'curve', 'and', 'dlike', 'to', 'wait', 'until', 'both', 'simon', 'hastings', 'and', 'are', 'back', 'in', 'the', 'office', 'mondayweek', 'before', 'finalising', 'this', 'tamarchenkonew', 'lon', 'ect', 'ect', 'steven', 'leppard', 'lon', 'ect', 'ect', 'rudy', 'dautel', 'hou', 'ect', 'ect', 'kirsteehewitt', 'lon', 'ect', 'ect', 'naveen', 'andrews', 'corp', 'enron', 'enron', 'david', 'port', 'marketrisk', 'corp', 'enron', 'enron', 'ted', 'murphy', 'hou', 'ect', 'ecteverybody', 'oliver', 'sent', 'us', 'the', 'var', 'number', 'for', 'different', 'correlations', 'for', 'uk', 'powerportfolio', 'separately', 'from', 'uk', 'gas', 'portfolio', 'first', 'if', 'var', 'is', 'calculated', 'accurately', 'the', 'correlation', 'between', 'power', 'and', 'gascurves', 'should', 'not', 'affect', 'var', 'number', 'for', 'power', 'and', 'var', 'number', 'for', 'gas', 'onlythe', 'aggregate', 'number', 'will', 'be', 'affected', 'the', 'changes', 'you', 'see', 'are', 'due', 'to', 'thefact', 'that', 'we', 'use', 'monte', 'carlo', 'simulation', 'method', 'which', 'accuracy', 'depends', 'on', 'the', 'number', 'of', 'simulations', 'even', 'if', 'we', 'don', 'changethe', 'correlations', 'but', 'use', 'different', 'realizations', 'of', 'random', 'numbers', 'we', 'get', 'slightly', 'different', 'result', 'from', 'the', 'model', 'we', 'should', 'look', 'at', 'the', 'aggregate', 'number', 'calculated', 'weighted', 'correlations', 'based', 'on', 'curves', 'got', 'from', 'paul', 'as', 'theweights', 'along', 'the', 'term', 'structure', 'used', 'the', 'product', 'of', 'price', 'position', 'andvolatility', 'for', 'each', 'time', 'bucket', 'for', 'gas', 'and', 'each', 'of', 'efa', 'slots', 'the', 'these', 'numbers', 'into', 'the', 'original', 'correlation', 'matrix', 'definite', 'correlation', 'matrix', 'which', 'brakes', 'var', 'engine', 'correlation', 'matrix', 'for', 'any', 'set', 'of', 'random', 'variables', 'is', 'non', 'negative', 'bydefinition', 'and', 'remains', 'non', 'negatively', 'definite', 'if', 'calculated', 'properly', 'basedon', 'any', 'historical', 'data', 'here', 'according', 'to', 'our', 'phone', 'discussion', 'we', 'started', 'experimenting', 'assuming', 'the', 'same', 'correlation', 'for', 'each', 'efa', 'slot', 'and', 'et', 'elecversus', 'gas', 'am', 'sending', 'you', 'the', 'spreadsheet', 'which', 'summaries', 'the', 'results', 'inaddition', 'to', 'the', 'aggregate', 'var', 'numbers', 'for', 'the', 'runs', 'oliver', 'did', 'you', 'can', 'seethe', 'var', 'numbers', 'based', 'on', 'correlation', 'matrix', 'and', 'matrix', 'in', 'matrix', 'thecorrelations', 'across', 'efa', 'slots', 'are', 'identical', 'to', 'these', 'in', 'original', 'matrix', 'obtained', 'this', 'matrix', 'by', 'trial', 'and', 'error', 'matrix', 'is', 'produces', 'by', 'naveenusing', 'finger', 'algorithm', 'it', 'differs', 'from', 'original', 'matrix', 'across', 'efa', 'slots', 'aswellas', 'in', 'power', 'versus', 'gas', 'correlations', 'and', 'gives', 'higher', 'var', 'than', 'matrix', 'does', 'calculate', 'historical', 'correlations', 'from', 'them', 'tanya', 'oliver', 'gaylardleppard', 'lon', 'ect', 'ect', 'rudy', 'dautel', 'hou', 'ect', 'ect', 'kirstee', 'hewitt', 'lon', 'ect', 'ect', 'naveen', 'andrews', 'corp', 'enron', 'enron', 'tanya', 'tamarchenko', 'hou', 'ect', 'ect', 'davidport', 'market', 'risk', 'corp', 'enron', 'var', 'uk', 'power', 'book', 'var', 'uk', 'gas', 'book', 'mm', 'mm', 'mm', 'mm', 'mm', 'mm', 'mm', 'mm', 'cholesky', 'decomposition', 'failed', 'not', 'positive', 'definite', 'cholesky', 'decomposition', 'failed', 'not', 'positive', 'definite', 'cholesky', 'decomposition', 'failed', 'not', 'positive', 'definite', 'cholesky', 'decomposition', 'failed', 'not', 'positive', 'definite', 'cholesky', 'decomposition', 'failed', 'not', 'positive', 'definite', 'cholesky', 'decomposition', 'failed', 'not', 'positive', 'definite', 'cholesky', 'decomposition', 'failed', 'not', 'positive', 'definite', 'peaks', 'and', 'off', 'peaks', 'were', 'treated', 'the', 'same', 'to', 'avoid', 'violating', 'the', 'matrix', 'sintegrity', 'interesting', 'to', 'note', 'that', 'for', 'higher', 'correlation', 'of', 'the', 'power', 'varincreases', 'which', 'is', 'counter', 'to', 'intuition', 'this', 'implies', 'that', 'we', 'need', 'to', 'lookinto', 'how', 'the', 'correlations', 'are', 'being', 'applied', 'within', 'the', 'model', 'once', 'we', 'canderive', 'single', 'correlations', 'from', 'the', 'term', 'structure', 'is', 'the', 'next', 'action', 'tounderstand', 'how', 'they', 'are', 'being', 'applied', 'and', 'whether', 'the', 'model', 'captures', 'the', 'lvolatility', 'in', 'the', 'spread', 'option', 'deals', 'from', 'onwards', 'the', 'var', 'calculation', 'failed', 'oliver']\n"
     ]
    },
    {
     "name": "stderr",
     "output_type": "stream",
     "text": [
      "C:\\Users\\user\\anaconda3\\lib\\site-packages\\ipykernel\\ipkernel.py:287: DeprecationWarning: `should_run_async` will not call `transform_cell` automatically in the future. Please pass the result to `transformed_cell` argument and any exception that happen during thetransform in `preprocessing_exc_tuple` in IPython 7.17 and above.\n",
      "  and should_run_async(code)\n"
     ]
    }
   ],
   "source": [
    "print(data_words[3])"
   ]
  },
  {
   "cell_type": "code",
   "execution_count": 21,
   "id": "79cac354",
   "metadata": {},
   "outputs": [
    {
     "name": "stderr",
     "output_type": "stream",
     "text": [
      "C:\\Users\\user\\anaconda3\\lib\\site-packages\\ipykernel\\ipkernel.py:287: DeprecationWarning: `should_run_async` will not call `transform_cell` automatically in the future. Please pass the result to `transformed_cell` argument and any exception that happen during thetransform in `preprocessing_exc_tuple` in IPython 7.17 and above.\n",
      "  and should_run_async(code)\n"
     ]
    }
   ],
   "source": [
    "from gensim.models.phrases import Phrases, Phraser"
   ]
  },
  {
   "cell_type": "code",
   "execution_count": 22,
   "id": "63b2d2c6",
   "metadata": {},
   "outputs": [
    {
     "name": "stderr",
     "output_type": "stream",
     "text": [
      "C:\\Users\\user\\anaconda3\\lib\\site-packages\\ipykernel\\ipkernel.py:287: DeprecationWarning: `should_run_async` will not call `transform_cell` automatically in the future. Please pass the result to `transformed_cell` argument and any exception that happen during thetransform in `preprocessing_exc_tuple` in IPython 7.17 and above.\n",
      "  and should_run_async(code)\n"
     ]
    }
   ],
   "source": [
    "# Build the bigram and trigram models\n",
    "bigram = Phrases(data_words, min_count=5, threshold=100) # higher threshold fewer phrases.\n",
    "trigram = Phrases(bigram[data_words], threshold=100)"
   ]
  },
  {
   "cell_type": "code",
   "execution_count": 23,
   "id": "b2fbaa89",
   "metadata": {},
   "outputs": [
    {
     "name": "stderr",
     "output_type": "stream",
     "text": [
      "C:\\Users\\user\\anaconda3\\lib\\site-packages\\ipykernel\\ipkernel.py:287: DeprecationWarning: `should_run_async` will not call `transform_cell` automatically in the future. Please pass the result to `transformed_cell` argument and any exception that happen during thetransform in `preprocessing_exc_tuple` in IPython 7.17 and above.\n",
      "  and should_run_async(code)\n"
     ]
    }
   ],
   "source": [
    "# Faster way to get a sentence clubbed as a trigram/bigram\n",
    "bigram_mod = Phraser(bigram)\n",
    "trigram_mod = Phraser(trigram)"
   ]
  },
  {
   "cell_type": "code",
   "execution_count": 24,
   "id": "85c3b14e",
   "metadata": {},
   "outputs": [
    {
     "name": "stdout",
     "output_type": "stream",
     "text": [
      "['image_image_image', 'getting', 'together', 'for', 'the', 'holidays', 'is', 'something', 'we', 'all', 'enjoy', 'whether', 'it', 'gathering', 'with', 'old', 'friends', 'from', 'out', 'of', 'town', 'or', 'hanging', 'out', 'with', 'the', 'usual', 'gang', 'every', 'gathering', 'this', 'time', 'of', 'year', 'seems', 'little', 'more', 'special', 'we', 'at', 'miller_brewing', 'wish', 'you', 'many', 'happy', 'celebrations', 'this', 'season', 'and', 'thank', 'you', 'for', 'enjoying', 'those', 'occasions', 'responsibly', 'happy_holidays', 'image', 'this', 'mail', 'is', 'not', 'sent', 'unsolicited', 'you', 'subscribed', 'to', 'receive', 'information', 'from', 'miller_brewing', 'at', 'miller', 'web_site', 'or', 'event', 'must', 'be', 'or', 'older', 'to', 'visit', 'our', 'web_site', 'miller_brewing', 'co', 'milwaukee', 'wi', 'miller_brewing', 'company', 'milwaukee', 'wi', 'privacy_statement', 'image_image_image_image', 'this', 'message', 'was', 'sent', 'by', 'miller_brewing', 'company', 'using', 'responsys', 'interact', 'tm', 'click_here', 'if', 'you', 'prefer', 'not', 'to', 'receive', 'future', 'mail', 'from', 'miller_brewing', 'company', 'click_here', 'to', 'view', 'our', 'permission', 'marketing', 'policy', 'image']\n"
     ]
    },
    {
     "name": "stderr",
     "output_type": "stream",
     "text": [
      "C:\\Users\\user\\anaconda3\\lib\\site-packages\\ipykernel\\ipkernel.py:287: DeprecationWarning: `should_run_async` will not call `transform_cell` automatically in the future. Please pass the result to `transformed_cell` argument and any exception that happen during thetransform in `preprocessing_exc_tuple` in IPython 7.17 and above.\n",
      "  and should_run_async(code)\n"
     ]
    }
   ],
   "source": [
    "# See trigram example\n",
    "print(trigram_mod[bigram_mod[data_words[200]]])"
   ]
  },
  {
   "cell_type": "code",
   "execution_count": 25,
   "id": "ffc1b59b",
   "metadata": {},
   "outputs": [
    {
     "name": "stderr",
     "output_type": "stream",
     "text": [
      "C:\\Users\\user\\anaconda3\\lib\\site-packages\\ipykernel\\ipkernel.py:287: DeprecationWarning: `should_run_async` will not call `transform_cell` automatically in the future. Please pass the result to `transformed_cell` argument and any exception that happen during thetransform in `preprocessing_exc_tuple` in IPython 7.17 and above.\n",
      "  and should_run_async(code)\n"
     ]
    }
   ],
   "source": [
    "# remove stop_words, make bigrams and lemmatize\n",
    "def remove_stopwords(texts):\n",
    "    return [[word for word in simple_preprocess(str(doc)) if word not in stop_words] for doc in texts]\n",
    "\n",
    "def make_bigrams(texts):\n",
    "    return [bigram_mod[doc] for doc in texts]\n",
    "\n",
    "def make_trigrams(texts):\n",
    "    return [trigram_mod[bigram_mod[doc]] for doc in texts]\n",
    "\n",
    "def lemmatization(texts, allowed_postags=['NOUN', 'ADJ', 'VERB', 'ADV']):\n",
    "    \"\"\"https://spacy.io/api/annotation\"\"\"\n",
    "    texts_out = []\n",
    "    for sent in texts:\n",
    "        doc = nlp(\" \".join(sent))\n",
    "        texts_out.append([token.lemma_ for token in doc if token.pos_ in allowed_postags])\n",
    "    return texts_out"
   ]
  },
  {
   "cell_type": "code",
   "execution_count": 26,
   "id": "4de36b56",
   "metadata": {},
   "outputs": [
    {
     "name": "stderr",
     "output_type": "stream",
     "text": [
      "C:\\Users\\user\\anaconda3\\lib\\site-packages\\ipykernel\\ipkernel.py:287: DeprecationWarning: `should_run_async` will not call `transform_cell` automatically in the future. Please pass the result to `transformed_cell` argument and any exception that happen during thetransform in `preprocessing_exc_tuple` in IPython 7.17 and above.\n",
      "  and should_run_async(code)\n"
     ]
    }
   ],
   "source": [
    "# Remove Stop Words\n",
    "data_words_nostops = remove_stopwords(data_words)"
   ]
  },
  {
   "cell_type": "code",
   "execution_count": 27,
   "id": "244391fb",
   "metadata": {},
   "outputs": [
    {
     "name": "stderr",
     "output_type": "stream",
     "text": [
      "C:\\Users\\user\\anaconda3\\lib\\site-packages\\ipykernel\\ipkernel.py:287: DeprecationWarning: `should_run_async` will not call `transform_cell` automatically in the future. Please pass the result to `transformed_cell` argument and any exception that happen during thetransform in `preprocessing_exc_tuple` in IPython 7.17 and above.\n",
      "  and should_run_async(code)\n"
     ]
    }
   ],
   "source": [
    "# Form Bigrams\n",
    "data_words_bigrams = make_bigrams(data_words_nostops)"
   ]
  },
  {
   "cell_type": "code",
   "execution_count": 28,
   "id": "c941879b",
   "metadata": {},
   "outputs": [
    {
     "name": "stderr",
     "output_type": "stream",
     "text": [
      "C:\\Users\\user\\anaconda3\\lib\\site-packages\\ipykernel\\ipkernel.py:287: DeprecationWarning: `should_run_async` will not call `transform_cell` automatically in the future. Please pass the result to `transformed_cell` argument and any exception that happen during thetransform in `preprocessing_exc_tuple` in IPython 7.17 and above.\n",
      "  and should_run_async(code)\n"
     ]
    }
   ],
   "source": [
    "# !pip install -U spacy"
   ]
  },
  {
   "cell_type": "code",
   "execution_count": 29,
   "id": "7a9eae40",
   "metadata": {},
   "outputs": [
    {
     "name": "stderr",
     "output_type": "stream",
     "text": [
      "C:\\Users\\user\\anaconda3\\lib\\site-packages\\ipykernel\\ipkernel.py:287: DeprecationWarning: `should_run_async` will not call `transform_cell` automatically in the future. Please pass the result to `transformed_cell` argument and any exception that happen during thetransform in `preprocessing_exc_tuple` in IPython 7.17 and above.\n",
      "  and should_run_async(code)\n",
      "C:\\Users\\user\\anaconda3\\lib\\site-packages\\fsspec\\registry.py:188: DeprecationWarning: distutils Version classes are deprecated. Use packaging.version instead.\n",
      "  minversions = {\"s3fs\": LooseVersion(\"0.3.0\"), \"gcsfs\": LooseVersion(\"0.3.0\")}\n",
      "C:\\Users\\user\\anaconda3\\lib\\site-packages\\fsspec\\registry.py:188: DeprecationWarning: distutils Version classes are deprecated. Use packaging.version instead.\n",
      "  minversions = {\"s3fs\": LooseVersion(\"0.3.0\"), \"gcsfs\": LooseVersion(\"0.3.0\")}\n"
     ]
    }
   ],
   "source": [
    "# Initialize spacy 'en' model, keeping only tagger component (for efficiency)\n",
    "import spacy\n",
    "# spacy.load('en_core_web_sm')\n",
    "# from spacy.lang.en import English\n",
    "nlp = spacy.load('en_core_web_sm', disable=['parser', 'ner'])"
   ]
  },
  {
   "cell_type": "code",
   "execution_count": 30,
   "id": "4d1976d5",
   "metadata": {},
   "outputs": [
    {
     "name": "stderr",
     "output_type": "stream",
     "text": [
      "C:\\Users\\user\\anaconda3\\lib\\site-packages\\ipykernel\\ipkernel.py:287: DeprecationWarning: `should_run_async` will not call `transform_cell` automatically in the future. Please pass the result to `transformed_cell` argument and any exception that happen during thetransform in `preprocessing_exc_tuple` in IPython 7.17 and above.\n",
      "  and should_run_async(code)\n"
     ]
    }
   ],
   "source": [
    "\n",
    "# Do lemmatization keeping only noun, adj, vb, adv\n",
    "data_lemmatized = lemmatization(data_words_bigrams, allowed_postags=['NOUN', 'ADJ', 'VERB', 'ADV'])"
   ]
  },
  {
   "cell_type": "code",
   "execution_count": 31,
   "id": "fcecfbdc",
   "metadata": {},
   "outputs": [
    {
     "name": "stdout",
     "output_type": "stream",
     "text": [
      "['image_image', 'image', 'get', 'together', 'holiday', 'enjoy', 'gather', 'old', 'friend', 'town', 'hang', 'usual', 'gang', 'gathering', 'time', 'year', 'seem', 'little', 'special', 'miller_brewing', 'wish', 'many', 'happy', 'celebration', 'season', 'thank', 'enjoy', 'occasion', 'responsibly', 'happy_holiday', 'image', 'mail', 'send', 'unsolicited', 'subscribed', 'receive', 'information', 'miller_brewe', 'miller', 'web_site', 'event', 'old', 'visit', 'web_site', 'miller_brewe', 'miller_brewe', 'company', 'privacy', 'statement', 'image_image', 'image_image', 'message', 'send', 'miller_brewe', 'company', 'use', 'prefer', 'receive', 'future', 'mail', 'miller_brewe', 'company', 'click', 'view', 'permission', 'marketing', 'policy', 'image']\n"
     ]
    },
    {
     "name": "stderr",
     "output_type": "stream",
     "text": [
      "C:\\Users\\user\\anaconda3\\lib\\site-packages\\ipykernel\\ipkernel.py:287: DeprecationWarning: `should_run_async` will not call `transform_cell` automatically in the future. Please pass the result to `transformed_cell` argument and any exception that happen during thetransform in `preprocessing_exc_tuple` in IPython 7.17 and above.\n",
      "  and should_run_async(code)\n"
     ]
    }
   ],
   "source": [
    "print(data_lemmatized[200])"
   ]
  },
  {
   "cell_type": "code",
   "execution_count": 32,
   "id": "b981666e",
   "metadata": {},
   "outputs": [
    {
     "name": "stderr",
     "output_type": "stream",
     "text": [
      "C:\\Users\\user\\anaconda3\\lib\\site-packages\\ipykernel\\ipkernel.py:287: DeprecationWarning: `should_run_async` will not call `transform_cell` automatically in the future. Please pass the result to `transformed_cell` argument and any exception that happen during thetransform in `preprocessing_exc_tuple` in IPython 7.17 and above.\n",
      "  and should_run_async(code)\n"
     ]
    }
   ],
   "source": [
    "# create dictionary and corpus both are needed for (LDA) topic modeling\n",
    "\n",
    "# Create Dictionary\n",
    "id2word = corpora.Dictionary(data_lemmatized)\n",
    "\n",
    "# Create Corpus\n",
    "texts = data_lemmatized\n",
    "\n",
    "# Term Document Frequency\n",
    "corpus = [id2word.doc2bow(text) for text in texts]"
   ]
  },
  {
   "cell_type": "code",
   "execution_count": 33,
   "id": "d22cf160",
   "metadata": {},
   "outputs": [
    {
     "name": "stderr",
     "output_type": "stream",
     "text": [
      "C:\\Users\\user\\anaconda3\\lib\\site-packages\\ipykernel\\ipkernel.py:287: DeprecationWarning: `should_run_async` will not call `transform_cell` automatically in the future. Please pass the result to `transformed_cell` argument and any exception that happen during thetransform in `preprocessing_exc_tuple` in IPython 7.17 and above.\n",
      "  and should_run_async(code)\n"
     ]
    }
   ],
   "source": [
    "# Build LDA model\n",
    "lda_model = gensim.models.ldamodel.LdaModel(corpus=corpus,\n",
    "                                           id2word=id2word,\n",
    "                                           num_topics=5,\n",
    "                                           random_state=100,\n",
    "                                           update_every=1,\n",
    "                                           chunksize=100,\n",
    "                                           passes=10,\n",
    "                                           alpha='auto',\n",
    "                                           per_word_topics=True)"
   ]
  },
  {
   "cell_type": "code",
   "execution_count": 34,
   "id": "6e4e193b",
   "metadata": {},
   "outputs": [
    {
     "name": "stdout",
     "output_type": "stream",
     "text": [
      "[(0, '0.008*\"thank\" + 0.007*\"need\" + 0.006*\"information\" + 0.006*\"change\" + 0.006*\"also\" + 0.006*\"issue\" + 0.006*\"question\" + 0.005*\"call\" + 0.005*\"include\" + 0.005*\"service\"'), (1, '0.533*\"com\" + 0.049*\"enron\" + 0.014*\"mail\" + 0.006*\"aol\" + 0.005*\"hotmail\" + 0.004*\"txt\" + 0.003*\"empty_schedule\" + 0.003*\"energy\" + 0.003*\"net\" + 0.002*\"pge\"'), (2, '0.036*\"ect\" + 0.023*\"say\" + 0.018*\"power\" + 0.014*\"market\" + 0.013*\"company\" + 0.013*\"state\" + 0.012*\"energy\" + 0.010*\"price\" + 0.009*\"hou\" + 0.008*\"year\"'), (3, '0.020*\"get\" + 0.014*\"go\" + 0.010*\"know\" + 0.010*\"good\" + 0.009*\"think\" + 0.008*\"way\" + 0.008*\"time\" + 0.007*\"week\" + 0.007*\"see\" + 0.007*\"want\"'), (4, '0.018*\"message\" + 0.016*\"error\" + 0.016*\"image\" + 0.014*\"mail\" + 0.014*\"click\" + 0.012*\"email\" + 0.011*\"image_image\" + 0.010*\"attempt\" + 0.009*\"receive\" + 0.008*\"offer\"')]\n"
     ]
    },
    {
     "name": "stderr",
     "output_type": "stream",
     "text": [
      "C:\\Users\\user\\anaconda3\\lib\\site-packages\\ipykernel\\ipkernel.py:287: DeprecationWarning: `should_run_async` will not call `transform_cell` automatically in the future. Please pass the result to `transformed_cell` argument and any exception that happen during thetransform in `preprocessing_exc_tuple` in IPython 7.17 and above.\n",
      "  and should_run_async(code)\n"
     ]
    }
   ],
   "source": [
    "print(lda_model.print_topics())# The weights reflect how important a keyword is to that topic."
   ]
  },
  {
   "cell_type": "code",
   "execution_count": 35,
   "id": "4ef2394a",
   "metadata": {},
   "outputs": [
    {
     "name": "stderr",
     "output_type": "stream",
     "text": [
      "C:\\Users\\user\\anaconda3\\lib\\site-packages\\ipykernel\\ipkernel.py:287: DeprecationWarning: `should_run_async` will not call `transform_cell` automatically in the future. Please pass the result to `transformed_cell` argument and any exception that happen during thetransform in `preprocessing_exc_tuple` in IPython 7.17 and above.\n",
      "  and should_run_async(code)\n"
     ]
    }
   ],
   "source": [
    "doc_lda = lda_model[corpus]"
   ]
  },
  {
   "cell_type": "code",
   "execution_count": 36,
   "id": "9fc1a1ea",
   "metadata": {},
   "outputs": [
    {
     "name": "stderr",
     "output_type": "stream",
     "text": [
      "C:\\Users\\user\\anaconda3\\lib\\site-packages\\ipykernel\\ipkernel.py:287: DeprecationWarning: `should_run_async` will not call `transform_cell` automatically in the future. Please pass the result to `transformed_cell` argument and any exception that happen during thetransform in `preprocessing_exc_tuple` in IPython 7.17 and above.\n",
      "  and should_run_async(code)\n"
     ]
    },
    {
     "name": "stdout",
     "output_type": "stream",
     "text": [
      "\n",
      "Perplexity:  -8.479668111990238\n"
     ]
    }
   ],
   "source": [
    "# Model perplexity and topic coherence provide a convenient\n",
    "# measure to judge how good a given topic model is.\n",
    "# Compute Perplexity\n",
    "print('\\nPerplexity: ', lda_model.log_perplexity(corpus))  # a measure of how good the model is. lower the better."
   ]
  },
  {
   "cell_type": "code",
   "execution_count": 37,
   "id": "40abbc09",
   "metadata": {},
   "outputs": [
    {
     "name": "stderr",
     "output_type": "stream",
     "text": [
      "C:\\Users\\user\\anaconda3\\lib\\site-packages\\ipykernel\\ipkernel.py:287: DeprecationWarning: `should_run_async` will not call `transform_cell` automatically in the future. Please pass the result to `transformed_cell` argument and any exception that happen during thetransform in `preprocessing_exc_tuple` in IPython 7.17 and above.\n",
      "  and should_run_async(code)\n"
     ]
    },
    {
     "name": "stdout",
     "output_type": "stream",
     "text": [
      "\n",
      "Coherence Score:  0.4251876110774006\n"
     ]
    }
   ],
   "source": [
    "# Compute Coherence Score\n",
    "coherence_model_lda = CoherenceModel(model=lda_model, texts=data_lemmatized, dictionary=id2word, coherence='c_v')\n",
    "coherence_lda = coherence_model_lda.get_coherence()\n",
    "print('\\nCoherence Score: ', coherence_lda)"
   ]
  },
  {
   "cell_type": "code",
   "execution_count": 38,
   "id": "bea7ce66",
   "metadata": {},
   "outputs": [
    {
     "name": "stderr",
     "output_type": "stream",
     "text": [
      "C:\\Users\\user\\anaconda3\\lib\\site-packages\\ipykernel\\ipkernel.py:287: DeprecationWarning: `should_run_async` will not call `transform_cell` automatically in the future. Please pass the result to `transformed_cell` argument and any exception that happen during thetransform in `preprocessing_exc_tuple` in IPython 7.17 and above.\n",
      "  and should_run_async(code)\n"
     ]
    }
   ],
   "source": [
    "# Visualize the topics\n",
    "pyLDAvis.enable_notebook(sort=True)\n",
    "vis = pyLDAvis.gensim_models.prepare(lda_model, corpus, id2word)"
   ]
  },
  {
   "cell_type": "code",
   "execution_count": 39,
   "id": "2c020447",
   "metadata": {},
   "outputs": [
    {
     "name": "stderr",
     "output_type": "stream",
     "text": [
      "C:\\Users\\user\\anaconda3\\lib\\site-packages\\ipykernel\\ipkernel.py:287: DeprecationWarning: `should_run_async` will not call `transform_cell` automatically in the future. Please pass the result to `transformed_cell` argument and any exception that happen during thetransform in `preprocessing_exc_tuple` in IPython 7.17 and above.\n",
      "  and should_run_async(code)\n"
     ]
    },
    {
     "data": {
      "text/html": [
       "\n",
       "<link rel=\"stylesheet\" type=\"text/css\" href=\"https://cdn.jsdelivr.net/gh/bmabey/pyLDAvis@3.3.1/pyLDAvis/js/ldavis.v1.0.0.css\">\n",
       "\n",
       "\n",
       "<div id=\"ldavis_el753219005657034725668009169\"></div>\n",
       "<script type=\"text/javascript\">\n",
       "\n",
       "var ldavis_el753219005657034725668009169_data = {\"mdsDat\": {\"x\": [-0.18881448625401925, -0.13421482842982815, -0.1459634478908182, 0.347428245576734, 0.12156451699793198], \"y\": [-0.03987689197460858, 0.09203982818872604, -0.1627970644146863, -0.1433954469492999, 0.2540295751498688], \"topics\": [1, 2, 3, 4, 5], \"cluster\": [1, 1, 1, 1, 1], \"Freq\": [42.315258012402836, 22.169918905145575, 20.7930622011151, 10.282169094967328, 4.439591786369171]}, \"tinfo\": {\"Term\": [\"com\", \"ect\", \"enron\", \"get\", \"say\", \"power\", \"mail\", \"go\", \"market\", \"company\", \"message\", \"state\", \"email\", \"receive\", \"energy\", \"think\", \"good\", \"hou\", \"know\", \"click\", \"information\", \"price\", \"error\", \"offer\", \"way\", \"image\", \"gas\", \"time\", \"want\", \"year\", \"agreement\", \"regard\", \"meeting\", \"transaction\", \"request\", \"process\", \"form\", \"discuss\", \"option\", \"complete\", \"document\", \"draft\", \"program\", \"member\", \"position\", \"confirm\", \"access\", \"discussion\", \"management\", \"open\", \"model\", \"event\", \"investment\", \"section\", \"volume\", \"account\", \"opportunity\", \"page\", \"application\", \"conference\", \"follow\", \"review\", \"comment\", \"question\", \"provide\", \"change\", \"group\", \"product\", \"issue\", \"date\", \"information\", \"attach\", \"include\", \"service\", \"list\", \"forward\", \"contact\", \"thank\", \"need\", \"also\", \"business\", \"call\", \"deal\", \"new\", \"contract\", \"send\", \"time\", \"receive\", \"report\", \"work\", \"think\", \"thing\", \"game\", \"yard\", \"play\", \"woman\", \"original_message\", \"hear\", \"guy\", \"really\", \"man\", \"friend\", \"school\", \"weekend\", \"old\", \"football\", \"lot\", \"ticket\", \"family\", \"college\", \"afternoon\", \"probably\", \"coach\", \"never\", \"love\", \"memory\", \"remember\", \"present\", \"season\", \"chance\", \"immediately\", \"get\", \"go\", \"good\", \"way\", \"try\", \"talk\", \"home\", \"great\", \"look\", \"tell\", \"hope\", \"week\", \"leave\", \"want\", \"come\", \"know\", \"much\", \"start\", \"see\", \"update\", \"well\", \"back\", \"time\", \"let\", \"day\", \"still\", \"take\", \"check\", \"people\", \"make\", \"year\", \"give\", \"last\", \"need\", \"work\", \"say\", \"call\", \"thank\", \"ect\", \"hou\", \"electricity\", \"utility\", \"plant\", \"enronxgate\", \"percent\", \"natural_gas\", \"oil\", \"debt\", \"investor\", \"consumer\", \"government\", \"dabhol\", \"key\", \"governor\", \"crisis\", \"generator\", \"economic\", \"own\", \"peak\", \"federal\", \"lon\", \"appeal\", \"political\", \"growth\", \"operator\", \"earning\", \"bond\", \"bandwidth\", \"power\", \"supply\", \"electric\", \"stock\", \"revenue\", \"state\", \"say\", \"energy\", \"market\", \"sell\", \"company\", \"demand\", \"increase\", \"price\", \"develop\", \"gas\", \"source\", \"industry\", \"year\", \"buy\", \"high\", \"cost\", \"base\", \"rate\", \"customer\", \"plan\", \"pay\", \"last\", \"make\", \"com\", \"enron\", \"hotmail\", \"txt\", \"empty_schedule\", \"comattache\", \"yahoo\", \"complease\", \"comdporter\", \"reliantenergy\", \"covantaenergy\", \"comvariances_detecte\", \"llgm\", \"dennis_benevide\", \"sce\", \"kate_syme\", \"baughman\", \"epenergy\", \"variance_found\", \"apx\", \"gtbl_dynegy\", \"michael_mi\", \"brant_reve\", \"socalgas\", \"nam_nguyen\", \"coral_energy\", \"geoff_storey\", \"gen_pge\", \"bpa_gov\", \"vicki_sharp\", \"mpalm\", \"aol\", \"pge\", \"mail\", \"net\", \"org\", \"caiso\", \"carol\", \"energy\", \"hunter_shively\", \"dynegy\", \"find\", \"black\", \"state\", \"schedule\", \"calpine\", \"image\", \"image_image\", \"borland_databaseengine\", \"error_occurre\", \"initialize\", \"font\", \"fare\", \"serif_size\", \"font_face\", \"unsubscribe\", \"table_width\", \"password\", \"br\", \"td_tr\", \"sender\", \"may_contain\", \"strictly_prohibite\", \"herein\", \"border_cellspace\", \"width\", \"ski\", \"recipient\", \"cellpadding_tr\", \"exclusive\", \"br_font\", \"airline\", \"amazon\", \"expedia\", \"alt\", \"airport\", \"server\", \"error\", \"attempt\", \"click\", \"delete\", \"message\", \"sole\", \"travel\", \"email\", \"table\", \"mail\", \"free\", \"offer\", \"special\", \"receive\", \"size\", \"confidential\"], \"Freq\": [52339.0, 7056.0, 4812.0, 4467.0, 5466.0, 3571.0, 3346.0, 3105.0, 3548.0, 3615.0, 1394.0, 2827.0, 1708.0, 1987.0, 2954.0, 1997.0, 2176.0, 1803.0, 3399.0, 913.0, 2479.0, 2993.0, 717.0, 1357.0, 1910.0, 676.0, 2443.0, 3600.0, 1932.0, 3406.0, 2045.2512451460707, 1675.8143354822166, 1620.9177566271842, 1510.7780246132456, 1307.283264280077, 1276.146561825051, 1229.1955825566065, 1189.4363260882462, 1070.7664975362259, 989.8936991371519, 946.0068095577252, 948.0937875581791, 948.271923549195, 854.6933778712591, 813.4033946894017, 784.30480523518, 719.5539260124445, 706.0822975396509, 695.9613110226071, 699.2432689374236, 673.2355084013152, 666.0995707886922, 656.7743587938824, 631.4955717833768, 608.7445834445391, 604.1388924611771, 594.0379132898473, 550.2134466290483, 528.6888379683172, 516.3835200603806, 1429.9906222732898, 1852.5299461807601, 1186.2666917660736, 2229.8415588132134, 1913.4031193474775, 2352.7804371034176, 1791.522511955275, 1233.9417957210421, 2318.5022518385413, 1157.6044036767396, 2355.1892273751673, 1545.652758313152, 2117.5113755143984, 2102.4300736957257, 1361.39499026983, 1884.5300244484795, 1363.2173063935684, 3060.4169994103468, 2967.902467915535, 2343.2821733372084, 1900.2229390566024, 2122.4044661344287, 2101.3396027401513, 1985.046929315599, 1532.8853413333834, 1615.3341536614296, 1799.7886998343622, 1452.633759249702, 1436.225664415492, 1512.237101491033, 1996.4447632141678, 736.607948205844, 703.7166117133223, 595.4468334459322, 563.2632618540747, 561.4132962094127, 559.625731080456, 540.3706584302691, 513.9682356440395, 493.3228400411609, 470.85648393451726, 421.964915288082, 429.6980903446914, 422.9720053502482, 387.0038794772149, 388.0445868923086, 375.8508355248918, 369.05435880245534, 361.84406553752706, 362.08261802286387, 364.8594656359871, 349.7648795438065, 367.8244027087028, 335.42487107118683, 330.60370363800314, 332.67071455468374, 325.62655957979155, 335.4428759630702, 323.40798693622975, 297.7330111105587, 327.4569911499719, 4328.091087511698, 2952.9532139919997, 2039.1616405140287, 1753.7042906968384, 868.8202864004297, 874.5399226028285, 590.6792367321603, 935.0834186921687, 1238.9962266460411, 858.0176472412393, 787.7704516677155, 1569.8548104932534, 751.8713116612545, 1440.3915479826667, 1189.6149742688494, 2102.866992931971, 905.2804391065878, 895.8719211923495, 1519.6377365049063, 1038.1950174130955, 1153.0242984286547, 1026.8530207529388, 1737.2564026693865, 1312.0149916863004, 1361.636375059898, 819.1321122772154, 1203.2361435990847, 703.9625634692961, 798.7363187371581, 1175.6805691483144, 1188.4454948804364, 961.8375041475394, 933.02730936756, 1076.2896196744953, 918.0404319916186, 984.60831557666, 880.9711713266228, 882.893304524231, 7055.465502805247, 1802.92342295809, 1088.4255506269442, 1106.2035014623805, 966.1365812135931, 710.3018736140662, 514.6661804110295, 461.7847990161716, 448.5095834488292, 444.0633376722569, 434.47469756962346, 425.8761734441025, 422.49351236907876, 395.3256293475409, 407.6532464174664, 383.3358388681895, 369.03108959500696, 342.89274027930924, 343.9895200751794, 349.22261681576, 335.7093681330378, 323.4839040502374, 305.6298705212653, 256.60483378778997, 246.9440666439753, 249.5303924423274, 241.80877398617665, 241.7266074530543, 237.69468734505037, 233.13395897489065, 3546.8801444567657, 738.9796592116072, 463.3111256458113, 915.8287333612268, 415.49145252196644, 2548.313413436497, 4481.448214102912, 2451.9035708810256, 2799.8066653481465, 951.2816492760575, 2650.8022840247086, 508.49883260817046, 616.6607101172522, 2037.2027861806027, 571.386071332969, 1483.9727427712885, 614.1179427597416, 722.3531964633796, 1616.5147630880447, 706.580691974371, 714.8367630153357, 839.3651868407297, 753.208302658784, 701.3728790234027, 711.5090184238798, 698.9072815855138, 625.1778079486878, 625.229763476107, 633.3924718685126, 52338.64900235441, 4811.437080211994, 530.8683083743499, 353.9064937058096, 323.47791363488193, 170.47673320688406, 165.2805188895501, 143.77167547951242, 130.08909125075508, 103.15491022941971, 107.06436217957015, 99.87097745469704, 102.17626893294049, 90.4001323536381, 96.40951130392261, 87.91917205735169, 85.46948028448263, 81.30009979670174, 78.60290796642649, 89.66562232724246, 77.57435828594508, 76.79745530261336, 77.16759294537079, 83.0475910161557, 73.06124710119384, 72.8638842079136, 75.24376372601179, 69.11627131732376, 67.26462222701674, 68.35080162067784, 70.00813059335087, 544.6707047539298, 180.66272209686085, 1411.7708467134792, 271.7751384878696, 154.76587591275995, 90.22194695423356, 89.60098622277205, 321.16837828534244, 90.45499382732008, 118.04441256216201, 176.49152280709592, 96.55710880077802, 168.986836967798, 116.9621681866299, 92.55394279242499, 675.5703233352698, 474.2073017861878, 332.12571979766716, 332.12571979766716, 332.12571979766716, 297.7210144479274, 247.72756571338257, 231.75035333272754, 225.73780632301379, 203.35872841399475, 175.2747295306777, 177.4842988214704, 166.3467190521862, 153.73875361005807, 157.6417873341402, 127.07442586404373, 123.43459603546133, 120.2900083649153, 100.04077301970159, 98.33669942958099, 97.8186090594864, 85.06373544194555, 84.93639592545514, 98.89121062019376, 80.46946674726895, 78.011550331809, 78.57644348129475, 76.2396136993884, 74.17037866047849, 72.80624754578592, 74.73664487588559, 682.2812373558313, 427.27654079734054, 586.3972979358762, 256.3686152924833, 771.2482435979894, 113.64979242204527, 256.83506257885966, 510.57027572859636, 226.55850461709932, 586.5956911442536, 258.98386135491734, 343.7690027092375, 210.77004434885595, 391.2885422676988, 172.07163344680666, 145.94628840487007], \"Total\": [52339.0, 7056.0, 4812.0, 4467.0, 5466.0, 3571.0, 3346.0, 3105.0, 3548.0, 3615.0, 1394.0, 2827.0, 1708.0, 1987.0, 2954.0, 1997.0, 2176.0, 1803.0, 3399.0, 913.0, 2479.0, 2993.0, 717.0, 1357.0, 1910.0, 676.0, 2443.0, 3600.0, 1932.0, 3406.0, 2046.0113782371875, 1676.576625354843, 1621.6797702707454, 1511.5387461685484, 1308.043541425411, 1276.907852282951, 1229.9582464057269, 1190.1955917123378, 1071.5364358509419, 990.6579922708596, 946.7630558257576, 948.8555224371779, 949.04375751086, 855.4682475809494, 814.1635794302339, 785.066698652548, 720.3173589334618, 706.8484566332501, 696.7189642161802, 700.0188704336342, 673.9923608656153, 666.8674748840782, 657.5492389452937, 632.2589197600665, 609.5076036859392, 604.9007211056221, 594.8025876097012, 550.9893587639601, 529.4485168529131, 517.1465131979983, 1436.7964383630567, 1869.2374085050415, 1194.0339767554156, 2261.4911589728767, 1938.4096553239694, 2400.9789891723203, 1833.5269229102157, 1255.8282193722991, 2413.039764605991, 1182.6152423457913, 2479.716354827228, 1623.318052785245, 2297.4103507460763, 2311.0463970514397, 1447.3189758203637, 2131.7426237999043, 1493.731071619177, 3975.940444543162, 4044.7550211081348, 3313.953001889299, 2477.444146249244, 3003.946294240086, 2987.8045156297326, 2863.3215692317754, 1878.3548628338299, 2192.8866783268472, 3600.7430429077835, 1987.5877422502558, 1912.7473632030203, 2430.839640389374, 1997.208461172635, 737.3733426193065, 704.4877139967631, 596.2116460427671, 564.0289854997868, 562.186529429247, 560.4005807956738, 541.1352358554902, 514.7266668731551, 494.0847137340725, 471.62569829425973, 422.728998873357, 430.4763276909796, 423.7508560804812, 387.78634874959715, 388.83244950542706, 376.6174474196027, 369.82648216793996, 362.61692351850104, 362.86052770540266, 365.6522896682252, 350.5278466691634, 368.64959764238034, 336.19650054094893, 331.37386857661403, 333.4504593264458, 326.3915830142672, 336.236649552872, 324.176971644938, 298.5014007053208, 328.30670573618016, 4467.955700139911, 3105.1736081463723, 2176.7287313569846, 1910.1674590291568, 921.2855614303893, 947.0778700020724, 626.7764738094368, 1071.0782016001854, 1513.6333084989988, 1003.8552832702914, 918.7817935779326, 2113.9914829588533, 872.0269686012373, 1932.2239438545753, 1587.7382882684701, 3399.053760009828, 1160.0095684424984, 1152.1684314832858, 2349.5643381836926, 1427.8830672925849, 1794.228129887041, 1504.3696533825878, 3600.7430429077835, 2423.4313626818407, 2684.0339212447398, 1100.1594061709663, 2325.799123858867, 865.4480958958676, 1158.2489655462368, 3107.677028994425, 3406.6621398246025, 1887.4433413111672, 1809.1120784565662, 4044.7550211081348, 2430.839640389374, 5466.604132160939, 3003.946294240086, 3975.940444543162, 7056.212167885582, 1803.6734878115383, 1089.1654486959196, 1106.9573741239537, 966.8819328410834, 711.0518964107602, 515.4071559162165, 462.5363277230826, 449.26451591379197, 444.814355582321, 435.22117469103137, 426.61795983608425, 423.2725915062499, 396.07226253931805, 408.4327699561545, 384.09284280616833, 369.7715323835112, 343.634918194896, 344.7416851508703, 349.9879988079706, 336.45796991346776, 324.23127638150896, 306.38594258862605, 257.3578003047804, 247.6918012070768, 250.2867267774461, 242.5525931173929, 242.48184731541116, 238.441266687656, 233.88649395403888, 3571.7082213571753, 748.8208432183059, 472.14772393910255, 963.5959739958541, 425.5107567634143, 2827.103877249416, 5466.604132160939, 2954.477307506964, 3548.8035209223012, 1092.0812997075666, 3615.4022384578057, 550.9736108516475, 696.1864605412453, 2993.065029184022, 650.5729583300962, 2443.893729264612, 741.7218459875438, 957.5876824356571, 3406.6621398246025, 956.117264095872, 975.248763635664, 1366.653547325127, 1430.9202370021635, 1351.648091839637, 1542.1384712915226, 1719.498090643994, 1203.9356569311053, 1809.1120784565662, 3107.677028994425, 52339.43656702849, 4812.220700178447, 531.6659034929813, 354.7428653076833, 324.2519067449817, 171.2742145688829, 166.09124876215606, 144.5853908393308, 130.86946782443712, 103.9282146917837, 107.88285542038226, 100.6422610964805, 103.0510037094646, 91.17834913105783, 97.25387703284925, 88.69563564719988, 86.24611640016745, 82.07260867994175, 79.37457964666665, 90.55551823380195, 78.34722813235803, 77.56881236992058, 77.94528069550545, 83.90922605671668, 73.83524003822117, 73.6642499745536, 76.08189840538802, 69.88912578056987, 68.03943113812839, 69.1621359481657, 70.91620696886876, 665.4952513213916, 217.28456481397296, 3346.379989192259, 582.1359974622785, 263.88019806871625, 110.11270700069566, 111.32554114672912, 2954.477307506964, 119.14829594415487, 342.3660339383207, 1568.31103522413, 167.27215057291278, 2827.103877249416, 1114.6168085545291, 226.33454241957728, 676.3845499697333, 474.99504543549847, 332.90237578201936, 332.90237578201936, 332.90237578201936, 298.5050745480488, 248.51307952855262, 232.5461958755856, 226.52631117578514, 204.150701788117, 176.05371074779734, 178.27481599762538, 167.13744744743263, 154.51625683950175, 158.48480015998538, 127.85588026374892, 124.21506649490578, 121.08578298144226, 100.82358952631743, 99.11564863524133, 98.68095026825301, 85.84683947375707, 85.72214365304586, 99.82159817084636, 81.25024096764263, 78.79782403458034, 79.36907106682015, 77.02020280417668, 74.96122004591302, 73.59802601132911, 75.56899167694971, 717.4018030967993, 549.9841500950998, 913.7805903507397, 348.120277438907, 1394.9563195290739, 129.99760055001252, 400.58777558661285, 1708.5037537417047, 489.11187835953695, 3346.379989192259, 683.1495464543291, 1357.5304606634718, 482.49081198539466, 1987.5877422502558, 345.60343101278806, 242.97042428701357], \"Category\": [\"Default\", \"Default\", \"Default\", \"Default\", \"Default\", \"Default\", \"Default\", \"Default\", \"Default\", \"Default\", \"Default\", \"Default\", \"Default\", \"Default\", \"Default\", \"Default\", \"Default\", \"Default\", \"Default\", \"Default\", \"Default\", \"Default\", \"Default\", \"Default\", \"Default\", \"Default\", \"Default\", \"Default\", \"Default\", \"Default\", \"Topic1\", \"Topic1\", \"Topic1\", \"Topic1\", \"Topic1\", \"Topic1\", \"Topic1\", \"Topic1\", \"Topic1\", \"Topic1\", \"Topic1\", \"Topic1\", \"Topic1\", \"Topic1\", \"Topic1\", \"Topic1\", \"Topic1\", \"Topic1\", \"Topic1\", \"Topic1\", \"Topic1\", \"Topic1\", \"Topic1\", \"Topic1\", \"Topic1\", \"Topic1\", \"Topic1\", \"Topic1\", \"Topic1\", \"Topic1\", \"Topic1\", \"Topic1\", \"Topic1\", \"Topic1\", \"Topic1\", \"Topic1\", \"Topic1\", \"Topic1\", \"Topic1\", \"Topic1\", \"Topic1\", \"Topic1\", \"Topic1\", \"Topic1\", \"Topic1\", \"Topic1\", \"Topic1\", \"Topic1\", \"Topic1\", \"Topic1\", \"Topic1\", \"Topic1\", \"Topic1\", \"Topic1\", \"Topic1\", \"Topic1\", \"Topic1\", \"Topic1\", \"Topic1\", \"Topic1\", \"Topic2\", \"Topic2\", \"Topic2\", \"Topic2\", \"Topic2\", \"Topic2\", \"Topic2\", \"Topic2\", \"Topic2\", \"Topic2\", \"Topic2\", \"Topic2\", \"Topic2\", \"Topic2\", \"Topic2\", \"Topic2\", \"Topic2\", \"Topic2\", \"Topic2\", \"Topic2\", \"Topic2\", \"Topic2\", \"Topic2\", \"Topic2\", \"Topic2\", \"Topic2\", \"Topic2\", \"Topic2\", \"Topic2\", \"Topic2\", \"Topic2\", \"Topic2\", \"Topic2\", \"Topic2\", \"Topic2\", \"Topic2\", \"Topic2\", \"Topic2\", \"Topic2\", \"Topic2\", \"Topic2\", \"Topic2\", \"Topic2\", \"Topic2\", \"Topic2\", \"Topic2\", \"Topic2\", \"Topic2\", \"Topic2\", \"Topic2\", \"Topic2\", \"Topic2\", \"Topic2\", \"Topic2\", \"Topic2\", \"Topic2\", \"Topic2\", \"Topic2\", \"Topic2\", \"Topic2\", \"Topic2\", \"Topic2\", \"Topic2\", \"Topic2\", \"Topic2\", \"Topic2\", \"Topic2\", \"Topic2\", \"Topic2\", \"Topic3\", \"Topic3\", \"Topic3\", \"Topic3\", \"Topic3\", \"Topic3\", \"Topic3\", \"Topic3\", \"Topic3\", \"Topic3\", \"Topic3\", \"Topic3\", \"Topic3\", \"Topic3\", \"Topic3\", \"Topic3\", \"Topic3\", \"Topic3\", \"Topic3\", \"Topic3\", \"Topic3\", \"Topic3\", \"Topic3\", \"Topic3\", \"Topic3\", \"Topic3\", \"Topic3\", \"Topic3\", \"Topic3\", \"Topic3\", \"Topic3\", \"Topic3\", \"Topic3\", \"Topic3\", \"Topic3\", \"Topic3\", \"Topic3\", \"Topic3\", \"Topic3\", \"Topic3\", \"Topic3\", \"Topic3\", \"Topic3\", \"Topic3\", \"Topic3\", \"Topic3\", \"Topic3\", \"Topic3\", \"Topic3\", \"Topic3\", \"Topic3\", \"Topic3\", \"Topic3\", \"Topic3\", \"Topic3\", \"Topic3\", \"Topic3\", \"Topic3\", \"Topic3\", \"Topic4\", \"Topic4\", \"Topic4\", \"Topic4\", \"Topic4\", \"Topic4\", \"Topic4\", \"Topic4\", \"Topic4\", \"Topic4\", \"Topic4\", \"Topic4\", \"Topic4\", \"Topic4\", \"Topic4\", \"Topic4\", \"Topic4\", \"Topic4\", \"Topic4\", \"Topic4\", \"Topic4\", \"Topic4\", \"Topic4\", \"Topic4\", \"Topic4\", \"Topic4\", \"Topic4\", \"Topic4\", \"Topic4\", \"Topic4\", \"Topic4\", \"Topic4\", \"Topic4\", \"Topic4\", \"Topic4\", \"Topic4\", \"Topic4\", \"Topic4\", \"Topic4\", \"Topic4\", \"Topic4\", \"Topic4\", \"Topic4\", \"Topic4\", \"Topic4\", \"Topic4\", \"Topic5\", \"Topic5\", \"Topic5\", \"Topic5\", \"Topic5\", \"Topic5\", \"Topic5\", \"Topic5\", \"Topic5\", \"Topic5\", \"Topic5\", \"Topic5\", \"Topic5\", \"Topic5\", \"Topic5\", \"Topic5\", \"Topic5\", \"Topic5\", \"Topic5\", \"Topic5\", \"Topic5\", \"Topic5\", \"Topic5\", \"Topic5\", \"Topic5\", \"Topic5\", \"Topic5\", \"Topic5\", \"Topic5\", \"Topic5\", \"Topic5\", \"Topic5\", \"Topic5\", \"Topic5\", \"Topic5\", \"Topic5\", \"Topic5\", \"Topic5\", \"Topic5\", \"Topic5\", \"Topic5\", \"Topic5\", \"Topic5\", \"Topic5\", \"Topic5\", \"Topic5\", \"Topic5\"], \"logprob\": [30.0, 29.0, 28.0, 27.0, 26.0, 25.0, 24.0, 23.0, 22.0, 21.0, 20.0, 19.0, 18.0, 17.0, 16.0, 15.0, 14.0, 13.0, 12.0, 11.0, 10.0, 9.0, 8.0, 7.0, 6.0, 5.0, 4.0, 3.0, 2.0, 1.0, -5.2868, -5.4861, -5.5194, -5.5897, -5.7344, -5.7585, -5.796, -5.8289, -5.934, -6.0125, -6.0579, -6.0557, -6.0555, -6.1594, -6.2089, -6.2453, -6.3315, -6.3504, -6.3648, -6.3601, -6.398, -6.4087, -6.4228, -6.462, -6.4987, -6.5063, -6.5232, -6.5998, -6.6397, -6.6633, -5.6447, -5.3858, -5.8315, -5.2004, -5.3535, -5.1468, -5.4193, -5.7921, -5.1614, -5.856, -5.1457, -5.5669, -5.2521, -5.2593, -5.6938, -5.3687, -5.6925, -4.8838, -4.9145, -5.1508, -5.3604, -5.2498, -5.2598, -5.3167, -5.5752, -5.5228, -5.4147, -5.629, -5.6403, -5.5888, -4.6646, -5.6616, -5.7073, -5.8744, -5.93, -5.9332, -5.9364, -5.9714, -6.0215, -6.0625, -6.1091, -6.2188, -6.2006, -6.2164, -6.3053, -6.3026, -6.3345, -6.3528, -6.3725, -6.3718, -6.3642, -6.4064, -6.3561, -6.4483, -6.4628, -6.4565, -6.4779, -6.4482, -6.4848, -6.5675, -6.4723, -3.8908, -4.2731, -4.6434, -4.7942, -5.4966, -5.49, -5.8824, -5.4231, -5.1416, -5.5091, -5.5945, -4.905, -5.6411, -4.991, -5.1823, -4.6126, -5.4555, -5.4659, -4.9375, -5.3185, -5.2136, -5.3294, -4.8036, -5.0844, -5.0473, -5.5555, -5.1709, -5.707, -5.5807, -5.1941, -5.1833, -5.3949, -5.4253, -5.2824, -5.4415, -5.3715, -5.4827, -5.4805, -3.338, -4.7024, -5.2071, -5.1909, -5.3263, -5.6339, -5.9561, -6.0645, -6.0937, -6.1036, -6.1254, -6.1454, -6.1534, -6.2199, -6.1892, -6.2507, -6.2887, -6.3622, -6.359, -6.3439, -6.3833, -6.4204, -6.4772, -6.652, -6.6904, -6.68, -6.7114, -6.7118, -6.7286, -6.748, -4.0258, -5.5943, -6.0612, -5.3798, -6.1701, -4.3564, -3.7919, -4.395, -4.2623, -5.3418, -4.317, -5.9681, -5.7753, -4.5803, -5.8515, -4.8971, -5.7794, -5.6171, -4.8116, -5.6391, -5.6275, -5.4669, -5.5752, -5.6465, -5.6322, -5.6501, -5.7615, -5.7615, -5.7485, -0.6299, -3.0166, -5.2209, -5.6263, -5.7162, -6.3568, -6.3877, -6.5271, -6.6272, -6.8591, -6.8219, -6.8915, -6.8687, -6.9911, -6.9268, -7.019, -7.0472, -7.0972, -7.131, -6.9993, -7.1441, -7.1542, -7.1494, -7.076, -7.2041, -7.2068, -7.1746, -7.2596, -7.2867, -7.2707, -7.2468, -5.1952, -6.2987, -4.2428, -5.8904, -6.4535, -6.9931, -7.0, -5.7234, -6.9905, -6.7243, -6.3221, -6.9252, -6.3656, -6.7335, -6.9676, -4.14, -4.4939, -4.85, -4.85, -4.85, -4.9594, -5.1432, -5.2099, -5.2362, -5.3406, -5.4892, -5.4766, -5.5415, -5.6203, -5.5952, -5.8108, -5.8398, -5.8656, -6.0499, -6.0671, -6.0724, -6.2121, -6.2136, -6.0615, -6.2676, -6.2987, -6.2915, -6.3216, -6.3492, -6.3677, -6.3416, -4.1301, -4.5981, -4.2815, -5.1089, -4.0075, -5.9224, -5.1071, -4.42, -5.2325, -4.2812, -5.0988, -4.8156, -5.3048, -4.6861, -5.5076, -5.6723], \"loglift\": [30.0, 29.0, 28.0, 27.0, 26.0, 25.0, 24.0, 23.0, 22.0, 21.0, 20.0, 19.0, 18.0, 17.0, 16.0, 15.0, 14.0, 13.0, 12.0, 11.0, 10.0, 9.0, 8.0, 7.0, 6.0, 5.0, 4.0, 3.0, 2.0, 1.0, 0.8597, 0.8596, 0.8596, 0.8595, 0.8594, 0.8594, 0.8594, 0.8594, 0.8593, 0.8593, 0.8592, 0.8592, 0.8592, 0.8591, 0.8591, 0.8591, 0.859, 0.8589, 0.8589, 0.8589, 0.8589, 0.8589, 0.8588, 0.8588, 0.8588, 0.8588, 0.8587, 0.8586, 0.8586, 0.8585, 0.8553, 0.851, 0.8535, 0.8459, 0.847, 0.8397, 0.8368, 0.8424, 0.8201, 0.8386, 0.8085, 0.811, 0.7785, 0.7654, 0.7988, 0.7368, 0.7686, 0.5983, 0.5505, 0.5134, 0.5948, 0.5126, 0.5081, 0.4937, 0.6568, 0.5543, 0.1666, 0.5465, 0.5735, 0.3854, 1.5061, 1.5054, 1.5053, 1.5052, 1.5051, 1.5051, 1.5051, 1.505, 1.505, 1.5049, 1.5048, 1.5046, 1.5046, 1.5046, 1.5044, 1.5044, 1.5044, 1.5043, 1.5043, 1.5043, 1.5043, 1.5043, 1.5042, 1.5041, 1.5041, 1.5041, 1.5041, 1.5041, 1.5041, 1.5039, 1.5038, 1.4746, 1.4562, 1.4411, 1.421, 1.4478, 1.4268, 1.4471, 1.3706, 1.3062, 1.3495, 1.3526, 1.2088, 1.3582, 1.2127, 1.2178, 1.0262, 1.2585, 1.2548, 1.0707, 1.1877, 1.0642, 1.1246, 0.7776, 0.8928, 0.8278, 1.2115, 0.8474, 1.2999, 1.1348, 0.5344, 0.4533, 0.8323, 0.8443, 0.1825, 0.5327, -0.2077, 0.2798, 0.0016, 1.5704, 1.5701, 1.5699, 1.5699, 1.5698, 1.5695, 1.5691, 1.5689, 1.5689, 1.5689, 1.5688, 1.5688, 1.5687, 1.5687, 1.5686, 1.5686, 1.5685, 1.5684, 1.5684, 1.5684, 1.5683, 1.5682, 1.5681, 1.5676, 1.5675, 1.5675, 1.5675, 1.5674, 1.5674, 1.5673, 1.5636, 1.5573, 1.5517, 1.5197, 1.5467, 1.4667, 1.3718, 1.3841, 1.3335, 1.4325, 1.2602, 1.4903, 1.4493, 1.1858, 1.4408, 1.0717, 1.3818, 1.2886, 0.8251, 1.2681, 1.2599, 1.0831, 0.9288, 0.9145, 0.797, 0.6703, 0.9152, 0.5081, -0.02, 2.2747, 2.2746, 2.2733, 2.2724, 2.2724, 2.2701, 2.2699, 2.2691, 2.2688, 2.2673, 2.2671, 2.2671, 2.2662, 2.2662, 2.266, 2.266, 2.2657, 2.2653, 2.265, 2.2649, 2.2648, 2.2648, 2.2647, 2.2644, 2.2642, 2.2638, 2.2637, 2.2636, 2.2633, 2.263, 2.2619, 2.0744, 2.0902, 1.4117, 1.513, 1.7412, 2.0755, 2.0577, 0.0556, 1.9992, 1.2099, 0.0903, 1.7253, -0.5424, 0.0203, 1.3805, 3.1134, 3.1129, 3.1123, 3.1123, 3.1123, 3.112, 3.1114, 3.1112, 3.1111, 3.1107, 3.1102, 3.1102, 3.1099, 3.1096, 3.1093, 3.1085, 3.1083, 3.108, 3.1068, 3.1067, 3.1058, 3.1054, 3.1054, 3.1052, 3.105, 3.1046, 3.1046, 3.1044, 3.104, 3.1038, 3.1035, 3.0644, 2.8621, 2.671, 2.8087, 2.522, 2.9802, 2.6701, 1.9068, 2.345, 1.3733, 2.1447, 1.7412, 2.2864, 1.4894, 2.4172, 2.6049]}, \"token.table\": {\"Topic\": [1, 1, 2, 1, 5, 5, 1, 2, 3, 5, 5, 2, 4, 3, 1, 4, 1, 4, 1, 2, 3, 5, 1, 2, 3, 3, 1, 3, 5, 4, 1, 2, 4, 3, 5, 5, 4, 5, 5, 4, 1, 3, 2, 3, 5, 2, 4, 1, 2, 3, 4, 3, 4, 5, 2, 1, 2, 1, 2, 5, 1, 5, 2, 2, 4, 4, 4, 1, 2, 3, 1, 4, 1, 3, 4, 1, 4, 1, 1, 5, 1, 3, 1, 4, 5, 1, 3, 4, 1, 2, 3, 4, 3, 1, 3, 3, 1, 4, 1, 2, 3, 4, 1, 2, 3, 3, 2, 5, 1, 3, 4, 2, 3, 1, 1, 1, 1, 3, 4, 3, 3, 3, 3, 4, 3, 1, 2, 4, 5, 4, 1, 3, 4, 4, 3, 4, 1, 5, 5, 1, 5, 5, 2, 5, 3, 1, 2, 4, 1, 2, 5, 5, 2, 1, 1, 2, 3, 4, 1, 2, 3, 5, 2, 2, 1, 3, 4, 3, 4, 1, 2, 1, 2, 3, 1, 2, 3, 1, 2, 3, 3, 1, 2, 1, 4, 3, 4, 2, 2, 5, 1, 2, 3, 5, 2, 4, 1, 2, 4, 3, 3, 4, 5, 5, 2, 1, 3, 5, 1, 3, 1, 3, 1, 5, 5, 1, 3, 1, 3, 4, 3, 1, 2, 1, 2, 3, 1, 2, 1, 2, 1, 2, 4, 3, 1, 2, 2, 2, 1, 2, 4, 5, 1, 2, 3, 2, 1, 1, 3, 5, 1, 1, 2, 1, 2, 5, 4, 1, 4, 2, 3, 4, 3, 1, 2, 1, 2, 3, 4, 2, 1, 2, 3, 1, 2, 3, 5, 3, 2, 1, 3, 1, 1, 1, 2, 4, 2, 3, 1, 5, 1, 2, 3, 3, 1, 2, 4, 3, 3, 4, 1, 2, 3, 3, 2, 3, 1, 3, 4, 2, 1, 2, 3, 4, 5, 2, 1, 1, 5, 1, 1, 3, 1, 4, 1, 3, 5, 2, 1, 2, 4, 5, 5, 1, 4, 2, 1, 3, 4, 1, 3, 4, 1, 5, 2, 3, 4, 1, 2, 4, 2, 2, 1, 1, 2, 3, 4, 1, 2, 3, 5, 1, 2, 5, 5, 5, 1, 3, 5, 1, 5, 5, 4, 2, 5, 1, 3, 5, 1, 2, 5, 1, 2, 1, 3, 4, 1, 2, 3, 1, 3, 5, 1, 3, 1, 2, 4, 5, 5, 1, 2, 3, 1, 2, 5, 2, 3, 1, 2, 4, 2, 2, 2, 1, 2, 3, 1, 1, 2, 5, 1, 2, 4, 5, 1, 2, 3, 4, 4, 1, 1, 2, 1, 2, 3, 5, 1, 2, 3, 2, 1, 2, 3, 5, 2, 1, 2, 4, 2, 1, 2, 3], \"Freq\": [0.9995594179016708, 0.9985109604366551, 0.998216093029755, 0.9995056829849799, 0.9898750499223149, 0.9918744286533302, 0.70701063010376, 0.12975440501264054, 0.16294739234145555, 0.9871771024361091, 0.9953499384349674, 0.18031683886809236, 0.8189389765259195, 0.9986097164944808, 0.9991528603091021, 0.9938654402886009, 0.9523703610314782, 0.04743371138384465, 0.08000230550715287, 0.08000230550715287, 0.06363819756250796, 0.7763860102625972, 0.23797342574348931, 0.6826779559736411, 0.0797676287408344, 0.9962097257560623, 0.46473589708480345, 0.5262347827140706, 0.008386211676718257, 0.9855516230506464, 0.1554353184971265, 0.269022666629642, 0.579893303623895, 0.9981493694703693, 0.9918313806303984, 0.997289368152151, 0.9847231065759762, 0.993194538597998, 0.9846124644954527, 0.987872508931, 0.7669194088094892, 0.23290131520161855, 0.23637267988640615, 0.7394490472552617, 0.02405562671410328, 0.17255047593989278, 0.8173443597152815, 0.7064041071802205, 0.29328087578971457, 0.5876257268474981, 0.41089618493847613, 0.1886359570650693, 0.8084398159931542, 0.9915757630144122, 0.9983202735258995, 0.9800169058585306, 0.01999184508338694, 0.1502112034407224, 0.8134514401712967, 0.03581959466663381, 0.35785395690500105, 0.6412918004474942, 0.9982378994944394, 0.9976284890758322, 0.9999916589276246, 0.9925603829386096, 0.9933562209819365, 0.05857388505848935, 0.7494937980602401, 0.19209714992300272, 0.993271567717657, 0.0058624797420097794, 0.2666369981590779, 0.7332517449374641, 0.9959512448945735, 0.9993358027937055, 0.9936183757252354, 0.9977830012022931, 0.39510981750848045, 0.6008961807941474, 0.9986412636602994, 0.9985514912772971, 0.9124801819396667, 0.0187450074059506, 0.06828538412167719, 0.8161397137105386, 0.18367136414229343, 0.9909827362013045, 0.36658888493033126, 0.019024572870635952, 0.6139083322485986, 0.9918165364001345, 0.9979134889629334, 0.5382136659264358, 0.46169654233689433, 0.9972927603350876, 0.9791857558871256, 0.02029400530336012, 0.460500886451836, 0.5074451515755668, 0.0279430149546017, 0.004098308860008249, 0.7031919220314777, 0.25704492913858873, 0.039828576259755284, 0.9981692236950066, 0.26140390519472095, 0.7353780190093249, 0.07622869620757339, 0.9220042303201733, 0.9870764370896418, 0.12143142285344721, 0.8776878791052957, 0.9989954661900422, 0.99879966260761, 0.9991940371763957, 0.9990983638531391, 0.6542705110763264, 0.34466035851342197, 0.9980128520103841, 0.9978485771149326, 0.9998282126647071, 0.9806252927308775, 0.01694384955042553, 0.9989299617451921, 0.525020795556069, 0.16271547509987422, 0.01287676421653681, 0.29909211430228677, 0.9961390921103626, 0.0612629515007955, 0.8299268346958595, 0.10864865984395224, 0.9997463332929842, 0.99852064748569, 0.9869309785908645, 0.04878716480627166, 0.9506527542250649, 0.997289368152151, 0.9986991794970522, 0.9917693346339719, 0.986754088316665, 0.9982986907712001, 0.9979354023155402, 0.9962024749886862, 0.43550034697192025, 0.45144106245405496, 0.11222263699422835, 0.995269727720929, 0.004175956899528373, 0.9983079867274836, 0.9976766002454491, 0.9978591048496959, 0.9992209114345734, 0.884253088977469, 0.08209246184140959, 0.015949392586331004, 0.017825791714134655, 0.04976948338246905, 0.4742739004682345, 0.0966113500953811, 0.3791263587076319, 0.9982754935779189, 0.9993077040421384, 0.3924065881083017, 0.6072277129851092, 0.9872780526206402, 0.9981523466874926, 0.9857798184842428, 0.03111042484052546, 0.9686756741711812, 0.4752460539434646, 0.5096841737944403, 0.014834882397343376, 0.030272059427979336, 0.9509935264981167, 0.018678504753434057, 0.06293848104563468, 0.9367267361463439, 0.9969934469375367, 0.9971547431131909, 0.12604121697025547, 0.8729521323495472, 0.977351342709327, 0.02236127514011295, 0.9988544067792254, 0.9955680865726171, 0.9985882470835067, 0.9979021217243496, 0.9910329441268206, 0.09125876732026174, 0.16816222292722388, 0.7331462767863725, 0.0071776558566498, 0.9429198840345846, 0.057436744205152365, 0.1414917022830331, 0.8576573953771544, 0.9987475151432386, 0.9996266021449617, 0.23500126273835822, 0.7553612016590086, 0.9994314625167733, 0.9979051456534959, 0.996019862788821, 0.9219075727208187, 0.06485563188640321, 0.01349345361394966, 0.11347534673194018, 0.8862568219443935, 0.2454083362917424, 0.7539779523516512, 0.9497053948995238, 0.05000571930681144, 0.997289368152151, 0.999164718149207, 0.9971941284982324, 0.961028506042317, 0.03895501490641561, 0.9921570476143057, 0.9989404132381421, 0.381282583773036, 0.6187016000576347, 0.1387420950802226, 0.5157226084057676, 0.3454733443232634, 0.1376104229809364, 0.8623586506805347, 0.4584408773065207, 0.5413811260361433, 0.940359397435913, 0.058729279046328145, 0.9898011307834738, 0.998740338458856, 0.18102138639622917, 0.8185602107479122, 0.998360544834465, 0.9988717620426139, 0.24982219673199504, 0.15300115397940367, 0.4219484949588242, 0.17541343239435536, 0.417675320790978, 0.37841770204174896, 0.2036891202316557, 0.9986733159441423, 0.9989680714131428, 0.21077526427994575, 0.788998315486428, 0.993305898313137, 0.999580823364016, 0.99945264177569, 0.998649096698335, 0.2853135932846712, 0.16129537308806788, 0.552705478448446, 0.9926669965345357, 0.9985276378142612, 0.9870804290298413, 0.7801659784712894, 0.21896371108475968, 0.9886877859706448, 0.9988404635680774, 0.7337898054421259, 0.26602352784896477, 0.2559539362787043, 0.12368243900715913, 0.1528852371060717, 0.46724476958260114, 0.9964410678307962, 0.6932508109917156, 0.09709003801294556, 0.2095468446322566, 0.4265097666515879, 0.10754823131456276, 0.21288656746512766, 0.2534013121384218, 0.9994112245583118, 0.9979722113681084, 0.9985445100458462, 0.9977217595974105, 0.9986506655713681, 0.9994993769385772, 0.07200237129976789, 0.33727426556207063, 0.5873877658665275, 0.9992851884716017, 0.9971770494664514, 0.9982043958776635, 0.9928491526383493, 0.2857295554123498, 0.195193155586925, 0.5191307329439495, 0.9986388495609554, 0.3013169105965138, 0.6898344170963167, 0.008633722366662286, 0.9992100305330593, 0.1656813498502354, 0.833009008969239, 0.4338475303107809, 0.1593488248058364, 0.40651397277109363, 0.9990878588055814, 0.9981756513827476, 0.9972070080490939, 0.9985708284432864, 0.9930822396943201, 0.006719473851892778, 0.9963220857853643, 0.2799805523197931, 0.027396665024132495, 0.6805732518799743, 0.007016219091546126, 0.005011585065390091, 0.9984941377006729, 0.99928902286776, 0.9826184672110573, 0.01672203226210065, 0.9989002008573371, 0.9868914936251064, 0.012381283767382413, 0.9860750466134126, 0.013707769706285108, 0.4157886978075039, 0.5186261159485057, 0.06436586603069899, 0.9978045996892421, 0.7310369092712254, 0.062387182897200244, 0.00955932641166778, 0.1967208751032685, 0.9901354612592821, 0.9996560697876121, 0.9910686939582628, 0.9988002661997258, 0.7507525706872884, 0.234740880388992, 0.014115821315150965, 0.9992022120117854, 0.9752984934073986, 0.021151051664256838, 0.9913133514067496, 0.008559640379119262, 0.18018498800838378, 0.8197044987467692, 0.9871071768951101, 0.8361618027352804, 0.058316005555572134, 0.10496881000002983, 0.9988934869112674, 0.9963693545566613, 0.9980088540932814, 0.31112150798351507, 0.6469284434130546, 0.034900087078862156, 0.007235383906593374, 0.09339963977710558, 0.018313654858255996, 0.8708142885100727, 0.016482289372430396, 0.7364721651883217, 0.2631234918350846, 0.9969410305625777, 0.9976512371078398, 0.9924705667718567, 0.9095446991812226, 0.08610818036967806, 0.0038943398157140832, 0.5005737341583238, 0.4976802443655012, 0.9930994759738133, 0.9891641706228812, 0.12307919478747993, 0.8769392628607946, 0.1307767871807149, 0.8278035807109169, 0.04179464332579548, 0.3647737855893671, 0.19689494108516975, 0.4373140270417981, 0.22218973633084976, 0.7776640771579741, 0.03855535726053679, 0.9012756908242913, 0.059778489697529524, 0.1708843272579215, 0.7444375745970091, 0.08453320444141861, 0.048775629276552185, 0.9506058812196128, 0.9902180425515804, 0.012018896217310827, 0.9868849227325224, 0.13289393056248722, 0.2310309869778624, 0.17378437073556022, 0.4641064959643785, 0.9940148336361577, 0.2971021843251545, 0.5172415741579752, 0.18531265042567524, 0.07602331580173281, 0.9238944628682807, 0.9966588833430129, 0.8547048706112957, 0.14444313081426327, 0.7696292343110275, 0.2220858215348488, 0.008048410293448653, 0.9994936857657746, 0.9993949248683207, 0.9977652163709448, 0.49989682089239235, 0.4824004321611586, 0.01749638873123373, 0.9996435776655319, 0.11732759426114321, 0.23964785210786696, 0.6415572707471022, 0.056442868722771176, 0.9432471715401567, 0.9979059048670677, 0.9943634688588467, 0.27243127179705584, 0.7269502830985707, 0.9991351300905228, 0.9952808613496402, 0.9831969338101896, 0.9991671905602661, 0.25411133195074104, 0.7452552301610328, 0.013611372069553792, 0.9182441003845134, 0.06020414569225715, 0.007852714655511803, 0.07852444124687659, 0.7426709202264834, 0.17880866741758647, 0.9982280718263881, 0.33440563661086625, 0.6426161650205481, 0.022851051835075863, 0.9887439707997365, 0.9978894381719683, 0.6220072994028543, 0.3776472889231615, 0.9934298238450917, 0.9979677585119157, 0.17641902112163768, 0.3487284477412738, 0.4746581649811783], \"Term\": [\"access\", \"account\", \"afternoon\", \"agreement\", \"airline\", \"airport\", \"also\", \"also\", \"also\", \"alt\", \"amazon\", \"aol\", \"aol\", \"appeal\", \"application\", \"apx\", \"attach\", \"attach\", \"attempt\", \"attempt\", \"attempt\", \"attempt\", \"back\", \"back\", \"back\", \"bandwidth\", \"base\", \"base\", \"base\", \"baughman\", \"black\", \"black\", \"black\", \"bond\", \"border_cellspace\", \"borland_databaseengine\", \"bpa_gov\", \"br\", \"br_font\", \"brant_reve\", \"business\", \"business\", \"buy\", \"buy\", \"buy\", \"caiso\", \"caiso\", \"call\", \"call\", \"calpine\", \"calpine\", \"carol\", \"carol\", \"cellpadding_tr\", \"chance\", \"change\", \"change\", \"check\", \"check\", \"check\", \"click\", \"click\", \"coach\", \"college\", \"com\", \"comattache\", \"comdporter\", \"come\", \"come\", \"come\", \"comment\", \"comment\", \"company\", \"company\", \"complease\", \"complete\", \"comvariances_detecte\", \"conference\", \"confidential\", \"confidential\", \"confirm\", \"consumer\", \"contact\", \"contact\", \"contact\", \"contract\", \"contract\", \"coral_energy\", \"cost\", \"cost\", \"cost\", \"covantaenergy\", \"crisis\", \"customer\", \"customer\", \"dabhol\", \"date\", \"date\", \"day\", \"day\", \"day\", \"day\", \"deal\", \"deal\", \"deal\", \"debt\", \"delete\", \"delete\", \"demand\", \"demand\", \"dennis_benevide\", \"develop\", \"develop\", \"discuss\", \"discussion\", \"document\", \"draft\", \"dynegy\", \"dynegy\", \"earning\", \"economic\", \"ect\", \"electric\", \"electric\", \"electricity\", \"email\", \"email\", \"email\", \"email\", \"empty_schedule\", \"energy\", \"energy\", \"energy\", \"enron\", \"enronxgate\", \"epenergy\", \"error\", \"error\", \"error_occurre\", \"event\", \"exclusive\", \"expedia\", \"family\", \"fare\", \"federal\", \"find\", \"find\", \"find\", \"follow\", \"follow\", \"font\", \"font_face\", \"football\", \"form\", \"forward\", \"forward\", \"forward\", \"forward\", \"free\", \"free\", \"free\", \"free\", \"friend\", \"game\", \"gas\", \"gas\", \"gen_pge\", \"generator\", \"geoff_storey\", \"get\", \"get\", \"give\", \"give\", \"give\", \"go\", \"go\", \"go\", \"good\", \"good\", \"government\", \"governor\", \"great\", \"great\", \"group\", \"group\", \"growth\", \"gtbl_dynegy\", \"guy\", \"hear\", \"herein\", \"high\", \"high\", \"high\", \"high\", \"home\", \"home\", \"hope\", \"hope\", \"hotmail\", \"hou\", \"hunter_shively\", \"hunter_shively\", \"image\", \"image_image\", \"immediately\", \"include\", \"include\", \"include\", \"increase\", \"increase\", \"industry\", \"industry\", \"information\", \"information\", \"initialize\", \"investment\", \"investor\", \"issue\", \"issue\", \"kate_syme\", \"key\", \"know\", \"know\", \"last\", \"last\", \"last\", \"leave\", \"leave\", \"let\", \"let\", \"list\", \"list\", \"llgm\", \"lon\", \"look\", \"look\", \"lot\", \"love\", \"mail\", \"mail\", \"mail\", \"mail\", \"make\", \"make\", \"make\", \"man\", \"management\", \"market\", \"market\", \"may_contain\", \"meeting\", \"member\", \"memory\", \"message\", \"message\", \"message\", \"michael_mi\", \"model\", \"mpalm\", \"much\", \"much\", \"nam_nguyen\", \"natural_gas\", \"need\", \"need\", \"net\", \"net\", \"net\", \"net\", \"never\", \"new\", \"new\", \"new\", \"offer\", \"offer\", \"offer\", \"offer\", \"oil\", \"old\", \"open\", \"operator\", \"opportunity\", \"option\", \"org\", \"org\", \"org\", \"original_message\", \"own\", \"page\", \"password\", \"pay\", \"pay\", \"pay\", \"peak\", \"people\", \"people\", \"people\", \"percent\", \"pge\", \"pge\", \"plan\", \"plan\", \"plan\", \"plant\", \"play\", \"political\", \"position\", \"power\", \"power\", \"present\", \"price\", \"price\", \"price\", \"price\", \"price\", \"probably\", \"process\", \"product\", \"product\", \"program\", \"provide\", \"provide\", \"question\", \"question\", \"rate\", \"rate\", \"rate\", \"really\", \"receive\", \"receive\", \"receive\", \"receive\", \"recipient\", \"regard\", \"reliantenergy\", \"remember\", \"report\", \"report\", \"report\", \"request\", \"revenue\", \"revenue\", \"review\", \"review\", \"say\", \"say\", \"sce\", \"schedule\", \"schedule\", \"schedule\", \"school\", \"season\", \"section\", \"see\", \"see\", \"see\", \"see\", \"sell\", \"sell\", \"sell\", \"sell\", \"send\", \"send\", \"sender\", \"serif_size\", \"server\", \"service\", \"service\", \"service\", \"size\", \"size\", \"ski\", \"socalgas\", \"sole\", \"sole\", \"source\", \"source\", \"source\", \"special\", \"special\", \"special\", \"start\", \"start\", \"state\", \"state\", \"state\", \"still\", \"still\", \"still\", \"stock\", \"stock\", \"strictly_prohibite\", \"supply\", \"supply\", \"table\", \"table\", \"table\", \"table\", \"table_width\", \"take\", \"take\", \"take\", \"talk\", \"talk\", \"td_tr\", \"tell\", \"tell\", \"thank\", \"thank\", \"thank\", \"thing\", \"think\", \"ticket\", \"time\", \"time\", \"time\", \"transaction\", \"travel\", \"travel\", \"travel\", \"try\", \"try\", \"txt\", \"unsubscribe\", \"update\", \"update\", \"utility\", \"variance_found\", \"vicki_sharp\", \"volume\", \"want\", \"want\", \"way\", \"way\", \"way\", \"way\", \"week\", \"week\", \"week\", \"weekend\", \"well\", \"well\", \"well\", \"width\", \"woman\", \"work\", \"work\", \"yahoo\", \"yard\", \"year\", \"year\", \"year\"]}, \"R\": 30, \"lambda.step\": 0.01, \"plot.opts\": {\"xlab\": \"PC1\", \"ylab\": \"PC2\"}, \"topic.order\": [1, 4, 3, 2, 5]};\n",
       "\n",
       "function LDAvis_load_lib(url, callback){\n",
       "  var s = document.createElement('script');\n",
       "  s.src = url;\n",
       "  s.async = true;\n",
       "  s.onreadystatechange = s.onload = callback;\n",
       "  s.onerror = function(){console.warn(\"failed to load library \" + url);};\n",
       "  document.getElementsByTagName(\"head\")[0].appendChild(s);\n",
       "}\n",
       "\n",
       "if(typeof(LDAvis) !== \"undefined\"){\n",
       "   // already loaded: just create the visualization\n",
       "   !function(LDAvis){\n",
       "       new LDAvis(\"#\" + \"ldavis_el753219005657034725668009169\", ldavis_el753219005657034725668009169_data);\n",
       "   }(LDAvis);\n",
       "}else if(typeof define === \"function\" && define.amd){\n",
       "   // require.js is available: use it to load d3/LDAvis\n",
       "   require.config({paths: {d3: \"https://d3js.org/d3.v5\"}});\n",
       "   require([\"d3\"], function(d3){\n",
       "      window.d3 = d3;\n",
       "      LDAvis_load_lib(\"https://cdn.jsdelivr.net/gh/bmabey/pyLDAvis@3.3.1/pyLDAvis/js/ldavis.v3.0.0.js\", function(){\n",
       "        new LDAvis(\"#\" + \"ldavis_el753219005657034725668009169\", ldavis_el753219005657034725668009169_data);\n",
       "      });\n",
       "    });\n",
       "}else{\n",
       "    // require.js not available: dynamically load d3 & LDAvis\n",
       "    LDAvis_load_lib(\"https://d3js.org/d3.v5.js\", function(){\n",
       "         LDAvis_load_lib(\"https://cdn.jsdelivr.net/gh/bmabey/pyLDAvis@3.3.1/pyLDAvis/js/ldavis.v3.0.0.js\", function(){\n",
       "                 new LDAvis(\"#\" + \"ldavis_el753219005657034725668009169\", ldavis_el753219005657034725668009169_data);\n",
       "            })\n",
       "         });\n",
       "}\n",
       "</script>"
      ],
      "text/plain": [
       "<IPython.core.display.HTML object>"
      ]
     },
     "execution_count": 39,
     "metadata": {},
     "output_type": "execute_result"
    }
   ],
   "source": [
    "pyLDAvis.display(vis)"
   ]
  },
  {
   "cell_type": "code",
   "execution_count": 54,
   "id": "8d9da53b",
   "metadata": {},
   "outputs": [
    {
     "name": "stderr",
     "output_type": "stream",
     "text": [
      "C:\\Users\\user\\anaconda3\\lib\\site-packages\\ipykernel\\ipkernel.py:287: DeprecationWarning: `should_run_async` will not call `transform_cell` automatically in the future. Please pass the result to `transformed_cell` argument and any exception that happen during thetransform in `preprocessing_exc_tuple` in IPython 7.17 and above.\n",
      "  and should_run_async(code)\n"
     ]
    },
    {
     "name": "stdout",
     "output_type": "stream",
     "text": [
      "[3, 0, 3, 0, 0, 2, 3, 0, 1, 3, 0, 3, 0, 3, 0, 3, 1, 3, 1, 0, 0, 3, 3, 2, 0, 0, 1, 1, 1, 0, 0, 0, 2, 0, 0, 0, 0, 0, 3, 3, 0, 0, 0, 0, 0, 3, 0, 2, 0, 0, 3, 0, 0, 0, 3, 2, 0, 1, 0, 1, 3, 3, 3, 3, 0, 0, 4, 0, 0, 0, 3, 1, 0, 3, 1, 0, 0, 3, 3, 0, 3, 0, 0, 2, 3, 3, 0, 0, 3, 0, 3, 2, 3, 3, 0, 1, 0, 0, 3, 1, 1, 0, 2, 3, 0, 0, 0, 0, 0, 0, 0, 2, 2, 0, 1, 1, 0, 0, 0, 3, 0, 0, 1, 0, 3, 3, 1, 0, 3, 0, 0, 4, 0, 0, 0, 0, 1, 0, 0, 2, 0, 1, 0, 0, 1, 3, 3, 0, 0, 0, 3, 1, 1, 0, 3, 0, 0, 0, 0, 3, 0, 2, 0, 0, 3, 0, 0, 3, 0, 4, 0, 2, 3, 0, 0, 0, 0, 0, 0, 0, 1, 0, 3, 1, 0, 0, 0, 3, 2, 0, 0, 0, 0, 0, 1, 0, 3, 0, 3, 0, 3, 4, 0, 0, 0, 1, 1, 0, 0, 0, 0, 1, 3, 1, 0, 0, 3, 0, 3, 1, 3, 3, 0, 3, 4, 0, 3, 1, 3, 1, 0, 3, 3, 1, 0, 0, 3, 0, 2, 1, 3, 1, 1, 0, 0, 0, 3, 0, 2, 0, 3, 0, 0, 0, 0, 4, 0, 2, 0, 0, 3, 0, 3, 0, 0, 2, 1, 0, 3, 0, 0, 0, 2, 0, 3, 0, 0, 0, 1, 0, 1, 0, 2, 1, 0, 0, 3, 3, 1, 2, 0, 0, 1, 0, 1, 0, 3, 3, 0, 2, 0, 1, 2, 0, 3, 1, 0, 0, 0, 3, 0, 1, 1, 4, 2, 3, 0, 0, 3, 3, 0, 3, 0, 0, 0, 0, 0, 3, 3, 0, 3, 0, 0, 0, 1, 0, 3, 3, 1, 0, 3, 3, 1, 1, 0, 3, 3, 0, 0, 0, 0, 0, 0, 0, 0, 0, 0, 0, 0, 3, 0, 2, 0, 0, 0, 0, 0, 3, 3, 0, 0, 3, 0, 0, 3, 1, 0, 0, 2, 3, 0, 0, 3, 0, 2, 0, 0, 0, 0, 3, 0, 0, 3, 3, 3, 0, 0, 3, 0, 2, 3, 0, 0, 0, 0, 1, 0, 0, 3, 0, 0, 3, 0, 3, 0, 0, 0, 3, 1, 2, 0, 0, 0, 0, 3, 3, 0, 0, 3, 0, 0, 0, 0, 0, 0, 0, 3, 3, 3, 0, 1, 3, 0, 1, 0, 0, 4, 0, 0, 0, 0, 0, 1, 0, 3, 0, 3, 0, 0, 0, 1, 3, 0, 1, 1, 3, 3, 3, 3, 3, 3, 3, 2, 0, 3, 0, 2, 0, 0, 0, 0, 0, 1, 3, 3, 0, 3, 0, 0, 0, 0, 2, 0, 3, 0, 0, 3, 0, 1, 3, 3, 0, 0, 3, 0, 4, 3, 0, 3, 3, 1, 3, 3, 0, 0, 0, 1, 3, 0, 0, 0, 1, 1, 1, 0, 0, 3, 0, 0, 0, 1, 0, 0, 3, 0, 3, 2, 0, 0, 3, 3, 3, 1, 0, 3, 4, 0, 0, 0, 0, 1, 3, 1, 0, 3, 3, 3, 0, 3, 3, 0, 0, 0, 0, 0, 3, 0, 0, 0, 0, 3, 0, 3, 0, 3, 0, 1, 3, 0, 0, 0, 3, 0, 3, 3, 0, 0, 3, 0, 0, 0, 2, 0, 1, 0, 0, 3, 0, 4, 0, 0, 0, 0, 0, 0, 3, 1, 0, 0, 3, 3, 0, 0, 0, 3, 0, 0, 0, 0, 0, 0, 3, 0, 0, 0, 0, 0, 3, 3, 3, 0, 0, 1, 0, 0, 1, 0, 0, 0, 0, 3, 0, 0, 0, 0, 4, 0, 0, 3, 0, 0, 0, 0, 0, 3, 0, 0, 0, 0, 0, 0, 0, 0, 0, 3, 3, 3, 0, 0, 0, 3, 0, 3, 0, 0, 3, 1, 0, 4, 3, 0, 3, 2, 0, 0, 3, 3, 0, 3, 2, 3, 0, 0, 0, 0, 0, 0, 0, 0, 3, 0, 0, 0, 3, 3, 3, 0, 0, 0, 0, 3, 0, 4, 0, 0, 0, 0, 3, 1, 2, 3, 0, 0, 3, 0, 0, 0, 1, 0, 0, 3, 1, 0, 0, 0, 0, 0, 0, 0, 2, 0, 0, 0, 0, 0, 1, 1, 3, 0, 0, 0, 3, 0, 3, 0, 0, 3, 0, 1, 0, 0, 0, 0, 0, 0, 4, 1, 2, 4, 2, 0, 0, 1, 3, 0, 3, 0, 0, 0, 0, 0, 0, 0, 0, 0, 2, 3, 0, 0, 0, 0, 0, 1, 0, 2, 3, 0, 0, 0, 0, 0, 0, 0, 3, 2, 0, 3, 0, 3, 3, 0, 3, 0, 3, 0, 0, 0, 0, 3, 0, 0, 0, 0, 0, 0, 0, 0, 3, 0, 2, 0, 1, 0, 0, 0, 0, 0, 0, 0, 1, 0, 0, 1, 0, 0, 0, 0, 3, 1, 3, 0, 0, 0, 2, 0, 0, 0, 2, 3, 3, 0, 3, 0, 0, 0, 0, 3, 0, 3, 0, 3, 3, 0, 2, 2, 1, 0, 0, 3, 3, 0, 3, 0, 3, 0, 2, 0, 0, 0, 2, 3, 0, 1, 0, 3, 3, 0, 0, 0, 0, 3, 0, 4, 0, 0, 0, 3, 0, 0, 0, 0, 0, 0, 0, 0, 0, 0, 3, 2, 1, 1, 0, 0, 1, 3, 3, 0, 0, 0, 0, 1, 0, 1, 1, 3, 0, 0, 3, 0, 1, 4, 0, 0, 0, 0, 0, 1, 0, 3, 0, 0, 0, 1, 0, 0, 0, 3, 3, 0, 0, 3, 3, 0, 0, 1, 3, 0, 0, 1, 0, 1, 0, 0, 3, 2, 0, 0, 0, 0, 3, 0, 0, 0, 3, 4, 3, 1, 1, 3, 3, 0, 0, 0, 0, 1, 3, 3, 0, 0, 0, 0, 0, 0, 0, 0, 3, 3, 0, 1, 0, 0, 0, 0, 0, 0, 4, 0, 1, 0, 3, 0, 0, 0, 1, 2, 0, 0, 0, 0, 3, 0, 3, 0, 0, 0, 3, 1, 0, 0, 1, 0, 0, 0, 0, 3, 0, 0, 0, 1, 1, 0, 0, 2, 0, 0, 0, 0, 0, 0, 3, 0, 0, 0, 1, 1, 3, 0, 3, 0, 0, 0, 3, 3, 3, 0, 0, 0, 3, 0, 0, 0, 1, 0, 3, 1, 0, 0, 0, 0, 3, 3, 4, 4, 2, 3, 1, 0, 3, 0, 0, 2, 3, 0, 0, 0, 1, 1, 0, 0, 0, 0, 3, 2, 0, 3, 1, 0, 0, 4, 0, 0, 0, 0, 3, 0, 0, 0, 2, 0, 1, 0, 0, 0, 0, 1, 0, 0, 0, 0, 0, 3, 0, 0, 3, 1, 0, 1, 3, 0, 0, 3, 0, 4, 0, 3, 0, 0, 3, 0, 0, 3, 0, 2, 0, 3, 0, 0, 0, 3, 0, 4, 0, 0, 0, 0, 0, 3, 0, 0, 3, 3, 3, 3, 0, 3, 3, 0, 0, 0, 0, 3, 0, 3, 2, 1, 0, 0, 1, 1, 0, 0, 1, 0, 0, 0, 0, 0, 2, 0, 0, 3, 0, 0, 3, 2, 0, 1, 0, 3, 3, 4, 0, 3, 0, 2, 3, 0, 0, 0, 3, 0, 0, 0, 0, 0, 3, 3, 2, 3, 1, 0, 0, 0, 4, 2, 0, 0, 0, 0, 0, 0, 0, 3, 3, 0, 0, 0, 0, 0, 3, 0, 0, 1, 0, 0, 0, 3, 0, 0, 1, 3, 2, 0, 0, 2, 0, 0, 3, 0, 3, 0, 1, 0, 0, 0, 3, 0, 0, 1, 3, 0, 0, 0, 3, 3, 3, 0, 0, 3, 0, 0, 3, 0, 1, 0, 0, 0, 3, 3, 0, 0, 1, 2, 0, 0, 3, 1, 0, 3, 2, 0, 0, 4, 0, 0, 0, 0, 2, 3, 2, 3, 0, 0, 0, 1, 3, 0, 1, 0, 0, 0, 3, 3, 0, 0, 1, 2, 0, 3, 0, 1, 3, 0, 3, 0, 0, 3, 0, 0, 0, 3, 3, 0, 3, 0, 0, 3, 0, 1, 3, 0, 3, 1, 1, 0, 0, 3, 0, 1, 1, 0, 0, 0, 0, 3, 0, 0, 1, 0, 0, 0, 2, 1, 0, 0, 1, 3, 3, 1, 1, 0, 0, 0, 0, 3, 0, 0, 0, 3, 3, 0, 0, 0, 0, 0, 0, 0, 1, 0, 0, 0, 0, 0, 3, 0, 1, 0, 0, 0, 0, 3, 0, 3, 0, 0, 0, 0, 1, 0, 2, 0, 3, 0, 2, 0, 3, 0, 3, 1, 0, 2, 0, 0, 0, 0, 1, 1, 0, 0, 0, 3, 0, 3, 1, 0, 3, 0, 0, 1, 0, 1, 0, 3, 1, 3, 0, 0, 3, 3, 0, 0, 2, 0, 0, 3, 0, 3, 0, 0, 3, 0, 3, 0, 3, 1, 3, 3, 0, 3, 3, 0, 0, 2, 0, 0, 0, 0, 2, 0, 2, 0, 3, 0, 0, 0, 0, 0, 0, 3, 0, 0, 1, 3, 3, 1, 2, 3, 0, 0, 0, 0, 3, 0, 3, 0, 0, 3, 2, 0, 0, 0, 1, 3, 0, 0, 0, 1, 0, 0, 0, 3, 0, 0, 2, 0, 0, 0, 0, 0, 0, 0, 3, 3, 0, 0, 0, 0, 3, 0, 0, 0, 0, 0, 0, 0, 0, 3, 1, 2, 0, 1, 0, 0, 3, 3, 0, 1, 0, 0, 2, 0, 0, 3, 0, 1, 0, 0, 1, 0, 0, 0, 1, 1, 3, 2, 0, 0, 3, 0, 0, 0, 0, 0, 0, 1, 0, 0, 0, 2, 0, 3, 3, 0, 0, 0, 3, 0, 0, 0, 1, 0, 1, 0, 0, 0, 3, 0, 0, 0, 3, 0, 0, 0, 0, 0, 3, 0, 1, 0, 1, 1, 0, 0, 0, 0, 0, 3, 3, 0, 4, 0, 2, 0, 0, 3, 0, 3, 3, 0, 0, 1, 0, 3, 1, 0, 1, 0, 3, 0, 0, 0, 2, 0, 4, 0, 0, 3, 0, 0, 3, 0, 0, 3, 0, 0, 3, 0, 0, 1, 3, 0, 0, 0, 2, 0, 0, 3, 0, 0, 0, 0, 0, 3, 0, 3, 3, 0, 1, 0, 3, 0, 0, 3, 1, 3, 0, 0, 0, 0, 0, 0, 3, 0, 3, 0, 0, 1, 3, 0, 3, 3, 0, 3, 3, 0, 0, 3, 0, 3, 0, 0, 0, 0, 0, 3, 0, 0, 3, 1, 0, 0, 0, 0, 0, 0, 0, 0, 0, 0, 0, 0, 0, 3, 0, 0, 0, 0, 2, 2, 3, 3, 3, 0, 0, 2, 4, 0, 0, 0, 0, 0, 0, 3, 1, 2, 0, 0, 4, 0, 3, 0, 0, 0, 3, 0, 0, 3, 0, 0, 3, 3, 0, 0, 3, 0, 0, 0, 1, 0, 1, 3, 0, 0, 0, 0, 3, 3, 0, 0, 1, 0, 0, 2, 0, 0, 2, 0, 0, 0, 4, 0, 0, 0, 3, 0, 0, 0, 0, 0, 3, 3, 0, 0, 0, 3, 0, 0, 0, 3, 1, 3, 0, 1, 0, 0, 0, 3, 0, 0, 0, 0, 0, 0, 3, 3, 0, 3, 0, 3, 3, 0, 0, 0, 0, 0, 1, 0, 0, 0, 3, 0, 3, 0, 0, 0, 0, 0, 0, 0, 0, 0, 0, 0, 0, 0, 3, 0, 0, 3, 0, 0, 0, 2, 0, 0, 3, 0, 0, 3, 0, 0, 1, 1, 3, 0, 4, 0, 0, 0, 0, 3, 0, 0, 4, 3, 3, 0, 0, 0, 3, 3, 0, 4, 0, 0, 0, 3, 3, 0, 0, 0, 0, 2, 0, 0, 0, 0, 0, 0, 1, 0, 3, 2, 2, 3, 3, 0, 0, 0, 0, 0, 3, 3, 2, 0, 0, 2, 3, 0, 0, 0, 0, 0, 0, 0, 3, 3, 0, 0, 0, 1, 0, 0, 0, 1, 3, 1, 3, 0, 2, 1, 0, 0, 1, 0, 0, 0, 0, 0, 2, 0, 3, 0, 0, 0, 1, 0, 1, 0, 1, 0, 0, 3, 3, 2, 0, 0, 3, 0, 3, 3, 1, 0, 0, 3, 0, 0, 1, 0, 0, 1, 3, 0, 0, 0, 3, 0, 0, 3, 0, 3, 0, 0, 1, 3, 3, 2, 3, 0, 0, 1, 0, 0, 0, 0, 3, 2, 4, 0, 0, 0, 3, 0, 0, 3, 0, 0, 0, 0, 3, 0, 0, 0, 0, 0, 0, 3, 0, 0, 0, 1, 0, 3, 3, 4, 0, 1, 2, 0, 0, 2, 0, 0, 0, 1, 3, 3, 0, 0, 0, 2, 0, 0, 0, 1, 0, 0, 0, 1, 0, 1, 0, 0, 0, 0, 0, 0, 0, 0, 3, 3, 0, 3, 0, 0, 3, 2, 0, 0, 0, 0, 0, 3, 3, 3, 0, 1, 3, 0, 0, 0, 0, 3, 0, 0, 0, 0, 1, 0, 0, 1, 0, 0, 0, 0, 0, 0, 0, 4, 0, 0, 0, 0, 3, 0, 0, 3, 0, 0, 3, 0, 0, 0, 3, 1, 2, 2, 0, 2, 0, 3, 0, 0, 1, 3, 0, 0, 0, 4, 3, 0, 0, 3, 0, 1, 0, 0, 0, 0, 0, 0, 0, 0, 0, 3, 2, 0, 3, 0, 3, 3, 0, 0, 2, 0, 3, 2, 1, 1, 0, 4, 3, 0, 4, 0, 0, 3, 0, 0, 0, 3, 0, 0, 3, 0, 3, 2, 0, 0, 0, 0, 4, 0, 0, 1, 0, 3, 3, 0, 3, 3, 0, 3, 0, 0, 3, 2, 0, 3, 3, 3, 0, 2, 0, 3, 0, 0, 0, 0, 2, 0, 3, 3, 3, 0, 1, 0, 0, 0, 3, 3, 0, 2, 3, 0, 0, 0, 0, 1, 0, 3, 0, 0, 0, 0, 0, 0, 0, 0, 0, 0, 0, 0, 0, 0, 0, 3, 0, 3, 0, 0, 1, 0, 0, 0, 0, 0, 1, 3, 3, 0, 3, 0, 4, 0, 3, 1, 0, 0, 1, 0, 0, 1, 1, 0, 2, 3, 0, 1, 0, 0, 3, 1, 0, 0, 3, 0, 3, 3, 1, 0, 3, 0, 0, 0, 0, 0, 0, 0, 0, 4, 3, 0, 3, 4, 0, 0, 0, 0, 3, 0, 0, 3, 2, 0, 0, 4, 0, 3, 0, 0, 0, 0, 1, 0, 0, 0, 4, 3, 1, 4, 0, 0, 0, 1, 3, 3, 0, 0, 0, 2, 0, 3, 3, 3, 0, 0, 0, 1, 0, 0, 1, 0, 3, 0, 0, 3, 0, 3, 1, 0, 0, 0, 0, 0, 0, 0, 3, 0, 0, 3, 0, 0, 0, 3, 3, 0, 0, 2, 3, 3, 0, 0, 0, 0, 2, 4, 3, 3, 3, 2, 1, 0, 0, 0, 3, 0, 0, 0, 0, 1, 0, 0, 3, 0, 0, 0, 3, 4, 3, 2, 1, 0, 2, 0, 0, 2, 0, 0, 0, 0, 3, 3, 0, 0, 0, 0, 0, 0, 0, 0, 3, 3, 0, 3, 2, 1, 4, 1, 0, 0, 4, 0, 0, 0, 0, 0, 0, 0, 3, 0, 0, 0, 0, 0, 4, 3, 0, 2, 3, 3, 1, 0, 0, 1, 0, 3, 0, 1, 0, 3, 0, 3, 0, 0, 0, 1, 1, 2, 0, 0, 0, 0, 0, 1, 0, 0, 0, 0, 0, 0, 0, 0, 3, 3, 1, 0, 0, 0, 0, 0, 0, 3, 3, 0, 0, 3, 0, 0, 3, 2, 3, 3, 0, 3, 0, 0, 0, 0, 0, 3, 3, 0, 0, 0, 0, 0, 3, 0, 0, 0, 0, 0, 1, 1, 3, 0, 0, 0, 0, 1, 0, 0, 3, 3, 0, 0, 3, 0, 0, 0, 0, 0, 0, 3, 0, 1, 3, 0, 2, 0, 3, 0, 3, 3, 0, 3, 0, 3, 0, 0, 0, 0, 3, 0, 0, 0, 0, 3, 1, 0, 0, 0, 3, 0, 0, 0, 0, 3, 0, 0, 3, 0, 0, 0, 0, 0, 3, 0, 3, 0, 4, 0, 0, 0, 0, 0, 0, 0, 3, 0, 0, 1, 0, 0, 0, 0, 0, 0, 1, 3, 0, 1, 0, 0, 2, 3, 0, 0, 0, 0, 3, 0, 0, 0, 0, 2, 0, 3, 0, 3, 4, 0, 3, 0, 0, 4, 3, 0, 0, 1, 0, 0, 2, 0, 3, 3, 0, 3, 2, 0, 0, 0, 0, 3, 0, 0, 1, 0, 0, 0, 3, 0, 0, 3, 0, 0, 0, 0, 0, 4, 1, 0, 0, 0, 0, 0, 1, 0, 0, 3, 0, 3, 0, 0, 3, 3, 3, 1, 3, 0, 0, 3, 3, 0, 3, 3, 0, 0, 0, 1, 0, 0, 3, 4, 3, 0, 0, 1, 3, 0, 1, 3, 0, 0, 0, 0, 3, 3, 0, 3, 0, 0, 0, 0, 0, 0, 0, 0, 3, 0, 1, 3, 0, 2, 0, 3, 0, 1, 0, 0, 3, 0, 4, 0, 3, 0, 0, 0, 3, 0, 3, 3, 3, 2, 0, 3, 1, 0, 0, 0, 0, 3, 0, 0, 0, 0, 0, 0, 0, 0, 1, 3, 3, 3, 3, 0, 0, 3, 0, 3, 0, 0, 0, 0, 0, 3, 1, 0, 0, 1, 0, 0, 1, 0, 0, 3, 0, 0, 0, 3, 1, 0, 0, 3, 0, 0, 0, 1, 2, 0, 3, 0, 0, 0, 0, 0, 0, 1, 0, 1, 0, 0, 0, 0, 1, 3, 0, 3, 2, 0, 0, 0, 0, 0, 0, 0, 0, 1, 4, 3, 0, 0, 0, 0, 1, 3, 0, 0, 1, 0, 3, 3, 2, 3, 0, 0, 1, 0, 0, 0, 0, 3, 3, 0, 0, 0, 0, 0, 3, 3, 0, 0, 0, 3, 3, 0, 3, 3, 3, 0, 0, 0, 2, 0, 0, 3, 3, 0, 0, 4, 0, 4, 0, 0, 0, 0, 4, 4, 0, 0, 0, 0, 3, 0, 0, 0, 1, 0, 3, 3, 0, 0, 3, 3, 0, 0, 3, 0, 2, 2, 3, 3, 1, 0, 0, 0, 0, 0, 1, 0, 0, 0, 2, 2, 0, 3, 0, 0, 0, 0, 3, 3, 0, 0, 0, 3, 1, 2, 0, 0, 1, 3, 0, 0, 0, 3, 0, 0, 0, 4, 1, 0, 0, 3, 3, 0, 0, 0, 0, 4, 0, 3, 0, 0, 0, 0, 0, 3, 0, 1, 3, 3, 0, 0, 0, 3, 3, 3, 0, 1, 3, 0, 0, 3, 3, 1, 0, 0, 3, 0, 0, 1, 3, 3, 3, 2, 0, 0, 3, 0, 1, 0, 1, 0, 0, 0, 0, 0, 0, 3, 0, 0, 3, 2, 0, 0, 3, 0, 0, 3, 0, 0, 0, 0, 3, 0, 0, 0, 0, 3, 3, 0, 0, 3, 3, 0, 1, 0, 3, 1, 0, 0, 0, 0, 0, 3, 0, 3, 1, 0, 0, 0, 0, 0, 1, 3, 3, 0, 0, 0, 1, 1, 0, 0, 1, 1, 0, 0, 0, 0, 0, 2, 0, 0, 0, 0, 0, 1, 3, 0, 0, 0, 0, 3, 1, 0, 3, 4, 3, 0, 0, 1, 3, 0, 0, 0, 0, 3, 0, 1, 0, 3, 0, 0, 0, 3, 0, 3, 0, 0, 3, 2, 3, 1, 0, 0, 0, 3, 1, 0, 0, 0, 3, 2, 0, 1, 2, 1, 0, 1, 2, 1, 2, 3, 3, 0, 0, 0, 0, 0, 0, 1, 2, 0, 0, 1, 0, 3, 2, 0, 4, 0, 0, 0, 4, 1, 1, 0, 0, 3, 0, 0, 3, 0, 0, 0, 0, 0, 3, 3, 2, 3, 0, 0, 0, 0, 3, 0, 0, 0, 3, 0, 0, 1, 0, 0, 0, 0, 1, 2, 0, 0, 2, 0, 0, 0, 2, 0, 0, 0, 3, 4, 3, 2, 0, 0, 0, 0, 1, 0, 0, 0, 1, 0, 0, 0, 0, 0, 0, 0, 0, 3, 0, 1, 0, 1, 3, 0, 3, 0, 0, 2, 2, 4, 0, 0, 0, 1, 1, 0, 0, 3, 3, 0, 4, 1, 0, 0, 0, 0, 3, 0, 0, 0, 3, 0, 4, 0, 0, 0, 0, 3, 1, 0, 3, 0, 3, 0, 0, 3, 0, 3, 2, 0, 3, 0, 3, 0, 0, 0, 0, 0, 0, 1, 1, 0, 0, 0, 3, 0, 0, 3, 0, 0, 2, 3, 0, 3, 0, 3, 3, 0, 3, 0, 3, 3, 0, 3, 0, 0, 0, 0, 3, 0, 0, 2, 0, 1, 1, 3, 0, 0, 0, 3, 3, 0, 0, 0, 0, 0, 1, 0, 1, 3, 3, 0, 3, 0, 3, 0, 0, 3, 3, 0, 0, 0, 0, 0, 2, 0, 0, 3, 0, 0, 3, 0, 2, 2, 3, 3, 3, 3, 0, 0, 0, 3, 3, 0, 0, 0, 0, 0, 3, 0, 0, 0, 3, 0, 0, 3, 0, 0, 3, 1, 0, 0, 0, 0, 2, 0, 0, 3, 0, 3, 2, 0, 0, 0, 0, 0, 0, 0, 1, 3, 0, 1, 0, 0, 0, 0, 1, 0, 2, 0, 1, 0, 0, 3, 0, 0, 3, 0, 0, 0, 0, 0, 3, 2, 1, 4, 0, 0, 3, 0, 0, 0, 0, 3, 0, 0, 0, 0, 0, 3, 4, 2, 0, 1, 3, 4, 0, 0, 0, 0, 0, 3, 3, 0, 0, 3, 2, 0, 0, 0, 0, 0, 0, 1, 0, 0, 0, 3, 0, 0, 3, 3, 0, 0, 3, 0, 0, 0, 3, 2, 0, 0, 0, 0, 0, 0, 0, 0, 0, 0, 0, 3, 0, 4, 0, 3, 1, 0, 0, 0, 0, 3, 2, 0, 0, 1, 3, 0, 0, 0, 0, 0, 2, 0, 3, 0, 1, 0, 0, 0, 3, 2, 0, 1, 4, 0, 0, 0, 0, 1, 0, 0, 0, 3, 1, 4, 0, 0, 1, 0, 0, 0, 3, 0, 0, 3, 1, 3, 0, 1, 0, 3, 0, 0, 3, 0, 1, 2, 0, 3, 0, 0, 0, 2, 0, 3, 3, 1, 3, 3, 2, 0, 0, 0, 1, 2, 0, 0, 0, 1, 1, 0, 3, 3, 0, 0, 3, 0, 0, 3, 0, 0, 0, 1, 0, 2, 3, 0, 0, 0, 0, 0, 0, 1, 0, 3, 0, 0, 0, 0, 3, 0, 3, 3, 0, 0, 2, 3, 0, 0, 3, 3, 3, 2, 2, 0, 0, 2, 3, 0, 1, 0, 3, 0, 0, 0, 0, 0, 0, 0, 1, 0, 4, 0, 3, 0, 2, 0, 3, 4, 0, 0, 0, 0, 3, 0, 0, 1, 1, 0, 0, 0, 3, 0, 3, 2, 3, 0, 3, 0, 3, 0, 3, 0, 1, 0, 0, 1, 3, 0, 3, 0, 1, 3, 0, 3, 0, 1, 0, 3, 0, 2, 3, 0, 0, 0, 3, 0, 0, 3, 1, 0, 3, 0, 3, 0, 0, 0, 1, 0, 1, 0, 0, 0, 0, 3, 0, 1, 0, 3, 0, 0, 0, 0, 3, 0, 1, 0, 3, 1, 0, 3, 0, 0, 3, 2, 0, 0, 3, 0, 2, 0, 0, 3, 0, 3, 0, 0, 0, 0, 0, 3, 0, 1, 3, 0, 0, 0, 3, 0, 1, 0, 0, 0, 2, 3, 0, 0, 0, 3, 3, 2, 0, 4, 0, 1, 0, 2, 0, 0, 0, 1, 0, 0, 1, 0, 1, 1, 2, 0, 0, 0, 1, 3, 3, 0, 0, 3, 0, 0, 0, 3, 0, 0, 3, 4, 0, 0, 0, 0, 0, 0, 0, 0, 0, 0, 0, 0, 1, 0, 3, 3, 2, 0, 3, 0, 0, 0, 0, 0, 0, 0, 3, 2, 1, 0, 0, 0, 0, 0, 0, 0, 0, 3, 1, 0, 0, 0, 3, 0, 0, 3, 0, 0, 0, 1, 2, 3, 1, 0, 0, 0, 3, 3, 0, 0, 1, 0, 0, 0, 0, 0, 0, 0, 3, 0, 3, 0, 0, 0, 1, 0, 0, 1, 0, 0, 1, 0, 0, 0, 0, 3, 0, 0, 2, 3, 0, 2, 0, 0, 0, 0, 0, 0, 0, 2, 1, 0, 0, 3, 0, 3, 2, 3, 0, 3, 0, 3, 1, 3, 0, 3, 0, 0, 0, 0, 3, 3, 3, 0, 3, 3, 3, 2, 3, 0, 0, 0, 3, 0, 0, 1, 1, 0, 3, 3, 0, 3, 0, 0, 0, 0, 0, 0, 4, 0, 0, 1, 0, 0, 0, 0, 0, 1, 3, 2, 3, 0, 2, 0, 0, 0, 0, 3, 0, 0, 0, 0, 3, 3, 0, 0, 0, 0, 0, 0, 1, 3, 0, 0, 2, 3, 2, 0, 0, 0, 1, 0, 3, 3, 0, 0, 3, 3, 3, 1, 0, 3, 3, 0, 0, 0, 0, 0, 1, 4, 3, 0, 3, 0, 3, 3, 0, 0, 0, 1, 1, 0, 0, 0, 0, 0, 0, 0, 0, 2, 2, 0, 0, 1, 0, 3, 0, 0, 0, 0, 0, 3, 3, 3, 3, 0, 0, 0, 0, 0, 0, 0, 0, 0, 0, 0, 0, 3, 1, 0, 0, 4, 3, 1, 0, 4, 0, 1, 3, 3, 1, 0, 0, 0, 0, 0, 0, 0, 0, 1, 0, 3, 4, 0, 1, 0, 0, 3, 2, 2, 3, 0, 3, 0, 0, 0, 0, 0, 4, 0, 3, 0, 0, 0, 0, 0, 3, 0, 0, 3, 1, 1, 4, 0, 1, 0, 1, 0, 0, 3, 4, 0, 3, 0, 3, 0, 0, 0, 3, 1, 0, 2, 1, 0, 0, 0, 0, 0, 0, 0, 0, 3, 0, 0, 3, 2, 0, 0, 3, 3, 0, 3, 0, 0, 1, 0, 0, 1, 0, 0, 1, 0, 2, 3, 3, 0, 3, 0, 0, 0, 3, 3, 0, 3, 0, 1, 0, 0, 3, 0, 0, 4, 0, 0, 0, 0, 1, 0, 0, 1, 0, 2, 3, 3, 0, 1, 0, 0, 0, 0, 3, 0, 3, 2, 0, 0, 0, 0, 0, 0, 0, 3, 1, 0, 0, 0, 0, 0, 1, 0, 3, 0, 0, 3, 0, 0, 0, 1, 0, 0, 1, 1, 2, 0, 1, 0, 0, 0, 2, 0, 3, 0, 0, 0, 0, 3, 0, 3, 0, 1, 0, 0, 0, 0, 3, 0, 1, 0, 0, 0, 0, 0, 1, 3, 0, 0, 0, 0, 0, 3, 0, 0, 3, 1, 3, 0, 0, 0, 3, 0, 3, 0, 0, 0, 1, 3, 0, 0, 0, 0, 0, 3, 0, 0, 2, 0, 3, 0, 3, 3, 0, 1, 0, 3, 0, 3, 0, 3, 0, 0, 0, 0, 0, 0, 0, 0, 0, 3, 0, 1, 3, 0, 3, 0, 0, 1, 0, 1, 0, 0, 0, 3, 1, 0, 0, 3, 0, 0, 1, 3, 0, 0, 0, 0, 0, 0, 3, 0, 3, 3, 3, 3, 3, 0, 3, 0, 0, 0, 3, 2, 0, 3, 3, 2, 0, 0, 0, 0, 0, 0, 3, 0, 0, 3, 0, 3, 3, 0, 0, 0, 0, 2, 0, 1, 3, 0, 3, 0, 0, 3, 0, 3, 0, 1, 0, 3, 3, 2, 0, 3, 0, 0, 0, 3, 1, 0, 3, 3, 0, 0, 0, 0, 1, 0, 0, 2, 0, 0, 0, 3, 3, 2, 3, 1, 0, 0, 0, 0, 0, 4, 0, 1, 0, 0, 0, 2, 0, 1, 0, 3, 4, 3, 0, 1, 0, 0, 3, 0, 0, 3, 0, 0, 0, 1, 0, 0, 3, 3, 0, 3, 0, 0, 0, 1, 0, 0, 0, 0, 0, 0, 0, 0, 1, 2, 0, 3, 0, 3, 0, 0, 0, 4, 3, 0, 0, 0, 0, 0, 3, 0, 0, 0, 1, 3, 0, 0, 0, 0, 1, 0, 2, 3, 0, 0, 0, 3, 3, 3, 0, 1, 0, 2, 3, 0, 4, 0, 0, 1, 1, 0, 1, 3, 0, 3, 0, 0, 0, 0, 0, 3, 0, 2, 0, 0, 0, 0, 0, 1, 1, 3, 0, 4, 2, 0, 4, 4, 3, 0, 0, 1, 1, 0, 0, 0, 1, 3, 3, 0, 0, 0, 3, 0, 0, 0, 4, 0, 0, 1, 0, 0, 0, 1, 0, 3, 0, 2, 0, 0, 0, 0, 0, 3, 0, 0, 0, 0, 0, 1, 1, 3, 0, 3, 0, 0, 2, 0, 0, 3, 0, 0, 0, 0, 1, 0, 0, 0, 1, 0, 0, 3, 0, 0, 0, 1, 0, 1, 0, 0, 0, 0, 0, 3, 0, 2, 0, 1, 0, 0, 0, 0, 1, 0, 0, 0, 0, 0, 1, 3, 0, 0, 0, 1, 1, 1, 0, 0, 3, 0, 3, 3, 0, 1, 0, 2, 0, 0, 0, 1, 0, 0, 3, 2, 0, 0, 0, 3, 0, 3, 0, 3, 3, 1, 0, 3, 1, 0, 0, 3, 3, 3, 0, 3, 0, 0, 3, 0, 0, 1, 0, 0, 2, 0, 0, 0, 0, 3, 3, 0, 0, 3, 0, 0, 0, 0, 0, 1, 0, 0, 0, 0, 1, 3, 3, 3, 0, 3, 0, 0, 0, 0, 3, 0, 0, 0, 2, 3, 3, 1, 3, 0, 0, 1, 0, 0, 0, 3, 1, 0, 0, 0, 0, 0, 0, 0, 3, 0, 0, 3, 0, 0, 2, 0, 0, 0, 1, 0, 3, 0, 1, 0, 3, 3, 0, 3, 2, 3, 2, 0, 0, 3, 0, 3, 2, 0, 0, 3, 3, 0, 0, 2, 0, 0, 0, 0, 0, 0, 3, 3, 2, 0, 0, 0, 0, 0, 2, 0, 2, 2, 0, 1, 3, 0, 3, 1, 1, 3, 0, 3, 0, 0, 0, 3, 0, 0, 0, 0, 0, 0, 0, 1, 3, 0, 1, 0, 0, 0, 3, 0, 0, 0, 2, 0, 1, 1, 3, 0, 3, 3, 2, 0, 1, 0, 0, 0, 0, 0, 0, 1, 1, 2, 0, 1, 3, 0, 1, 1, 0, 0, 3, 0, 0, 0, 0, 0, 0, 0, 0, 0, 0, 0, 0, 2, 0, 1, 0, 1, 0, 2, 2, 0, 0, 0, 1, 2, 1, 0, 0, 3, 3, 0, 0, 3, 3, 0, 0, 0, 3, 0, 3, 1, 3, 0, 1, 0, 3, 3, 3, 2, 4, 0, 2, 0, 0, 0, 4, 0, 0, 0, 3, 0, 3, 3, 0, 1, 0, 0, 0, 0, 0, 0, 0, 3, 3, 0, 3, 1, 0, 0, 3, 0, 1, 3, 0, 0, 4, 0, 1, 0, 3, 3, 3, 3, 0, 0, 0, 0, 0, 0, 0, 0, 3, 3, 2, 0, 3, 3, 0, 1, 0, 0, 3, 3, 3, 0, 0, 0, 2, 1, 0, 0, 0, 3, 0, 0, 1, 1, 4, 2, 3, 0, 0, 0, 3, 0, 2, 3, 3, 1, 0, 3, 0, 0, 0, 0, 0, 0, 1, 0, 2, 3, 3, 3, 0, 0, 3, 0, 0, 3, 3, 0, 0, 3, 0, 0, 0, 3, 0, 3, 0, 0, 3, 2, 0, 0, 0, 0, 0, 3, 0, 0, 1, 0, 0, 0, 1, 0, 0, 3, 1, 1, 0, 0, 0, 4, 0, 0, 0, 3, 3, 0, 0, 0, 1, 0, 4, 1, 3, 3, 3, 0, 0, 0, 0, 3, 0, 0, 4, 3, 0, 0, 0, 3, 0, 0, 3, 0, 0, 2, 0, 3, 1, 2, 0, 3, 0, 1, 0, 0, 1, 0, 2, 3, 0, 0, 4, 2, 1, 3, 2, 0, 0, 0, 0, 1, 0, 0, 0, 0, 0, 1, 0, 0, 0, 2, 0, 0, 0, 0, 1, 0, 0, 4, 3, 3, 0, 0, 0, 0, 0, 2, 0, 0, 3, 0, 3, 0, 3, 1, 0, 3, 3, 3, 0, 0, 1, 0, 0, 2, 3, 1, 1, 1, 0, 0, 3, 0, 3, 1, 0, 0, 0, 0, 3, 0, 3, 0, 0, 0, 0, 0, 1, 0, 0, 0, 1, 1, 0, 3, 0, 0, 0, 1, 0, 1, 3, 3, 0, 0, 0, 0, 0, 0, 0, 0, 1, 3, 0, 0, 0, 0, 0, 0, 0, 1, 4, 4, 0, 3, 0, 1, 0, 3, 1, 0, 0, 3, 3, 0, 0, 0, 0, 0, 3, 0, 3, 3, 0, 3, 0, 0, 0, 0, 0, 0, 0, 2, 0, 0, 1, 0, 0, 0, 3, 1, 3, 0, 3, 0, 2, 3, 3, 0, 0, 1, 0, 1, 0, 0, 0, 0, 0, 0, 0, 0, 3, 1, 0, 1, 3, 3, 0, 0, 3, 0, 3, 0, 0, 0, 0, 3, 3, 0, 0, 2, 1, 0, 0, 1, 1, 0, 0, 3, 0, 0, 0, 1, 3, 0, 0, 3, 0, 3, 0, 0, 1, 3, 3, 0, 2, 0, 2, 2, 0, 0, 1, 3, 0, 2, 0, 0, 3, 0, 0, 3, 0, 0, 0, 0, 3, 0, 2, 0, 0, 0, 3, 1, 2, 4, 0, 1, 0, 0, 0, 1, 1, 2, 0, 3, 3, 1, 0, 0, 0, 0, 0, 0, 3, 0, 0, 0, 3, 1, 0, 3, 4, 0, 0, 0, 3, 3, 0, 2, 0, 1, 0, 1, 0, 0, 3, 0, 3, 0, 0, 0, 1, 0, 3, 0, 3, 0, 1, 3, 0, 0, 0, 0, 1, 0, 1, 3, 0, 3, 0, 0, 0, 3, 3, 0, 3, 0, 0, 3, 1, 0, 3, 0, 0, 4, 3, 1, 3, 3, 0, 0, 1, 0, 3, 0, 4, 0, 0, 0, 3, 3, 0, 3, 0, 0, 0, 3, 0, 3, 0, 0, 3, 0, 1, 3, 2, 0, 3, 1, 0, 0, 3, 0, 3, 0, 3, 0, 0, 4, 0, 0, 3, 2, 0, 3, 0, 0, 0, 3, 3, 3, 3, 0, 2, 0, 0, 2, 3, 0, 0, 0, 0, 0, 0, 0, 0, 0, 0, 0, 3, 0, 3, 2, 0, 0, 0, 0, 3, 3, 3, 0, 2, 1, 0, 0, 0, 0, 0, 0, 1, 0, 0, 0, 0, 0, 3, 1, 0, 0, 0, 0, 3, 3, 0, 2, 0, 4, 0, 3, 1, 2, 0, 0, 3, 0, 0, 3, 0, 0, 1, 0, 0, 3, 0, 0, 2, 3, 1, 0, 0, 3, 0, 2, 0, 3, 4, 0, 0, 3, 1, 2, 0, 1, 3, 0, 0, 3, 3, 1, 0, 0, 0, 3, 0, 3, 3, 0, 0, 1, 0, 1, 1, 0, 0, 0, 3, 0, 3, 3, 0, 3, 0, 0, 0, 0, 1, 2, 3, 0, 0, 0, 0, 2, 3, 0, 0, 0, 0, 0, 1, 0, 0, 1, 3, 0, 0, 0, 0, 0, 0, 0, 0, 3, 1, 2, 0, 0, 3, 2, 0, 0, 3, 0, 0, 3, 2, 0, 0, 3, 0, 0, 3, 0, 1, 1, 1, 3, 0, 0, 4, 0, 0, 3, 1, 0, 0, 0, 0, 0, 0, 0, 0, 0, 3, 0, 3, 0, 0, 3, 0, 0, 0, 0, 1, 0, 1, 0, 0, 1, 3, 0, 3, 3, 0, 0, 0, 3, 0, 0, 0, 0, 0, 0, 0, 0, 3, 0, 1, 0, 0, 0, 3, 0, 3, 0, 0, 2, 0, 3, 3, 0, 0, 0, 3, 1, 0, 0, 3, 2, 0, 2, 0, 0, 4, 0, 3, 0, 3, 0, 3, 0, 0, 0, 1, 3, 1, 4, 0, 4, 0, 2, 0, 0, 3, 0, 0, 0, 0, 0, 0, 0, 4, 0, 1, 0, 0, 3, 1, 1, 0, 0, 0, 3, 0, 0, 0, 0, 0, 0, 3, 1, 0, 0, 0, 3, 1, 0, 1, 0, 1, 1, 0, 1, 3, 3, 0, 0, 0, 0, 3, 3, 0, 0, 0, 0, 3, 0, 3, 0, 3, 0, 0, 4, 0, 3, 0, 0, 0, 0, 0, 0, 0, 3, 0, 1, 0, 3, 0, 0, 1, 4, 2, 0, 2, 1, 0, 0, 0, 0, 0, 3, 2, 0, 0, 0, 0, 1, 0, 0, 3, 3, 0, 0, 0, 0, 1, 0, 0, 0, 0, 1, 1, 0, 3, 0, 0, 0, 0, 0, 3, 3, 1, 0, 0, 0, 0, 0, 3, 3, 0, 3, 1, 2, 3, 0, 0, 0, 0, 0, 0, 0, 0, 1, 3, 3, 0, 3, 3, 4, 0, 0, 0, 0, 0, 1, 0, 0, 0, 3, 0, 1, 3, 0, 0, 3, 3, 3, 2, 0, 0, 0, 0, 0, 0, 0, 3, 0, 1, 3, 3, 0, 3, 0, 3, 0, 0, 0, 0, 0, 0, 0, 0, 2, 0, 0, 0, 0, 0, 0, 1, 4, 3, 0, 3, 0, 0, 1, 0, 0, 0, 2, 0, 0, 3, 3, 3, 1, 0, 3, 0, 0, 3, 0, 4, 0, 0, 0, 1, 4, 3, 2, 0, 2, 0, 0, 3, 3, 0, 3, 3, 3, 0, 0, 0, 2, 1, 3, 3, 3, 0, 0, 0, 2, 0, 0, 0, 1, 0, 0, 0, 3, 3, 1, 1, 3, 0, 3, 0, 0, 0, 0, 4, 0, 2, 0, 0, 0, 0, 0, 0, 0, 0, 0, 0, 0, 2, 0, 0, 4, 3, 0, 3, 1, 0, 0, 3, 0, 3, 0, 0, 3, 0, 2, 3, 3, 2, 0, 0, 3, 0, 3, 0, 0, 3, 0, 3, 0, 1, 0, 0, 1, 3, 3, 3, 0, 0, 0, 0, 0, 1, 0, 3, 1, 0, 0, 0, 0, 0, 0, 0, 0, 0, 3, 2, 0, 0, 0, 3, 0, 0, 4, 0, 3, 1, 2, 0, 0, 1, 0, 2, 3, 0, 0, 3, 3, 3, 3, 0, 0, 0, 2, 4, 0, 0, 0, 0, 0, 4, 3, 3, 0, 0, 0, 0, 1, 0, 0, 0, 0, 1, 0, 4, 2, 0, 4, 3, 0, 0, 0, 1, 0, 0, 0, 0, 0, 2, 2, 3, 0, 0, 0, 2, 0, 0, 0, 0, 0, 3, 0, 0, 1, 0, 2, 0, 2, 0, 0, 3, 0, 1, 0, 0, 3, 0, 0, 1, 0, 0, 1, 0, 1, 0, 3, 1, 0, 0, 0, 0, 0, 3, 0, 0, 0, 3, 0, 3, 0, 2, 0, 3, 3, 0, 3, 1, 3, 3, 0, 3, 2, 0, 0, 0, 0, 0, 3, 0, 0, 0, 3, 0, 0, 0, 0, 3, 3, 1, 2, 4, 0, 4, 0, 3, 0, 0, 0, 0, 1, 3, 0, 3, 0, 0, 1, 2, 2, 3, 3, 1, 1, 0, 2, 3, 0, 3, 2, 1, 0, 1, 4, 0, 3, 3, 1, 1, 0, 0, 0, 0, 0, 0, 3, 0, 2, 1, 4, 1, 0, 0, 1, 0, 0, 0, 1, 0, 3, 0, 3, 3, 3, 0, 0, 3, 1, 0, 3, 0, 0, 0, 3, 1, 0, 3, 0, 0, 0, 2, 3, 0, 0, 1, 0, 0, 0, 3, 0, 0, 0, 0, 0, 0, 0, 0, 3, 0, 3, 3, 2, 0, 4, 0, 0, 0, 0, 0, 2, 1, 3, 3, 0, 0, 0, 0, 3, 0, 3, 0, 0, 0, 0, 0, 0, 2, 3, 0, 0, 0, 1, 1, 0, 3, 0, 0, 1, 1, 3, 4, 0, 0, 3, 0, 3, 3, 3, 3, 1, 0, 3, 0, 0, 0, 0, 1, 0, 0, 0, 0, 0, 0, 3, 0, 0, 1, 2, 1, 0, 0, 0, 3, 0, 0, 0, 0, 1, 3, 0, 0, 0, 0, 0, 3, 3, 0, 3, 0, 0, 0, 2, 1, 0, 0, 2, 1, 0, 3, 0, 2, 0, 0, 0, 3, 0, 0, 2, 0, 1, 3, 0, 0, 0, 0, 0, 0, 0, 0, 3, 1, 3, 0, 3, 0, 0, 3, 0, 0, 0, 2, 1, 0, 0, 0, 0, 3, 3, 0, 3, 0, 0, 0, 3, 0, 0, 3, 3, 0, 0, 1, 3, 0, 0, 2, 1, 3, 3, 3, 0, 0, 0, 0, 0, 1, 0, 0, 0, 0, 0, 3, 0, 0, 3, 3, 2, 3, 3, 0, 0, 0, 0, 4, 3, 0, 0, 0, 0, 3, 3, 3, 0, 0, 0, 3, 0, 0, 0, 2, 0, 0, 0, 0, 3, 0, 0, 1, 0, 3, 3, 0, 0, 1, 3, 0, 2, 0, 3, 0, 3, 3, 0, 0, 0, 0, 0, 1, 0, 0, 0, 0, 0, 0, 0, 3, 0, 0, 0, 0, 3, 0, 3, 2, 0, 0, 0, 3, 0, 0, 0, 3, 0, 2, 2, 0, 3, 0, 0, 0, 3, 0, 3, 0, 1, 3, 3, 1, 0, 1, 0, 0, 0, 0, 0, 0, 3, 3, 1, 4, 0, 3, 0, 0, 2, 0, 3, 1, 1, 3, 3, 1, 0, 0, 3, 0, 3, 0, 0, 3, 0, 3, 0, 0, 0, 0, 0, 0, 0, 0, 3, 3, 0, 0, 0, 0, 0, 0, 3, 3, 0, 2, 3, 0, 3, 0, 0, 0, 0, 2, 1, 3, 2, 0, 0, 0, 0, 0, 0, 0, 3, 0, 3, 3, 4, 0, 1, 0, 0, 3, 0, 0, 0, 0, 2, 3, 0, 0, 2, 0, 3, 0, 0, 0, 0, 0, 0, 3, 0, 0, 0, 0, 0, 2, 0, 0, 1, 1, 0, 0, 1, 0, 1, 2, 0, 0, 0, 0, 0, 3, 3, 0, 0, 0, 3, 3, 3, 0, 0, 3, 3, 0, 0, 0, 0, 1, 1, 0, 0, 0, 3, 0, 0, 3, 0, 0, 3, 0, 1, 1, 0, 0, 3, 0, 3, 0, 0, 0, 0, 0, 3, 3, 2, 4, 1, 0, 3, 3, 0, 3, 0, 0, 0, 1, 0, 0, 1, 1, 1, 1, 0, 0, 0, 0, 0, 1, 4, 0, 0, 2, 0, 0, 0, 0, 0, 3, 3, 0, 1, 0, 0, 0, 3, 3, 3, 3, 0, 3, 3, 0, 0, 0, 0, 0, 1, 4, 0, 0, 0, 0, 3, 0, 0, 0, 0, 3, 0, 1, 3, 2, 0, 0, 0, 0, 0, 0, 0, 0, 3, 3, 0, 1, 2, 0, 0, 3, 0, 1, 0, 0, 0, 0, 0, 0, 0, 0, 0, 0, 0, 1, 4, 0, 1, 0, 0, 2, 0, 0, 0, 0, 2, 0, 0, 0, 0, 0, 3, 1, 0, 0, 0, 0, 3, 0, 0, 0, 3, 1, 0, 0, 3, 3, 0, 1, 0, 2, 3, 3, 3, 3, 3, 0, 0, 0, 0, 1, 0, 0, 0, 0, 2, 3, 0, 1, 0, 3, 2, 0, 3, 0, 3, 0, 3, 3, 0, 0, 0, 0, 3, 0, 0, 0, 0, 2, 0, 1, 0, 0, 0, 0, 0, 1, 0, 3, 0, 0, 1, 2, 0, 0, 0, 0, 3, 3, 0, 0, 0, 0, 3, 0, 0, 0, 2, 0, 0, 1, 0, 0, 0, 0, 3, 0, 0, 3, 0, 0, 0, 0, 0, 3, 1, 0, 0, 0, 0, 1, 2, 0, 0, 0, 0, 0, 0, 3, 3, 0, 2, 1, 3, 1, 0, 0, 0, 3, 1, 3, 3, 1, 0, 0, 3, 3, 0, 0, 0, 3, 0, 1, 0, 0, 3, 3, 3, 0, 1, 1, 0, 0, 3, 0, 0, 3, 3, 0, 0, 0, 0, 3, 0, 3, 0, 0, 3, 0, 3, 3, 0, 0, 0, 0, 0, 0, 0, 1, 2, 4, 0, 0, 3, 0, 0, 0, 0, 0, 0, 0, 0, 2, 0, 0, 1, 0, 0, 0, 4, 0, 0, 0, 3, 0, 0, 3, 0, 3, 0, 0, 0, 3, 2, 0, 1, 0, 0, 0, 0, 3, 0, 2, 0, 0, 2, 1, 1, 2, 0, 0, 0, 0, 3, 0, 0, 0, 0, 3, 3, 0, 0, 3, 0, 0, 2, 0, 0, 3, 0, 0, 0, 3, 0, 0, 3, 0, 1, 0, 1, 0, 2, 0, 3, 3, 1, 2, 0, 0, 0, 1, 0, 3, 0, 0, 0, 1, 3, 2, 0, 0, 0, 3, 0, 1, 0, 0, 0, 0, 0, 3, 1, 0, 3, 0, 1, 0, 0, 3, 0, 1, 0, 0, 0, 0, 0, 3, 0, 3, 0, 0, 0, 0, 0, 2, 1, 0, 3, 1, 1, 0, 0, 0, 1, 0, 0, 0, 4, 3, 3, 0, 1, 0, 3, 0, 3, 0, 1, 0, 1, 1, 0, 3, 2, 0, 0, 0, 3, 1, 1, 3, 2, 3, 0, 0, 0, 0, 0, 3, 3, 0, 0, 0, 0, 0, 0, 0, 0, 0, 0, 3, 0, 0, 3, 0, 0, 4, 0, 0, 0, 2, 3, 3, 1, 0, 0, 2, 1, 0, 1, 0, 3, 0, 0, 3, 3, 0, 2, 0, 0, 0, 0, 3, 0, 2, 2, 0, 1, 0, 4, 0, 0, 0, 0, 0, 0, 0, 1, 0, 1, 0, 2, 0, 0, 0, 0, 0, 0, 3, 1, 0, 0, 1, 0, 0, 3, 0, 0, 0, 1, 1, 3, 3, 0, 3, 0, 0, 1, 0, 0, 1, 0, 0, 1, 0, 0, 0, 3, 0, 0, 3, 0, 0, 1, 1, 3, 0, 0, 1, 0, 1, 0, 3, 0, 0, 3, 0, 0, 0, 0, 3, 0, 3, 0, 0, 0, 0, 3, 0, 0, 0, 1, 0, 1, 0, 0, 0, 0, 3, 3, 3, 1, 0, 3, 2, 3, 1, 2, 0, 0, 3, 0, 0, 3, 2, 2, 0, 0, 2, 0, 0, 0, 0, 1, 3, 3, 2, 0, 0, 3, 0, 3, 0, 0, 1, 0, 3, 0, 0, 0, 1, 2, 0, 0, 0, 3, 0, 3, 2, 3, 0, 0, 0, 0, 0, 0, 0, 0, 1, 0, 0, 0, 3, 0, 2, 0, 0, 4, 0, 2, 1, 0, 4, 0, 2, 3, 0, 0, 0, 0, 3, 3, 3, 3, 0, 1, 0, 2, 2, 0, 0, 0, 0, 1, 3, 2, 0, 3, 0, 0, 0, 2, 2, 3, 0, 0, 3, 0, 0, 3, 0, 3, 0, 0, 3, 0, 0, 3, 1, 0, 3, 0, 0, 3, 0, 1, 3, 0, 0, 3, 3, 0, 3, 0, 3, 1, 1, 0, 0, 0, 3, 0, 0, 1, 3, 0, 0, 0, 1, 0, 0, 3, 0, 0, 0, 0, 3, 4, 0, 1, 1, 0, 2, 3, 0, 3, 0, 3, 1, 0, 0, 0, 0, 0, 0, 0, 0, 3, 3, 0, 1, 3, 0, 0, 3, 0, 0, 0, 0, 3, 0, 3, 0, 1, 1, 0, 0, 0, 0, 2, 0, 3, 0, 0, 0, 1, 3, 3, 0, 3, 0, 0, 3, 4, 3, 0, 0, 0, 0, 1, 1, 0, 1, 0, 0, 2, 0, 4, 3, 2, 2, 0, 4, 0, 3, 0, 3, 0, 0, 0, 2, 0, 3, 0, 0, 0, 0, 0, 0, 0, 0, 0, 0, 3, 0, 3, 3, 3, 2, 0, 0, 0, 0, 0, 1, 0, 0, 0, 0, 0, 0, 0, 3, 0, 2, 0, 4, 0, 0, 0, 3, 0, 0, 3, 3, 0, 2, 1, 1, 0, 0, 0, 0, 1, 1, 0, 0, 0, 0, 3, 4, 0, 0, 2, 3, 0, 0, 0, 0, 0, 2, 4, 0, 0, 0, 0, 3, 0, 0, 3, 3, 1, 3, 4, 0, 1, 0, 0, 0, 0, 3, 3, 0, 3, 3, 0, 0, 1, 0, 0, 3, 0, 0, 0, 1, 3, 0, 3, 0, 0, 0, 0, 0, 3, 3, 0, 0, 3, 0, 0, 2, 1, 1, 0, 1, 3, 3, 4, 3, 0, 2, 2, 0, 0, 3, 0, 0, 0, 3, 3, 0, 0, 0, 3, 0, 0, 1, 0, 0, 0, 0, 0, 0, 3, 0, 4, 2, 3, 3, 0, 2, 0, 1, 3, 2, 3, 3, 3, 0, 3, 0, 0, 0, 0, 0, 0, 0, 0, 0, 3, 0, 1, 1, 0, 3, 1, 3, 1, 0, 0, 0, 0, 0, 2, 0, 0, 1, 0, 2, 3, 2, 3, 3, 0, 4, 0, 0, 0, 3, 0, 1, 0, 0, 0, 2, 0, 0, 0, 0, 0, 3, 1, 0, 0, 3, 1, 0, 0, 0, 3, 3, 0, 0, 1, 0, 1, 0, 0, 0, 3, 0, 0, 1, 3, 0, 0, 0, 0, 0, 0, 0, 0, 3, 3, 0, 0, 0, 0, 3, 0, 3, 0, 0, 0, 0, 1, 0, 1, 0, 1, 0, 0, 0, 0, 0, 3, 3, 3, 3, 0, 0, 1, 3, 0, 1, 1, 0, 3, 0, 2, 1, 0, 1, 0, 0, 2, 0, 1, 3, 0, 0, 0, 0, 1, 3, 0, 3, 0, 0, 3, 1, 3, 3, 0, 0, 3, 0, 0, 0, 3, 3, 2, 0, 0, 0, 3, 1, 3, 0, 0, 0, 1, 2, 3, 3, 0, 3, 0, 2, 0, 0, 0, 1, 0, 3, 0, 0, 3, 0, 0, 3, 3, 0, 0, 3, 0, 0, 2, 0, 1, 1, 0, 0, 3, 0, 0, 0, 0, 0, 0, 2, 0, 0, 2, 0, 0, 0, 0, 3, 4, 0, 2, 0, 0, 0, 0, 1, 3, 0, 1, 3, 0, 3, 0, 0, 3, 3, 2, 0, 0, 1, 3, 1, 3, 0, 0, 3, 0, 3, 0, 0, 2, 0, 0, 3, 3, 1, 4, 3, 2, 1, 3, 3, 3, 0, 3, 0, 0, 3, 0, 3, 0, 3, 0, 1, 0, 3, 0, 0, 3, 1, 1, 3, 0, 0, 0, 3, 0, 1, 0, 0, 3, 0, 0, 0, 0, 0, 0, 3, 0, 0, 0, 0, 2, 0, 0, 0, 3, 0, 0, 1, 2, 0, 0, 0, 3, 0, 0, 1, 0, 3, 0, 0, 0, 0, 0, 0, 1, 0, 3, 0, 3, 0, 0, 0, 0, 3, 0, 0, 2, 0, 3, 3, 3, 2, 3, 3, 2, 3, 0, 3, 3, 0, 3, 0, 2, 2, 0, 1, 0, 0, 3, 0, 3, 0, 1, 1, 3, 3, 3, 2, 3, 1, 3, 3, 3, 0, 0, 0, 0, 0, 1, 0, 0, 3, 0, 0, 0, 1, 0, 0, 0, 2, 2, 0, 0, 3, 3, 3, 4, 0, 0, 0, 2, 0, 2, 0, 0, 0, 1, 0, 0, 0, 1, 3, 0, 0, 3, 0, 0, 0, 2, 1, 3, 0, 1, 0, 4, 0, 0, 0, 1, 1, 0, 0, 0, 1, 0, 0, 2, 0, 0, 3, 0, 2, 0, 3, 0, 3, 3, 3, 0, 0, 0, 0, 3, 0, 3, 0, 0, 0, 3, 1, 3, 0, 3, 0, 0, 0, 0, 0, 0, 0, 0, 3, 0, 0, 1, 2, 0, 0, 0, 1, 0, 3, 0, 0, 0, 0, 0, 0, 3, 0, 0, 0, 0, 1, 4, 0, 0, 0, 3, 0, 1, 3, 3, 1, 3, 0, 0, 3, 2, 0, 0, 3, 2, 0, 3, 0, 0, 3, 0, 0, 1, 4, 0, 0, 0, 3, 2, 1, 0, 0, 0, 0, 0, 3, 3, 3, 0, 3, 0, 0, 0, 0, 0, 0, 0, 2, 0, 3, 3, 2, 0, 0, 0, 0, 0, 3, 0, 2, 0, 1, 3, 3, 2, 3, 3, 3, 3, 0, 3, 0, 0, 2, 3, 0, 0, 0, 1, 1, 0, 0, 2, 4, 0, 3, 3, 0, 0, 3, 0, 0, 0, 0, 0, 0, 1, 0, 3, 0, 3, 3, 4, 3, 3, 0, 1, 0, 0, 0, 0, 0, 0, 0, 0, 3, 2, 0, 0, 0, 0, 0, 0, 3, 1, 0, 0, 0, 0, 0, 0, 0, 3, 0, 0, 0, 3, 1, 2, 0, 3, 0, 3, 0, 0, 0, 3, 1, 0, 0, 0, 0, 0, 1, 0, 0, 4, 0, 0, 2, 0, 3, 4, 3, 3, 0, 0, 0, 0, 3, 2, 0, 3, 1, 0, 0, 0, 0, 0, 0, 3, 0, 0, 0, 0, 3, 0, 2, 1, 3, 0, 2, 0, 0, 0, 0, 1, 0, 0, 0, 1, 0, 0, 0, 4, 0, 0, 0, 0, 0, 1, 1, 0, 0, 0, 3, 3, 3, 0, 0, 3, 0, 0, 0, 0, 2, 3, 3, 0, 1, 3, 0, 3, 3, 0, 1, 0, 0, 3, 3, 2, 0, 3, 1, 3, 3, 0, 3, 0, 0, 0, 3, 0, 3, 3, 0, 3, 4, 1, 0, 0, 0, 0, 0, 0, 0, 0, 0, 0, 0, 0, 0, 2, 1, 3, 0, 0, 0, 1, 3, 0, 0, 1, 3, 0, 0, 3, 4, 0, 1, 0, 1, 4, 0, 3, 1, 0, 0, 1, 3, 0, 0, 3, 0, 0, 0, 1, 1, 0, 0, 3, 0, 0, 0, 4, 0, 0, 0, 0, 1, 0, 1, 0, 1, 0, 0, 0, 0, 0, 3, 0, 0, 3, 3, 0, 3, 0, 3, 3, 3, 0, 0, 3, 0, 0, 0, 0, 3, 0, 3, 0, 0, 2, 3, 0, 1, 0, 0, 1, 3, 0, 3, 0, 1, 0, 0, 0, 0, 3, 0, 2, 2, 0, 1, 0, 0, 0, 0, 1, 3, 0, 2, 0, 0, 0, 2, 3, 0, 0, 0, 0, 0, 0, 0, 1, 0, 0, 3, 3, 3, 2, 0, 0, 3, 0, 1, 0, 3, 3, 0, 0, 0, 0, 3, 0, 0, 1, 0, 1, 0, 3, 0, 0, 3, 1, 1, 1, 1, 1, 1, 0, 0, 0, 1, 0, 0, 0, 0, 0, 3, 0, 0, 3, 0, 0, 0, 3, 0, 0, 3, 1, 0, 0, 0, 3, 3, 0, 3, 0, 3, 2, 0, 0, 3, 0, 3, 3, 0, 0, 3, 3, 0, 0, 0, 3, 0, 1, 0, 0, 3, 4, 0, 0, 4, 0, 0, 1, 0, 0, 0, 0, 0, 3, 0, 0, 1, 0, 3, 0, 0, 3, 0, 0, 0, 2, 1, 1, 0, 0, 1, 1, 0, 3, 0, 1, 1, 0, 0, 0, 0, 1, 3, 0, 2, 0, 0, 0, 0, 3, 0, 0, 0, 0, 0, 4, 3, 3, 0, 2, 0, 1, 0, 1, 0, 0, 0, 0, 1, 3, 0, 3, 3, 3, 0, 2, 0, 0, 3, 1, 0, 0, 3, 0, 0, 4, 0, 0, 1, 3, 0, 3, 0, 0, 4, 0, 0, 1, 1, 0, 0, 0, 0, 0, 0, 1, 3, 1, 3, 3, 0, 0, 0, 0, 2, 0, 0, 3, 3, 1, 3, 0, 0, 0, 3, 0, 3, 0, 3, 3, 0, 0, 3, 3, 0, 0, 0, 3, 1, 1, 0, 0, 0, 0, 2, 3, 3, 0, 0, 3, 2, 0, 0, 3, 3, 1, 1, 2, 4, 3, 0, 3, 0, 1, 1, 3, 3, 0, 0, 0, 0, 1, 3, 0, 0, 0, 0, 0, 3, 3, 0, 0, 3, 3, 4, 0, 0, 0, 1, 1, 3, 3, 0, 0, 1, 1, 0, 3, 0, 4, 1, 3, 0, 0, 0, 1, 0, 1, 0, 0, 4, 0, 0, 0, 3, 0, 0, 0, 0, 0, 0, 0, 0, 3, 0, 4, 0, 0, 3, 0, 0, 0, 0, 0, 0, 0, 0, 0, 0, 3, 0, 0, 3, 1, 0, 3, 3, 0, 2, 0, 0, 0, 0, 0, 0, 0, 1, 2, 0, 1, 0, 1, 3, 0, 0, 0, 0, 3, 3, 0, 0, 1, 3, 0, 3, 0, 0, 2, 0, 4, 0, 0, 3, 0, 0, 3, 2, 3, 0, 0, 0, 0, 0, 0, 0, 3, 3, 0, 0, 0, 0, 0, 0, 3, 0, 0, 0, 1, 0, 3, 2, 3, 3, 2, 3, 3, 0, 0, 3, 2, 2, 0, 0, 0, 0, 0, 0, 0, 0, 0, 0, 0, 3, 0, 2, 0, 0, 0, 4, 0, 0, 0, 0, 0, 0, 1, 0, 0, 0, 2, 0, 3, 0, 0, 0, 1, 3, 1, 0, 0, 0, 2, 0, 0, 0, 2, 2, 3, 0, 0, 0, 0, 0, 0, 0, 0, 0, 0, 0, 0, 3, 2, 3, 0, 0, 1, 0, 3, 1, 1, 3, 3, 0, 0, 2, 3, 0, 2, 0, 0, 0, 1, 0, 3, 0, 0, 3, 3, 0, 0, 3, 3, 1, 0, 3, 3, 0, 0, 3, 0, 0, 4, 3, 0, 0, 0, 0, 0, 3, 4, 0, 0, 0, 4, 0, 0, 0, 2, 1, 2, 0, 2, 3, 2, 3, 0, 1, 0, 0, 0, 0, 3, 0, 0, 0, 0, 0, 0, 1, 0, 0, 0, 4, 0, 3, 3, 0, 0, 3, 1, 3, 3, 3, 0, 3, 2, 0, 3, 0, 3, 0, 0, 0, 0, 0, 3, 3, 0, 0, 0, 0, 0, 0, 3, 0, 0, 0, 0, 0, 1, 0, 0, 1, 0, 1, 3, 0, 0, 4, 2, 0, 3, 3, 3, 0, 3, 3, 0, 0, 0, 3, 0, 0, 1, 0, 1, 0, 0, 3, 0, 3, 0, 0, 0, 0, 0, 0, 0, 0, 2, 0, 0, 0, 1, 4, 0, 0, 0, 3, 1, 0, 1, 0, 0, 0, 3, 3, 3, 3, 0, 0, 0, 0, 3, 0, 1, 3, 0, 0, 0, 2, 0, 3, 3, 0, 0, 0, 0, 0, 0, 3, 0, 2, 0, 1, 3, 3, 0, 0, 3, 4, 0, 0, 0, 0, 1, 0, 0, 0, 0, 3, 0, 0, 3, 3, 1, 0, 1, 0, 0, 0, 4, 0, 0, 0, 0, 3, 0, 0, 0, 3, 0, 4, 3, 0, 0, 0, 0, 0, 2, 0, 0, 1, 0, 0, 3, 0, 0, 0, 0, 3, 0, 3, 0, 0, 0, 1, 0, 2, 0, 2, 0, 0, 0, 4, 0, 1, 0, 0, 0, 0, 0, 0, 0, 0, 0, 0, 3, 0, 3, 0, 0, 0, 3, 2, 0, 3, 0, 3, 1, 0, 1, 0, 0, 2, 0, 3, 0, 0, 0, 0, 4, 0, 0, 0, 3, 0, 1, 0, 4, 0, 0, 0, 0, 2, 3, 0, 0, 0, 0, 0, 3, 1, 1, 2, 3, 2, 0, 0, 0, 3, 0, 0, 0, 3, 2, 0, 3, 0, 0, 0, 2, 3, 0, 3, 2, 3, 0, 3, 0, 3, 3, 0, 0, 0, 0, 1, 3, 2, 0, 0, 3, 0, 0, 0, 1, 1, 0, 0, 3, 1, 3, 0, 0, 0, 3, 3, 3, 0, 4, 1, 0, 3, 3, 3, 0, 0, 0, 0, 4, 0, 2, 0, 4, 0, 0, 0, 0, 0, 0, 3, 0, 3, 1, 0, 0, 0, 4, 4, 0, 4, 3, 0, 2, 1, 0, 0, 1, 3, 0, 0, 3, 3, 3, 0, 3, 1, 1, 1, 0, 0, 0, 3, 0, 0, 0, 1, 2, 0, 3, 0, 0, 1, 0, 0, 0, 3, 0, 0, 3, 3, 0, 0, 1, 3, 3, 0, 0, 3, 0, 0, 0, 0, 0, 0, 2, 3, 0, 0, 0, 0, 1, 0, 1, 0, 3, 0, 0, 0, 1, 0, 0, 0, 0, 0, 0, 1, 0, 0, 1, 3, 1, 0, 0, 1, 0, 2, 0, 0, 4, 0, 3, 0, 0, 0, 0, 0, 4, 0, 0, 0, 3, 3, 0, 3, 3, 0, 0, 0, 0, 0, 0, 2, 0, 0, 0, 3, 0, 3, 3, 0, 0, 0, 0, 2, 3, 2, 3, 0, 2, 1, 0, 0, 0, 0, 0, 1, 3, 3, 0, 3, 0, 0, 0, 0, 0, 0, 0, 3, 0, 0, 1, 0, 0, 2, 0, 0, 3, 1, 3, 1, 0, 0, 0, 0, 0, 0, 0, 1, 0, 0, 0, 3, 0, 0, 3, 0, 0, 1, 1, 3, 1, 1, 0, 0, 3, 0, 0, 2, 1, 0, 0, 2, 0, 0, 0, 0, 0, 2, 0, 0, 3, 0, 2, 0, 0, 0, 0, 2, 3, 3, 0, 0, 3, 3, 0, 1, 0, 2, 0, 0, 3, 3, 0, 0, 0, 0, 0, 0, 0, 1, 0, 0, 3, 1, 0, 0, 0, 3, 3, 3, 3, 0, 0, 0, 1, 0, 0, 1, 3, 0, 0, 0, 0, 1, 3, 0, 3, 0, 1, 0, 0, 3, 0, 0, 1, 3, 3, 1, 0, 0, 0, 1, 3, 0, 0, 0, 0, 3, 3, 0, 4, 0, 0, 0, 0, 0, 1, 0, 0, 2, 0, 4, 1, 1, 2, 0, 3, 0, 0, 0, 0, 0, 1, 0, 2, 3, 0, 0, 0, 3, 0, 3, 0, 1, 0, 0, 0, 0, 0, 0, 0, 3, 1, 0, 0, 0, 0, 3, 0, 3, 1, 0, 0, 3, 0, 0, 0, 0, 0, 0, 1, 2, 0, 3, 1, 0, 0, 4, 0, 2, 3, 0, 1, 3, 4, 3, 3, 0, 0, 0, 0, 1, 0, 0, 3, 0, 1, 3, 0, 0, 3, 0, 0, 3, 2, 1, 3, 3, 3, 1, 0, 2, 4, 4, 0, 1, 3, 0, 0, 1, 0, 3, 3, 3, 0, 0, 0, 0, 4, 0, 0, 0, 3, 0, 0, 1, 2, 0, 3, 0, 3, 0, 0, 0, 2, 0, 0, 0, 3, 1, 0, 0, 0, 0, 1, 3, 0, 0, 1, 1, 3, 0, 0, 0, 0, 1, 0, 3, 0, 0, 0, 1, 0, 0, 1, 3, 3, 3, 0, 0, 3, 1, 0, 4, 0, 1, 0, 0, 4, 0, 1, 0, 0, 3, 0, 1, 0, 0, 3, 0, 3, 1, 0, 1, 0, 0, 0, 1, 0, 0, 0, 0, 3, 3, 0, 0, 3, 0, 2, 0, 0, 0, 0, 0, 0, 0, 0, 0, 0, 0, 0, 2, 1, 1, 0, 1, 0, 3, 3, 1, 2, 0, 0, 0, 0, 0, 3, 0, 0, 0, 0, 0, 0, 1, 0, 3, 3, 0, 0, 1, 0, 0, 0, 0, 3, 1, 0, 2, 0, 0, 2, 0, 0, 0, 3, 0, 0, 1, 1, 1, 0, 0, 3, 0, 0, 0, 3, 3, 3, 0, 0, 3, 3, 0, 0, 2, 0, 3, 3, 0, 3, 3, 0, 3, 0, 0, 0, 3, 3, 3, 0, 0, 0, 0, 1, 2, 3, 1, 3, 4, 0, 0, 1, 0, 3, 0, 2, 3, 0, 3, 0, 1, 3, 0, 2, 3, 3, 2, 3, 2, 3, 0, 0, 0, 2, 3, 0, 0, 3, 0, 0, 0, 0, 0, 0, 0, 3, 2, 0, 3, 0, 1, 0, 4, 1, 0, 0, 0, 0, 0, 0, 2, 0, 3, 0, 2, 3, 0, 0, 0, 4, 1, 0, 0, 3, 0, 0, 1, 0, 3, 1, 0, 1, 1, 3, 0, 1, 1, 0, 0, 2, 0, 0, 3, 0, 0, 3, 3, 0, 0, 0, 0, 1, 3]\n"
     ]
    }
   ],
   "source": [
    "topics=[]\n",
    "for i in range(len(corpus)):\n",
    "    top_topics =sorted(dict(lda_model.get_document_topics(corpus[i],\n",
    "                                      minimum_probability=0.0)).items(),key=lambda item: item[1])    \n",
    "    topics.append(top_topics[len(top_topics)-1][0])   \n",
    "    \n",
    "    "
   ]
  },
  {
   "cell_type": "code",
   "execution_count": 58,
   "id": "abdedbbc",
   "metadata": {},
   "outputs": [
    {
     "name": "stderr",
     "output_type": "stream",
     "text": [
      "C:\\Users\\user\\anaconda3\\lib\\site-packages\\ipykernel\\ipkernel.py:287: DeprecationWarning: `should_run_async` will not call `transform_cell` automatically in the future. Please pass the result to `transformed_cell` argument and any exception that happen during thetransform in `preprocessing_exc_tuple` in IPython 7.17 and above.\n",
      "  and should_run_async(code)\n"
     ]
    }
   ],
   "source": [
    "new_df=pd.DataFrame(data)"
   ]
  },
  {
   "cell_type": "code",
   "execution_count": 59,
   "id": "9e712787",
   "metadata": {},
   "outputs": [
    {
     "name": "stderr",
     "output_type": "stream",
     "text": [
      "C:\\Users\\user\\anaconda3\\lib\\site-packages\\ipykernel\\ipkernel.py:287: DeprecationWarning: `should_run_async` will not call `transform_cell` automatically in the future. Please pass the result to `transformed_cell` argument and any exception that happen during thetransform in `preprocessing_exc_tuple` in IPython 7.17 and above.\n",
      "  and should_run_async(code)\n"
     ]
    }
   ],
   "source": [
    "new_df['Topic']=topics"
   ]
  },
  {
   "cell_type": "code",
   "execution_count": 60,
   "id": "4fdc9c87",
   "metadata": {},
   "outputs": [
    {
     "name": "stderr",
     "output_type": "stream",
     "text": [
      "C:\\Users\\user\\anaconda3\\lib\\site-packages\\ipykernel\\ipkernel.py:287: DeprecationWarning: `should_run_async` will not call `transform_cell` automatically in the future. Please pass the result to `transformed_cell` argument and any exception that happen during thetransform in `preprocessing_exc_tuple` in IPython 7.17 and above.\n",
      "  and should_run_async(code)\n"
     ]
    },
    {
     "data": {
      "text/html": [
       "<div>\n",
       "<style scoped>\n",
       "    .dataframe tbody tr th:only-of-type {\n",
       "        vertical-align: middle;\n",
       "    }\n",
       "\n",
       "    .dataframe tbody tr th {\n",
       "        vertical-align: top;\n",
       "    }\n",
       "\n",
       "    .dataframe thead th {\n",
       "        text-align: right;\n",
       "    }\n",
       "</style>\n",
       "<table border=\"1\" class=\"dataframe\">\n",
       "  <thead>\n",
       "    <tr style=\"text-align: right;\">\n",
       "      <th></th>\n",
       "      <th>0</th>\n",
       "      <th>Topic</th>\n",
       "    </tr>\n",
       "  </thead>\n",
       "  <tbody>\n",
       "    <tr>\n",
       "      <th>0</th>\n",
       "      <td>It would be nice if you could be at my dinner,...</td>\n",
       "      <td>3</td>\n",
       "    </tr>\n",
       "    <tr>\n",
       "      <th>1</th>\n",
       "      <td>Absolutely.Good point!  Can Peter start to dra...</td>\n",
       "      <td>0</td>\n",
       "    </tr>\n",
       "    <tr>\n",
       "      <th>2</th>\n",
       "      <td>My apologies.  My schedule melted down after w...</td>\n",
       "      <td>3</td>\n",
       "    </tr>\n",
       "    <tr>\n",
       "      <th>3</th>\n",
       "      <td>Vince,UK VAR breached the limit last week.UK t...</td>\n",
       "      <td>0</td>\n",
       "    </tr>\n",
       "    <tr>\n",
       "      <th>4</th>\n",
       "      <td>Any problems/comments?AM ---------------------...</td>\n",
       "      <td>0</td>\n",
       "    </tr>\n",
       "  </tbody>\n",
       "</table>\n",
       "</div>"
      ],
      "text/plain": [
       "                                                   0  Topic\n",
       "0  It would be nice if you could be at my dinner,...      3\n",
       "1  Absolutely.Good point!  Can Peter start to dra...      0\n",
       "2  My apologies.  My schedule melted down after w...      3\n",
       "3  Vince,UK VAR breached the limit last week.UK t...      0\n",
       "4  Any problems/comments?AM ---------------------...      0"
      ]
     },
     "execution_count": 60,
     "metadata": {},
     "output_type": "execute_result"
    }
   ],
   "source": [
    "new_df.head()"
   ]
  },
  {
   "cell_type": "code",
   "execution_count": 61,
   "id": "f61d3c52",
   "metadata": {},
   "outputs": [
    {
     "name": "stderr",
     "output_type": "stream",
     "text": [
      "C:\\Users\\user\\anaconda3\\lib\\site-packages\\ipykernel\\ipkernel.py:287: DeprecationWarning: `should_run_async` will not call `transform_cell` automatically in the future. Please pass the result to `transformed_cell` argument and any exception that happen during thetransform in `preprocessing_exc_tuple` in IPython 7.17 and above.\n",
      "  and should_run_async(code)\n"
     ]
    }
   ],
   "source": [
    "new_df.to_csv('Clustered_emails.csv',encoding='utf-8')"
   ]
  },
  {
   "cell_type": "code",
   "execution_count": null,
   "id": "bf850d4f",
   "metadata": {},
   "outputs": [],
   "source": []
  },
  {
   "cell_type": "code",
   "execution_count": null,
   "id": "42c4b0c5",
   "metadata": {},
   "outputs": [],
   "source": []
  },
  {
   "cell_type": "code",
   "execution_count": null,
   "id": "256761b9",
   "metadata": {},
   "outputs": [],
   "source": []
  },
  {
   "cell_type": "code",
   "execution_count": null,
   "id": "2bf2501f",
   "metadata": {},
   "outputs": [],
   "source": []
  },
  {
   "cell_type": "code",
   "execution_count": 44,
   "id": "39dc2f20",
   "metadata": {},
   "outputs": [
    {
     "name": "stderr",
     "output_type": "stream",
     "text": [
      "C:\\Users\\user\\anaconda3\\lib\\site-packages\\ipykernel\\ipkernel.py:287: DeprecationWarning: `should_run_async` will not call `transform_cell` automatically in the future. Please pass the result to `transformed_cell` argument and any exception that happen during thetransform in `preprocessing_exc_tuple` in IPython 7.17 and above.\n",
      "  and should_run_async(code)\n"
     ]
    }
   ],
   "source": [
    "import numpy as np\n",
    "import pandas as pd\n",
    "import matplotlib.pyplot as plt\n",
    "\n",
    "from sklearn.feature_extraction.text import TfidfVectorizer, ENGLISH_STOP_WORDS\n",
    "from sklearn.pipeline import make_pipeline\n",
    "from sklearn.decomposition import PCA\n",
    "from sklearn.cluster import KMeans, MiniBatchKMeans\n",
    "from sklearn.manifold import TSNE\n",
    "from sklearn.decomposition import TruncatedSVD \n",
    "from sklearn.preprocessing import normalize \n",
    "\n"
   ]
  },
  {
   "cell_type": "code",
   "execution_count": 45,
   "id": "14edde60",
   "metadata": {},
   "outputs": [
    {
     "name": "stderr",
     "output_type": "stream",
     "text": [
      "C:\\Users\\user\\anaconda3\\lib\\site-packages\\ipykernel\\ipkernel.py:287: DeprecationWarning: `should_run_async` will not call `transform_cell` automatically in the future. Please pass the result to `transformed_cell` argument and any exception that happen during thetransform in `preprocessing_exc_tuple` in IPython 7.17 and above.\n",
      "  and should_run_async(code)\n"
     ]
    }
   ],
   "source": [
    "stopwords = ENGLISH_STOP_WORDS.union(['ect', 'hou', 'com', 'recipient'])\n",
    "vect = TfidfVectorizer(analyzer='word', stop_words=stopwords, max_df=0.3)"
   ]
  },
  {
   "cell_type": "code",
   "execution_count": null,
   "id": "61f180b3",
   "metadata": {},
   "outputs": [],
   "source": []
  },
  {
   "cell_type": "code",
   "execution_count": null,
   "id": "6daecb1a",
   "metadata": {},
   "outputs": [],
   "source": []
  },
  {
   "cell_type": "code",
   "execution_count": null,
   "id": "a2dea391",
   "metadata": {},
   "outputs": [],
   "source": []
  },
  {
   "cell_type": "code",
   "execution_count": 46,
   "id": "5e682729",
   "metadata": {},
   "outputs": [
    {
     "name": "stderr",
     "output_type": "stream",
     "text": [
      "C:\\Users\\user\\anaconda3\\lib\\site-packages\\ipykernel\\ipkernel.py:287: DeprecationWarning: `should_run_async` will not call `transform_cell` automatically in the future. Please pass the result to `transformed_cell` argument and any exception that happen during thetransform in `preprocessing_exc_tuple` in IPython 7.17 and above.\n",
      "  and should_run_async(code)\n"
     ]
    },
    {
     "ename": "FileNotFoundError",
     "evalue": "[Errno 2] No such file or directory: 'D:/email/MailBodyOutput.csv'",
     "output_type": "error",
     "traceback": [
      "\u001b[1;31m---------------------------------------------------------------------------\u001b[0m",
      "\u001b[1;31mFileNotFoundError\u001b[0m                         Traceback (most recent call last)",
      "\u001b[1;32m<ipython-input-46-de2d4dca9a4c>\u001b[0m in \u001b[0;36m<module>\u001b[1;34m\u001b[0m\n\u001b[1;32m----> 1\u001b[1;33m \u001b[0memails1\u001b[0m \u001b[1;33m=\u001b[0m \u001b[0mpd\u001b[0m\u001b[1;33m.\u001b[0m\u001b[0mread_csv\u001b[0m\u001b[1;33m(\u001b[0m\u001b[1;34m'D:/email/MailBodyOutput.csv'\u001b[0m\u001b[1;33m)\u001b[0m\u001b[1;33m\u001b[0m\u001b[1;33m\u001b[0m\u001b[0m\n\u001b[0m",
      "\u001b[1;32m~\\anaconda3\\lib\\site-packages\\pandas\\io\\parsers.py\u001b[0m in \u001b[0;36mread_csv\u001b[1;34m(filepath_or_buffer, sep, delimiter, header, names, index_col, usecols, squeeze, prefix, mangle_dupe_cols, dtype, engine, converters, true_values, false_values, skipinitialspace, skiprows, skipfooter, nrows, na_values, keep_default_na, na_filter, verbose, skip_blank_lines, parse_dates, infer_datetime_format, keep_date_col, date_parser, dayfirst, cache_dates, iterator, chunksize, compression, thousands, decimal, lineterminator, quotechar, quoting, doublequote, escapechar, comment, encoding, dialect, error_bad_lines, warn_bad_lines, delim_whitespace, low_memory, memory_map, float_precision, storage_options)\u001b[0m\n\u001b[0;32m    608\u001b[0m     \u001b[0mkwds\u001b[0m\u001b[1;33m.\u001b[0m\u001b[0mupdate\u001b[0m\u001b[1;33m(\u001b[0m\u001b[0mkwds_defaults\u001b[0m\u001b[1;33m)\u001b[0m\u001b[1;33m\u001b[0m\u001b[1;33m\u001b[0m\u001b[0m\n\u001b[0;32m    609\u001b[0m \u001b[1;33m\u001b[0m\u001b[0m\n\u001b[1;32m--> 610\u001b[1;33m     \u001b[1;32mreturn\u001b[0m \u001b[0m_read\u001b[0m\u001b[1;33m(\u001b[0m\u001b[0mfilepath_or_buffer\u001b[0m\u001b[1;33m,\u001b[0m \u001b[0mkwds\u001b[0m\u001b[1;33m)\u001b[0m\u001b[1;33m\u001b[0m\u001b[1;33m\u001b[0m\u001b[0m\n\u001b[0m\u001b[0;32m    611\u001b[0m \u001b[1;33m\u001b[0m\u001b[0m\n\u001b[0;32m    612\u001b[0m \u001b[1;33m\u001b[0m\u001b[0m\n",
      "\u001b[1;32m~\\anaconda3\\lib\\site-packages\\pandas\\io\\parsers.py\u001b[0m in \u001b[0;36m_read\u001b[1;34m(filepath_or_buffer, kwds)\u001b[0m\n\u001b[0;32m    460\u001b[0m \u001b[1;33m\u001b[0m\u001b[0m\n\u001b[0;32m    461\u001b[0m     \u001b[1;31m# Create the parser.\u001b[0m\u001b[1;33m\u001b[0m\u001b[1;33m\u001b[0m\u001b[1;33m\u001b[0m\u001b[0m\n\u001b[1;32m--> 462\u001b[1;33m     \u001b[0mparser\u001b[0m \u001b[1;33m=\u001b[0m \u001b[0mTextFileReader\u001b[0m\u001b[1;33m(\u001b[0m\u001b[0mfilepath_or_buffer\u001b[0m\u001b[1;33m,\u001b[0m \u001b[1;33m**\u001b[0m\u001b[0mkwds\u001b[0m\u001b[1;33m)\u001b[0m\u001b[1;33m\u001b[0m\u001b[1;33m\u001b[0m\u001b[0m\n\u001b[0m\u001b[0;32m    463\u001b[0m \u001b[1;33m\u001b[0m\u001b[0m\n\u001b[0;32m    464\u001b[0m     \u001b[1;32mif\u001b[0m \u001b[0mchunksize\u001b[0m \u001b[1;32mor\u001b[0m \u001b[0miterator\u001b[0m\u001b[1;33m:\u001b[0m\u001b[1;33m\u001b[0m\u001b[1;33m\u001b[0m\u001b[0m\n",
      "\u001b[1;32m~\\anaconda3\\lib\\site-packages\\pandas\\io\\parsers.py\u001b[0m in \u001b[0;36m__init__\u001b[1;34m(self, f, engine, **kwds)\u001b[0m\n\u001b[0;32m    817\u001b[0m             \u001b[0mself\u001b[0m\u001b[1;33m.\u001b[0m\u001b[0moptions\u001b[0m\u001b[1;33m[\u001b[0m\u001b[1;34m\"has_index_names\"\u001b[0m\u001b[1;33m]\u001b[0m \u001b[1;33m=\u001b[0m \u001b[0mkwds\u001b[0m\u001b[1;33m[\u001b[0m\u001b[1;34m\"has_index_names\"\u001b[0m\u001b[1;33m]\u001b[0m\u001b[1;33m\u001b[0m\u001b[1;33m\u001b[0m\u001b[0m\n\u001b[0;32m    818\u001b[0m \u001b[1;33m\u001b[0m\u001b[0m\n\u001b[1;32m--> 819\u001b[1;33m         \u001b[0mself\u001b[0m\u001b[1;33m.\u001b[0m\u001b[0m_engine\u001b[0m \u001b[1;33m=\u001b[0m \u001b[0mself\u001b[0m\u001b[1;33m.\u001b[0m\u001b[0m_make_engine\u001b[0m\u001b[1;33m(\u001b[0m\u001b[0mself\u001b[0m\u001b[1;33m.\u001b[0m\u001b[0mengine\u001b[0m\u001b[1;33m)\u001b[0m\u001b[1;33m\u001b[0m\u001b[1;33m\u001b[0m\u001b[0m\n\u001b[0m\u001b[0;32m    820\u001b[0m \u001b[1;33m\u001b[0m\u001b[0m\n\u001b[0;32m    821\u001b[0m     \u001b[1;32mdef\u001b[0m \u001b[0mclose\u001b[0m\u001b[1;33m(\u001b[0m\u001b[0mself\u001b[0m\u001b[1;33m)\u001b[0m\u001b[1;33m:\u001b[0m\u001b[1;33m\u001b[0m\u001b[1;33m\u001b[0m\u001b[0m\n",
      "\u001b[1;32m~\\anaconda3\\lib\\site-packages\\pandas\\io\\parsers.py\u001b[0m in \u001b[0;36m_make_engine\u001b[1;34m(self, engine)\u001b[0m\n\u001b[0;32m   1048\u001b[0m             )\n\u001b[0;32m   1049\u001b[0m         \u001b[1;31m# error: Too many arguments for \"ParserBase\"\u001b[0m\u001b[1;33m\u001b[0m\u001b[1;33m\u001b[0m\u001b[1;33m\u001b[0m\u001b[0m\n\u001b[1;32m-> 1050\u001b[1;33m         \u001b[1;32mreturn\u001b[0m \u001b[0mmapping\u001b[0m\u001b[1;33m[\u001b[0m\u001b[0mengine\u001b[0m\u001b[1;33m]\u001b[0m\u001b[1;33m(\u001b[0m\u001b[0mself\u001b[0m\u001b[1;33m.\u001b[0m\u001b[0mf\u001b[0m\u001b[1;33m,\u001b[0m \u001b[1;33m**\u001b[0m\u001b[0mself\u001b[0m\u001b[1;33m.\u001b[0m\u001b[0moptions\u001b[0m\u001b[1;33m)\u001b[0m  \u001b[1;31m# type: ignore[call-arg]\u001b[0m\u001b[1;33m\u001b[0m\u001b[1;33m\u001b[0m\u001b[0m\n\u001b[0m\u001b[0;32m   1051\u001b[0m \u001b[1;33m\u001b[0m\u001b[0m\n\u001b[0;32m   1052\u001b[0m     \u001b[1;32mdef\u001b[0m \u001b[0m_failover_to_python\u001b[0m\u001b[1;33m(\u001b[0m\u001b[0mself\u001b[0m\u001b[1;33m)\u001b[0m\u001b[1;33m:\u001b[0m\u001b[1;33m\u001b[0m\u001b[1;33m\u001b[0m\u001b[0m\n",
      "\u001b[1;32m~\\anaconda3\\lib\\site-packages\\pandas\\io\\parsers.py\u001b[0m in \u001b[0;36m__init__\u001b[1;34m(self, src, **kwds)\u001b[0m\n\u001b[0;32m   1865\u001b[0m \u001b[1;33m\u001b[0m\u001b[0m\n\u001b[0;32m   1866\u001b[0m         \u001b[1;31m# open handles\u001b[0m\u001b[1;33m\u001b[0m\u001b[1;33m\u001b[0m\u001b[1;33m\u001b[0m\u001b[0m\n\u001b[1;32m-> 1867\u001b[1;33m         \u001b[0mself\u001b[0m\u001b[1;33m.\u001b[0m\u001b[0m_open_handles\u001b[0m\u001b[1;33m(\u001b[0m\u001b[0msrc\u001b[0m\u001b[1;33m,\u001b[0m \u001b[0mkwds\u001b[0m\u001b[1;33m)\u001b[0m\u001b[1;33m\u001b[0m\u001b[1;33m\u001b[0m\u001b[0m\n\u001b[0m\u001b[0;32m   1868\u001b[0m         \u001b[1;32massert\u001b[0m \u001b[0mself\u001b[0m\u001b[1;33m.\u001b[0m\u001b[0mhandles\u001b[0m \u001b[1;32mis\u001b[0m \u001b[1;32mnot\u001b[0m \u001b[1;32mNone\u001b[0m\u001b[1;33m\u001b[0m\u001b[1;33m\u001b[0m\u001b[0m\n\u001b[0;32m   1869\u001b[0m         \u001b[1;32mfor\u001b[0m \u001b[0mkey\u001b[0m \u001b[1;32min\u001b[0m \u001b[1;33m(\u001b[0m\u001b[1;34m\"storage_options\"\u001b[0m\u001b[1;33m,\u001b[0m \u001b[1;34m\"encoding\"\u001b[0m\u001b[1;33m,\u001b[0m \u001b[1;34m\"memory_map\"\u001b[0m\u001b[1;33m,\u001b[0m \u001b[1;34m\"compression\"\u001b[0m\u001b[1;33m)\u001b[0m\u001b[1;33m:\u001b[0m\u001b[1;33m\u001b[0m\u001b[1;33m\u001b[0m\u001b[0m\n",
      "\u001b[1;32m~\\anaconda3\\lib\\site-packages\\pandas\\io\\parsers.py\u001b[0m in \u001b[0;36m_open_handles\u001b[1;34m(self, src, kwds)\u001b[0m\n\u001b[0;32m   1360\u001b[0m         \u001b[0mLet\u001b[0m \u001b[0mthe\u001b[0m \u001b[0mreaders\u001b[0m \u001b[0mopen\u001b[0m \u001b[0mIOHanldes\u001b[0m \u001b[0mafter\u001b[0m \u001b[0mthey\u001b[0m \u001b[0mare\u001b[0m \u001b[0mdone\u001b[0m \u001b[1;32mwith\u001b[0m \u001b[0mtheir\u001b[0m \u001b[0mpotential\u001b[0m \u001b[0mraises\u001b[0m\u001b[1;33m.\u001b[0m\u001b[1;33m\u001b[0m\u001b[1;33m\u001b[0m\u001b[0m\n\u001b[0;32m   1361\u001b[0m         \"\"\"\n\u001b[1;32m-> 1362\u001b[1;33m         self.handles = get_handle(\n\u001b[0m\u001b[0;32m   1363\u001b[0m             \u001b[0msrc\u001b[0m\u001b[1;33m,\u001b[0m\u001b[1;33m\u001b[0m\u001b[1;33m\u001b[0m\u001b[0m\n\u001b[0;32m   1364\u001b[0m             \u001b[1;34m\"r\"\u001b[0m\u001b[1;33m,\u001b[0m\u001b[1;33m\u001b[0m\u001b[1;33m\u001b[0m\u001b[0m\n",
      "\u001b[1;32m~\\anaconda3\\lib\\site-packages\\pandas\\io\\common.py\u001b[0m in \u001b[0;36mget_handle\u001b[1;34m(path_or_buf, mode, encoding, compression, memory_map, is_text, errors, storage_options)\u001b[0m\n\u001b[0;32m    640\u001b[0m                 \u001b[0merrors\u001b[0m \u001b[1;33m=\u001b[0m \u001b[1;34m\"replace\"\u001b[0m\u001b[1;33m\u001b[0m\u001b[1;33m\u001b[0m\u001b[0m\n\u001b[0;32m    641\u001b[0m             \u001b[1;31m# Encoding\u001b[0m\u001b[1;33m\u001b[0m\u001b[1;33m\u001b[0m\u001b[1;33m\u001b[0m\u001b[0m\n\u001b[1;32m--> 642\u001b[1;33m             handle = open(\n\u001b[0m\u001b[0;32m    643\u001b[0m                 \u001b[0mhandle\u001b[0m\u001b[1;33m,\u001b[0m\u001b[1;33m\u001b[0m\u001b[1;33m\u001b[0m\u001b[0m\n\u001b[0;32m    644\u001b[0m                 \u001b[0mioargs\u001b[0m\u001b[1;33m.\u001b[0m\u001b[0mmode\u001b[0m\u001b[1;33m,\u001b[0m\u001b[1;33m\u001b[0m\u001b[1;33m\u001b[0m\u001b[0m\n",
      "\u001b[1;31mFileNotFoundError\u001b[0m: [Errno 2] No such file or directory: 'D:/email/MailBodyOutput.csv'"
     ]
    }
   ],
   "source": [
    "emails1 = pd.read_csv('D:/email/MailBodyOutput.csv')"
   ]
  },
  {
   "cell_type": "code",
   "execution_count": null,
   "id": "df650168",
   "metadata": {},
   "outputs": [],
   "source": [
    "emails1.body"
   ]
  },
  {
   "cell_type": "code",
   "execution_count": null,
   "id": "13a8c130",
   "metadata": {},
   "outputs": [],
   "source": [
    "d=emails1.drop(emails1.query(\"body == ''\").index, inplace=True)"
   ]
  },
  {
   "cell_type": "code",
   "execution_count": null,
   "id": "072a18d8",
   "metadata": {},
   "outputs": [],
   "source": [
    "X = vect.fit_transform(emails1.body)\n",
    "features = vect.get_feature_names()"
   ]
  },
  {
   "cell_type": "code",
   "execution_count": null,
   "id": "d8e53641",
   "metadata": {},
   "outputs": [],
   "source": []
  },
  {
   "cell_type": "code",
   "execution_count": null,
   "id": "ce67bd5d",
   "metadata": {},
   "outputs": [],
   "source": []
  },
  {
   "cell_type": "code",
   "execution_count": null,
   "id": "da097ed0",
   "metadata": {},
   "outputs": [],
   "source": [
    "emails1"
   ]
  },
  {
   "cell_type": "code",
   "execution_count": null,
   "id": "bc26268b",
   "metadata": {},
   "outputs": [],
   "source": []
  },
  {
   "cell_type": "code",
   "execution_count": null,
   "id": "044c9261",
   "metadata": {},
   "outputs": [],
   "source": []
  },
  {
   "cell_type": "code",
   "execution_count": null,
   "id": "b2084597",
   "metadata": {},
   "outputs": [],
   "source": []
  },
  {
   "cell_type": "code",
   "execution_count": null,
   "id": "0671e156",
   "metadata": {},
   "outputs": [],
   "source": []
  },
  {
   "cell_type": "code",
   "execution_count": null,
   "id": "bf3b896d",
   "metadata": {},
   "outputs": [],
   "source": [
    "print(data)"
   ]
  },
  {
   "cell_type": "code",
   "execution_count": null,
   "id": "261431bf",
   "metadata": {},
   "outputs": [],
   "source": [
    "X = vect.fit_transform(data)\n",
    "features = vect.get_feature_names()"
   ]
  },
  {
   "cell_type": "code",
   "execution_count": null,
   "id": "d316f81f",
   "metadata": {},
   "outputs": [],
   "source": [
    "features"
   ]
  },
  {
   "cell_type": "code",
   "execution_count": null,
   "id": "ac5eb57f",
   "metadata": {},
   "outputs": [],
   "source": [
    "n_clusters = 5\n",
    "clf = KMeans(n_clusters=n_clusters, \n",
    "            max_iter=100, \n",
    "            init='k-means++', \n",
    "            n_init=1)\n",
    "labels = clf.fit_predict(X)"
   ]
  },
  {
   "cell_type": "code",
   "execution_count": null,
   "id": "8ea30761",
   "metadata": {},
   "outputs": [],
   "source": [
    "X_dense = X.todense()\n",
    "pca = PCA(n_components=2).fit(X_dense)\n",
    "coords = pca.transform(X_dense)"
   ]
  },
  {
   "cell_type": "code",
   "execution_count": null,
   "id": "7fba6299",
   "metadata": {},
   "outputs": [],
   "source": [
    "label_colors = [\"#2AB0E9\", \"#2BAF74\", \"#D7665E\", \"#CCCCCC\", \n",
    "                \"#D2CA0D\", \"#522A64\", \"#A3DB05\", \"#FC6514\"]\n",
    "colors = [label_colors[i] for i in labels]"
   ]
  },
  {
   "cell_type": "code",
   "execution_count": null,
   "id": "b04ea185",
   "metadata": {},
   "outputs": [],
   "source": [
    "centroids = clf.cluster_centers_\n",
    "centroid_coords = pca.transform(centroids)"
   ]
  },
  {
   "cell_type": "code",
   "execution_count": null,
   "id": "666ecfb2",
   "metadata": {},
   "outputs": [],
   "source": [
    "plot_tfidf_classfeats_h(top_feats_per_cluster(X, labels, features, 0.1, 25))"
   ]
  },
  {
   "cell_type": "code",
   "execution_count": null,
   "id": "f0145e8f",
   "metadata": {},
   "outputs": [],
   "source": [
    "import pandas as pd\n",
    "import numpy as np\n",
    "import matplotlib.pyplot as plt\n",
    "\n",
    "def parse_raw_message(raw_message):\n",
    "    lines = raw_message.split('\\n')\n",
    "    email = {}\n",
    "    message = ''\n",
    "    keys_to_extract = ['from', 'to']\n",
    "    for line in lines:\n",
    "        if ':' not in line:\n",
    "            message += line.strip()\n",
    "            email['body'] = message\n",
    "        else:\n",
    "            pairs = line.split(':')\n",
    "            key = pairs[0].lower()\n",
    "            val = pairs[1].strip()\n",
    "            if key in keys_to_extract:\n",
    "                email[key] = val\n",
    "    return email\n",
    "\n",
    "def parse_into_emails(messages):\n",
    "    emails = [parse_raw_message(message) for message in messages]\n",
    "    return {\n",
    "        'body': map_to_list(emails, 'body'), \n",
    "        'to': map_to_list(emails, 'to'), \n",
    "        'from_': map_to_list(emails, 'from')\n",
    "    }\n",
    "\n",
    "def map_to_list(emails, key):\n",
    "    results = []\n",
    "    for email in emails:\n",
    "        if key not in email:\n",
    "            results.append('')\n",
    "        else:\n",
    "            results.append(email[key])\n",
    "    return results\n",
    "\n",
    "def top_tfidf_feats(row, features, top_n=20):\n",
    "    topn_ids = np.argsort(row)[::-1][:top_n]\n",
    "    top_feats = [(features[i], row[i]) for i in topn_ids]\n",
    "    df = pd.DataFrame(top_feats, columns=['features', 'score'])\n",
    "    return df\n",
    "\n",
    "def top_feats_in_doc(X, features, row_id, top_n=25):\n",
    "    row = np.squeeze(X[row_id].toarray())\n",
    "    return top_tfidf_feats(row, features, top_n)\n",
    "\n",
    "def top_mean_feats(X, features, grp_ids=None, min_tfidf=0.1, top_n=25):\n",
    "    if grp_ids:\n",
    "        D = X[grp_ids].toarray()\n",
    "    else:\n",
    "        D = X.toarray()\n",
    "\n",
    "    D[D < min_tfidf] = 0\n",
    "    tfidf_means = np.mean(D, axis=0)\n",
    "    return top_tfidf_feats(tfidf_means, features, top_n)\n",
    "\n",
    "def top_feats_per_cluster(X, y, features, min_tfidf=0.1, top_n=25):\n",
    "    dfs = []\n",
    "\n",
    "    labels = np.unique(y)\n",
    "    for label in labels:\n",
    "        ids = np.where(y==label) \n",
    "        feats_df = top_mean_feats(X, features, ids, min_tfidf=min_tfidf, top_n=top_n)\n",
    "        feats_df.label = label\n",
    "        dfs.append(feats_df)\n",
    "    return dfs\n",
    "\n",
    "def plot_tfidf_classfeats_h(dfs):\n",
    "    fig = plt.figure(figsize=(12, 9), facecolor=\"w\")\n",
    "    x = np.arange(len(dfs[0]))\n",
    "    for i, df in enumerate(dfs):\n",
    "        ax = fig.add_subplot(1, len(dfs), i+1)\n",
    "        ax.spines[\"top\"].set_visible(False)\n",
    "        ax.spines[\"right\"].set_visible(False)\n",
    "        ax.set_frame_on(False)\n",
    "        ax.get_xaxis().tick_bottom()\n",
    "        ax.get_yaxis().tick_left()\n",
    "        ax.set_xlabel(\"Tf-Idf Score\", labelpad=16, fontsize=14)\n",
    "        ax.set_title(\"cluster = \" + str(df.label), fontsize=16)\n",
    "        ax.ticklabel_format(axis='x', style='sci', scilimits=(-2,2))\n",
    "        ax.barh(x, df.score, align='center', color='#7530FF')\n",
    "        ax.set_yticks(x)\n",
    "        ax.set_ylim([-1, x[-1]+1])\n",
    "        yticks = ax.set_yticklabels(df.features)\n",
    "        plt.subplots_adjust(bottom=0.09, right=0.97, left=0.15, top=0.95, wspace=0.52)\n",
    "    plt.show()"
   ]
  },
  {
   "cell_type": "code",
   "execution_count": null,
   "id": "bf66398b",
   "metadata": {},
   "outputs": [],
   "source": []
  },
  {
   "cell_type": "code",
   "execution_count": null,
   "id": "9d0fc478",
   "metadata": {},
   "outputs": [],
   "source": []
  },
  {
   "cell_type": "code",
   "execution_count": null,
   "id": "a2e7d77e",
   "metadata": {},
   "outputs": [],
   "source": []
  },
  {
   "cell_type": "code",
   "execution_count": null,
   "id": "e1467482",
   "metadata": {},
   "outputs": [],
   "source": []
  },
  {
   "cell_type": "code",
   "execution_count": null,
   "id": "5490e2b7",
   "metadata": {},
   "outputs": [],
   "source": []
  }
 ],
 "metadata": {
  "kernelspec": {
   "display_name": "Python 3",
   "language": "python",
   "name": "python3"
  },
  "language_info": {
   "codemirror_mode": {
    "name": "ipython",
    "version": 3
   },
   "file_extension": ".py",
   "mimetype": "text/x-python",
   "name": "python",
   "nbconvert_exporter": "python",
   "pygments_lexer": "ipython3",
   "version": "3.8.8"
  }
 },
 "nbformat": 4,
 "nbformat_minor": 5
}
