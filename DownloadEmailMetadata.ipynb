{
 "cells": [
  {
   "cell_type": "code",
   "execution_count": 2,
   "id": "ed9d7ab6",
   "metadata": {},
   "outputs": [
    {
     "name": "stdout",
     "output_type": "stream",
     "text": [
      "Collecting imap-tools\n",
      "  Downloading imap_tools-0.55.0-py3-none-any.whl (31 kB)\n",
      "Installing collected packages: imap-tools\n",
      "Successfully installed imap-tools-0.55.0\n",
      "Note: you may need to restart the kernel to use updated packages.\n"
     ]
    }
   ],
   "source": [
    " #pip install imap-tools"
   ]
  },
  {
   "cell_type": "code",
   "execution_count": 9,
   "id": "bd1277a1",
   "metadata": {},
   "outputs": [],
   "source": [
    "from imap_tools import MailBox\n",
    "import pandas as pd\n",
    "from dotenv import load_dotenv\n",
    "import os"
   ]
  },
  {
   "cell_type": "code",
   "execution_count": 10,
   "id": "11d8793d",
   "metadata": {},
   "outputs": [
    {
     "data": {
      "text/plain": [
       "True"
      ]
     },
     "execution_count": 10,
     "metadata": {},
     "output_type": "execute_result"
    }
   ],
   "source": [
    "load_dotenv(\"login.env\")"
   ]
  },
  {
   "cell_type": "code",
   "execution_count": 11,
   "id": "79183ec9",
   "metadata": {},
   "outputs": [],
   "source": [
    "login_address = os.environ.get(\"GMAIL_USER0\")\n",
    "password=os.environ.get(\"GMAIL_PASSWORD0\")\n",
    "folder='INBOX'"
   ]
  },
  {
   "cell_type": "code",
   "execution_count": null,
   "id": "1488265c",
   "metadata": {},
   "outputs": [],
   "source": [
    "with MailBox('imap.gmail.com').login(login_address, password, folder) as mailbox:\n",
    "    allRows = []\n",
    "    for msg in mailbox.fetch(mark_seen=False):\n",
    "\n",
    "        print(f\"{msg.uid} is processing\")\n",
    "        isRead = \"Read\" if '\\\\Seen' in msg.flags else \"Unread\"\n",
    "        isFlagged = \"True\" if '\\\\Flagged' in msg.flags else \"False\"\n",
    "        isEncrypted = \"True\" if 'ENCRYPTED' in msg.flags else \"False\"\n",
    "        isSubscribed = False if msg.headers.get('list-unsubscribe', None) is None else True\n",
    "        attachmentCount = len(msg.attachments)\n",
    "        isPrimaryRecipient = True if login_address in [b.email for b in msg.to_values] else False\n",
    "        isCC = True if login_address in [b.email for b in msg.cc_values] else False\n",
    "        isBCC = True if login_address in [b.email for b in msg.bcc_values] else False\n",
    "        MsgID = \"A\" + msg.uid\n",
    "        attachSize = 0\n",
    "        for att in msg.attachments:\n",
    "            attachSize += att.size\n",
    "        allRows.append(\n",
    "            {\"MessageID\": MsgID, \"Date\": msg.date, \"Sender\": msg.from_,\n",
    "             \"Subject\": msg.subject, \"EmailSize\": msg.size, \"Status\": isRead, \"isSubscription\": isSubscribed,\n",
    "             \"isEncrypted\": isEncrypted, \"isFlagged\": isFlagged, \"AttachmentCount\": attachmentCount,\n",
    "             \"AttachmentSize\": attachSize, \"isPrimaryRecipient\": isPrimaryRecipient, \"NoOfToValues\": len(msg.to_values),\n",
    "             \"isCC\": isCC, \"NoOfCCValues\": len(msg.cc_values), \"isBCC\": isBCC})"
   ]
  },
  {
   "cell_type": "code",
   "execution_count": 12,
   "id": "81e7d1fd",
   "metadata": {},
   "outputs": [],
   "source": [
    "df = pd.DataFrame(allRows, columns=[\"MessageID\", \"Date\", \"Sender\", \"Subject\", \"EmailSize\", \"Status\",\n",
    "                                        \"isSubscription\", \"isEncrypted\", \"isFlagged\", \"AttachmentCount\",\n",
    "                                        \"AttachmentSize\", \"isPrimaryRecipient\", \"NoOfToValues\", \"isCC\", \"NoOfCCValues\",\n",
    "                                        \"isBCC\"])"
   ]
  },
  {
   "cell_type": "code",
   "execution_count": 13,
   "id": "0e48ef86",
   "metadata": {},
   "outputs": [],
   "source": [
    "df.to_csv('MailOutput_latest.csv', index=False, encoding=\"utf-8-sig\")"
   ]
  }
 ],
 "metadata": {
  "kernelspec": {
   "display_name": "Python 3",
   "language": "python",
   "name": "python3"
  },
  "language_info": {
   "codemirror_mode": {
    "name": "ipython",
    "version": 3
   },
   "file_extension": ".py",
   "mimetype": "text/x-python",
   "name": "python",
   "nbconvert_exporter": "python",
   "pygments_lexer": "ipython3",
   "version": "3.8.8"
  }
 },
 "nbformat": 4,
 "nbformat_minor": 5
}
