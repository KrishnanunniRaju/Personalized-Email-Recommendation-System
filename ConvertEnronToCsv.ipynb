{
 "cells": [
  {
   "cell_type": "code",
   "execution_count": 82,
   "id": "08f0c789",
   "metadata": {},
   "outputs": [],
   "source": [
    "import os\n",
    "import glob\n",
    "import pandas as pd"
   ]
  },
  {
   "cell_type": "code",
   "execution_count": 20,
   "id": "5ad5f643",
   "metadata": {},
   "outputs": [],
   "source": [
    "path = \".\\Dataset\""
   ]
  },
  {
   "cell_type": "code",
   "execution_count": 80,
   "id": "367fc665",
   "metadata": {},
   "outputs": [],
   "source": [
    "def parseFile(msg_id,entry,label,mails_list):\n",
    "    try:\n",
    "        file = open(entry, encoding=\"latin_1\")\n",
    "        content = file.read().split(\"\\n\", 1)\n",
    "    except (UnicodeDecodeError):\n",
    "        print(\"Problem with file:\" + str(entry))\n",
    "    subject = content[0].replace(\"Subject: \", \"\")\n",
    "    message = content[1]\n",
    "    file.close()\n",
    "    mails_list.append([msg_id,subject, message, label])\n",
    "    return mails_list"
   ]
  },
  {
   "cell_type": "code",
   "execution_count": 81,
   "id": "70a4bfee",
   "metadata": {},
   "outputs": [],
   "source": [
    "mails_list=[]\n",
    "msg_id=0\n",
    "for root, subFolders, files in os.walk(path):\n",
    "        if \"Summary.txt\" not in files:\n",
    "            for filename in glob.iglob(root + '**/*.txt', recursive=True):\n",
    "                #print(os.path.abspath(root))\n",
    "                #print(root)\n",
    "                #filePath=root+\"\\\\\"+filename\n",
    "                label=os.path.split(os.path.dirname(filename))[-1]\n",
    "                mails_list=parseFile(msg_id,filename,label,mails_list)\n",
    "                msg_id +=1"
   ]
  },
  {
   "cell_type": "code",
   "execution_count": 83,
   "id": "75a65ab0",
   "metadata": {},
   "outputs": [
    {
     "data": {
      "text/html": [
       "<div>\n",
       "<style scoped>\n",
       "    .dataframe tbody tr th:only-of-type {\n",
       "        vertical-align: middle;\n",
       "    }\n",
       "\n",
       "    .dataframe tbody tr th {\n",
       "        vertical-align: top;\n",
       "    }\n",
       "\n",
       "    .dataframe thead th {\n",
       "        text-align: right;\n",
       "    }\n",
       "</style>\n",
       "<table border=\"1\" class=\"dataframe\">\n",
       "  <thead>\n",
       "    <tr style=\"text-align: right;\">\n",
       "      <th></th>\n",
       "      <th>Message ID</th>\n",
       "      <th>Subject</th>\n",
       "      <th>Message</th>\n",
       "      <th>Spam/Ham</th>\n",
       "    </tr>\n",
       "  </thead>\n",
       "  <tbody>\n",
       "    <tr>\n",
       "      <th>0</th>\n",
       "      <td>0</td>\n",
       "      <td>christmas tree farm pictures</td>\n",
       "      <td></td>\n",
       "      <td>ham</td>\n",
       "    </tr>\n",
       "    <tr>\n",
       "      <th>1</th>\n",
       "      <td>1</td>\n",
       "      <td>vastar resources , inc .</td>\n",
       "      <td>gary , production from the high island larger ...</td>\n",
       "      <td>ham</td>\n",
       "    </tr>\n",
       "    <tr>\n",
       "      <th>2</th>\n",
       "      <td>2</td>\n",
       "      <td>calpine daily gas nomination</td>\n",
       "      <td>- calpine daily gas nomination 1 . doc</td>\n",
       "      <td>ham</td>\n",
       "    </tr>\n",
       "    <tr>\n",
       "      <th>3</th>\n",
       "      <td>3</td>\n",
       "      <td>re : issue</td>\n",
       "      <td>fyi - see note below - already done .\\nstella\\...</td>\n",
       "      <td>ham</td>\n",
       "    </tr>\n",
       "    <tr>\n",
       "      <th>4</th>\n",
       "      <td>4</td>\n",
       "      <td>meter 7268 nov allocation</td>\n",
       "      <td>fyi .\\n- - - - - - - - - - - - - - - - - - - -...</td>\n",
       "      <td>ham</td>\n",
       "    </tr>\n",
       "  </tbody>\n",
       "</table>\n",
       "</div>"
      ],
      "text/plain": [
       "   Message ID                       Subject  \\\n",
       "0           0  christmas tree farm pictures   \n",
       "1           1      vastar resources , inc .   \n",
       "2           2  calpine daily gas nomination   \n",
       "3           3                    re : issue   \n",
       "4           4     meter 7268 nov allocation   \n",
       "\n",
       "                                             Message Spam/Ham  \n",
       "0                                                         ham  \n",
       "1  gary , production from the high island larger ...      ham  \n",
       "2             - calpine daily gas nomination 1 . doc      ham  \n",
       "3  fyi - see note below - already done .\\nstella\\...      ham  \n",
       "4  fyi .\\n- - - - - - - - - - - - - - - - - - - -...      ham  "
      ]
     },
     "execution_count": 83,
     "metadata": {},
     "output_type": "execute_result"
    }
   ],
   "source": [
    "df = pd.DataFrame(mails_list,columns=[\"Message ID\",\"Subject\",\"Message\",\"Spam/Ham\"])\n",
    "df.head()"
   ]
  },
  {
   "cell_type": "code",
   "execution_count": 84,
   "id": "04598a78",
   "metadata": {},
   "outputs": [],
   "source": [
    "df.to_csv(\"EnronSpamData.csv\",index=False)"
   ]
  },
  {
   "cell_type": "code",
   "execution_count": null,
   "id": "250befa3",
   "metadata": {},
   "outputs": [],
   "source": []
  }
 ],
 "metadata": {
  "kernelspec": {
   "display_name": "Python 3",
   "language": "python",
   "name": "python3"
  },
  "language_info": {
   "codemirror_mode": {
    "name": "ipython",
    "version": 3
   },
   "file_extension": ".py",
   "mimetype": "text/x-python",
   "name": "python",
   "nbconvert_exporter": "python",
   "pygments_lexer": "ipython3",
   "version": "3.8.8"
  }
 },
 "nbformat": 4,
 "nbformat_minor": 5
}
