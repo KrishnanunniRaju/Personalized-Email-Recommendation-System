{
 "cells": [
  {
   "cell_type": "code",
   "execution_count": null,
   "id": "9a2c3a51",
   "metadata": {
    "scrolled": true
   },
   "outputs": [],
   "source": [
    "#pip install python_dotenv-0.20.0-py3-none-any.whl"
   ]
  },
  {
   "cell_type": "code",
   "execution_count": null,
   "id": "6240894d",
   "metadata": {},
   "outputs": [],
   "source": [
    "from imap_tools import MailBox\n",
    "import pandas as pd\n",
    "from dotenv import load_dotenv\n",
    "import os\n",
    "from bs4 import BeautifulSoup"
   ]
  },
  {
   "cell_type": "code",
   "execution_count": null,
   "id": "be614c51",
   "metadata": {},
   "outputs": [],
   "source": [
    "load_dotenv(\"login.env\")"
   ]
  },
  {
   "cell_type": "code",
   "execution_count": null,
   "id": "4fe1251c",
   "metadata": {},
   "outputs": [],
   "source": [
    "login_address = os.environ.get(\"GMAIL_USER0\")\n",
    "password=os.environ.get(\"GMAIL_PASSWORD0\")\n",
    "folder='INBOX'"
   ]
  },
  {
   "cell_type": "code",
   "execution_count": null,
   "id": "bcdf3321",
   "metadata": {},
   "outputs": [],
   "source": [
    "with MailBox('imap.gmail.com').login(login_address, password, folder) as mailbox:\n",
    "    allRows = []\n",
    "    for msg in mailbox.fetch(mark_seen=False):\n",
    "        print(f\"{msg.uid} is processing\")\n",
    "        msgID = \"A\" + msg.uid\n",
    "        text=\"\"\n",
    "        soup = BeautifulSoup(msg.html, features=\"html.parser\")\n",
    "        for script in soup([\"script\", \"style\"]):\n",
    "            script.extract()    \n",
    "        text = soup.get_text()\n",
    "        if len(text)==0:\n",
    "            text=msg.text\n",
    "        lines = (line.strip() for line in text.splitlines())\n",
    "        chunks = (phrase.strip() for line in lines for phrase in line.split(\"  \"))\n",
    "        text = '\\n'.join(chunk for chunk in chunks if chunk)\n",
    "        new_text = (text[:32500] + '..') if len(text) > 32500 else text\n",
    "        \n",
    "        allRows.append(\n",
    "            {\"ID\": msgID, \"body\": new_text, \"to\": msg.to, \"from_\": msg.from_})"
   ]
  },
  {
   "cell_type": "code",
   "execution_count": 86,
   "id": "1b2e109a",
   "metadata": {},
   "outputs": [
    {
     "data": {
      "text/html": [
       "<div>\n",
       "<style scoped>\n",
       "    .dataframe tbody tr th:only-of-type {\n",
       "        vertical-align: middle;\n",
       "    }\n",
       "\n",
       "    .dataframe tbody tr th {\n",
       "        vertical-align: top;\n",
       "    }\n",
       "\n",
       "    .dataframe thead th {\n",
       "        text-align: right;\n",
       "    }\n",
       "</style>\n",
       "<table border=\"1\" class=\"dataframe\">\n",
       "  <thead>\n",
       "    <tr style=\"text-align: right;\">\n",
       "      <th></th>\n",
       "      <th>ID</th>\n",
       "      <th>body</th>\n",
       "      <th>to</th>\n",
       "      <th>from_</th>\n",
       "    </tr>\n",
       "  </thead>\n",
       "  <tbody>\n",
       "    <tr>\n",
       "      <th>0</th>\n",
       "      <td>A1</td>\n",
       "      <td>Welcome to your Google Account\\nHi Dmml,\\nWelc...</td>\n",
       "      <td>(dmml2test@gmail.com,)</td>\n",
       "      <td>googlecommunityteam-noreply@google.com</td>\n",
       "    </tr>\n",
       "    <tr>\n",
       "      <th>1</th>\n",
       "      <td>A2</td>\n",
       "      <td>Your impartial, comprehensive news source.\\nHe...</td>\n",
       "      <td>(dmml2test@gmail.com,)</td>\n",
       "      <td>DailyDigest@email.join1440.com</td>\n",
       "    </tr>\n",
       "    <tr>\n",
       "      <th>2</th>\n",
       "      <td>A3</td>\n",
       "      <td>Welcome to The Morning newsletter\\nWe'll bring...</td>\n",
       "      <td>(dmml2test@gmail.com,)</td>\n",
       "      <td>nytdirect@nytimes.com</td>\n",
       "    </tr>\n",
       "    <tr>\n",
       "      <th>3</th>\n",
       "      <td>A4</td>\n",
       "      <td>Thanks for signing up for Morning Brew\\nToday ...</td>\n",
       "      <td>(dmml2test@gmail.com,)</td>\n",
       "      <td>crew@morningbrew.com</td>\n",
       "    </tr>\n",
       "    <tr>\n",
       "      <th>4</th>\n",
       "      <td>A5</td>\n",
       "      <td>NextDraft\\nImportant: Confirm Your Subscriptio...</td>\n",
       "      <td>(dmml2test@gmail.com,)</td>\n",
       "      <td>dave@davenetics.com</td>\n",
       "    </tr>\n",
       "    <tr>\n",
       "      <th>...</th>\n",
       "      <td>...</td>\n",
       "      <td>...</td>\n",
       "      <td>...</td>\n",
       "      <td>...</td>\n",
       "    </tr>\n",
       "    <tr>\n",
       "      <th>3060</th>\n",
       "      <td>A3068</td>\n",
       "      <td>Hi [Name]\\nI’m a big fan of your company. You ...</td>\n",
       "      <td>(nciarunprasath@gmail.com,)</td>\n",
       "      <td>noemailid111@gmail.com</td>\n",
       "    </tr>\n",
       "    <tr>\n",
       "      <th>3061</th>\n",
       "      <td>A3069</td>\n",
       "      <td>Hi [Name]\\nI have been following you on [socia...</td>\n",
       "      <td>(nciarunprasath@gmail.com,)</td>\n",
       "      <td>noemailid111@gmail.com</td>\n",
       "    </tr>\n",
       "    <tr>\n",
       "      <th>3062</th>\n",
       "      <td>A3070</td>\n",
       "      <td>Hi [Name]\\nThank you for signing up for the fr...</td>\n",
       "      <td>(dmml2test@gmail.com,)</td>\n",
       "      <td>santhoshsrv45@gmail.com</td>\n",
       "    </tr>\n",
       "    <tr>\n",
       "      <th>3063</th>\n",
       "      <td>A3071</td>\n",
       "      <td>Hi [Name]\\nThank you so much for being a custo...</td>\n",
       "      <td>(nciarunprasath@gmail.com,)</td>\n",
       "      <td>noemailid111@gmail.com</td>\n",
       "    </tr>\n",
       "    <tr>\n",
       "      <th>3064</th>\n",
       "      <td>A3072</td>\n",
       "      <td>The hidden histories of to-go box art\\nPlus a ...</td>\n",
       "      <td>(dmml2test@gmail.com,)</td>\n",
       "      <td>info@atlasobscura.com</td>\n",
       "    </tr>\n",
       "  </tbody>\n",
       "</table>\n",
       "<p>3065 rows × 4 columns</p>\n",
       "</div>"
      ],
      "text/plain": [
       "         ID                                               body  \\\n",
       "0        A1  Welcome to your Google Account\\nHi Dmml,\\nWelc...   \n",
       "1        A2  Your impartial, comprehensive news source.\\nHe...   \n",
       "2        A3  Welcome to The Morning newsletter\\nWe'll bring...   \n",
       "3        A4  Thanks for signing up for Morning Brew\\nToday ...   \n",
       "4        A5  NextDraft\\nImportant: Confirm Your Subscriptio...   \n",
       "...     ...                                                ...   \n",
       "3060  A3068  Hi [Name]\\nI’m a big fan of your company. You ...   \n",
       "3061  A3069  Hi [Name]\\nI have been following you on [socia...   \n",
       "3062  A3070  Hi [Name]\\nThank you for signing up for the fr...   \n",
       "3063  A3071  Hi [Name]\\nThank you so much for being a custo...   \n",
       "3064  A3072  The hidden histories of to-go box art\\nPlus a ...   \n",
       "\n",
       "                               to                                   from_  \n",
       "0          (dmml2test@gmail.com,)  googlecommunityteam-noreply@google.com  \n",
       "1          (dmml2test@gmail.com,)          DailyDigest@email.join1440.com  \n",
       "2          (dmml2test@gmail.com,)                   nytdirect@nytimes.com  \n",
       "3          (dmml2test@gmail.com,)                    crew@morningbrew.com  \n",
       "4          (dmml2test@gmail.com,)                     dave@davenetics.com  \n",
       "...                           ...                                     ...  \n",
       "3060  (nciarunprasath@gmail.com,)                  noemailid111@gmail.com  \n",
       "3061  (nciarunprasath@gmail.com,)                  noemailid111@gmail.com  \n",
       "3062       (dmml2test@gmail.com,)                 santhoshsrv45@gmail.com  \n",
       "3063  (nciarunprasath@gmail.com,)                  noemailid111@gmail.com  \n",
       "3064       (dmml2test@gmail.com,)                   info@atlasobscura.com  \n",
       "\n",
       "[3065 rows x 4 columns]"
      ]
     },
     "execution_count": 86,
     "metadata": {},
     "output_type": "execute_result"
    }
   ],
   "source": [
    "df = pd.DataFrame(allRows, columns=[\"ID\", \"body\", \"to\", \"from_\"])\n",
    "df"
   ]
  },
  {
   "cell_type": "code",
   "execution_count": 87,
   "id": "2618ae58",
   "metadata": {},
   "outputs": [],
   "source": [
    "df.to_csv('MailBodyOutput_latest.csv', index=False, encoding=\"utf-8-sig\")"
   ]
  }
 ],
 "metadata": {
  "kernelspec": {
   "display_name": "Python 3",
   "language": "python",
   "name": "python3"
  },
  "language_info": {
   "codemirror_mode": {
    "name": "ipython",
    "version": 3
   },
   "file_extension": ".py",
   "mimetype": "text/x-python",
   "name": "python",
   "nbconvert_exporter": "python",
   "pygments_lexer": "ipython3",
   "version": "3.8.8"
  }
 },
 "nbformat": 4,
 "nbformat_minor": 5
}
